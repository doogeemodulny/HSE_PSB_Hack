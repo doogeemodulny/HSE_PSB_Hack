{
  "cells": [
    {
      "cell_type": "code",
      "execution_count": 251,
      "id": "8a9d4558-e52b-40b7-accf-5a0a66eda88d",
      "metadata": {
        "id": "8a9d4558-e52b-40b7-accf-5a0a66eda88d"
      },
      "outputs": [],
      "source": [
        "import numpy as np\n",
        "import pandas as pd"
      ]
    },
    {
      "cell_type": "markdown",
      "id": "7240027a-b9d9-404f-b7fc-e8800940c5e5",
      "metadata": {
        "id": "7240027a-b9d9-404f-b7fc-e8800940c5e5"
      },
      "source": [
        "### Просто посмотреть на данные"
      ]
    },
    {
      "cell_type": "code",
      "execution_count": 252,
      "id": "b3272fab-76b0-4f9b-b9f3-e70935ca3640",
      "metadata": {
        "colab": {
          "base_uri": "https://localhost:8080/",
          "height": 1000
        },
        "id": "b3272fab-76b0-4f9b-b9f3-e70935ca3640",
        "outputId": "20894e51-4ca7-4c57-c66c-9117e40c2af8"
      },
      "outputs": [
        {
          "output_type": "stream",
          "name": "stdout",
          "text": [
            "(26174, 15)\n",
            "(11218, 13)\n"
          ]
        },
        {
          "output_type": "execute_result",
          "data": {
            "text/plain": [
              "                     № брони  Номеров  Стоимость  Внесена предоплата  \\\n",
              "0    20230428-6634-194809261        1    25700.0                   0   \n",
              "1    20220711-6634-144460018        1    24800.0               12400   \n",
              "2   20221204-16563-171020423        1    25800.0               12900   \n",
              "3    20230918-7491-223512699        1    10500.0                   0   \n",
              "4    20230529-6634-200121971        1    28690.0               28690   \n",
              "5    20230904-7491-218448208        1    39100.0                8755   \n",
              "6    20220218-7492-124990127        1     7650.0                   0   \n",
              "7    20230921-7491-221547353        1    26200.0                   0   \n",
              "8    20230625-7491-204432766        1    14400.0                   0   \n",
              "9    20240122-6634-234004847        1    11200.0                6700   \n",
              "10   20220423-7492-134699587        1    22100.0               12200   \n",
              "11   20230923-7491-224670828        1    18100.0               18100   \n",
              "12   20220916-6634-158705032        1    52535.0               52535   \n",
              "13   20220405-7491-131738732        1    14440.0               14440   \n",
              "14   20220421-7492-135104898        1    16500.0                   0   \n",
              "15   20220703-6634-145971005        1    25300.0               35700   \n",
              "16   20230102-7492-168706615        1    82400.0                   0   \n",
              "17   20231006-6634-227817937        1    19500.0               19500   \n",
              "18   20220707-7491-144479935        1    13700.0               13700   \n",
              "19   20221228-7491-166643047        1    79500.0               79500   \n",
              "\n",
              "                                        Способ оплаты   Дата бронирования  \\\n",
              "0                              Внешняя система оплаты 2023-04-20 20:37:30   \n",
              "1   Отложенная электронная оплата: Банк Россия (ба... 2022-06-18 14:17:02   \n",
              "2              Банк. карта: Банк Россия (банк. карта) 2022-11-14 22:59:30   \n",
              "3              Внешняя система оплаты (С предоплатой) 2023-09-08 15:55:53   \n",
              "4   Система быстрых платежей: Эквайринг ComfortBoo... 2023-05-20 19:54:13   \n",
              "5              Банк. карта: Банк Россия (банк. карта) 2023-08-15 07:48:35   \n",
              "6                          Гарантия банковской картой 2022-02-15 19:17:08   \n",
              "7           Внешняя система оплаты (Оплата наличными) 2023-08-29 16:57:36   \n",
              "8   Отложенная электронная оплата: Банк Россия (ба... 2023-06-12 15:03:17   \n",
              "9              Банк. карта: Банк Россия (банк. карта) 2023-11-01 15:24:22   \n",
              "10             Банк. карта: Банк Россия (банк. карта) 2022-04-19 08:55:07   \n",
              "11  Система быстрых платежей: Эквайринг ComfortBoo... 2023-09-14 15:02:38   \n",
              "12             Банк. карта: Банк Россия (банк. карта) 2022-08-28 20:19:27   \n",
              "13  Банк. карта [Кешбэк. МИР]: Эквайринг TravelLin... 2022-04-04 00:13:19   \n",
              "14                                      При заселении 2022-04-21 17:19:14   \n",
              "15             Банк. карта: Банк Россия (банк. карта) 2022-06-26 15:37:30   \n",
              "16  Отложенная электронная оплата: Банк Россия (ба... 2022-10-30 12:02:32   \n",
              "17             Внешняя система оплаты (С предоплатой) 2023-09-30 11:38:46   \n",
              "18             Банк. карта: Банк Россия (банк. карта) 2022-06-18 16:14:52   \n",
              "19             Банк. карта: Банк Россия (банк. карта) 2022-10-16 10:36:12   \n",
              "\n",
              "           Дата отмены               Заезд  Ночей               Выезд  \\\n",
              "0  2023-04-20 20:39:15 2023-04-28 15:00:00      3 2023-05-01 12:00:00   \n",
              "1                  NaT 2022-07-11 15:00:00      2 2022-07-13 12:00:00   \n",
              "2                  NaT 2022-12-04 15:00:00      2 2022-12-06 12:00:00   \n",
              "3                  NaT 2023-09-18 15:00:00      1 2023-09-19 12:00:00   \n",
              "4                  NaT 2023-05-29 15:00:00      2 2023-05-31 12:00:00   \n",
              "5  2023-08-18 23:42:52 2023-09-04 15:00:00      4 2023-09-08 12:00:00   \n",
              "6  2022-02-17 20:38:50 2022-02-18 15:00:00      1 2022-02-19 12:00:00   \n",
              "7                  NaT 2023-09-21 15:00:00      2 2023-09-23 12:00:00   \n",
              "8  2023-06-12 15:53:13 2023-06-25 15:00:00      1 2023-06-26 12:00:00   \n",
              "9                  NaT 2024-01-26 15:00:00      1 2024-01-27 12:00:00   \n",
              "10                 NaT 2022-04-23 15:00:00      2 2022-04-25 12:00:00   \n",
              "11                 NaT 2023-09-23 15:00:00      1 2023-09-24 12:00:00   \n",
              "12                 NaT 2022-09-16 15:00:00      3 2022-09-19 12:00:00   \n",
              "13                 NaT 2022-04-05 15:00:00      2 2022-04-07 12:00:00   \n",
              "14                 NaT 2022-04-21 15:00:00      1 2022-04-22 12:00:00   \n",
              "15                 NaT 2022-07-03 15:00:00      2 2022-07-05 12:00:00   \n",
              "16 2022-10-31 00:03:36 2023-01-02 15:00:00      3 2023-01-05 12:00:00   \n",
              "17                 NaT 2023-10-06 15:00:00      2 2023-10-08 12:00:00   \n",
              "18                 NaT 2022-07-07 15:00:00      1 2022-07-08 12:00:00   \n",
              "19                 NaT 2022-12-28 15:00:00      5 2023-01-02 12:00:00   \n",
              "\n",
              "                      Источник      Статус брони  \\\n",
              "0           Яндекс.Путешествия            Отмена   \n",
              "1             Официальный сайт          Активный   \n",
              "2             Официальный сайт          Активный   \n",
              "3            Bronevik.com(new)          Активный   \n",
              "4             Официальный сайт          Активный   \n",
              "5             Официальный сайт            Отмена   \n",
              "6                  booking.com            Отмена   \n",
              "7            Bronevik.com(new)          Активный   \n",
              "8             Официальный сайт            Отмена   \n",
              "9             Официальный сайт          Активный   \n",
              "10            Официальный сайт          Активный   \n",
              "11            Официальный сайт          Активный   \n",
              "12            Официальный сайт          Активный   \n",
              "13            Официальный сайт          Активный   \n",
              "14            Официальный сайт          Активный   \n",
              "15            Официальный сайт          Активный   \n",
              "16  Бронирование из экстранета  Неподтвержденные   \n",
              "17          Яндекс.Путешествия          Активный   \n",
              "18            Официальный сайт          Активный   \n",
              "19            Официальный сайт          Активный   \n",
              "\n",
              "                                Категория номера  Гостей  Гостиница  \n",
              "0                               Номер «Стандарт»       2          1  \n",
              "1                               Номер «Стандарт»       2          1  \n",
              "2                                 Номер «Студия»       2          4  \n",
              "3                               Номер «Стандарт»       1          3  \n",
              "4                                   Номер «Люкс»       4          1  \n",
              "5                               Номер «Стандарт»       3          3  \n",
              "6                               Номер «Стандарт»       1          2  \n",
              "7                               Номер «Стандарт»       2          3  \n",
              "8                               Номер «Стандарт»       2          3  \n",
              "9                               Номер «Стандарт»       2          1  \n",
              "10                              Номер «Стандарт»       2          2  \n",
              "11                              Номер «Стандарт»       4          3  \n",
              "12  Апартаменты с 2 спальнями с отдельным входом       5          1  \n",
              "13                              Номер «Стандарт»       2          3  \n",
              "14                                Номер «Студия»       2          2  \n",
              "15                                  Номер «Люкс»       1          1  \n",
              "16                                Номер «Студия»       3          2  \n",
              "17                              Номер «Стандарт»       3          1  \n",
              "18                              Номер «Стандарт»       2          3  \n",
              "19                              Номер «Стандарт»       2          3  "
            ],
            "text/html": [
              "\n",
              "  <div id=\"df-6bd6d6bd-aba3-4a9e-9d76-bd805f205210\" class=\"colab-df-container\">\n",
              "    <div>\n",
              "<style scoped>\n",
              "    .dataframe tbody tr th:only-of-type {\n",
              "        vertical-align: middle;\n",
              "    }\n",
              "\n",
              "    .dataframe tbody tr th {\n",
              "        vertical-align: top;\n",
              "    }\n",
              "\n",
              "    .dataframe thead th {\n",
              "        text-align: right;\n",
              "    }\n",
              "</style>\n",
              "<table border=\"1\" class=\"dataframe\">\n",
              "  <thead>\n",
              "    <tr style=\"text-align: right;\">\n",
              "      <th></th>\n",
              "      <th>№ брони</th>\n",
              "      <th>Номеров</th>\n",
              "      <th>Стоимость</th>\n",
              "      <th>Внесена предоплата</th>\n",
              "      <th>Способ оплаты</th>\n",
              "      <th>Дата бронирования</th>\n",
              "      <th>Дата отмены</th>\n",
              "      <th>Заезд</th>\n",
              "      <th>Ночей</th>\n",
              "      <th>Выезд</th>\n",
              "      <th>Источник</th>\n",
              "      <th>Статус брони</th>\n",
              "      <th>Категория номера</th>\n",
              "      <th>Гостей</th>\n",
              "      <th>Гостиница</th>\n",
              "    </tr>\n",
              "  </thead>\n",
              "  <tbody>\n",
              "    <tr>\n",
              "      <th>0</th>\n",
              "      <td>20230428-6634-194809261</td>\n",
              "      <td>1</td>\n",
              "      <td>25700.0</td>\n",
              "      <td>0</td>\n",
              "      <td>Внешняя система оплаты</td>\n",
              "      <td>2023-04-20 20:37:30</td>\n",
              "      <td>2023-04-20 20:39:15</td>\n",
              "      <td>2023-04-28 15:00:00</td>\n",
              "      <td>3</td>\n",
              "      <td>2023-05-01 12:00:00</td>\n",
              "      <td>Яндекс.Путешествия</td>\n",
              "      <td>Отмена</td>\n",
              "      <td>Номер «Стандарт»</td>\n",
              "      <td>2</td>\n",
              "      <td>1</td>\n",
              "    </tr>\n",
              "    <tr>\n",
              "      <th>1</th>\n",
              "      <td>20220711-6634-144460018</td>\n",
              "      <td>1</td>\n",
              "      <td>24800.0</td>\n",
              "      <td>12400</td>\n",
              "      <td>Отложенная электронная оплата: Банк Россия (ба...</td>\n",
              "      <td>2022-06-18 14:17:02</td>\n",
              "      <td>NaT</td>\n",
              "      <td>2022-07-11 15:00:00</td>\n",
              "      <td>2</td>\n",
              "      <td>2022-07-13 12:00:00</td>\n",
              "      <td>Официальный сайт</td>\n",
              "      <td>Активный</td>\n",
              "      <td>Номер «Стандарт»</td>\n",
              "      <td>2</td>\n",
              "      <td>1</td>\n",
              "    </tr>\n",
              "    <tr>\n",
              "      <th>2</th>\n",
              "      <td>20221204-16563-171020423</td>\n",
              "      <td>1</td>\n",
              "      <td>25800.0</td>\n",
              "      <td>12900</td>\n",
              "      <td>Банк. карта: Банк Россия (банк. карта)</td>\n",
              "      <td>2022-11-14 22:59:30</td>\n",
              "      <td>NaT</td>\n",
              "      <td>2022-12-04 15:00:00</td>\n",
              "      <td>2</td>\n",
              "      <td>2022-12-06 12:00:00</td>\n",
              "      <td>Официальный сайт</td>\n",
              "      <td>Активный</td>\n",
              "      <td>Номер «Студия»</td>\n",
              "      <td>2</td>\n",
              "      <td>4</td>\n",
              "    </tr>\n",
              "    <tr>\n",
              "      <th>3</th>\n",
              "      <td>20230918-7491-223512699</td>\n",
              "      <td>1</td>\n",
              "      <td>10500.0</td>\n",
              "      <td>0</td>\n",
              "      <td>Внешняя система оплаты (С предоплатой)</td>\n",
              "      <td>2023-09-08 15:55:53</td>\n",
              "      <td>NaT</td>\n",
              "      <td>2023-09-18 15:00:00</td>\n",
              "      <td>1</td>\n",
              "      <td>2023-09-19 12:00:00</td>\n",
              "      <td>Bronevik.com(new)</td>\n",
              "      <td>Активный</td>\n",
              "      <td>Номер «Стандарт»</td>\n",
              "      <td>1</td>\n",
              "      <td>3</td>\n",
              "    </tr>\n",
              "    <tr>\n",
              "      <th>4</th>\n",
              "      <td>20230529-6634-200121971</td>\n",
              "      <td>1</td>\n",
              "      <td>28690.0</td>\n",
              "      <td>28690</td>\n",
              "      <td>Система быстрых платежей: Эквайринг ComfortBoo...</td>\n",
              "      <td>2023-05-20 19:54:13</td>\n",
              "      <td>NaT</td>\n",
              "      <td>2023-05-29 15:00:00</td>\n",
              "      <td>2</td>\n",
              "      <td>2023-05-31 12:00:00</td>\n",
              "      <td>Официальный сайт</td>\n",
              "      <td>Активный</td>\n",
              "      <td>Номер «Люкс»</td>\n",
              "      <td>4</td>\n",
              "      <td>1</td>\n",
              "    </tr>\n",
              "    <tr>\n",
              "      <th>5</th>\n",
              "      <td>20230904-7491-218448208</td>\n",
              "      <td>1</td>\n",
              "      <td>39100.0</td>\n",
              "      <td>8755</td>\n",
              "      <td>Банк. карта: Банк Россия (банк. карта)</td>\n",
              "      <td>2023-08-15 07:48:35</td>\n",
              "      <td>2023-08-18 23:42:52</td>\n",
              "      <td>2023-09-04 15:00:00</td>\n",
              "      <td>4</td>\n",
              "      <td>2023-09-08 12:00:00</td>\n",
              "      <td>Официальный сайт</td>\n",
              "      <td>Отмена</td>\n",
              "      <td>Номер «Стандарт»</td>\n",
              "      <td>3</td>\n",
              "      <td>3</td>\n",
              "    </tr>\n",
              "    <tr>\n",
              "      <th>6</th>\n",
              "      <td>20220218-7492-124990127</td>\n",
              "      <td>1</td>\n",
              "      <td>7650.0</td>\n",
              "      <td>0</td>\n",
              "      <td>Гарантия банковской картой</td>\n",
              "      <td>2022-02-15 19:17:08</td>\n",
              "      <td>2022-02-17 20:38:50</td>\n",
              "      <td>2022-02-18 15:00:00</td>\n",
              "      <td>1</td>\n",
              "      <td>2022-02-19 12:00:00</td>\n",
              "      <td>booking.com</td>\n",
              "      <td>Отмена</td>\n",
              "      <td>Номер «Стандарт»</td>\n",
              "      <td>1</td>\n",
              "      <td>2</td>\n",
              "    </tr>\n",
              "    <tr>\n",
              "      <th>7</th>\n",
              "      <td>20230921-7491-221547353</td>\n",
              "      <td>1</td>\n",
              "      <td>26200.0</td>\n",
              "      <td>0</td>\n",
              "      <td>Внешняя система оплаты (Оплата наличными)</td>\n",
              "      <td>2023-08-29 16:57:36</td>\n",
              "      <td>NaT</td>\n",
              "      <td>2023-09-21 15:00:00</td>\n",
              "      <td>2</td>\n",
              "      <td>2023-09-23 12:00:00</td>\n",
              "      <td>Bronevik.com(new)</td>\n",
              "      <td>Активный</td>\n",
              "      <td>Номер «Стандарт»</td>\n",
              "      <td>2</td>\n",
              "      <td>3</td>\n",
              "    </tr>\n",
              "    <tr>\n",
              "      <th>8</th>\n",
              "      <td>20230625-7491-204432766</td>\n",
              "      <td>1</td>\n",
              "      <td>14400.0</td>\n",
              "      <td>0</td>\n",
              "      <td>Отложенная электронная оплата: Банк Россия (ба...</td>\n",
              "      <td>2023-06-12 15:03:17</td>\n",
              "      <td>2023-06-12 15:53:13</td>\n",
              "      <td>2023-06-25 15:00:00</td>\n",
              "      <td>1</td>\n",
              "      <td>2023-06-26 12:00:00</td>\n",
              "      <td>Официальный сайт</td>\n",
              "      <td>Отмена</td>\n",
              "      <td>Номер «Стандарт»</td>\n",
              "      <td>2</td>\n",
              "      <td>3</td>\n",
              "    </tr>\n",
              "    <tr>\n",
              "      <th>9</th>\n",
              "      <td>20240122-6634-234004847</td>\n",
              "      <td>1</td>\n",
              "      <td>11200.0</td>\n",
              "      <td>6700</td>\n",
              "      <td>Банк. карта: Банк Россия (банк. карта)</td>\n",
              "      <td>2023-11-01 15:24:22</td>\n",
              "      <td>NaT</td>\n",
              "      <td>2024-01-26 15:00:00</td>\n",
              "      <td>1</td>\n",
              "      <td>2024-01-27 12:00:00</td>\n",
              "      <td>Официальный сайт</td>\n",
              "      <td>Активный</td>\n",
              "      <td>Номер «Стандарт»</td>\n",
              "      <td>2</td>\n",
              "      <td>1</td>\n",
              "    </tr>\n",
              "    <tr>\n",
              "      <th>10</th>\n",
              "      <td>20220423-7492-134699587</td>\n",
              "      <td>1</td>\n",
              "      <td>22100.0</td>\n",
              "      <td>12200</td>\n",
              "      <td>Банк. карта: Банк Россия (банк. карта)</td>\n",
              "      <td>2022-04-19 08:55:07</td>\n",
              "      <td>NaT</td>\n",
              "      <td>2022-04-23 15:00:00</td>\n",
              "      <td>2</td>\n",
              "      <td>2022-04-25 12:00:00</td>\n",
              "      <td>Официальный сайт</td>\n",
              "      <td>Активный</td>\n",
              "      <td>Номер «Стандарт»</td>\n",
              "      <td>2</td>\n",
              "      <td>2</td>\n",
              "    </tr>\n",
              "    <tr>\n",
              "      <th>11</th>\n",
              "      <td>20230923-7491-224670828</td>\n",
              "      <td>1</td>\n",
              "      <td>18100.0</td>\n",
              "      <td>18100</td>\n",
              "      <td>Система быстрых платежей: Эквайринг ComfortBoo...</td>\n",
              "      <td>2023-09-14 15:02:38</td>\n",
              "      <td>NaT</td>\n",
              "      <td>2023-09-23 15:00:00</td>\n",
              "      <td>1</td>\n",
              "      <td>2023-09-24 12:00:00</td>\n",
              "      <td>Официальный сайт</td>\n",
              "      <td>Активный</td>\n",
              "      <td>Номер «Стандарт»</td>\n",
              "      <td>4</td>\n",
              "      <td>3</td>\n",
              "    </tr>\n",
              "    <tr>\n",
              "      <th>12</th>\n",
              "      <td>20220916-6634-158705032</td>\n",
              "      <td>1</td>\n",
              "      <td>52535.0</td>\n",
              "      <td>52535</td>\n",
              "      <td>Банк. карта: Банк Россия (банк. карта)</td>\n",
              "      <td>2022-08-28 20:19:27</td>\n",
              "      <td>NaT</td>\n",
              "      <td>2022-09-16 15:00:00</td>\n",
              "      <td>3</td>\n",
              "      <td>2022-09-19 12:00:00</td>\n",
              "      <td>Официальный сайт</td>\n",
              "      <td>Активный</td>\n",
              "      <td>Апартаменты с 2 спальнями с отдельным входом</td>\n",
              "      <td>5</td>\n",
              "      <td>1</td>\n",
              "    </tr>\n",
              "    <tr>\n",
              "      <th>13</th>\n",
              "      <td>20220405-7491-131738732</td>\n",
              "      <td>1</td>\n",
              "      <td>14440.0</td>\n",
              "      <td>14440</td>\n",
              "      <td>Банк. карта [Кешбэк. МИР]: Эквайринг TravelLin...</td>\n",
              "      <td>2022-04-04 00:13:19</td>\n",
              "      <td>NaT</td>\n",
              "      <td>2022-04-05 15:00:00</td>\n",
              "      <td>2</td>\n",
              "      <td>2022-04-07 12:00:00</td>\n",
              "      <td>Официальный сайт</td>\n",
              "      <td>Активный</td>\n",
              "      <td>Номер «Стандарт»</td>\n",
              "      <td>2</td>\n",
              "      <td>3</td>\n",
              "    </tr>\n",
              "    <tr>\n",
              "      <th>14</th>\n",
              "      <td>20220421-7492-135104898</td>\n",
              "      <td>1</td>\n",
              "      <td>16500.0</td>\n",
              "      <td>0</td>\n",
              "      <td>При заселении</td>\n",
              "      <td>2022-04-21 17:19:14</td>\n",
              "      <td>NaT</td>\n",
              "      <td>2022-04-21 15:00:00</td>\n",
              "      <td>1</td>\n",
              "      <td>2022-04-22 12:00:00</td>\n",
              "      <td>Официальный сайт</td>\n",
              "      <td>Активный</td>\n",
              "      <td>Номер «Студия»</td>\n",
              "      <td>2</td>\n",
              "      <td>2</td>\n",
              "    </tr>\n",
              "    <tr>\n",
              "      <th>15</th>\n",
              "      <td>20220703-6634-145971005</td>\n",
              "      <td>1</td>\n",
              "      <td>25300.0</td>\n",
              "      <td>35700</td>\n",
              "      <td>Банк. карта: Банк Россия (банк. карта)</td>\n",
              "      <td>2022-06-26 15:37:30</td>\n",
              "      <td>NaT</td>\n",
              "      <td>2022-07-03 15:00:00</td>\n",
              "      <td>2</td>\n",
              "      <td>2022-07-05 12:00:00</td>\n",
              "      <td>Официальный сайт</td>\n",
              "      <td>Активный</td>\n",
              "      <td>Номер «Люкс»</td>\n",
              "      <td>1</td>\n",
              "      <td>1</td>\n",
              "    </tr>\n",
              "    <tr>\n",
              "      <th>16</th>\n",
              "      <td>20230102-7492-168706615</td>\n",
              "      <td>1</td>\n",
              "      <td>82400.0</td>\n",
              "      <td>0</td>\n",
              "      <td>Отложенная электронная оплата: Банк Россия (ба...</td>\n",
              "      <td>2022-10-30 12:02:32</td>\n",
              "      <td>2022-10-31 00:03:36</td>\n",
              "      <td>2023-01-02 15:00:00</td>\n",
              "      <td>3</td>\n",
              "      <td>2023-01-05 12:00:00</td>\n",
              "      <td>Бронирование из экстранета</td>\n",
              "      <td>Неподтвержденные</td>\n",
              "      <td>Номер «Студия»</td>\n",
              "      <td>3</td>\n",
              "      <td>2</td>\n",
              "    </tr>\n",
              "    <tr>\n",
              "      <th>17</th>\n",
              "      <td>20231006-6634-227817937</td>\n",
              "      <td>1</td>\n",
              "      <td>19500.0</td>\n",
              "      <td>19500</td>\n",
              "      <td>Внешняя система оплаты (С предоплатой)</td>\n",
              "      <td>2023-09-30 11:38:46</td>\n",
              "      <td>NaT</td>\n",
              "      <td>2023-10-06 15:00:00</td>\n",
              "      <td>2</td>\n",
              "      <td>2023-10-08 12:00:00</td>\n",
              "      <td>Яндекс.Путешествия</td>\n",
              "      <td>Активный</td>\n",
              "      <td>Номер «Стандарт»</td>\n",
              "      <td>3</td>\n",
              "      <td>1</td>\n",
              "    </tr>\n",
              "    <tr>\n",
              "      <th>18</th>\n",
              "      <td>20220707-7491-144479935</td>\n",
              "      <td>1</td>\n",
              "      <td>13700.0</td>\n",
              "      <td>13700</td>\n",
              "      <td>Банк. карта: Банк Россия (банк. карта)</td>\n",
              "      <td>2022-06-18 16:14:52</td>\n",
              "      <td>NaT</td>\n",
              "      <td>2022-07-07 15:00:00</td>\n",
              "      <td>1</td>\n",
              "      <td>2022-07-08 12:00:00</td>\n",
              "      <td>Официальный сайт</td>\n",
              "      <td>Активный</td>\n",
              "      <td>Номер «Стандарт»</td>\n",
              "      <td>2</td>\n",
              "      <td>3</td>\n",
              "    </tr>\n",
              "    <tr>\n",
              "      <th>19</th>\n",
              "      <td>20221228-7491-166643047</td>\n",
              "      <td>1</td>\n",
              "      <td>79500.0</td>\n",
              "      <td>79500</td>\n",
              "      <td>Банк. карта: Банк Россия (банк. карта)</td>\n",
              "      <td>2022-10-16 10:36:12</td>\n",
              "      <td>NaT</td>\n",
              "      <td>2022-12-28 15:00:00</td>\n",
              "      <td>5</td>\n",
              "      <td>2023-01-02 12:00:00</td>\n",
              "      <td>Официальный сайт</td>\n",
              "      <td>Активный</td>\n",
              "      <td>Номер «Стандарт»</td>\n",
              "      <td>2</td>\n",
              "      <td>3</td>\n",
              "    </tr>\n",
              "  </tbody>\n",
              "</table>\n",
              "</div>\n",
              "    <div class=\"colab-df-buttons\">\n",
              "\n",
              "  <div class=\"colab-df-container\">\n",
              "    <button class=\"colab-df-convert\" onclick=\"convertToInteractive('df-6bd6d6bd-aba3-4a9e-9d76-bd805f205210')\"\n",
              "            title=\"Convert this dataframe to an interactive table.\"\n",
              "            style=\"display:none;\">\n",
              "\n",
              "  <svg xmlns=\"http://www.w3.org/2000/svg\" height=\"24px\" viewBox=\"0 -960 960 960\">\n",
              "    <path d=\"M120-120v-720h720v720H120Zm60-500h600v-160H180v160Zm220 220h160v-160H400v160Zm0 220h160v-160H400v160ZM180-400h160v-160H180v160Zm440 0h160v-160H620v160ZM180-180h160v-160H180v160Zm440 0h160v-160H620v160Z\"/>\n",
              "  </svg>\n",
              "    </button>\n",
              "\n",
              "  <style>\n",
              "    .colab-df-container {\n",
              "      display:flex;\n",
              "      gap: 12px;\n",
              "    }\n",
              "\n",
              "    .colab-df-convert {\n",
              "      background-color: #E8F0FE;\n",
              "      border: none;\n",
              "      border-radius: 50%;\n",
              "      cursor: pointer;\n",
              "      display: none;\n",
              "      fill: #1967D2;\n",
              "      height: 32px;\n",
              "      padding: 0 0 0 0;\n",
              "      width: 32px;\n",
              "    }\n",
              "\n",
              "    .colab-df-convert:hover {\n",
              "      background-color: #E2EBFA;\n",
              "      box-shadow: 0px 1px 2px rgba(60, 64, 67, 0.3), 0px 1px 3px 1px rgba(60, 64, 67, 0.15);\n",
              "      fill: #174EA6;\n",
              "    }\n",
              "\n",
              "    .colab-df-buttons div {\n",
              "      margin-bottom: 4px;\n",
              "    }\n",
              "\n",
              "    [theme=dark] .colab-df-convert {\n",
              "      background-color: #3B4455;\n",
              "      fill: #D2E3FC;\n",
              "    }\n",
              "\n",
              "    [theme=dark] .colab-df-convert:hover {\n",
              "      background-color: #434B5C;\n",
              "      box-shadow: 0px 1px 3px 1px rgba(0, 0, 0, 0.15);\n",
              "      filter: drop-shadow(0px 1px 2px rgba(0, 0, 0, 0.3));\n",
              "      fill: #FFFFFF;\n",
              "    }\n",
              "  </style>\n",
              "\n",
              "    <script>\n",
              "      const buttonEl =\n",
              "        document.querySelector('#df-6bd6d6bd-aba3-4a9e-9d76-bd805f205210 button.colab-df-convert');\n",
              "      buttonEl.style.display =\n",
              "        google.colab.kernel.accessAllowed ? 'block' : 'none';\n",
              "\n",
              "      async function convertToInteractive(key) {\n",
              "        const element = document.querySelector('#df-6bd6d6bd-aba3-4a9e-9d76-bd805f205210');\n",
              "        const dataTable =\n",
              "          await google.colab.kernel.invokeFunction('convertToInteractive',\n",
              "                                                    [key], {});\n",
              "        if (!dataTable) return;\n",
              "\n",
              "        const docLinkHtml = 'Like what you see? Visit the ' +\n",
              "          '<a target=\"_blank\" href=https://colab.research.google.com/notebooks/data_table.ipynb>data table notebook</a>'\n",
              "          + ' to learn more about interactive tables.';\n",
              "        element.innerHTML = '';\n",
              "        dataTable['output_type'] = 'display_data';\n",
              "        await google.colab.output.renderOutput(dataTable, element);\n",
              "        const docLink = document.createElement('div');\n",
              "        docLink.innerHTML = docLinkHtml;\n",
              "        element.appendChild(docLink);\n",
              "      }\n",
              "    </script>\n",
              "  </div>\n",
              "\n",
              "\n",
              "<div id=\"df-2737c30b-9861-46d3-9ca2-6884f9a31603\">\n",
              "  <button class=\"colab-df-quickchart\" onclick=\"quickchart('df-2737c30b-9861-46d3-9ca2-6884f9a31603')\"\n",
              "            title=\"Suggest charts\"\n",
              "            style=\"display:none;\">\n",
              "\n",
              "<svg xmlns=\"http://www.w3.org/2000/svg\" height=\"24px\"viewBox=\"0 0 24 24\"\n",
              "     width=\"24px\">\n",
              "    <g>\n",
              "        <path d=\"M19 3H5c-1.1 0-2 .9-2 2v14c0 1.1.9 2 2 2h14c1.1 0 2-.9 2-2V5c0-1.1-.9-2-2-2zM9 17H7v-7h2v7zm4 0h-2V7h2v10zm4 0h-2v-4h2v4z\"/>\n",
              "    </g>\n",
              "</svg>\n",
              "  </button>\n",
              "\n",
              "<style>\n",
              "  .colab-df-quickchart {\n",
              "      --bg-color: #E8F0FE;\n",
              "      --fill-color: #1967D2;\n",
              "      --hover-bg-color: #E2EBFA;\n",
              "      --hover-fill-color: #174EA6;\n",
              "      --disabled-fill-color: #AAA;\n",
              "      --disabled-bg-color: #DDD;\n",
              "  }\n",
              "\n",
              "  [theme=dark] .colab-df-quickchart {\n",
              "      --bg-color: #3B4455;\n",
              "      --fill-color: #D2E3FC;\n",
              "      --hover-bg-color: #434B5C;\n",
              "      --hover-fill-color: #FFFFFF;\n",
              "      --disabled-bg-color: #3B4455;\n",
              "      --disabled-fill-color: #666;\n",
              "  }\n",
              "\n",
              "  .colab-df-quickchart {\n",
              "    background-color: var(--bg-color);\n",
              "    border: none;\n",
              "    border-radius: 50%;\n",
              "    cursor: pointer;\n",
              "    display: none;\n",
              "    fill: var(--fill-color);\n",
              "    height: 32px;\n",
              "    padding: 0;\n",
              "    width: 32px;\n",
              "  }\n",
              "\n",
              "  .colab-df-quickchart:hover {\n",
              "    background-color: var(--hover-bg-color);\n",
              "    box-shadow: 0 1px 2px rgba(60, 64, 67, 0.3), 0 1px 3px 1px rgba(60, 64, 67, 0.15);\n",
              "    fill: var(--button-hover-fill-color);\n",
              "  }\n",
              "\n",
              "  .colab-df-quickchart-complete:disabled,\n",
              "  .colab-df-quickchart-complete:disabled:hover {\n",
              "    background-color: var(--disabled-bg-color);\n",
              "    fill: var(--disabled-fill-color);\n",
              "    box-shadow: none;\n",
              "  }\n",
              "\n",
              "  .colab-df-spinner {\n",
              "    border: 2px solid var(--fill-color);\n",
              "    border-color: transparent;\n",
              "    border-bottom-color: var(--fill-color);\n",
              "    animation:\n",
              "      spin 1s steps(1) infinite;\n",
              "  }\n",
              "\n",
              "  @keyframes spin {\n",
              "    0% {\n",
              "      border-color: transparent;\n",
              "      border-bottom-color: var(--fill-color);\n",
              "      border-left-color: var(--fill-color);\n",
              "    }\n",
              "    20% {\n",
              "      border-color: transparent;\n",
              "      border-left-color: var(--fill-color);\n",
              "      border-top-color: var(--fill-color);\n",
              "    }\n",
              "    30% {\n",
              "      border-color: transparent;\n",
              "      border-left-color: var(--fill-color);\n",
              "      border-top-color: var(--fill-color);\n",
              "      border-right-color: var(--fill-color);\n",
              "    }\n",
              "    40% {\n",
              "      border-color: transparent;\n",
              "      border-right-color: var(--fill-color);\n",
              "      border-top-color: var(--fill-color);\n",
              "    }\n",
              "    60% {\n",
              "      border-color: transparent;\n",
              "      border-right-color: var(--fill-color);\n",
              "    }\n",
              "    80% {\n",
              "      border-color: transparent;\n",
              "      border-right-color: var(--fill-color);\n",
              "      border-bottom-color: var(--fill-color);\n",
              "    }\n",
              "    90% {\n",
              "      border-color: transparent;\n",
              "      border-bottom-color: var(--fill-color);\n",
              "    }\n",
              "  }\n",
              "</style>\n",
              "\n",
              "  <script>\n",
              "    async function quickchart(key) {\n",
              "      const quickchartButtonEl =\n",
              "        document.querySelector('#' + key + ' button');\n",
              "      quickchartButtonEl.disabled = true;  // To prevent multiple clicks.\n",
              "      quickchartButtonEl.classList.add('colab-df-spinner');\n",
              "      try {\n",
              "        const charts = await google.colab.kernel.invokeFunction(\n",
              "            'suggestCharts', [key], {});\n",
              "      } catch (error) {\n",
              "        console.error('Error during call to suggestCharts:', error);\n",
              "      }\n",
              "      quickchartButtonEl.classList.remove('colab-df-spinner');\n",
              "      quickchartButtonEl.classList.add('colab-df-quickchart-complete');\n",
              "    }\n",
              "    (() => {\n",
              "      let quickchartButtonEl =\n",
              "        document.querySelector('#df-2737c30b-9861-46d3-9ca2-6884f9a31603 button');\n",
              "      quickchartButtonEl.style.display =\n",
              "        google.colab.kernel.accessAllowed ? 'block' : 'none';\n",
              "    })();\n",
              "  </script>\n",
              "</div>\n",
              "    </div>\n",
              "  </div>\n"
            ],
            "application/vnd.google.colaboratory.intrinsic+json": {
              "type": "dataframe",
              "variable_name": "train_data",
              "summary": "{\n  \"name\": \"train_data\",\n  \"rows\": 26174,\n  \"fields\": [\n    {\n      \"column\": \"\\u2116 \\u0431\\u0440\\u043e\\u043d\\u0438\",\n      \"properties\": {\n        \"dtype\": \"string\",\n        \"num_unique_values\": 26174,\n        \"samples\": [\n          \"20220528-7492-138788495\",\n          \"20230422-6634-194456593\",\n          \"20230817-7491-215993147\"\n        ],\n        \"semantic_type\": \"\",\n        \"description\": \"\"\n      }\n    },\n    {\n      \"column\": \"\\u041d\\u043e\\u043c\\u0435\\u0440\\u043e\\u0432\",\n      \"properties\": {\n        \"dtype\": \"number\",\n        \"std\": 0,\n        \"min\": 1,\n        \"max\": 6,\n        \"num_unique_values\": 6,\n        \"samples\": [\n          1,\n          2,\n          6\n        ],\n        \"semantic_type\": \"\",\n        \"description\": \"\"\n      }\n    },\n    {\n      \"column\": \"\\u0421\\u0442\\u043e\\u0438\\u043c\\u043e\\u0441\\u0442\\u044c\",\n      \"properties\": {\n        \"dtype\": \"number\",\n        \"std\": 38849.552237651966,\n        \"min\": 1.0,\n        \"max\": 986400.0,\n        \"num_unique_values\": 3578,\n        \"samples\": [\n          85600.0,\n          23465.0,\n          85950.0\n        ],\n        \"semantic_type\": \"\",\n        \"description\": \"\"\n      }\n    },\n    {\n      \"column\": \"\\u0412\\u043d\\u0435\\u0441\\u0435\\u043d\\u0430 \\u043f\\u0440\\u0435\\u0434\\u043e\\u043f\\u043b\\u0430\\u0442\\u0430\",\n      \"properties\": {\n        \"dtype\": \"number\",\n        \"std\": 27776,\n        \"min\": 0,\n        \"max\": 584500,\n        \"num_unique_values\": 2633,\n        \"samples\": [\n          20615,\n          29460,\n          27260\n        ],\n        \"semantic_type\": \"\",\n        \"description\": \"\"\n      }\n    },\n    {\n      \"column\": \"\\u0421\\u043f\\u043e\\u0441\\u043e\\u0431 \\u043e\\u043f\\u043b\\u0430\\u0442\\u044b\",\n      \"properties\": {\n        \"dtype\": \"category\",\n        \"num_unique_values\": 14,\n        \"samples\": [\n          \"\\u0411\\u0430\\u043d\\u043a. \\u043a\\u0430\\u0440\\u0442\\u0430: \\u042d\\u043a\\u0432\\u0430\\u0439\\u0440\\u0438\\u043d\\u0433 ComfortBooking (\\u0411\\u0430\\u043d\\u043a. \\u043a\\u0430\\u0440\\u0442\\u0430)\",\n          \"\\u0411\\u0430\\u043d\\u043a. \\u043a\\u0430\\u0440\\u0442\\u0430 (SberPay): \\u042d\\u043a\\u0432\\u0430\\u0439\\u0440\\u0438\\u043d\\u0433 ComfortBooking (\\u0411\\u0430\\u043d\\u043a. \\u043a\\u0430\\u0440\\u0442\\u0430) (SberPay)\",\n          \"\\u0412\\u043d\\u0435\\u0448\\u043d\\u044f\\u044f \\u0441\\u0438\\u0441\\u0442\\u0435\\u043c\\u0430 \\u043e\\u043f\\u043b\\u0430\\u0442\\u044b\"\n        ],\n        \"semantic_type\": \"\",\n        \"description\": \"\"\n      }\n    },\n    {\n      \"column\": \"\\u0414\\u0430\\u0442\\u0430 \\u0431\\u0440\\u043e\\u043d\\u0438\\u0440\\u043e\\u0432\\u0430\\u043d\\u0438\\u044f\",\n      \"properties\": {\n        \"dtype\": \"date\",\n        \"min\": \"2022-01-01 03:42:03\",\n        \"max\": \"2023-12-31 20:53:36\",\n        \"num_unique_values\": 26159,\n        \"samples\": [\n          \"2022-08-26 00:03:30\",\n          \"2023-11-05 10:41:36\",\n          \"2023-10-19 23:14:55\"\n        ],\n        \"semantic_type\": \"\",\n        \"description\": \"\"\n      }\n    },\n    {\n      \"column\": \"\\u0414\\u0430\\u0442\\u0430 \\u043e\\u0442\\u043c\\u0435\\u043d\\u044b\",\n      \"properties\": {\n        \"dtype\": \"date\",\n        \"min\": \"2022-01-02 14:19:25\",\n        \"max\": \"2024-04-10 09:18:48\",\n        \"num_unique_values\": 5192,\n        \"samples\": [\n          \"2022-03-18 22:10:10\",\n          \"2023-09-25 15:46:58\",\n          \"2022-03-28 15:17:00\"\n        ],\n        \"semantic_type\": \"\",\n        \"description\": \"\"\n      }\n    },\n    {\n      \"column\": \"\\u0417\\u0430\\u0435\\u0437\\u0434\",\n      \"properties\": {\n        \"dtype\": \"date\",\n        \"min\": \"2022-01-01 15:00:00\",\n        \"max\": \"2024-08-17 15:00:00\",\n        \"num_unique_values\": 836,\n        \"samples\": [\n          \"2023-08-16 15:00:00\",\n          \"2023-01-04 16:00:00\",\n          \"2023-05-26 15:00:00\"\n        ],\n        \"semantic_type\": \"\",\n        \"description\": \"\"\n      }\n    },\n    {\n      \"column\": \"\\u041d\\u043e\\u0447\\u0435\\u0439\",\n      \"properties\": {\n        \"dtype\": \"number\",\n        \"std\": 1,\n        \"min\": 1,\n        \"max\": 31,\n        \"num_unique_values\": 22,\n        \"samples\": [\n          3,\n          31,\n          7\n        ],\n        \"semantic_type\": \"\",\n        \"description\": \"\"\n      }\n    },\n    {\n      \"column\": \"\\u0412\\u044b\\u0435\\u0437\\u0434\",\n      \"properties\": {\n        \"dtype\": \"date\",\n        \"min\": \"2022-01-02 12:00:00\",\n        \"max\": \"2024-08-19 12:00:00\",\n        \"num_unique_values\": 827,\n        \"samples\": [\n          \"2023-07-29 12:00:00\",\n          \"2024-02-18 12:00:00\",\n          \"2022-12-23 12:00:00\"\n        ],\n        \"semantic_type\": \"\",\n        \"description\": \"\"\n      }\n    },\n    {\n      \"column\": \"\\u0418\\u0441\\u0442\\u043e\\u0447\\u043d\\u0438\\u043a\",\n      \"properties\": {\n        \"dtype\": \"category\",\n        \"num_unique_values\": 27,\n        \"samples\": [\n          \"\\u041f\\u0440\\u043e\\u0433\\u0440\\u0430\\u043c\\u043c\\u0430 \\u043b\\u043e\\u044f\\u043b\\u044c\\u043d\\u043e\\u0441\\u0442\\u0438\",\n          \"Alean.ru (13.10.2023-02.06.2025)\",\n          \"Cuva\"\n        ],\n        \"semantic_type\": \"\",\n        \"description\": \"\"\n      }\n    },\n    {\n      \"column\": \"\\u0421\\u0442\\u0430\\u0442\\u0443\\u0441 \\u0431\\u0440\\u043e\\u043d\\u0438\",\n      \"properties\": {\n        \"dtype\": \"category\",\n        \"num_unique_values\": 5,\n        \"samples\": [\n          \"\\u0410\\u043a\\u0442\\u0438\\u0432\\u043d\\u044b\\u0439\",\n          \"\\u041e\\u0436\\u0438\\u0434\\u0430\\u0435\\u0442\\u0441\\u044f \\u043e\\u043f\\u043b\\u0430\\u0442\\u0430\",\n          \"\\u041d\\u0435\\u043f\\u043e\\u0434\\u0442\\u0432\\u0435\\u0440\\u0436\\u0434\\u0435\\u043d\\u043d\\u044b\\u0435\"\n        ],\n        \"semantic_type\": \"\",\n        \"description\": \"\"\n      }\n    },\n    {\n      \"column\": \"\\u041a\\u0430\\u0442\\u0435\\u0433\\u043e\\u0440\\u0438\\u044f \\u043d\\u043e\\u043c\\u0435\\u0440\\u0430\",\n      \"properties\": {\n        \"dtype\": \"category\",\n        \"num_unique_values\": 28,\n        \"samples\": [\n          \"1. \\u041d\\u043e\\u043c\\u0435\\u0440 \\u00ab\\u0421\\u0442\\u0430\\u043d\\u0434\\u0430\\u0440\\u0442\\u00bb\\n2. \\u041d\\u043e\\u043c\\u0435\\u0440 \\u00ab\\u0421\\u0442\\u0430\\u043d\\u0434\\u0430\\u0440\\u0442\\u00bb\\n3. \\u041d\\u043e\\u043c\\u0435\\u0440 \\u00ab\\u0421\\u0442\\u0430\\u043d\\u0434\\u0430\\u0440\\u0442\\u00bb\",\n          \"1. \\u041d\\u043e\\u043c\\u0435\\u0440 \\u00ab\\u0421\\u0442\\u0430\\u043d\\u0434\\u0430\\u0440\\u0442\\u00bb\\n2. \\u041d\\u043e\\u043c\\u0435\\u0440 \\u00ab\\u0421\\u0442\\u0430\\u043d\\u0434\\u0430\\u0440\\u0442\\u00bb \\u0434\\u043b\\u044f \\u043c\\u0430\\u043b\\u043e\\u043c\\u043e\\u0431\\u0438\\u043b\\u044c\\u043d\\u044b\\u0445 \\u0433\\u0440\\u0443\\u043f\\u043f \\u043d\\u0430\\u0441\\u0435\\u043b\\u0435\\u043d\\u0438\\u044f\",\n          \"1. \\u041d\\u043e\\u043c\\u0435\\u0440 \\u00ab\\u0421\\u0442\\u0430\\u043d\\u0434\\u0430\\u0440\\u0442\\u00bb\\n2. \\u041d\\u043e\\u043c\\u0435\\u0440 \\u00ab\\u0421\\u0442\\u0430\\u043d\\u0434\\u0430\\u0440\\u0442\\u00bb\"\n        ],\n        \"semantic_type\": \"\",\n        \"description\": \"\"\n      }\n    },\n    {\n      \"column\": \"\\u0413\\u043e\\u0441\\u0442\\u0435\\u0439\",\n      \"properties\": {\n        \"dtype\": \"number\",\n        \"std\": 1,\n        \"min\": 1,\n        \"max\": 16,\n        \"num_unique_values\": 16,\n        \"samples\": [\n          2,\n          1,\n          6\n        ],\n        \"semantic_type\": \"\",\n        \"description\": \"\"\n      }\n    },\n    {\n      \"column\": \"\\u0413\\u043e\\u0441\\u0442\\u0438\\u043d\\u0438\\u0446\\u0430\",\n      \"properties\": {\n        \"dtype\": \"number\",\n        \"std\": 0,\n        \"min\": 1,\n        \"max\": 4,\n        \"num_unique_values\": 4,\n        \"samples\": [\n          4,\n          2,\n          1\n        ],\n        \"semantic_type\": \"\",\n        \"description\": \"\"\n      }\n    }\n  ]\n}"
            }
          },
          "metadata": {},
          "execution_count": 252
        }
      ],
      "source": [
        "train_data = pd.read_excel(\"train.xlsx\")\n",
        "test_data = pd.read_excel(\"test.xlsx\")\n",
        "train_data = train_data.iloc[:,1:]\n",
        "test_data = test_data.iloc[:, 1:]\n",
        "print(train_data.shape)\n",
        "print(test_data.shape)\n",
        "train_data.head(20)"
      ]
    },
    {
      "cell_type": "code",
      "execution_count": 253,
      "id": "ad3d1c07-f8aa-4f99-909e-97b58e07fde6",
      "metadata": {
        "colab": {
          "base_uri": "https://localhost:8080/",
          "height": 1000
        },
        "id": "ad3d1c07-f8aa-4f99-909e-97b58e07fde6",
        "outputId": "a39abe01-cfd0-40b3-a1e9-1947dc9abdae"
      },
      "outputs": [
        {
          "output_type": "execute_result",
          "data": {
            "text/plain": [
              "                     № брони  Номеров  Стоимость  Внесена предоплата  \\\n",
              "0   20231129-16563-238946689        1    23750.0               23750   \n",
              "1    20221219-7491-174959103        1    15010.0                7505   \n",
              "2    20221211-6634-172724329        1     8400.0                8400   \n",
              "3    20230821-6634-212247350        1    42500.0               42500   \n",
              "4    20230326-6634-189784563        1    62500.0               11900   \n",
              "5    20220906-7491-156996750        1    44730.0               10800   \n",
              "6    20220916-6634-159230293        1    16245.0                   0   \n",
              "7    20220528-6634-126848089        1    14900.0               14900   \n",
              "8    20221226-7491-171305859        1    27370.0               27370   \n",
              "9    20220923-7491-156281458        1    22610.0               11305   \n",
              "10   20220115-6634-120041409        1   359800.0                   0   \n",
              "11  20220614-16563-140266374        1    23800.0               23800   \n",
              "12   20240315-7492-230745913        1    19000.0                   1   \n",
              "13   20230721-6634-208524791        1    42200.0               42200   \n",
              "14   20220625-7492-138776463        1    23700.0               13900   \n",
              "15   20220129-7491-121042191        1    15600.0                   0   \n",
              "16   20230204-6634-179286748        1    14300.0                   0   \n",
              "17  20220927-16563-154064033        1    28600.0               14300   \n",
              "18   20230526-6634-199552958        1    18525.0               18525   \n",
              "19   20220725-6634-150721323        1     8400.0                8400   \n",
              "\n",
              "                                        Способ оплаты   Дата бронирования  \\\n",
              "0              Банк. карта: Банк Россия (банк. карта) 2023-11-28 10:34:43   \n",
              "1              Банк. карта: Банк Россия (банк. карта) 2022-12-12 18:30:43   \n",
              "2   Отложенная электронная оплата: Банк Россия (ба... 2022-11-25 22:03:59   \n",
              "3              Банк. карта: Банк Россия (банк. карта) 2023-07-18 15:45:46   \n",
              "4   Система быстрых платежей: Эквайринг ComfortBoo... 2023-03-23 11:04:13   \n",
              "5              Банк. карта: Банк Россия (банк. карта) 2022-08-19 21:55:17   \n",
              "6   Отложенная электронная оплата: Банк Россия (ба... 2022-08-31 13:43:46   \n",
              "7              Банк. карта: Банк Россия (банк. карта) 2022-03-02 16:46:27   \n",
              "8              Банк. карта: Банк Россия (банк. карта) 2022-11-16 17:17:35   \n",
              "9              Банк. карта: Банк Россия (банк. карта) 2022-08-16 14:38:30   \n",
              "10                         Гарантия банковской картой 2022-01-04 22:20:34   \n",
              "11             Банк. карта: Банк Россия (банк. карта) 2022-05-26 10:03:34   \n",
              "12             Внешняя система оплаты (С предоплатой) 2023-10-15 16:29:46   \n",
              "13             Банк. карта: Банк Россия (банк. карта) 2023-07-02 12:59:10   \n",
              "14             Банк. карта: Банк Россия (банк. карта) 2022-05-17 10:25:16   \n",
              "15                         Гарантия банковской картой 2022-01-15 00:22:54   \n",
              "16  Отложенная электронная оплата: Банк Россия (ба... 2023-01-17 00:58:05   \n",
              "17  Отложенная электронная оплата: Банк Россия (ба... 2022-08-05 12:25:28   \n",
              "18             Банк. карта: Банк Россия (банк. карта) 2023-05-17 19:28:05   \n",
              "19             Банк. карта: Банк Россия (банк. карта) 2022-07-20 00:36:23   \n",
              "\n",
              "                 Заезд  Ночей               Выезд                    Источник  \\\n",
              "0  2023-11-29 15:00:00      2 2023-12-01 12:00:00            Официальный сайт   \n",
              "1  2022-12-19 15:00:00      2 2022-12-21 12:00:00            Официальный сайт   \n",
              "2  2022-12-11 15:00:00      1 2022-12-12 12:00:00            Официальный сайт   \n",
              "3  2023-08-21 15:00:00      3 2023-08-24 12:00:00            Официальный сайт   \n",
              "4  2023-03-26 15:00:00      5 2023-03-31 12:00:00            Официальный сайт   \n",
              "5  2022-09-06 15:00:00      4 2022-09-10 12:00:00            Официальный сайт   \n",
              "6  2022-09-16 15:00:00      3 2022-09-19 12:00:00            Официальный сайт   \n",
              "7  2022-05-28 15:00:00      2 2022-05-30 12:00:00            Официальный сайт   \n",
              "8  2022-12-26 15:00:00      3 2022-12-29 12:00:00            Официальный сайт   \n",
              "9  2022-09-23 15:00:00      2 2022-09-25 12:00:00            Официальный сайт   \n",
              "10 2022-01-15 15:00:00      8 2022-01-23 12:00:00   booking.com (Booking.com)   \n",
              "11 2022-06-14 15:00:00      1 2022-06-15 12:00:00            Официальный сайт   \n",
              "12 2024-03-15 15:00:00      2 2024-03-17 12:00:00          Яндекс.Путешествия   \n",
              "13 2023-07-21 15:00:00      1 2023-07-22 12:00:00            Официальный сайт   \n",
              "14 2022-06-25 15:00:00      2 2022-06-27 12:00:00            Официальный сайт   \n",
              "15 2022-01-29 15:00:00      2 2022-01-31 12:00:00                 booking.com   \n",
              "16 2023-02-04 15:00:00      1 2023-02-05 12:00:00            Официальный сайт   \n",
              "17 2022-09-27 15:00:00      2 2022-09-29 12:00:00  Бронирование из экстранета   \n",
              "18 2023-05-26 15:00:00      2 2023-05-28 12:00:00            Официальный сайт   \n",
              "19 2022-07-25 15:00:00      1 2022-07-26 12:00:00            Официальный сайт   \n",
              "\n",
              "                                Категория номера  Гостей  Гостиница  \n",
              "0                                 Номер «Студия»       3          4  \n",
              "1                               Номер «Стандарт»       2          3  \n",
              "2                               Номер «Стандарт»       2          1  \n",
              "3   Апартаменты с 2 спальнями с отдельным входом       4          1  \n",
              "4                               Номер «Стандарт»       1          1  \n",
              "5                               Номер «Стандарт»       2          3  \n",
              "6                               Номер «Стандарт»       1          1  \n",
              "7                               Номер «Стандарт»       3          1  \n",
              "8                               Номер «Стандарт»       3          3  \n",
              "9                               Номер «Стандарт»       3          3  \n",
              "10                         Коттедж с 3 спальнями       6          1  \n",
              "11                                Номер «Студия»       2          4  \n",
              "12                              Номер «Стандарт»       2          2  \n",
              "13                         Коттедж с 2 спальнями       4          1  \n",
              "14                              Номер «Стандарт»       2          2  \n",
              "15                              Номер «Стандарт»       2          3  \n",
              "16                              Номер «Стандарт»       2          1  \n",
              "17                                Номер «Студия»       2          4  \n",
              "18                              Номер «Стандарт»       2          1  \n",
              "19                              Номер «Стандарт»       1          1  "
            ],
            "text/html": [
              "\n",
              "  <div id=\"df-d225ed73-5c40-4a4f-a1dc-dd086bc445e6\" class=\"colab-df-container\">\n",
              "    <div>\n",
              "<style scoped>\n",
              "    .dataframe tbody tr th:only-of-type {\n",
              "        vertical-align: middle;\n",
              "    }\n",
              "\n",
              "    .dataframe tbody tr th {\n",
              "        vertical-align: top;\n",
              "    }\n",
              "\n",
              "    .dataframe thead th {\n",
              "        text-align: right;\n",
              "    }\n",
              "</style>\n",
              "<table border=\"1\" class=\"dataframe\">\n",
              "  <thead>\n",
              "    <tr style=\"text-align: right;\">\n",
              "      <th></th>\n",
              "      <th>№ брони</th>\n",
              "      <th>Номеров</th>\n",
              "      <th>Стоимость</th>\n",
              "      <th>Внесена предоплата</th>\n",
              "      <th>Способ оплаты</th>\n",
              "      <th>Дата бронирования</th>\n",
              "      <th>Заезд</th>\n",
              "      <th>Ночей</th>\n",
              "      <th>Выезд</th>\n",
              "      <th>Источник</th>\n",
              "      <th>Категория номера</th>\n",
              "      <th>Гостей</th>\n",
              "      <th>Гостиница</th>\n",
              "    </tr>\n",
              "  </thead>\n",
              "  <tbody>\n",
              "    <tr>\n",
              "      <th>0</th>\n",
              "      <td>20231129-16563-238946689</td>\n",
              "      <td>1</td>\n",
              "      <td>23750.0</td>\n",
              "      <td>23750</td>\n",
              "      <td>Банк. карта: Банк Россия (банк. карта)</td>\n",
              "      <td>2023-11-28 10:34:43</td>\n",
              "      <td>2023-11-29 15:00:00</td>\n",
              "      <td>2</td>\n",
              "      <td>2023-12-01 12:00:00</td>\n",
              "      <td>Официальный сайт</td>\n",
              "      <td>Номер «Студия»</td>\n",
              "      <td>3</td>\n",
              "      <td>4</td>\n",
              "    </tr>\n",
              "    <tr>\n",
              "      <th>1</th>\n",
              "      <td>20221219-7491-174959103</td>\n",
              "      <td>1</td>\n",
              "      <td>15010.0</td>\n",
              "      <td>7505</td>\n",
              "      <td>Банк. карта: Банк Россия (банк. карта)</td>\n",
              "      <td>2022-12-12 18:30:43</td>\n",
              "      <td>2022-12-19 15:00:00</td>\n",
              "      <td>2</td>\n",
              "      <td>2022-12-21 12:00:00</td>\n",
              "      <td>Официальный сайт</td>\n",
              "      <td>Номер «Стандарт»</td>\n",
              "      <td>2</td>\n",
              "      <td>3</td>\n",
              "    </tr>\n",
              "    <tr>\n",
              "      <th>2</th>\n",
              "      <td>20221211-6634-172724329</td>\n",
              "      <td>1</td>\n",
              "      <td>8400.0</td>\n",
              "      <td>8400</td>\n",
              "      <td>Отложенная электронная оплата: Банк Россия (ба...</td>\n",
              "      <td>2022-11-25 22:03:59</td>\n",
              "      <td>2022-12-11 15:00:00</td>\n",
              "      <td>1</td>\n",
              "      <td>2022-12-12 12:00:00</td>\n",
              "      <td>Официальный сайт</td>\n",
              "      <td>Номер «Стандарт»</td>\n",
              "      <td>2</td>\n",
              "      <td>1</td>\n",
              "    </tr>\n",
              "    <tr>\n",
              "      <th>3</th>\n",
              "      <td>20230821-6634-212247350</td>\n",
              "      <td>1</td>\n",
              "      <td>42500.0</td>\n",
              "      <td>42500</td>\n",
              "      <td>Банк. карта: Банк Россия (банк. карта)</td>\n",
              "      <td>2023-07-18 15:45:46</td>\n",
              "      <td>2023-08-21 15:00:00</td>\n",
              "      <td>3</td>\n",
              "      <td>2023-08-24 12:00:00</td>\n",
              "      <td>Официальный сайт</td>\n",
              "      <td>Апартаменты с 2 спальнями с отдельным входом</td>\n",
              "      <td>4</td>\n",
              "      <td>1</td>\n",
              "    </tr>\n",
              "    <tr>\n",
              "      <th>4</th>\n",
              "      <td>20230326-6634-189784563</td>\n",
              "      <td>1</td>\n",
              "      <td>62500.0</td>\n",
              "      <td>11900</td>\n",
              "      <td>Система быстрых платежей: Эквайринг ComfortBoo...</td>\n",
              "      <td>2023-03-23 11:04:13</td>\n",
              "      <td>2023-03-26 15:00:00</td>\n",
              "      <td>5</td>\n",
              "      <td>2023-03-31 12:00:00</td>\n",
              "      <td>Официальный сайт</td>\n",
              "      <td>Номер «Стандарт»</td>\n",
              "      <td>1</td>\n",
              "      <td>1</td>\n",
              "    </tr>\n",
              "    <tr>\n",
              "      <th>5</th>\n",
              "      <td>20220906-7491-156996750</td>\n",
              "      <td>1</td>\n",
              "      <td>44730.0</td>\n",
              "      <td>10800</td>\n",
              "      <td>Банк. карта: Банк Россия (банк. карта)</td>\n",
              "      <td>2022-08-19 21:55:17</td>\n",
              "      <td>2022-09-06 15:00:00</td>\n",
              "      <td>4</td>\n",
              "      <td>2022-09-10 12:00:00</td>\n",
              "      <td>Официальный сайт</td>\n",
              "      <td>Номер «Стандарт»</td>\n",
              "      <td>2</td>\n",
              "      <td>3</td>\n",
              "    </tr>\n",
              "    <tr>\n",
              "      <th>6</th>\n",
              "      <td>20220916-6634-159230293</td>\n",
              "      <td>1</td>\n",
              "      <td>16245.0</td>\n",
              "      <td>0</td>\n",
              "      <td>Отложенная электронная оплата: Банк Россия (ба...</td>\n",
              "      <td>2022-08-31 13:43:46</td>\n",
              "      <td>2022-09-16 15:00:00</td>\n",
              "      <td>3</td>\n",
              "      <td>2022-09-19 12:00:00</td>\n",
              "      <td>Официальный сайт</td>\n",
              "      <td>Номер «Стандарт»</td>\n",
              "      <td>1</td>\n",
              "      <td>1</td>\n",
              "    </tr>\n",
              "    <tr>\n",
              "      <th>7</th>\n",
              "      <td>20220528-6634-126848089</td>\n",
              "      <td>1</td>\n",
              "      <td>14900.0</td>\n",
              "      <td>14900</td>\n",
              "      <td>Банк. карта: Банк Россия (банк. карта)</td>\n",
              "      <td>2022-03-02 16:46:27</td>\n",
              "      <td>2022-05-28 15:00:00</td>\n",
              "      <td>2</td>\n",
              "      <td>2022-05-30 12:00:00</td>\n",
              "      <td>Официальный сайт</td>\n",
              "      <td>Номер «Стандарт»</td>\n",
              "      <td>3</td>\n",
              "      <td>1</td>\n",
              "    </tr>\n",
              "    <tr>\n",
              "      <th>8</th>\n",
              "      <td>20221226-7491-171305859</td>\n",
              "      <td>1</td>\n",
              "      <td>27370.0</td>\n",
              "      <td>27370</td>\n",
              "      <td>Банк. карта: Банк Россия (банк. карта)</td>\n",
              "      <td>2022-11-16 17:17:35</td>\n",
              "      <td>2022-12-26 15:00:00</td>\n",
              "      <td>3</td>\n",
              "      <td>2022-12-29 12:00:00</td>\n",
              "      <td>Официальный сайт</td>\n",
              "      <td>Номер «Стандарт»</td>\n",
              "      <td>3</td>\n",
              "      <td>3</td>\n",
              "    </tr>\n",
              "    <tr>\n",
              "      <th>9</th>\n",
              "      <td>20220923-7491-156281458</td>\n",
              "      <td>1</td>\n",
              "      <td>22610.0</td>\n",
              "      <td>11305</td>\n",
              "      <td>Банк. карта: Банк Россия (банк. карта)</td>\n",
              "      <td>2022-08-16 14:38:30</td>\n",
              "      <td>2022-09-23 15:00:00</td>\n",
              "      <td>2</td>\n",
              "      <td>2022-09-25 12:00:00</td>\n",
              "      <td>Официальный сайт</td>\n",
              "      <td>Номер «Стандарт»</td>\n",
              "      <td>3</td>\n",
              "      <td>3</td>\n",
              "    </tr>\n",
              "    <tr>\n",
              "      <th>10</th>\n",
              "      <td>20220115-6634-120041409</td>\n",
              "      <td>1</td>\n",
              "      <td>359800.0</td>\n",
              "      <td>0</td>\n",
              "      <td>Гарантия банковской картой</td>\n",
              "      <td>2022-01-04 22:20:34</td>\n",
              "      <td>2022-01-15 15:00:00</td>\n",
              "      <td>8</td>\n",
              "      <td>2022-01-23 12:00:00</td>\n",
              "      <td>booking.com (Booking.com)</td>\n",
              "      <td>Коттедж с 3 спальнями</td>\n",
              "      <td>6</td>\n",
              "      <td>1</td>\n",
              "    </tr>\n",
              "    <tr>\n",
              "      <th>11</th>\n",
              "      <td>20220614-16563-140266374</td>\n",
              "      <td>1</td>\n",
              "      <td>23800.0</td>\n",
              "      <td>23800</td>\n",
              "      <td>Банк. карта: Банк Россия (банк. карта)</td>\n",
              "      <td>2022-05-26 10:03:34</td>\n",
              "      <td>2022-06-14 15:00:00</td>\n",
              "      <td>1</td>\n",
              "      <td>2022-06-15 12:00:00</td>\n",
              "      <td>Официальный сайт</td>\n",
              "      <td>Номер «Студия»</td>\n",
              "      <td>2</td>\n",
              "      <td>4</td>\n",
              "    </tr>\n",
              "    <tr>\n",
              "      <th>12</th>\n",
              "      <td>20240315-7492-230745913</td>\n",
              "      <td>1</td>\n",
              "      <td>19000.0</td>\n",
              "      <td>1</td>\n",
              "      <td>Внешняя система оплаты (С предоплатой)</td>\n",
              "      <td>2023-10-15 16:29:46</td>\n",
              "      <td>2024-03-15 15:00:00</td>\n",
              "      <td>2</td>\n",
              "      <td>2024-03-17 12:00:00</td>\n",
              "      <td>Яндекс.Путешествия</td>\n",
              "      <td>Номер «Стандарт»</td>\n",
              "      <td>2</td>\n",
              "      <td>2</td>\n",
              "    </tr>\n",
              "    <tr>\n",
              "      <th>13</th>\n",
              "      <td>20230721-6634-208524791</td>\n",
              "      <td>1</td>\n",
              "      <td>42200.0</td>\n",
              "      <td>42200</td>\n",
              "      <td>Банк. карта: Банк Россия (банк. карта)</td>\n",
              "      <td>2023-07-02 12:59:10</td>\n",
              "      <td>2023-07-21 15:00:00</td>\n",
              "      <td>1</td>\n",
              "      <td>2023-07-22 12:00:00</td>\n",
              "      <td>Официальный сайт</td>\n",
              "      <td>Коттедж с 2 спальнями</td>\n",
              "      <td>4</td>\n",
              "      <td>1</td>\n",
              "    </tr>\n",
              "    <tr>\n",
              "      <th>14</th>\n",
              "      <td>20220625-7492-138776463</td>\n",
              "      <td>1</td>\n",
              "      <td>23700.0</td>\n",
              "      <td>13900</td>\n",
              "      <td>Банк. карта: Банк Россия (банк. карта)</td>\n",
              "      <td>2022-05-17 10:25:16</td>\n",
              "      <td>2022-06-25 15:00:00</td>\n",
              "      <td>2</td>\n",
              "      <td>2022-06-27 12:00:00</td>\n",
              "      <td>Официальный сайт</td>\n",
              "      <td>Номер «Стандарт»</td>\n",
              "      <td>2</td>\n",
              "      <td>2</td>\n",
              "    </tr>\n",
              "    <tr>\n",
              "      <th>15</th>\n",
              "      <td>20220129-7491-121042191</td>\n",
              "      <td>1</td>\n",
              "      <td>15600.0</td>\n",
              "      <td>0</td>\n",
              "      <td>Гарантия банковской картой</td>\n",
              "      <td>2022-01-15 00:22:54</td>\n",
              "      <td>2022-01-29 15:00:00</td>\n",
              "      <td>2</td>\n",
              "      <td>2022-01-31 12:00:00</td>\n",
              "      <td>booking.com</td>\n",
              "      <td>Номер «Стандарт»</td>\n",
              "      <td>2</td>\n",
              "      <td>3</td>\n",
              "    </tr>\n",
              "    <tr>\n",
              "      <th>16</th>\n",
              "      <td>20230204-6634-179286748</td>\n",
              "      <td>1</td>\n",
              "      <td>14300.0</td>\n",
              "      <td>0</td>\n",
              "      <td>Отложенная электронная оплата: Банк Россия (ба...</td>\n",
              "      <td>2023-01-17 00:58:05</td>\n",
              "      <td>2023-02-04 15:00:00</td>\n",
              "      <td>1</td>\n",
              "      <td>2023-02-05 12:00:00</td>\n",
              "      <td>Официальный сайт</td>\n",
              "      <td>Номер «Стандарт»</td>\n",
              "      <td>2</td>\n",
              "      <td>1</td>\n",
              "    </tr>\n",
              "    <tr>\n",
              "      <th>17</th>\n",
              "      <td>20220927-16563-154064033</td>\n",
              "      <td>1</td>\n",
              "      <td>28600.0</td>\n",
              "      <td>14300</td>\n",
              "      <td>Отложенная электронная оплата: Банк Россия (ба...</td>\n",
              "      <td>2022-08-05 12:25:28</td>\n",
              "      <td>2022-09-27 15:00:00</td>\n",
              "      <td>2</td>\n",
              "      <td>2022-09-29 12:00:00</td>\n",
              "      <td>Бронирование из экстранета</td>\n",
              "      <td>Номер «Студия»</td>\n",
              "      <td>2</td>\n",
              "      <td>4</td>\n",
              "    </tr>\n",
              "    <tr>\n",
              "      <th>18</th>\n",
              "      <td>20230526-6634-199552958</td>\n",
              "      <td>1</td>\n",
              "      <td>18525.0</td>\n",
              "      <td>18525</td>\n",
              "      <td>Банк. карта: Банк Россия (банк. карта)</td>\n",
              "      <td>2023-05-17 19:28:05</td>\n",
              "      <td>2023-05-26 15:00:00</td>\n",
              "      <td>2</td>\n",
              "      <td>2023-05-28 12:00:00</td>\n",
              "      <td>Официальный сайт</td>\n",
              "      <td>Номер «Стандарт»</td>\n",
              "      <td>2</td>\n",
              "      <td>1</td>\n",
              "    </tr>\n",
              "    <tr>\n",
              "      <th>19</th>\n",
              "      <td>20220725-6634-150721323</td>\n",
              "      <td>1</td>\n",
              "      <td>8400.0</td>\n",
              "      <td>8400</td>\n",
              "      <td>Банк. карта: Банк Россия (банк. карта)</td>\n",
              "      <td>2022-07-20 00:36:23</td>\n",
              "      <td>2022-07-25 15:00:00</td>\n",
              "      <td>1</td>\n",
              "      <td>2022-07-26 12:00:00</td>\n",
              "      <td>Официальный сайт</td>\n",
              "      <td>Номер «Стандарт»</td>\n",
              "      <td>1</td>\n",
              "      <td>1</td>\n",
              "    </tr>\n",
              "  </tbody>\n",
              "</table>\n",
              "</div>\n",
              "    <div class=\"colab-df-buttons\">\n",
              "\n",
              "  <div class=\"colab-df-container\">\n",
              "    <button class=\"colab-df-convert\" onclick=\"convertToInteractive('df-d225ed73-5c40-4a4f-a1dc-dd086bc445e6')\"\n",
              "            title=\"Convert this dataframe to an interactive table.\"\n",
              "            style=\"display:none;\">\n",
              "\n",
              "  <svg xmlns=\"http://www.w3.org/2000/svg\" height=\"24px\" viewBox=\"0 -960 960 960\">\n",
              "    <path d=\"M120-120v-720h720v720H120Zm60-500h600v-160H180v160Zm220 220h160v-160H400v160Zm0 220h160v-160H400v160ZM180-400h160v-160H180v160Zm440 0h160v-160H620v160ZM180-180h160v-160H180v160Zm440 0h160v-160H620v160Z\"/>\n",
              "  </svg>\n",
              "    </button>\n",
              "\n",
              "  <style>\n",
              "    .colab-df-container {\n",
              "      display:flex;\n",
              "      gap: 12px;\n",
              "    }\n",
              "\n",
              "    .colab-df-convert {\n",
              "      background-color: #E8F0FE;\n",
              "      border: none;\n",
              "      border-radius: 50%;\n",
              "      cursor: pointer;\n",
              "      display: none;\n",
              "      fill: #1967D2;\n",
              "      height: 32px;\n",
              "      padding: 0 0 0 0;\n",
              "      width: 32px;\n",
              "    }\n",
              "\n",
              "    .colab-df-convert:hover {\n",
              "      background-color: #E2EBFA;\n",
              "      box-shadow: 0px 1px 2px rgba(60, 64, 67, 0.3), 0px 1px 3px 1px rgba(60, 64, 67, 0.15);\n",
              "      fill: #174EA6;\n",
              "    }\n",
              "\n",
              "    .colab-df-buttons div {\n",
              "      margin-bottom: 4px;\n",
              "    }\n",
              "\n",
              "    [theme=dark] .colab-df-convert {\n",
              "      background-color: #3B4455;\n",
              "      fill: #D2E3FC;\n",
              "    }\n",
              "\n",
              "    [theme=dark] .colab-df-convert:hover {\n",
              "      background-color: #434B5C;\n",
              "      box-shadow: 0px 1px 3px 1px rgba(0, 0, 0, 0.15);\n",
              "      filter: drop-shadow(0px 1px 2px rgba(0, 0, 0, 0.3));\n",
              "      fill: #FFFFFF;\n",
              "    }\n",
              "  </style>\n",
              "\n",
              "    <script>\n",
              "      const buttonEl =\n",
              "        document.querySelector('#df-d225ed73-5c40-4a4f-a1dc-dd086bc445e6 button.colab-df-convert');\n",
              "      buttonEl.style.display =\n",
              "        google.colab.kernel.accessAllowed ? 'block' : 'none';\n",
              "\n",
              "      async function convertToInteractive(key) {\n",
              "        const element = document.querySelector('#df-d225ed73-5c40-4a4f-a1dc-dd086bc445e6');\n",
              "        const dataTable =\n",
              "          await google.colab.kernel.invokeFunction('convertToInteractive',\n",
              "                                                    [key], {});\n",
              "        if (!dataTable) return;\n",
              "\n",
              "        const docLinkHtml = 'Like what you see? Visit the ' +\n",
              "          '<a target=\"_blank\" href=https://colab.research.google.com/notebooks/data_table.ipynb>data table notebook</a>'\n",
              "          + ' to learn more about interactive tables.';\n",
              "        element.innerHTML = '';\n",
              "        dataTable['output_type'] = 'display_data';\n",
              "        await google.colab.output.renderOutput(dataTable, element);\n",
              "        const docLink = document.createElement('div');\n",
              "        docLink.innerHTML = docLinkHtml;\n",
              "        element.appendChild(docLink);\n",
              "      }\n",
              "    </script>\n",
              "  </div>\n",
              "\n",
              "\n",
              "<div id=\"df-1db04de0-f915-4116-83c2-ebd2f8981f72\">\n",
              "  <button class=\"colab-df-quickchart\" onclick=\"quickchart('df-1db04de0-f915-4116-83c2-ebd2f8981f72')\"\n",
              "            title=\"Suggest charts\"\n",
              "            style=\"display:none;\">\n",
              "\n",
              "<svg xmlns=\"http://www.w3.org/2000/svg\" height=\"24px\"viewBox=\"0 0 24 24\"\n",
              "     width=\"24px\">\n",
              "    <g>\n",
              "        <path d=\"M19 3H5c-1.1 0-2 .9-2 2v14c0 1.1.9 2 2 2h14c1.1 0 2-.9 2-2V5c0-1.1-.9-2-2-2zM9 17H7v-7h2v7zm4 0h-2V7h2v10zm4 0h-2v-4h2v4z\"/>\n",
              "    </g>\n",
              "</svg>\n",
              "  </button>\n",
              "\n",
              "<style>\n",
              "  .colab-df-quickchart {\n",
              "      --bg-color: #E8F0FE;\n",
              "      --fill-color: #1967D2;\n",
              "      --hover-bg-color: #E2EBFA;\n",
              "      --hover-fill-color: #174EA6;\n",
              "      --disabled-fill-color: #AAA;\n",
              "      --disabled-bg-color: #DDD;\n",
              "  }\n",
              "\n",
              "  [theme=dark] .colab-df-quickchart {\n",
              "      --bg-color: #3B4455;\n",
              "      --fill-color: #D2E3FC;\n",
              "      --hover-bg-color: #434B5C;\n",
              "      --hover-fill-color: #FFFFFF;\n",
              "      --disabled-bg-color: #3B4455;\n",
              "      --disabled-fill-color: #666;\n",
              "  }\n",
              "\n",
              "  .colab-df-quickchart {\n",
              "    background-color: var(--bg-color);\n",
              "    border: none;\n",
              "    border-radius: 50%;\n",
              "    cursor: pointer;\n",
              "    display: none;\n",
              "    fill: var(--fill-color);\n",
              "    height: 32px;\n",
              "    padding: 0;\n",
              "    width: 32px;\n",
              "  }\n",
              "\n",
              "  .colab-df-quickchart:hover {\n",
              "    background-color: var(--hover-bg-color);\n",
              "    box-shadow: 0 1px 2px rgba(60, 64, 67, 0.3), 0 1px 3px 1px rgba(60, 64, 67, 0.15);\n",
              "    fill: var(--button-hover-fill-color);\n",
              "  }\n",
              "\n",
              "  .colab-df-quickchart-complete:disabled,\n",
              "  .colab-df-quickchart-complete:disabled:hover {\n",
              "    background-color: var(--disabled-bg-color);\n",
              "    fill: var(--disabled-fill-color);\n",
              "    box-shadow: none;\n",
              "  }\n",
              "\n",
              "  .colab-df-spinner {\n",
              "    border: 2px solid var(--fill-color);\n",
              "    border-color: transparent;\n",
              "    border-bottom-color: var(--fill-color);\n",
              "    animation:\n",
              "      spin 1s steps(1) infinite;\n",
              "  }\n",
              "\n",
              "  @keyframes spin {\n",
              "    0% {\n",
              "      border-color: transparent;\n",
              "      border-bottom-color: var(--fill-color);\n",
              "      border-left-color: var(--fill-color);\n",
              "    }\n",
              "    20% {\n",
              "      border-color: transparent;\n",
              "      border-left-color: var(--fill-color);\n",
              "      border-top-color: var(--fill-color);\n",
              "    }\n",
              "    30% {\n",
              "      border-color: transparent;\n",
              "      border-left-color: var(--fill-color);\n",
              "      border-top-color: var(--fill-color);\n",
              "      border-right-color: var(--fill-color);\n",
              "    }\n",
              "    40% {\n",
              "      border-color: transparent;\n",
              "      border-right-color: var(--fill-color);\n",
              "      border-top-color: var(--fill-color);\n",
              "    }\n",
              "    60% {\n",
              "      border-color: transparent;\n",
              "      border-right-color: var(--fill-color);\n",
              "    }\n",
              "    80% {\n",
              "      border-color: transparent;\n",
              "      border-right-color: var(--fill-color);\n",
              "      border-bottom-color: var(--fill-color);\n",
              "    }\n",
              "    90% {\n",
              "      border-color: transparent;\n",
              "      border-bottom-color: var(--fill-color);\n",
              "    }\n",
              "  }\n",
              "</style>\n",
              "\n",
              "  <script>\n",
              "    async function quickchart(key) {\n",
              "      const quickchartButtonEl =\n",
              "        document.querySelector('#' + key + ' button');\n",
              "      quickchartButtonEl.disabled = true;  // To prevent multiple clicks.\n",
              "      quickchartButtonEl.classList.add('colab-df-spinner');\n",
              "      try {\n",
              "        const charts = await google.colab.kernel.invokeFunction(\n",
              "            'suggestCharts', [key], {});\n",
              "      } catch (error) {\n",
              "        console.error('Error during call to suggestCharts:', error);\n",
              "      }\n",
              "      quickchartButtonEl.classList.remove('colab-df-spinner');\n",
              "      quickchartButtonEl.classList.add('colab-df-quickchart-complete');\n",
              "    }\n",
              "    (() => {\n",
              "      let quickchartButtonEl =\n",
              "        document.querySelector('#df-1db04de0-f915-4116-83c2-ebd2f8981f72 button');\n",
              "      quickchartButtonEl.style.display =\n",
              "        google.colab.kernel.accessAllowed ? 'block' : 'none';\n",
              "    })();\n",
              "  </script>\n",
              "</div>\n",
              "    </div>\n",
              "  </div>\n"
            ],
            "application/vnd.google.colaboratory.intrinsic+json": {
              "type": "dataframe",
              "variable_name": "test_data",
              "summary": "{\n  \"name\": \"test_data\",\n  \"rows\": 11218,\n  \"fields\": [\n    {\n      \"column\": \"\\u2116 \\u0431\\u0440\\u043e\\u043d\\u0438\",\n      \"properties\": {\n        \"dtype\": \"string\",\n        \"num_unique_values\": 11218,\n        \"samples\": [\n          \"20220910-6634-160633035\",\n          \"20220216-7492-123405887\",\n          \"20230922-6634-225710755\"\n        ],\n        \"semantic_type\": \"\",\n        \"description\": \"\"\n      }\n    },\n    {\n      \"column\": \"\\u041d\\u043e\\u043c\\u0435\\u0440\\u043e\\u0432\",\n      \"properties\": {\n        \"dtype\": \"number\",\n        \"std\": 0,\n        \"min\": 1,\n        \"max\": 9,\n        \"num_unique_values\": 6,\n        \"samples\": [\n          1,\n          2,\n          9\n        ],\n        \"semantic_type\": \"\",\n        \"description\": \"\"\n      }\n    },\n    {\n      \"column\": \"\\u0421\\u0442\\u043e\\u0438\\u043c\\u043e\\u0441\\u0442\\u044c\",\n      \"properties\": {\n        \"dtype\": \"number\",\n        \"std\": 36476.736156067214,\n        \"min\": 3500.0,\n        \"max\": 706230.0,\n        \"num_unique_values\": 2340,\n        \"samples\": [\n          106000.0,\n          17055.0,\n          132900.0\n        ],\n        \"semantic_type\": \"\",\n        \"description\": \"\"\n      }\n    },\n    {\n      \"column\": \"\\u0412\\u043d\\u0435\\u0441\\u0435\\u043d\\u0430 \\u043f\\u0440\\u0435\\u0434\\u043e\\u043f\\u043b\\u0430\\u0442\\u0430\",\n      \"properties\": {\n        \"dtype\": \"number\",\n        \"std\": 27084,\n        \"min\": 0,\n        \"max\": 567800,\n        \"num_unique_values\": 1742,\n        \"samples\": [\n          24150,\n          67760,\n          223000\n        ],\n        \"semantic_type\": \"\",\n        \"description\": \"\"\n      }\n    },\n    {\n      \"column\": \"\\u0421\\u043f\\u043e\\u0441\\u043e\\u0431 \\u043e\\u043f\\u043b\\u0430\\u0442\\u044b\",\n      \"properties\": {\n        \"dtype\": \"category\",\n        \"num_unique_values\": 14,\n        \"samples\": [\n          \"\\u0412\\u043d\\u0435\\u0448\\u043d\\u044f\\u044f \\u0441\\u0438\\u0441\\u0442\\u0435\\u043c\\u0430 \\u043e\\u043f\\u043b\\u0430\\u0442\\u044b (\\u041e\\u043f\\u043b\\u0430\\u0442\\u0430 \\u043d\\u0430\\u043b\\u0438\\u0447\\u043d\\u044b\\u043c\\u0438)\",\n          \"\\u0412\\u043d\\u0435\\u0448\\u043d\\u044f\\u044f \\u0441\\u0438\\u0441\\u0442\\u0435\\u043c\\u0430 \\u043e\\u043f\\u043b\\u0430\\u0442\\u044b (\\u0411\\u0430\\u043d\\u043a\\u043e\\u0432\\u0441\\u043a\\u0430\\u044f \\u043a\\u0430\\u0440\\u0442\\u0430)\",\n          \"\\u0411\\u0430\\u043d\\u043a. \\u043a\\u0430\\u0440\\u0442\\u0430: \\u0411\\u0430\\u043d\\u043a \\u0420\\u043e\\u0441\\u0441\\u0438\\u044f (\\u0431\\u0430\\u043d\\u043a. \\u043a\\u0430\\u0440\\u0442\\u0430)\"\n        ],\n        \"semantic_type\": \"\",\n        \"description\": \"\"\n      }\n    },\n    {\n      \"column\": \"\\u0414\\u0430\\u0442\\u0430 \\u0431\\u0440\\u043e\\u043d\\u0438\\u0440\\u043e\\u0432\\u0430\\u043d\\u0438\\u044f\",\n      \"properties\": {\n        \"dtype\": \"date\",\n        \"min\": \"2022-01-01 12:20:10\",\n        \"max\": \"2023-12-31 18:46:47\",\n        \"num_unique_values\": 11218,\n        \"samples\": [\n          \"2022-09-07 18:42:21\",\n          \"2022-02-03 10:40:10\",\n          \"2023-09-19 19:33:12\"\n        ],\n        \"semantic_type\": \"\",\n        \"description\": \"\"\n      }\n    },\n    {\n      \"column\": \"\\u0417\\u0430\\u0435\\u0437\\u0434\",\n      \"properties\": {\n        \"dtype\": \"date\",\n        \"min\": \"2022-01-03 15:00:00\",\n        \"max\": \"2024-09-01 15:00:00\",\n        \"num_unique_values\": 805,\n        \"samples\": [\n          \"2023-02-22 15:00:00\",\n          \"2022-11-09 15:00:00\",\n          \"2022-05-16 15:00:00\"\n        ],\n        \"semantic_type\": \"\",\n        \"description\": \"\"\n      }\n    },\n    {\n      \"column\": \"\\u041d\\u043e\\u0447\\u0435\\u0439\",\n      \"properties\": {\n        \"dtype\": \"number\",\n        \"std\": 1,\n        \"min\": 1,\n        \"max\": 20,\n        \"num_unique_values\": 17,\n        \"samples\": [\n          2,\n          1,\n          8\n        ],\n        \"semantic_type\": \"\",\n        \"description\": \"\"\n      }\n    },\n    {\n      \"column\": \"\\u0412\\u044b\\u0435\\u0437\\u0434\",\n      \"properties\": {\n        \"dtype\": \"date\",\n        \"min\": \"2022-01-04 12:00:00\",\n        \"max\": \"2024-09-03 12:00:00\",\n        \"num_unique_values\": 800,\n        \"samples\": [\n          \"2024-01-18 12:00:00\",\n          \"2022-09-05 12:00:00\",\n          \"2023-06-28 12:00:00\"\n        ],\n        \"semantic_type\": \"\",\n        \"description\": \"\"\n      }\n    },\n    {\n      \"column\": \"\\u0418\\u0441\\u0442\\u043e\\u0447\\u043d\\u0438\\u043a\",\n      \"properties\": {\n        \"dtype\": \"category\",\n        \"num_unique_values\": 23,\n        \"samples\": [\n          \"Alean.ru (03.02.2022-31.01.2023)\",\n          \"Bronevik.com/Bro.Online\",\n          \"\\u041e\\u0444\\u0438\\u0446\\u0438\\u0430\\u043b\\u044c\\u043d\\u044b\\u0439 \\u0441\\u0430\\u0439\\u0442\"\n        ],\n        \"semantic_type\": \"\",\n        \"description\": \"\"\n      }\n    },\n    {\n      \"column\": \"\\u041a\\u0430\\u0442\\u0435\\u0433\\u043e\\u0440\\u0438\\u044f \\u043d\\u043e\\u043c\\u0435\\u0440\\u0430\",\n      \"properties\": {\n        \"dtype\": \"category\",\n        \"num_unique_values\": 26,\n        \"samples\": [\n          \"\\u041d\\u043e\\u043c\\u0435\\u0440 \\u00ab\\u0421\\u0442\\u0430\\u043d\\u0434\\u0430\\u0440\\u0442\\u00bb \\u0434\\u043b\\u044f \\u043c\\u0430\\u043b\\u043e\\u043c\\u043e\\u0431\\u0438\\u043b\\u044c\\u043d\\u044b\\u0445 \\u0433\\u0440\\u0443\\u043f\\u043f \\u043d\\u0430\\u0441\\u0435\\u043b\\u0435\\u043d\\u0438\\u044f\",\n          \"1. \\u041d\\u043e\\u043c\\u0435\\u0440 \\u00ab\\u041b\\u044e\\u043a\\u0441\\u00bb\\n2. \\u041d\\u043e\\u043c\\u0435\\u0440 \\u00ab\\u041b\\u044e\\u043a\\u0441\\u00bb\",\n          \"\\u041d\\u043e\\u043c\\u0435\\u0440 \\u00ab\\u0421\\u0442\\u0443\\u0434\\u0438\\u044f\\u00bb\"\n        ],\n        \"semantic_type\": \"\",\n        \"description\": \"\"\n      }\n    },\n    {\n      \"column\": \"\\u0413\\u043e\\u0441\\u0442\\u0435\\u0439\",\n      \"properties\": {\n        \"dtype\": \"number\",\n        \"std\": 1,\n        \"min\": 1,\n        \"max\": 18,\n        \"num_unique_values\": 16,\n        \"samples\": [\n          3,\n          2,\n          7\n        ],\n        \"semantic_type\": \"\",\n        \"description\": \"\"\n      }\n    },\n    {\n      \"column\": \"\\u0413\\u043e\\u0441\\u0442\\u0438\\u043d\\u0438\\u0446\\u0430\",\n      \"properties\": {\n        \"dtype\": \"number\",\n        \"std\": 0,\n        \"min\": 1,\n        \"max\": 4,\n        \"num_unique_values\": 4,\n        \"samples\": [\n          3,\n          2,\n          4\n        ],\n        \"semantic_type\": \"\",\n        \"description\": \"\"\n      }\n    }\n  ]\n}"
            }
          },
          "metadata": {},
          "execution_count": 253
        }
      ],
      "source": [
        "test_data.head(20)"
      ]
    },
    {
      "cell_type": "code",
      "execution_count": 254,
      "id": "82ea671c-8e3c-44e9-8e2e-b9e6b0906446",
      "metadata": {
        "colab": {
          "base_uri": "https://localhost:8080/",
          "height": 206
        },
        "id": "82ea671c-8e3c-44e9-8e2e-b9e6b0906446",
        "outputId": "fb03e192-92ab-4690-f998-8e110a006b34"
      },
      "outputs": [
        {
          "output_type": "execute_result",
          "data": {
            "text/plain": [
              "   0\n",
              "0  1\n",
              "1  0\n",
              "2  1\n",
              "3  1\n",
              "4  1"
            ],
            "text/html": [
              "\n",
              "  <div id=\"df-44e87049-2f8f-407c-8e5b-1f3fb697ed52\" class=\"colab-df-container\">\n",
              "    <div>\n",
              "<style scoped>\n",
              "    .dataframe tbody tr th:only-of-type {\n",
              "        vertical-align: middle;\n",
              "    }\n",
              "\n",
              "    .dataframe tbody tr th {\n",
              "        vertical-align: top;\n",
              "    }\n",
              "\n",
              "    .dataframe thead th {\n",
              "        text-align: right;\n",
              "    }\n",
              "</style>\n",
              "<table border=\"1\" class=\"dataframe\">\n",
              "  <thead>\n",
              "    <tr style=\"text-align: right;\">\n",
              "      <th></th>\n",
              "      <th>0</th>\n",
              "    </tr>\n",
              "  </thead>\n",
              "  <tbody>\n",
              "    <tr>\n",
              "      <th>0</th>\n",
              "      <td>1</td>\n",
              "    </tr>\n",
              "    <tr>\n",
              "      <th>1</th>\n",
              "      <td>0</td>\n",
              "    </tr>\n",
              "    <tr>\n",
              "      <th>2</th>\n",
              "      <td>1</td>\n",
              "    </tr>\n",
              "    <tr>\n",
              "      <th>3</th>\n",
              "      <td>1</td>\n",
              "    </tr>\n",
              "    <tr>\n",
              "      <th>4</th>\n",
              "      <td>1</td>\n",
              "    </tr>\n",
              "  </tbody>\n",
              "</table>\n",
              "</div>\n",
              "    <div class=\"colab-df-buttons\">\n",
              "\n",
              "  <div class=\"colab-df-container\">\n",
              "    <button class=\"colab-df-convert\" onclick=\"convertToInteractive('df-44e87049-2f8f-407c-8e5b-1f3fb697ed52')\"\n",
              "            title=\"Convert this dataframe to an interactive table.\"\n",
              "            style=\"display:none;\">\n",
              "\n",
              "  <svg xmlns=\"http://www.w3.org/2000/svg\" height=\"24px\" viewBox=\"0 -960 960 960\">\n",
              "    <path d=\"M120-120v-720h720v720H120Zm60-500h600v-160H180v160Zm220 220h160v-160H400v160Zm0 220h160v-160H400v160ZM180-400h160v-160H180v160Zm440 0h160v-160H620v160ZM180-180h160v-160H180v160Zm440 0h160v-160H620v160Z\"/>\n",
              "  </svg>\n",
              "    </button>\n",
              "\n",
              "  <style>\n",
              "    .colab-df-container {\n",
              "      display:flex;\n",
              "      gap: 12px;\n",
              "    }\n",
              "\n",
              "    .colab-df-convert {\n",
              "      background-color: #E8F0FE;\n",
              "      border: none;\n",
              "      border-radius: 50%;\n",
              "      cursor: pointer;\n",
              "      display: none;\n",
              "      fill: #1967D2;\n",
              "      height: 32px;\n",
              "      padding: 0 0 0 0;\n",
              "      width: 32px;\n",
              "    }\n",
              "\n",
              "    .colab-df-convert:hover {\n",
              "      background-color: #E2EBFA;\n",
              "      box-shadow: 0px 1px 2px rgba(60, 64, 67, 0.3), 0px 1px 3px 1px rgba(60, 64, 67, 0.15);\n",
              "      fill: #174EA6;\n",
              "    }\n",
              "\n",
              "    .colab-df-buttons div {\n",
              "      margin-bottom: 4px;\n",
              "    }\n",
              "\n",
              "    [theme=dark] .colab-df-convert {\n",
              "      background-color: #3B4455;\n",
              "      fill: #D2E3FC;\n",
              "    }\n",
              "\n",
              "    [theme=dark] .colab-df-convert:hover {\n",
              "      background-color: #434B5C;\n",
              "      box-shadow: 0px 1px 3px 1px rgba(0, 0, 0, 0.15);\n",
              "      filter: drop-shadow(0px 1px 2px rgba(0, 0, 0, 0.3));\n",
              "      fill: #FFFFFF;\n",
              "    }\n",
              "  </style>\n",
              "\n",
              "    <script>\n",
              "      const buttonEl =\n",
              "        document.querySelector('#df-44e87049-2f8f-407c-8e5b-1f3fb697ed52 button.colab-df-convert');\n",
              "      buttonEl.style.display =\n",
              "        google.colab.kernel.accessAllowed ? 'block' : 'none';\n",
              "\n",
              "      async function convertToInteractive(key) {\n",
              "        const element = document.querySelector('#df-44e87049-2f8f-407c-8e5b-1f3fb697ed52');\n",
              "        const dataTable =\n",
              "          await google.colab.kernel.invokeFunction('convertToInteractive',\n",
              "                                                    [key], {});\n",
              "        if (!dataTable) return;\n",
              "\n",
              "        const docLinkHtml = 'Like what you see? Visit the ' +\n",
              "          '<a target=\"_blank\" href=https://colab.research.google.com/notebooks/data_table.ipynb>data table notebook</a>'\n",
              "          + ' to learn more about interactive tables.';\n",
              "        element.innerHTML = '';\n",
              "        dataTable['output_type'] = 'display_data';\n",
              "        await google.colab.output.renderOutput(dataTable, element);\n",
              "        const docLink = document.createElement('div');\n",
              "        docLink.innerHTML = docLinkHtml;\n",
              "        element.appendChild(docLink);\n",
              "      }\n",
              "    </script>\n",
              "  </div>\n",
              "\n",
              "\n",
              "<div id=\"df-907d13b2-0fb3-47ca-9f03-55e0224e7a02\">\n",
              "  <button class=\"colab-df-quickchart\" onclick=\"quickchart('df-907d13b2-0fb3-47ca-9f03-55e0224e7a02')\"\n",
              "            title=\"Suggest charts\"\n",
              "            style=\"display:none;\">\n",
              "\n",
              "<svg xmlns=\"http://www.w3.org/2000/svg\" height=\"24px\"viewBox=\"0 0 24 24\"\n",
              "     width=\"24px\">\n",
              "    <g>\n",
              "        <path d=\"M19 3H5c-1.1 0-2 .9-2 2v14c0 1.1.9 2 2 2h14c1.1 0 2-.9 2-2V5c0-1.1-.9-2-2-2zM9 17H7v-7h2v7zm4 0h-2V7h2v10zm4 0h-2v-4h2v4z\"/>\n",
              "    </g>\n",
              "</svg>\n",
              "  </button>\n",
              "\n",
              "<style>\n",
              "  .colab-df-quickchart {\n",
              "      --bg-color: #E8F0FE;\n",
              "      --fill-color: #1967D2;\n",
              "      --hover-bg-color: #E2EBFA;\n",
              "      --hover-fill-color: #174EA6;\n",
              "      --disabled-fill-color: #AAA;\n",
              "      --disabled-bg-color: #DDD;\n",
              "  }\n",
              "\n",
              "  [theme=dark] .colab-df-quickchart {\n",
              "      --bg-color: #3B4455;\n",
              "      --fill-color: #D2E3FC;\n",
              "      --hover-bg-color: #434B5C;\n",
              "      --hover-fill-color: #FFFFFF;\n",
              "      --disabled-bg-color: #3B4455;\n",
              "      --disabled-fill-color: #666;\n",
              "  }\n",
              "\n",
              "  .colab-df-quickchart {\n",
              "    background-color: var(--bg-color);\n",
              "    border: none;\n",
              "    border-radius: 50%;\n",
              "    cursor: pointer;\n",
              "    display: none;\n",
              "    fill: var(--fill-color);\n",
              "    height: 32px;\n",
              "    padding: 0;\n",
              "    width: 32px;\n",
              "  }\n",
              "\n",
              "  .colab-df-quickchart:hover {\n",
              "    background-color: var(--hover-bg-color);\n",
              "    box-shadow: 0 1px 2px rgba(60, 64, 67, 0.3), 0 1px 3px 1px rgba(60, 64, 67, 0.15);\n",
              "    fill: var(--button-hover-fill-color);\n",
              "  }\n",
              "\n",
              "  .colab-df-quickchart-complete:disabled,\n",
              "  .colab-df-quickchart-complete:disabled:hover {\n",
              "    background-color: var(--disabled-bg-color);\n",
              "    fill: var(--disabled-fill-color);\n",
              "    box-shadow: none;\n",
              "  }\n",
              "\n",
              "  .colab-df-spinner {\n",
              "    border: 2px solid var(--fill-color);\n",
              "    border-color: transparent;\n",
              "    border-bottom-color: var(--fill-color);\n",
              "    animation:\n",
              "      spin 1s steps(1) infinite;\n",
              "  }\n",
              "\n",
              "  @keyframes spin {\n",
              "    0% {\n",
              "      border-color: transparent;\n",
              "      border-bottom-color: var(--fill-color);\n",
              "      border-left-color: var(--fill-color);\n",
              "    }\n",
              "    20% {\n",
              "      border-color: transparent;\n",
              "      border-left-color: var(--fill-color);\n",
              "      border-top-color: var(--fill-color);\n",
              "    }\n",
              "    30% {\n",
              "      border-color: transparent;\n",
              "      border-left-color: var(--fill-color);\n",
              "      border-top-color: var(--fill-color);\n",
              "      border-right-color: var(--fill-color);\n",
              "    }\n",
              "    40% {\n",
              "      border-color: transparent;\n",
              "      border-right-color: var(--fill-color);\n",
              "      border-top-color: var(--fill-color);\n",
              "    }\n",
              "    60% {\n",
              "      border-color: transparent;\n",
              "      border-right-color: var(--fill-color);\n",
              "    }\n",
              "    80% {\n",
              "      border-color: transparent;\n",
              "      border-right-color: var(--fill-color);\n",
              "      border-bottom-color: var(--fill-color);\n",
              "    }\n",
              "    90% {\n",
              "      border-color: transparent;\n",
              "      border-bottom-color: var(--fill-color);\n",
              "    }\n",
              "  }\n",
              "</style>\n",
              "\n",
              "  <script>\n",
              "    async function quickchart(key) {\n",
              "      const quickchartButtonEl =\n",
              "        document.querySelector('#' + key + ' button');\n",
              "      quickchartButtonEl.disabled = true;  // To prevent multiple clicks.\n",
              "      quickchartButtonEl.classList.add('colab-df-spinner');\n",
              "      try {\n",
              "        const charts = await google.colab.kernel.invokeFunction(\n",
              "            'suggestCharts', [key], {});\n",
              "      } catch (error) {\n",
              "        console.error('Error during call to suggestCharts:', error);\n",
              "      }\n",
              "      quickchartButtonEl.classList.remove('colab-df-spinner');\n",
              "      quickchartButtonEl.classList.add('colab-df-quickchart-complete');\n",
              "    }\n",
              "    (() => {\n",
              "      let quickchartButtonEl =\n",
              "        document.querySelector('#df-907d13b2-0fb3-47ca-9f03-55e0224e7a02 button');\n",
              "      quickchartButtonEl.style.display =\n",
              "        google.colab.kernel.accessAllowed ? 'block' : 'none';\n",
              "    })();\n",
              "  </script>\n",
              "</div>\n",
              "    </div>\n",
              "  </div>\n"
            ],
            "application/vnd.google.colaboratory.intrinsic+json": {
              "type": "dataframe",
              "variable_name": "example",
              "summary": "{\n  \"name\": \"example\",\n  \"rows\": 11217,\n  \"fields\": [\n    {\n      \"column\": \"0\",\n      \"properties\": {\n        \"dtype\": \"number\",\n        \"std\": 0,\n        \"min\": 0,\n        \"max\": 1,\n        \"num_unique_values\": 2,\n        \"samples\": [\n          0,\n          1\n        ],\n        \"semantic_type\": \"\",\n        \"description\": \"\"\n      }\n    }\n  ]\n}"
            }
          },
          "metadata": {},
          "execution_count": 254
        }
      ],
      "source": [
        "example = pd.read_csv(\"example.csv\")\n",
        "example.head()"
      ]
    },
    {
      "cell_type": "code",
      "execution_count": 255,
      "id": "859b7fac-1b9f-4ac5-8e31-4f93e34a5557",
      "metadata": {
        "colab": {
          "base_uri": "https://localhost:8080/",
          "height": 407
        },
        "id": "859b7fac-1b9f-4ac5-8e31-4f93e34a5557",
        "outputId": "ced5241a-1d5f-46ec-f04e-84cee4f56499"
      },
      "outputs": [
        {
          "output_type": "execute_result",
          "data": {
            "text/plain": [
              "            Номеров      Стоимость  Внесена предоплата  \\\n",
              "count  26174.000000   26174.000000        26174.000000   \n",
              "mean       1.088714   35099.784232        19536.728165   \n",
              "min        1.000000       1.000000            0.000000   \n",
              "25%        1.000000   14300.000000         7800.000000   \n",
              "50%        1.000000   23800.000000        13900.000000   \n",
              "75%        1.000000   41100.000000        23180.000000   \n",
              "max        6.000000  986400.000000       584500.000000   \n",
              "std        0.341145   38849.552238        27776.602024   \n",
              "\n",
              "                   Дата бронирования                    Дата отмены  \\\n",
              "count                          26174                           5192   \n",
              "mean   2022-12-21 12:59:53.618208512  2022-12-23 12:00:05.592257536   \n",
              "min              2022-01-01 03:42:03            2022-01-02 14:19:25   \n",
              "25%       2022-05-29 04:59:47.500000            2022-05-30 16:57:40   \n",
              "50%              2022-12-23 21:26:00     2022-12-14 19:10:10.500000   \n",
              "75%    2023-07-11 20:50:03.249999872     2023-07-10 08:04:35.500000   \n",
              "max              2023-12-31 20:53:36            2024-04-10 09:18:48   \n",
              "std                              NaN                            NaN   \n",
              "\n",
              "                               Заезд         Ночей  \\\n",
              "count                          26174  26174.000000   \n",
              "mean   2023-01-19 03:41:11.269198592      2.151295   \n",
              "min              2022-01-01 15:00:00      1.000000   \n",
              "25%              2022-07-08 15:00:00      1.000000   \n",
              "50%              2023-01-18 15:00:00      2.000000   \n",
              "75%              2023-08-07 15:00:00      3.000000   \n",
              "max              2024-08-17 15:00:00     31.000000   \n",
              "std                              NaN      1.456076   \n",
              "\n",
              "                               Выезд        Гостей     Гостиница  \n",
              "count                          26174  26174.000000  26174.000000  \n",
              "mean   2023-01-21 04:19:10.187208704      2.601628      2.158822  \n",
              "min              2022-01-02 12:00:00      1.000000      1.000000  \n",
              "25%              2022-07-10 12:00:00      2.000000      1.000000  \n",
              "50%              2023-01-20 12:00:00      2.000000      2.000000  \n",
              "75%              2023-08-09 12:00:00      3.000000      3.000000  \n",
              "max              2024-08-19 12:00:00     16.000000      4.000000  \n",
              "std                              NaN      1.199428      0.979224  "
            ],
            "text/html": [
              "\n",
              "  <div id=\"df-86acaf10-436a-4233-bcd5-02ee32aa08fd\" class=\"colab-df-container\">\n",
              "    <div>\n",
              "<style scoped>\n",
              "    .dataframe tbody tr th:only-of-type {\n",
              "        vertical-align: middle;\n",
              "    }\n",
              "\n",
              "    .dataframe tbody tr th {\n",
              "        vertical-align: top;\n",
              "    }\n",
              "\n",
              "    .dataframe thead th {\n",
              "        text-align: right;\n",
              "    }\n",
              "</style>\n",
              "<table border=\"1\" class=\"dataframe\">\n",
              "  <thead>\n",
              "    <tr style=\"text-align: right;\">\n",
              "      <th></th>\n",
              "      <th>Номеров</th>\n",
              "      <th>Стоимость</th>\n",
              "      <th>Внесена предоплата</th>\n",
              "      <th>Дата бронирования</th>\n",
              "      <th>Дата отмены</th>\n",
              "      <th>Заезд</th>\n",
              "      <th>Ночей</th>\n",
              "      <th>Выезд</th>\n",
              "      <th>Гостей</th>\n",
              "      <th>Гостиница</th>\n",
              "    </tr>\n",
              "  </thead>\n",
              "  <tbody>\n",
              "    <tr>\n",
              "      <th>count</th>\n",
              "      <td>26174.000000</td>\n",
              "      <td>26174.000000</td>\n",
              "      <td>26174.000000</td>\n",
              "      <td>26174</td>\n",
              "      <td>5192</td>\n",
              "      <td>26174</td>\n",
              "      <td>26174.000000</td>\n",
              "      <td>26174</td>\n",
              "      <td>26174.000000</td>\n",
              "      <td>26174.000000</td>\n",
              "    </tr>\n",
              "    <tr>\n",
              "      <th>mean</th>\n",
              "      <td>1.088714</td>\n",
              "      <td>35099.784232</td>\n",
              "      <td>19536.728165</td>\n",
              "      <td>2022-12-21 12:59:53.618208512</td>\n",
              "      <td>2022-12-23 12:00:05.592257536</td>\n",
              "      <td>2023-01-19 03:41:11.269198592</td>\n",
              "      <td>2.151295</td>\n",
              "      <td>2023-01-21 04:19:10.187208704</td>\n",
              "      <td>2.601628</td>\n",
              "      <td>2.158822</td>\n",
              "    </tr>\n",
              "    <tr>\n",
              "      <th>min</th>\n",
              "      <td>1.000000</td>\n",
              "      <td>1.000000</td>\n",
              "      <td>0.000000</td>\n",
              "      <td>2022-01-01 03:42:03</td>\n",
              "      <td>2022-01-02 14:19:25</td>\n",
              "      <td>2022-01-01 15:00:00</td>\n",
              "      <td>1.000000</td>\n",
              "      <td>2022-01-02 12:00:00</td>\n",
              "      <td>1.000000</td>\n",
              "      <td>1.000000</td>\n",
              "    </tr>\n",
              "    <tr>\n",
              "      <th>25%</th>\n",
              "      <td>1.000000</td>\n",
              "      <td>14300.000000</td>\n",
              "      <td>7800.000000</td>\n",
              "      <td>2022-05-29 04:59:47.500000</td>\n",
              "      <td>2022-05-30 16:57:40</td>\n",
              "      <td>2022-07-08 15:00:00</td>\n",
              "      <td>1.000000</td>\n",
              "      <td>2022-07-10 12:00:00</td>\n",
              "      <td>2.000000</td>\n",
              "      <td>1.000000</td>\n",
              "    </tr>\n",
              "    <tr>\n",
              "      <th>50%</th>\n",
              "      <td>1.000000</td>\n",
              "      <td>23800.000000</td>\n",
              "      <td>13900.000000</td>\n",
              "      <td>2022-12-23 21:26:00</td>\n",
              "      <td>2022-12-14 19:10:10.500000</td>\n",
              "      <td>2023-01-18 15:00:00</td>\n",
              "      <td>2.000000</td>\n",
              "      <td>2023-01-20 12:00:00</td>\n",
              "      <td>2.000000</td>\n",
              "      <td>2.000000</td>\n",
              "    </tr>\n",
              "    <tr>\n",
              "      <th>75%</th>\n",
              "      <td>1.000000</td>\n",
              "      <td>41100.000000</td>\n",
              "      <td>23180.000000</td>\n",
              "      <td>2023-07-11 20:50:03.249999872</td>\n",
              "      <td>2023-07-10 08:04:35.500000</td>\n",
              "      <td>2023-08-07 15:00:00</td>\n",
              "      <td>3.000000</td>\n",
              "      <td>2023-08-09 12:00:00</td>\n",
              "      <td>3.000000</td>\n",
              "      <td>3.000000</td>\n",
              "    </tr>\n",
              "    <tr>\n",
              "      <th>max</th>\n",
              "      <td>6.000000</td>\n",
              "      <td>986400.000000</td>\n",
              "      <td>584500.000000</td>\n",
              "      <td>2023-12-31 20:53:36</td>\n",
              "      <td>2024-04-10 09:18:48</td>\n",
              "      <td>2024-08-17 15:00:00</td>\n",
              "      <td>31.000000</td>\n",
              "      <td>2024-08-19 12:00:00</td>\n",
              "      <td>16.000000</td>\n",
              "      <td>4.000000</td>\n",
              "    </tr>\n",
              "    <tr>\n",
              "      <th>std</th>\n",
              "      <td>0.341145</td>\n",
              "      <td>38849.552238</td>\n",
              "      <td>27776.602024</td>\n",
              "      <td>NaN</td>\n",
              "      <td>NaN</td>\n",
              "      <td>NaN</td>\n",
              "      <td>1.456076</td>\n",
              "      <td>NaN</td>\n",
              "      <td>1.199428</td>\n",
              "      <td>0.979224</td>\n",
              "    </tr>\n",
              "  </tbody>\n",
              "</table>\n",
              "</div>\n",
              "    <div class=\"colab-df-buttons\">\n",
              "\n",
              "  <div class=\"colab-df-container\">\n",
              "    <button class=\"colab-df-convert\" onclick=\"convertToInteractive('df-86acaf10-436a-4233-bcd5-02ee32aa08fd')\"\n",
              "            title=\"Convert this dataframe to an interactive table.\"\n",
              "            style=\"display:none;\">\n",
              "\n",
              "  <svg xmlns=\"http://www.w3.org/2000/svg\" height=\"24px\" viewBox=\"0 -960 960 960\">\n",
              "    <path d=\"M120-120v-720h720v720H120Zm60-500h600v-160H180v160Zm220 220h160v-160H400v160Zm0 220h160v-160H400v160ZM180-400h160v-160H180v160Zm440 0h160v-160H620v160ZM180-180h160v-160H180v160Zm440 0h160v-160H620v160Z\"/>\n",
              "  </svg>\n",
              "    </button>\n",
              "\n",
              "  <style>\n",
              "    .colab-df-container {\n",
              "      display:flex;\n",
              "      gap: 12px;\n",
              "    }\n",
              "\n",
              "    .colab-df-convert {\n",
              "      background-color: #E8F0FE;\n",
              "      border: none;\n",
              "      border-radius: 50%;\n",
              "      cursor: pointer;\n",
              "      display: none;\n",
              "      fill: #1967D2;\n",
              "      height: 32px;\n",
              "      padding: 0 0 0 0;\n",
              "      width: 32px;\n",
              "    }\n",
              "\n",
              "    .colab-df-convert:hover {\n",
              "      background-color: #E2EBFA;\n",
              "      box-shadow: 0px 1px 2px rgba(60, 64, 67, 0.3), 0px 1px 3px 1px rgba(60, 64, 67, 0.15);\n",
              "      fill: #174EA6;\n",
              "    }\n",
              "\n",
              "    .colab-df-buttons div {\n",
              "      margin-bottom: 4px;\n",
              "    }\n",
              "\n",
              "    [theme=dark] .colab-df-convert {\n",
              "      background-color: #3B4455;\n",
              "      fill: #D2E3FC;\n",
              "    }\n",
              "\n",
              "    [theme=dark] .colab-df-convert:hover {\n",
              "      background-color: #434B5C;\n",
              "      box-shadow: 0px 1px 3px 1px rgba(0, 0, 0, 0.15);\n",
              "      filter: drop-shadow(0px 1px 2px rgba(0, 0, 0, 0.3));\n",
              "      fill: #FFFFFF;\n",
              "    }\n",
              "  </style>\n",
              "\n",
              "    <script>\n",
              "      const buttonEl =\n",
              "        document.querySelector('#df-86acaf10-436a-4233-bcd5-02ee32aa08fd button.colab-df-convert');\n",
              "      buttonEl.style.display =\n",
              "        google.colab.kernel.accessAllowed ? 'block' : 'none';\n",
              "\n",
              "      async function convertToInteractive(key) {\n",
              "        const element = document.querySelector('#df-86acaf10-436a-4233-bcd5-02ee32aa08fd');\n",
              "        const dataTable =\n",
              "          await google.colab.kernel.invokeFunction('convertToInteractive',\n",
              "                                                    [key], {});\n",
              "        if (!dataTable) return;\n",
              "\n",
              "        const docLinkHtml = 'Like what you see? Visit the ' +\n",
              "          '<a target=\"_blank\" href=https://colab.research.google.com/notebooks/data_table.ipynb>data table notebook</a>'\n",
              "          + ' to learn more about interactive tables.';\n",
              "        element.innerHTML = '';\n",
              "        dataTable['output_type'] = 'display_data';\n",
              "        await google.colab.output.renderOutput(dataTable, element);\n",
              "        const docLink = document.createElement('div');\n",
              "        docLink.innerHTML = docLinkHtml;\n",
              "        element.appendChild(docLink);\n",
              "      }\n",
              "    </script>\n",
              "  </div>\n",
              "\n",
              "\n",
              "<div id=\"df-283af306-400f-4330-8191-f4eb207f3993\">\n",
              "  <button class=\"colab-df-quickchart\" onclick=\"quickchart('df-283af306-400f-4330-8191-f4eb207f3993')\"\n",
              "            title=\"Suggest charts\"\n",
              "            style=\"display:none;\">\n",
              "\n",
              "<svg xmlns=\"http://www.w3.org/2000/svg\" height=\"24px\"viewBox=\"0 0 24 24\"\n",
              "     width=\"24px\">\n",
              "    <g>\n",
              "        <path d=\"M19 3H5c-1.1 0-2 .9-2 2v14c0 1.1.9 2 2 2h14c1.1 0 2-.9 2-2V5c0-1.1-.9-2-2-2zM9 17H7v-7h2v7zm4 0h-2V7h2v10zm4 0h-2v-4h2v4z\"/>\n",
              "    </g>\n",
              "</svg>\n",
              "  </button>\n",
              "\n",
              "<style>\n",
              "  .colab-df-quickchart {\n",
              "      --bg-color: #E8F0FE;\n",
              "      --fill-color: #1967D2;\n",
              "      --hover-bg-color: #E2EBFA;\n",
              "      --hover-fill-color: #174EA6;\n",
              "      --disabled-fill-color: #AAA;\n",
              "      --disabled-bg-color: #DDD;\n",
              "  }\n",
              "\n",
              "  [theme=dark] .colab-df-quickchart {\n",
              "      --bg-color: #3B4455;\n",
              "      --fill-color: #D2E3FC;\n",
              "      --hover-bg-color: #434B5C;\n",
              "      --hover-fill-color: #FFFFFF;\n",
              "      --disabled-bg-color: #3B4455;\n",
              "      --disabled-fill-color: #666;\n",
              "  }\n",
              "\n",
              "  .colab-df-quickchart {\n",
              "    background-color: var(--bg-color);\n",
              "    border: none;\n",
              "    border-radius: 50%;\n",
              "    cursor: pointer;\n",
              "    display: none;\n",
              "    fill: var(--fill-color);\n",
              "    height: 32px;\n",
              "    padding: 0;\n",
              "    width: 32px;\n",
              "  }\n",
              "\n",
              "  .colab-df-quickchart:hover {\n",
              "    background-color: var(--hover-bg-color);\n",
              "    box-shadow: 0 1px 2px rgba(60, 64, 67, 0.3), 0 1px 3px 1px rgba(60, 64, 67, 0.15);\n",
              "    fill: var(--button-hover-fill-color);\n",
              "  }\n",
              "\n",
              "  .colab-df-quickchart-complete:disabled,\n",
              "  .colab-df-quickchart-complete:disabled:hover {\n",
              "    background-color: var(--disabled-bg-color);\n",
              "    fill: var(--disabled-fill-color);\n",
              "    box-shadow: none;\n",
              "  }\n",
              "\n",
              "  .colab-df-spinner {\n",
              "    border: 2px solid var(--fill-color);\n",
              "    border-color: transparent;\n",
              "    border-bottom-color: var(--fill-color);\n",
              "    animation:\n",
              "      spin 1s steps(1) infinite;\n",
              "  }\n",
              "\n",
              "  @keyframes spin {\n",
              "    0% {\n",
              "      border-color: transparent;\n",
              "      border-bottom-color: var(--fill-color);\n",
              "      border-left-color: var(--fill-color);\n",
              "    }\n",
              "    20% {\n",
              "      border-color: transparent;\n",
              "      border-left-color: var(--fill-color);\n",
              "      border-top-color: var(--fill-color);\n",
              "    }\n",
              "    30% {\n",
              "      border-color: transparent;\n",
              "      border-left-color: var(--fill-color);\n",
              "      border-top-color: var(--fill-color);\n",
              "      border-right-color: var(--fill-color);\n",
              "    }\n",
              "    40% {\n",
              "      border-color: transparent;\n",
              "      border-right-color: var(--fill-color);\n",
              "      border-top-color: var(--fill-color);\n",
              "    }\n",
              "    60% {\n",
              "      border-color: transparent;\n",
              "      border-right-color: var(--fill-color);\n",
              "    }\n",
              "    80% {\n",
              "      border-color: transparent;\n",
              "      border-right-color: var(--fill-color);\n",
              "      border-bottom-color: var(--fill-color);\n",
              "    }\n",
              "    90% {\n",
              "      border-color: transparent;\n",
              "      border-bottom-color: var(--fill-color);\n",
              "    }\n",
              "  }\n",
              "</style>\n",
              "\n",
              "  <script>\n",
              "    async function quickchart(key) {\n",
              "      const quickchartButtonEl =\n",
              "        document.querySelector('#' + key + ' button');\n",
              "      quickchartButtonEl.disabled = true;  // To prevent multiple clicks.\n",
              "      quickchartButtonEl.classList.add('colab-df-spinner');\n",
              "      try {\n",
              "        const charts = await google.colab.kernel.invokeFunction(\n",
              "            'suggestCharts', [key], {});\n",
              "      } catch (error) {\n",
              "        console.error('Error during call to suggestCharts:', error);\n",
              "      }\n",
              "      quickchartButtonEl.classList.remove('colab-df-spinner');\n",
              "      quickchartButtonEl.classList.add('colab-df-quickchart-complete');\n",
              "    }\n",
              "    (() => {\n",
              "      let quickchartButtonEl =\n",
              "        document.querySelector('#df-283af306-400f-4330-8191-f4eb207f3993 button');\n",
              "      quickchartButtonEl.style.display =\n",
              "        google.colab.kernel.accessAllowed ? 'block' : 'none';\n",
              "    })();\n",
              "  </script>\n",
              "</div>\n",
              "    </div>\n",
              "  </div>\n"
            ],
            "application/vnd.google.colaboratory.intrinsic+json": {
              "type": "dataframe",
              "summary": "{\n  \"name\": \"train_data\",\n  \"rows\": 8,\n  \"fields\": [\n    {\n      \"column\": \"\\u041d\\u043e\\u043c\\u0435\\u0440\\u043e\\u0432\",\n      \"properties\": {\n        \"dtype\": \"number\",\n        \"std\": 9253.329325098563,\n        \"min\": 0.34114470330110447,\n        \"max\": 26174.0,\n        \"num_unique_values\": 5,\n        \"samples\": [\n          1.0887139909834187,\n          0.34114470330110447,\n          1.0\n        ],\n        \"semantic_type\": \"\",\n        \"description\": \"\"\n      }\n    },\n    {\n      \"column\": \"\\u0421\\u0442\\u043e\\u0438\\u043c\\u043e\\u0441\\u0442\\u044c\",\n      \"properties\": {\n        \"dtype\": \"number\",\n        \"std\": 339959.51592157036,\n        \"min\": 1.0,\n        \"max\": 986400.0,\n        \"num_unique_values\": 8,\n        \"samples\": [\n          35099.784232444414,\n          41100.0,\n          26174.0\n        ],\n        \"semantic_type\": \"\",\n        \"description\": \"\"\n      }\n    },\n    {\n      \"column\": \"\\u0412\\u043d\\u0435\\u0441\\u0435\\u043d\\u0430 \\u043f\\u0440\\u0435\\u0434\\u043e\\u043f\\u043b\\u0430\\u0442\\u0430\",\n      \"properties\": {\n        \"dtype\": \"number\",\n        \"std\": 200896.95424073574,\n        \"min\": 0.0,\n        \"max\": 584500.0,\n        \"num_unique_values\": 8,\n        \"samples\": [\n          19536.728165354933,\n          23180.0,\n          26174.0\n        ],\n        \"semantic_type\": \"\",\n        \"description\": \"\"\n      }\n    },\n    {\n      \"column\": \"\\u0414\\u0430\\u0442\\u0430 \\u0431\\u0440\\u043e\\u043d\\u0438\\u0440\\u043e\\u0432\\u0430\\u043d\\u0438\\u044f\",\n      \"properties\": {\n        \"dtype\": \"date\",\n        \"min\": \"1970-01-01 00:00:00.000026174\",\n        \"max\": \"2023-12-31 20:53:36\",\n        \"num_unique_values\": 7,\n        \"samples\": [\n          \"26174\",\n          \"2022-12-21 12:59:53.618208512\",\n          \"2023-07-11 20:50:03.249999872\"\n        ],\n        \"semantic_type\": \"\",\n        \"description\": \"\"\n      }\n    },\n    {\n      \"column\": \"\\u0414\\u0430\\u0442\\u0430 \\u043e\\u0442\\u043c\\u0435\\u043d\\u044b\",\n      \"properties\": {\n        \"dtype\": \"date\",\n        \"min\": \"1970-01-01 00:00:00.000005192\",\n        \"max\": \"2024-04-10 09:18:48\",\n        \"num_unique_values\": 7,\n        \"samples\": [\n          \"5192\",\n          \"2022-12-23 12:00:05.592257536\",\n          \"2023-07-10 08:04:35.500000\"\n        ],\n        \"semantic_type\": \"\",\n        \"description\": \"\"\n      }\n    },\n    {\n      \"column\": \"\\u0417\\u0430\\u0435\\u0437\\u0434\",\n      \"properties\": {\n        \"dtype\": \"date\",\n        \"min\": \"1970-01-01 00:00:00.000026174\",\n        \"max\": \"2024-08-17 15:00:00\",\n        \"num_unique_values\": 7,\n        \"samples\": [\n          \"26174\",\n          \"2023-01-19 03:41:11.269198592\",\n          \"2023-08-07 15:00:00\"\n        ],\n        \"semantic_type\": \"\",\n        \"description\": \"\"\n      }\n    },\n    {\n      \"column\": \"\\u041d\\u043e\\u0447\\u0435\\u0439\",\n      \"properties\": {\n        \"dtype\": \"number\",\n        \"std\": 9251.810633745497,\n        \"min\": 1.0,\n        \"max\": 26174.0,\n        \"num_unique_values\": 7,\n        \"samples\": [\n          26174.0,\n          2.1512951784213343,\n          31.0\n        ],\n        \"semantic_type\": \"\",\n        \"description\": \"\"\n      }\n    },\n    {\n      \"column\": \"\\u0412\\u044b\\u0435\\u0437\\u0434\",\n      \"properties\": {\n        \"dtype\": \"date\",\n        \"min\": \"1970-01-01 00:00:00.000026174\",\n        \"max\": \"2024-08-19 12:00:00\",\n        \"num_unique_values\": 7,\n        \"samples\": [\n          \"26174\",\n          \"2023-01-21 04:19:10.187208704\",\n          \"2023-08-09 12:00:00\"\n        ],\n        \"semantic_type\": \"\",\n        \"description\": \"\"\n      }\n    },\n    {\n      \"column\": \"\\u0413\\u043e\\u0441\\u0442\\u0435\\u0439\",\n      \"properties\": {\n        \"dtype\": \"number\",\n        \"std\": 9252.503606287311,\n        \"min\": 1.0,\n        \"max\": 26174.0,\n        \"num_unique_values\": 7,\n        \"samples\": [\n          26174.0,\n          2.6016275693436235,\n          16.0\n        ],\n        \"semantic_type\": \"\",\n        \"description\": \"\"\n      }\n    },\n    {\n      \"column\": \"\\u0413\\u043e\\u0441\\u0442\\u0438\\u043d\\u0438\\u0446\\u0430\",\n      \"properties\": {\n        \"dtype\": \"number\",\n        \"std\": 9253.192428476466,\n        \"min\": 0.979224413346839,\n        \"max\": 26174.0,\n        \"num_unique_values\": 7,\n        \"samples\": [\n          26174.0,\n          2.1588217314892644,\n          4.0\n        ],\n        \"semantic_type\": \"\",\n        \"description\": \"\"\n      }\n    }\n  ]\n}"
            }
          },
          "metadata": {},
          "execution_count": 255
        }
      ],
      "source": [
        "train_data.describe()"
      ]
    },
    {
      "cell_type": "code",
      "execution_count": 255,
      "id": "4b370e86-9ee2-4949-b68e-abcb2c56f9e9",
      "metadata": {
        "id": "4b370e86-9ee2-4949-b68e-abcb2c56f9e9"
      },
      "outputs": [],
      "source": []
    },
    {
      "cell_type": "markdown",
      "id": "304bd998-5763-4f77-aeed-9942d9ce90e7",
      "metadata": {
        "id": "304bd998-5763-4f77-aeed-9942d9ce90e7"
      },
      "source": [
        "### Категориальные фичи"
      ]
    },
    {
      "cell_type": "code",
      "execution_count": 256,
      "id": "25f43c8f-0559-4b8c-90d7-3c8fa04a49f2",
      "metadata": {
        "colab": {
          "base_uri": "https://localhost:8080/"
        },
        "id": "25f43c8f-0559-4b8c-90d7-3c8fa04a49f2",
        "outputId": "24ed5d8d-fcba-475b-f5ea-99ab31ae5e2a"
      },
      "outputs": [
        {
          "output_type": "stream",
          "name": "stdout",
          "text": [
            "<class 'pandas.core.frame.DataFrame'>\n",
            "RangeIndex: 26174 entries, 0 to 26173\n",
            "Data columns (total 15 columns):\n",
            " #   Column              Non-Null Count  Dtype         \n",
            "---  ------              --------------  -----         \n",
            " 0   № брони             26174 non-null  object        \n",
            " 1   Номеров             26174 non-null  int64         \n",
            " 2   Стоимость           26174 non-null  float64       \n",
            " 3   Внесена предоплата  26174 non-null  int64         \n",
            " 4   Способ оплаты       26174 non-null  object        \n",
            " 5   Дата бронирования   26174 non-null  datetime64[ns]\n",
            " 6   Дата отмены         5192 non-null   datetime64[ns]\n",
            " 7   Заезд               26174 non-null  datetime64[ns]\n",
            " 8   Ночей               26174 non-null  int64         \n",
            " 9   Выезд               26174 non-null  datetime64[ns]\n",
            " 10  Источник            26174 non-null  object        \n",
            " 11  Статус брони        26174 non-null  object        \n",
            " 12  Категория номера    26174 non-null  object        \n",
            " 13  Гостей              26174 non-null  int64         \n",
            " 14  Гостиница           26174 non-null  int64         \n",
            "dtypes: datetime64[ns](4), float64(1), int64(5), object(5)\n",
            "memory usage: 3.0+ MB\n"
          ]
        }
      ],
      "source": [
        "train_data.info()"
      ]
    },
    {
      "cell_type": "code",
      "execution_count": 257,
      "id": "6ff843e2-e6a2-4eda-ba6c-8732cf4d2556",
      "metadata": {
        "colab": {
          "base_uri": "https://localhost:8080/",
          "height": 554
        },
        "id": "6ff843e2-e6a2-4eda-ba6c-8732cf4d2556",
        "outputId": "a51623e1-842a-421b-ec85-d867c28a2846"
      },
      "outputs": [
        {
          "output_type": "execute_result",
          "data": {
            "text/plain": [
              "Способ оплаты\n",
              "Банк. карта: Банк Россия (банк. карта)                                           13747\n",
              "Отложенная электронная оплата: Банк Россия (банк. карта)                          4128\n",
              "Система быстрых платежей: Эквайринг ComfortBooking (Система быстрых платежей)     2539\n",
              "Внешняя система оплаты (С предоплатой)                                            1875\n",
              "Банк. карта [Кешбэк. МИР]: Эквайринг TravelLine Pro (Банк. карта)                 1614\n",
              "Гарантия банковской картой                                                         876\n",
              "При заселении                                                                      704\n",
              "Внешняя система оплаты                                                             332\n",
              "Банк. карта [Кешбэк. МИР]: Эквайринг ComfortBooking (Банк. карта)                  170\n",
              "Внешняя система оплаты (Оплата наличными)                                           69\n",
              "Банк. карта: Эквайринг ComfortBooking (Банк. карта)                                 58\n",
              "Внешняя система оплаты (Банковская карта)                                           54\n",
              "Банк. карта (SberPay): Эквайринг ComfortBooking (Банк. карта) (SberPay)              7\n",
              "Банк. карта (Yandex Pay): Эквайринг ComfortBooking (Банк. карта) (Yandex Pay)        1\n",
              "Name: count, dtype: int64"
            ],
            "text/html": [
              "<div>\n",
              "<style scoped>\n",
              "    .dataframe tbody tr th:only-of-type {\n",
              "        vertical-align: middle;\n",
              "    }\n",
              "\n",
              "    .dataframe tbody tr th {\n",
              "        vertical-align: top;\n",
              "    }\n",
              "\n",
              "    .dataframe thead th {\n",
              "        text-align: right;\n",
              "    }\n",
              "</style>\n",
              "<table border=\"1\" class=\"dataframe\">\n",
              "  <thead>\n",
              "    <tr style=\"text-align: right;\">\n",
              "      <th></th>\n",
              "      <th>count</th>\n",
              "    </tr>\n",
              "    <tr>\n",
              "      <th>Способ оплаты</th>\n",
              "      <th></th>\n",
              "    </tr>\n",
              "  </thead>\n",
              "  <tbody>\n",
              "    <tr>\n",
              "      <th>Банк. карта: Банк Россия (банк. карта)</th>\n",
              "      <td>13747</td>\n",
              "    </tr>\n",
              "    <tr>\n",
              "      <th>Отложенная электронная оплата: Банк Россия (банк. карта)</th>\n",
              "      <td>4128</td>\n",
              "    </tr>\n",
              "    <tr>\n",
              "      <th>Система быстрых платежей: Эквайринг ComfortBooking (Система быстрых платежей)</th>\n",
              "      <td>2539</td>\n",
              "    </tr>\n",
              "    <tr>\n",
              "      <th>Внешняя система оплаты (С предоплатой)</th>\n",
              "      <td>1875</td>\n",
              "    </tr>\n",
              "    <tr>\n",
              "      <th>Банк. карта [Кешбэк. МИР]: Эквайринг TravelLine Pro (Банк. карта)</th>\n",
              "      <td>1614</td>\n",
              "    </tr>\n",
              "    <tr>\n",
              "      <th>Гарантия банковской картой</th>\n",
              "      <td>876</td>\n",
              "    </tr>\n",
              "    <tr>\n",
              "      <th>При заселении</th>\n",
              "      <td>704</td>\n",
              "    </tr>\n",
              "    <tr>\n",
              "      <th>Внешняя система оплаты</th>\n",
              "      <td>332</td>\n",
              "    </tr>\n",
              "    <tr>\n",
              "      <th>Банк. карта [Кешбэк. МИР]: Эквайринг ComfortBooking (Банк. карта)</th>\n",
              "      <td>170</td>\n",
              "    </tr>\n",
              "    <tr>\n",
              "      <th>Внешняя система оплаты (Оплата наличными)</th>\n",
              "      <td>69</td>\n",
              "    </tr>\n",
              "    <tr>\n",
              "      <th>Банк. карта: Эквайринг ComfortBooking (Банк. карта)</th>\n",
              "      <td>58</td>\n",
              "    </tr>\n",
              "    <tr>\n",
              "      <th>Внешняя система оплаты (Банковская карта)</th>\n",
              "      <td>54</td>\n",
              "    </tr>\n",
              "    <tr>\n",
              "      <th>Банк. карта (SberPay): Эквайринг ComfortBooking (Банк. карта) (SberPay)</th>\n",
              "      <td>7</td>\n",
              "    </tr>\n",
              "    <tr>\n",
              "      <th>Банк. карта (Yandex Pay): Эквайринг ComfortBooking (Банк. карта) (Yandex Pay)</th>\n",
              "      <td>1</td>\n",
              "    </tr>\n",
              "  </tbody>\n",
              "</table>\n",
              "</div><br><label><b>dtype:</b> int64</label>"
            ]
          },
          "metadata": {},
          "execution_count": 257
        }
      ],
      "source": [
        "train_data[\"Способ оплаты\"].value_counts()"
      ]
    },
    {
      "cell_type": "code",
      "execution_count": 258,
      "id": "ed2ef753-b7b9-4a6b-81f1-e5b5f5265adc",
      "metadata": {
        "colab": {
          "base_uri": "https://localhost:8080/",
          "height": 962
        },
        "id": "ed2ef753-b7b9-4a6b-81f1-e5b5f5265adc",
        "outputId": "5590803c-9d02-4c07-a150-87c29373e378"
      },
      "outputs": [
        {
          "output_type": "execute_result",
          "data": {
            "text/plain": [
              "Источник\n",
              "Официальный сайт                    21077\n",
              "Бронирование из экстранета           1306\n",
              "Яндекс.Путешествия                   1132\n",
              "ostrovok.ru                           733\n",
              "booking.com                           629\n",
              "Программа лояльности                  618\n",
              "booking.com (Booking.com)             205\n",
              "Bronevik.com(new)                     141\n",
              "OneTwoTrip                            141\n",
              "Cuva                                   34\n",
              "Zabroniryi.ru                          24\n",
              "Bronevik.com/Bro.Online                21\n",
              "Alean.ru (03.02.2022-31.01.2023)       21\n",
              "Acase.ru (ООО \"ПРАНДИУМ\")              17\n",
              "101hotels.com                          16\n",
              "Acase.ru (ООО \"АКАДЕМ-ОНЛАЙН\")         15\n",
              "Alean.ru (16.01.2023-06.09.2024)       10\n",
              "ВКонтакте                               8\n",
              "Acase.ru (ООО \"КАЛЕЙДОСКОП\")            5\n",
              "expedia.com (A-Hotels.com)              5\n",
              "Ozon                                    4\n",
              "Тинькофф Путешествия                    4\n",
              "Otello                                  3\n",
              "Alean.ru (13.10.2023-02.06.2025)        2\n",
              "Alean.ru (31.10.2023-22.06.2025)        1\n",
              "Svoy Hotel                              1\n",
              "Alean.ru (20.01.2021-31.01.2022)        1\n",
              "Name: count, dtype: int64"
            ],
            "text/html": [
              "<div>\n",
              "<style scoped>\n",
              "    .dataframe tbody tr th:only-of-type {\n",
              "        vertical-align: middle;\n",
              "    }\n",
              "\n",
              "    .dataframe tbody tr th {\n",
              "        vertical-align: top;\n",
              "    }\n",
              "\n",
              "    .dataframe thead th {\n",
              "        text-align: right;\n",
              "    }\n",
              "</style>\n",
              "<table border=\"1\" class=\"dataframe\">\n",
              "  <thead>\n",
              "    <tr style=\"text-align: right;\">\n",
              "      <th></th>\n",
              "      <th>count</th>\n",
              "    </tr>\n",
              "    <tr>\n",
              "      <th>Источник</th>\n",
              "      <th></th>\n",
              "    </tr>\n",
              "  </thead>\n",
              "  <tbody>\n",
              "    <tr>\n",
              "      <th>Официальный сайт</th>\n",
              "      <td>21077</td>\n",
              "    </tr>\n",
              "    <tr>\n",
              "      <th>Бронирование из экстранета</th>\n",
              "      <td>1306</td>\n",
              "    </tr>\n",
              "    <tr>\n",
              "      <th>Яндекс.Путешествия</th>\n",
              "      <td>1132</td>\n",
              "    </tr>\n",
              "    <tr>\n",
              "      <th>ostrovok.ru</th>\n",
              "      <td>733</td>\n",
              "    </tr>\n",
              "    <tr>\n",
              "      <th>booking.com</th>\n",
              "      <td>629</td>\n",
              "    </tr>\n",
              "    <tr>\n",
              "      <th>Программа лояльности</th>\n",
              "      <td>618</td>\n",
              "    </tr>\n",
              "    <tr>\n",
              "      <th>booking.com (Booking.com)</th>\n",
              "      <td>205</td>\n",
              "    </tr>\n",
              "    <tr>\n",
              "      <th>Bronevik.com(new)</th>\n",
              "      <td>141</td>\n",
              "    </tr>\n",
              "    <tr>\n",
              "      <th>OneTwoTrip</th>\n",
              "      <td>141</td>\n",
              "    </tr>\n",
              "    <tr>\n",
              "      <th>Cuva</th>\n",
              "      <td>34</td>\n",
              "    </tr>\n",
              "    <tr>\n",
              "      <th>Zabroniryi.ru</th>\n",
              "      <td>24</td>\n",
              "    </tr>\n",
              "    <tr>\n",
              "      <th>Bronevik.com/Bro.Online</th>\n",
              "      <td>21</td>\n",
              "    </tr>\n",
              "    <tr>\n",
              "      <th>Alean.ru (03.02.2022-31.01.2023)</th>\n",
              "      <td>21</td>\n",
              "    </tr>\n",
              "    <tr>\n",
              "      <th>Acase.ru (ООО \"ПРАНДИУМ\")</th>\n",
              "      <td>17</td>\n",
              "    </tr>\n",
              "    <tr>\n",
              "      <th>101hotels.com</th>\n",
              "      <td>16</td>\n",
              "    </tr>\n",
              "    <tr>\n",
              "      <th>Acase.ru (ООО \"АКАДЕМ-ОНЛАЙН\")</th>\n",
              "      <td>15</td>\n",
              "    </tr>\n",
              "    <tr>\n",
              "      <th>Alean.ru (16.01.2023-06.09.2024)</th>\n",
              "      <td>10</td>\n",
              "    </tr>\n",
              "    <tr>\n",
              "      <th>ВКонтакте</th>\n",
              "      <td>8</td>\n",
              "    </tr>\n",
              "    <tr>\n",
              "      <th>Acase.ru (ООО \"КАЛЕЙДОСКОП\")</th>\n",
              "      <td>5</td>\n",
              "    </tr>\n",
              "    <tr>\n",
              "      <th>expedia.com (A-Hotels.com)</th>\n",
              "      <td>5</td>\n",
              "    </tr>\n",
              "    <tr>\n",
              "      <th>Ozon</th>\n",
              "      <td>4</td>\n",
              "    </tr>\n",
              "    <tr>\n",
              "      <th>Тинькофф Путешествия</th>\n",
              "      <td>4</td>\n",
              "    </tr>\n",
              "    <tr>\n",
              "      <th>Otello</th>\n",
              "      <td>3</td>\n",
              "    </tr>\n",
              "    <tr>\n",
              "      <th>Alean.ru (13.10.2023-02.06.2025)</th>\n",
              "      <td>2</td>\n",
              "    </tr>\n",
              "    <tr>\n",
              "      <th>Alean.ru (31.10.2023-22.06.2025)</th>\n",
              "      <td>1</td>\n",
              "    </tr>\n",
              "    <tr>\n",
              "      <th>Svoy Hotel</th>\n",
              "      <td>1</td>\n",
              "    </tr>\n",
              "    <tr>\n",
              "      <th>Alean.ru (20.01.2021-31.01.2022)</th>\n",
              "      <td>1</td>\n",
              "    </tr>\n",
              "  </tbody>\n",
              "</table>\n",
              "</div><br><label><b>dtype:</b> int64</label>"
            ]
          },
          "metadata": {},
          "execution_count": 258
        }
      ],
      "source": [
        "train_data[\"Источник\"].value_counts()"
      ]
    },
    {
      "cell_type": "code",
      "execution_count": 259,
      "id": "f3bf4f13-b2fb-43f2-82c1-63f8e11a53a4",
      "metadata": {
        "colab": {
          "base_uri": "https://localhost:8080/",
          "height": 1000
        },
        "id": "f3bf4f13-b2fb-43f2-82c1-63f8e11a53a4",
        "outputId": "1a075fbf-23d8-4983-adca-97bf3efc141e"
      },
      "outputs": [
        {
          "output_type": "execute_result",
          "data": {
            "text/plain": [
              "Категория номера\n",
              "Номер «Стандарт»                                                                                                                                     16872\n",
              "Номер «Студия»                                                                                                                                        4929\n",
              "Апартаменты с 2 спальнями с отдельным входом                                                                                                          1957\n",
              "Номер «Люкс»                                                                                                                                           759\n",
              "Коттедж с 2 спальнями                                                                                                                                  720\n",
              "Коттедж с 3 спальнями                                                                                                                                  676\n",
              "1. Номер «Стандарт»\\n2. Номер «Стандарт»                                                                                                               158\n",
              "Номер «Стандарт» для маломобильных групп населения                                                                                                      25\n",
              "1. Номер «Стандарт»\\n2. Номер «Стандарт»\\n3. Номер «Стандарт»                                                                                           17\n",
              "1. Апартаменты с 2 спальнями с отдельным входом\\n2. Апартаменты с 2 спальнями с отдельным входом                                                        16\n",
              "1. Номер «Люкс»\\n2. Номер «Люкс»                                                                                                                         7\n",
              "1. Коттедж с 2 спальнями\\n2. Коттедж с 3 спальнями                                                                                                       5\n",
              "1. Номер «Люкс»\\n2. Номер «Стандарт»                                                                                                                     5\n",
              "1. Коттедж с 3 спальнями\\n2. Коттедж с 3 спальнями                                                                                                       4\n",
              "1. Номер «Стандарт»\\n2. Номер «Люкс»                                                                                                                     4\n",
              "1. Коттедж с 3 спальнями\\n2. Коттедж с 3 спальнями\\n3. Коттедж с 3 спальнями                                                                             3\n",
              "1. Апартаменты с 2 спальнями с отдельным входом\\n2. Апартаменты с 2 спальнями с отдельным входом\\n3. Апартаменты с 2 спальнями с отдельным входом        3\n",
              "1. Коттедж с 3 спальнями\\n2. Номер «Стандарт»\\n3. Номер «Стандарт»                                                                                       2\n",
              "1. Номер «Люкс»\\n2. Номер «Стандарт»\\n3. Номер «Стандарт»                                                                                                2\n",
              "1. Коттедж с 2 спальнями\\n2. Коттедж с 2 спальнями                                                                                                       2\n",
              "1. Номер «Стандарт»\\n2. Номер «Стандарт»\\n3. Номер «Стандарт»\\n4. Номер «Стандарт»\\n5. Номер «Стандарт»\\n6. Номер «Стандарт»                             1\n",
              "1. Апартаменты с 2 спальнями с отдельным входом\\n2. Апартаменты с 2 спальнями с отдельным входом\\n3. Номер «Стандарт»                                    1\n",
              "1. Коттедж с 3 спальнями\\n2. Номер «Стандарт»\\n3. Коттедж с 3 спальнями                                                                                  1\n",
              "1. Номер «Стандарт»\\n2. Номер «Стандарт»\\n3. Номер «Стандарт»\\n4. Номер «Стандарт» для маломобильных групп населения                                     1\n",
              "1. Номер «Стандарт»\\n2. Номер «Стандарт»\\n3. Номер «Люкс»\\n4. Номер «Стандарт»                                                                           1\n",
              "1. Номер «Стандарт»\\n2. Номер «Стандарт» для маломобильных групп населения                                                                               1\n",
              "1. Коттедж с 2 спальнями\\n2. Коттедж с 2 спальнями\\n3. Коттедж с 2 спальнями                                                                             1\n",
              "1. Номер «Стандарт»\\n2. Апартаменты с 2 спальнями с отдельным входом\\n3. Номер «Стандарт»                                                                1\n",
              "Name: count, dtype: int64"
            ],
            "text/html": [
              "<div>\n",
              "<style scoped>\n",
              "    .dataframe tbody tr th:only-of-type {\n",
              "        vertical-align: middle;\n",
              "    }\n",
              "\n",
              "    .dataframe tbody tr th {\n",
              "        vertical-align: top;\n",
              "    }\n",
              "\n",
              "    .dataframe thead th {\n",
              "        text-align: right;\n",
              "    }\n",
              "</style>\n",
              "<table border=\"1\" class=\"dataframe\">\n",
              "  <thead>\n",
              "    <tr style=\"text-align: right;\">\n",
              "      <th></th>\n",
              "      <th>count</th>\n",
              "    </tr>\n",
              "    <tr>\n",
              "      <th>Категория номера</th>\n",
              "      <th></th>\n",
              "    </tr>\n",
              "  </thead>\n",
              "  <tbody>\n",
              "    <tr>\n",
              "      <th>Номер «Стандарт»</th>\n",
              "      <td>16872</td>\n",
              "    </tr>\n",
              "    <tr>\n",
              "      <th>Номер «Студия»</th>\n",
              "      <td>4929</td>\n",
              "    </tr>\n",
              "    <tr>\n",
              "      <th>Апартаменты с 2 спальнями с отдельным входом</th>\n",
              "      <td>1957</td>\n",
              "    </tr>\n",
              "    <tr>\n",
              "      <th>Номер «Люкс»</th>\n",
              "      <td>759</td>\n",
              "    </tr>\n",
              "    <tr>\n",
              "      <th>Коттедж с 2 спальнями</th>\n",
              "      <td>720</td>\n",
              "    </tr>\n",
              "    <tr>\n",
              "      <th>Коттедж с 3 спальнями</th>\n",
              "      <td>676</td>\n",
              "    </tr>\n",
              "    <tr>\n",
              "      <th>1. Номер «Стандарт»\\n2. Номер «Стандарт»</th>\n",
              "      <td>158</td>\n",
              "    </tr>\n",
              "    <tr>\n",
              "      <th>Номер «Стандарт» для маломобильных групп населения</th>\n",
              "      <td>25</td>\n",
              "    </tr>\n",
              "    <tr>\n",
              "      <th>1. Номер «Стандарт»\\n2. Номер «Стандарт»\\n3. Номер «Стандарт»</th>\n",
              "      <td>17</td>\n",
              "    </tr>\n",
              "    <tr>\n",
              "      <th>1. Апартаменты с 2 спальнями с отдельным входом\\n2. Апартаменты с 2 спальнями с отдельным входом</th>\n",
              "      <td>16</td>\n",
              "    </tr>\n",
              "    <tr>\n",
              "      <th>1. Номер «Люкс»\\n2. Номер «Люкс»</th>\n",
              "      <td>7</td>\n",
              "    </tr>\n",
              "    <tr>\n",
              "      <th>1. Коттедж с 2 спальнями\\n2. Коттедж с 3 спальнями</th>\n",
              "      <td>5</td>\n",
              "    </tr>\n",
              "    <tr>\n",
              "      <th>1. Номер «Люкс»\\n2. Номер «Стандарт»</th>\n",
              "      <td>5</td>\n",
              "    </tr>\n",
              "    <tr>\n",
              "      <th>1. Коттедж с 3 спальнями\\n2. Коттедж с 3 спальнями</th>\n",
              "      <td>4</td>\n",
              "    </tr>\n",
              "    <tr>\n",
              "      <th>1. Номер «Стандарт»\\n2. Номер «Люкс»</th>\n",
              "      <td>4</td>\n",
              "    </tr>\n",
              "    <tr>\n",
              "      <th>1. Коттедж с 3 спальнями\\n2. Коттедж с 3 спальнями\\n3. Коттедж с 3 спальнями</th>\n",
              "      <td>3</td>\n",
              "    </tr>\n",
              "    <tr>\n",
              "      <th>1. Апартаменты с 2 спальнями с отдельным входом\\n2. Апартаменты с 2 спальнями с отдельным входом\\n3. Апартаменты с 2 спальнями с отдельным входом</th>\n",
              "      <td>3</td>\n",
              "    </tr>\n",
              "    <tr>\n",
              "      <th>1. Коттедж с 3 спальнями\\n2. Номер «Стандарт»\\n3. Номер «Стандарт»</th>\n",
              "      <td>2</td>\n",
              "    </tr>\n",
              "    <tr>\n",
              "      <th>1. Номер «Люкс»\\n2. Номер «Стандарт»\\n3. Номер «Стандарт»</th>\n",
              "      <td>2</td>\n",
              "    </tr>\n",
              "    <tr>\n",
              "      <th>1. Коттедж с 2 спальнями\\n2. Коттедж с 2 спальнями</th>\n",
              "      <td>2</td>\n",
              "    </tr>\n",
              "    <tr>\n",
              "      <th>1. Номер «Стандарт»\\n2. Номер «Стандарт»\\n3. Номер «Стандарт»\\n4. Номер «Стандарт»\\n5. Номер «Стандарт»\\n6. Номер «Стандарт»</th>\n",
              "      <td>1</td>\n",
              "    </tr>\n",
              "    <tr>\n",
              "      <th>1. Апартаменты с 2 спальнями с отдельным входом\\n2. Апартаменты с 2 спальнями с отдельным входом\\n3. Номер «Стандарт»</th>\n",
              "      <td>1</td>\n",
              "    </tr>\n",
              "    <tr>\n",
              "      <th>1. Коттедж с 3 спальнями\\n2. Номер «Стандарт»\\n3. Коттедж с 3 спальнями</th>\n",
              "      <td>1</td>\n",
              "    </tr>\n",
              "    <tr>\n",
              "      <th>1. Номер «Стандарт»\\n2. Номер «Стандарт»\\n3. Номер «Стандарт»\\n4. Номер «Стандарт» для маломобильных групп населения</th>\n",
              "      <td>1</td>\n",
              "    </tr>\n",
              "    <tr>\n",
              "      <th>1. Номер «Стандарт»\\n2. Номер «Стандарт»\\n3. Номер «Люкс»\\n4. Номер «Стандарт»</th>\n",
              "      <td>1</td>\n",
              "    </tr>\n",
              "    <tr>\n",
              "      <th>1. Номер «Стандарт»\\n2. Номер «Стандарт» для маломобильных групп населения</th>\n",
              "      <td>1</td>\n",
              "    </tr>\n",
              "    <tr>\n",
              "      <th>1. Коттедж с 2 спальнями\\n2. Коттедж с 2 спальнями\\n3. Коттедж с 2 спальнями</th>\n",
              "      <td>1</td>\n",
              "    </tr>\n",
              "    <tr>\n",
              "      <th>1. Номер «Стандарт»\\n2. Апартаменты с 2 спальнями с отдельным входом\\n3. Номер «Стандарт»</th>\n",
              "      <td>1</td>\n",
              "    </tr>\n",
              "  </tbody>\n",
              "</table>\n",
              "</div><br><label><b>dtype:</b> int64</label>"
            ]
          },
          "metadata": {},
          "execution_count": 259
        }
      ],
      "source": [
        "train_data[\"Категория номера\"].value_counts()"
      ]
    },
    {
      "cell_type": "code",
      "execution_count": 260,
      "id": "868bd5f2-898e-421e-b606-520c2c24b09e",
      "metadata": {
        "colab": {
          "base_uri": "https://localhost:8080/"
        },
        "id": "868bd5f2-898e-421e-b606-520c2c24b09e",
        "outputId": "7f8f1962-443c-4e3b-c83b-11c9d131a6ea"
      },
      "outputs": [
        {
          "output_type": "execute_result",
          "data": {
            "text/plain": [
              "array([16872,  4929,  1957,   759,   720,   676,   158,    25,    17,\n",
              "          16,     7,     5,     5,     4,     4,     3,     3,     2,\n",
              "           2,     2,     1,     1,     1,     1,     1,     1,     1,\n",
              "           1])"
            ]
          },
          "metadata": {},
          "execution_count": 260
        }
      ],
      "source": [
        "np.array(train_data[\"Категория номера\"].value_counts())"
      ]
    },
    {
      "cell_type": "code",
      "source": [
        "np.array(train_data[\"Источник\"].value_counts())"
      ],
      "metadata": {
        "colab": {
          "base_uri": "https://localhost:8080/"
        },
        "id": "5pF-IqvEDEMj",
        "outputId": "ca84d597-02f0-46fd-9d79-c61aa77b2cd3"
      },
      "id": "5pF-IqvEDEMj",
      "execution_count": 261,
      "outputs": [
        {
          "output_type": "execute_result",
          "data": {
            "text/plain": [
              "array([21077,  1306,  1132,   733,   629,   618,   205,   141,   141,\n",
              "          34,    24,    21,    21,    17,    16,    15,    10,     8,\n",
              "           5,     5,     4,     4,     3,     2,     1,     1,     1])"
            ]
          },
          "metadata": {},
          "execution_count": 261
        }
      ]
    },
    {
      "cell_type": "code",
      "source": [
        "np.array(train_data[\"Способ оплаты\"].value_counts())"
      ],
      "metadata": {
        "colab": {
          "base_uri": "https://localhost:8080/"
        },
        "id": "NaKELCGSDTpa",
        "outputId": "b86355de-3b61-4c06-bcfa-a62b49d82683"
      },
      "id": "NaKELCGSDTpa",
      "execution_count": 262,
      "outputs": [
        {
          "output_type": "execute_result",
          "data": {
            "text/plain": [
              "array([13747,  4128,  2539,  1875,  1614,   876,   704,   332,   170,\n",
              "          69,    58,    54,     7,     1])"
            ]
          },
          "metadata": {},
          "execution_count": 262
        }
      ]
    },
    {
      "cell_type": "markdown",
      "source": [
        "Возможно стоит объединить все маленькие категории в одну \"Другое\"\n"
      ],
      "metadata": {
        "id": "QD2LbOiGCcXE"
      },
      "id": "QD2LbOiGCcXE"
    },
    {
      "cell_type": "code",
      "execution_count": 262,
      "id": "467ff0d1-e38e-417d-97f3-2000a47a89bf",
      "metadata": {
        "id": "467ff0d1-e38e-417d-97f3-2000a47a89bf"
      },
      "outputs": [],
      "source": []
    },
    {
      "cell_type": "code",
      "execution_count": 262,
      "id": "477639f6-3139-4350-a6ca-5f32edd01ad5",
      "metadata": {
        "id": "477639f6-3139-4350-a6ca-5f32edd01ad5"
      },
      "outputs": [],
      "source": []
    },
    {
      "cell_type": "code",
      "execution_count": 262,
      "id": "19217640-1cb7-4e5a-bf11-d093782566c7",
      "metadata": {
        "id": "19217640-1cb7-4e5a-bf11-d093782566c7"
      },
      "outputs": [],
      "source": [
        "\n",
        "\n",
        "\n",
        "\n",
        "\n",
        "\n",
        "\n"
      ]
    },
    {
      "cell_type": "markdown",
      "id": "2c7fddc8-0eee-48c7-9801-b4bac17b642a",
      "metadata": {
        "id": "2c7fddc8-0eee-48c7-9801-b4bac17b642a"
      },
      "source": [
        "### Пропуски (их нету, дата отмены - предположительно мусор)"
      ]
    },
    {
      "cell_type": "code",
      "execution_count": 263,
      "id": "0e9c3422-63f5-48b8-ab0c-30ef2b25be2b",
      "metadata": {
        "colab": {
          "base_uri": "https://localhost:8080/",
          "height": 554
        },
        "id": "0e9c3422-63f5-48b8-ab0c-30ef2b25be2b",
        "outputId": "a27fee22-6a35-40bc-aad2-c09057953300"
      },
      "outputs": [
        {
          "output_type": "execute_result",
          "data": {
            "text/plain": [
              "№ брони                   0\n",
              "Номеров                   0\n",
              "Стоимость                 0\n",
              "Внесена предоплата        0\n",
              "Способ оплаты             0\n",
              "Дата бронирования         0\n",
              "Дата отмены           20982\n",
              "Заезд                     0\n",
              "Ночей                     0\n",
              "Выезд                     0\n",
              "Источник                  0\n",
              "Статус брони              0\n",
              "Категория номера          0\n",
              "Гостей                    0\n",
              "Гостиница                 0\n",
              "dtype: int64"
            ],
            "text/html": [
              "<div>\n",
              "<style scoped>\n",
              "    .dataframe tbody tr th:only-of-type {\n",
              "        vertical-align: middle;\n",
              "    }\n",
              "\n",
              "    .dataframe tbody tr th {\n",
              "        vertical-align: top;\n",
              "    }\n",
              "\n",
              "    .dataframe thead th {\n",
              "        text-align: right;\n",
              "    }\n",
              "</style>\n",
              "<table border=\"1\" class=\"dataframe\">\n",
              "  <thead>\n",
              "    <tr style=\"text-align: right;\">\n",
              "      <th></th>\n",
              "      <th>0</th>\n",
              "    </tr>\n",
              "  </thead>\n",
              "  <tbody>\n",
              "    <tr>\n",
              "      <th>№ брони</th>\n",
              "      <td>0</td>\n",
              "    </tr>\n",
              "    <tr>\n",
              "      <th>Номеров</th>\n",
              "      <td>0</td>\n",
              "    </tr>\n",
              "    <tr>\n",
              "      <th>Стоимость</th>\n",
              "      <td>0</td>\n",
              "    </tr>\n",
              "    <tr>\n",
              "      <th>Внесена предоплата</th>\n",
              "      <td>0</td>\n",
              "    </tr>\n",
              "    <tr>\n",
              "      <th>Способ оплаты</th>\n",
              "      <td>0</td>\n",
              "    </tr>\n",
              "    <tr>\n",
              "      <th>Дата бронирования</th>\n",
              "      <td>0</td>\n",
              "    </tr>\n",
              "    <tr>\n",
              "      <th>Дата отмены</th>\n",
              "      <td>20982</td>\n",
              "    </tr>\n",
              "    <tr>\n",
              "      <th>Заезд</th>\n",
              "      <td>0</td>\n",
              "    </tr>\n",
              "    <tr>\n",
              "      <th>Ночей</th>\n",
              "      <td>0</td>\n",
              "    </tr>\n",
              "    <tr>\n",
              "      <th>Выезд</th>\n",
              "      <td>0</td>\n",
              "    </tr>\n",
              "    <tr>\n",
              "      <th>Источник</th>\n",
              "      <td>0</td>\n",
              "    </tr>\n",
              "    <tr>\n",
              "      <th>Статус брони</th>\n",
              "      <td>0</td>\n",
              "    </tr>\n",
              "    <tr>\n",
              "      <th>Категория номера</th>\n",
              "      <td>0</td>\n",
              "    </tr>\n",
              "    <tr>\n",
              "      <th>Гостей</th>\n",
              "      <td>0</td>\n",
              "    </tr>\n",
              "    <tr>\n",
              "      <th>Гостиница</th>\n",
              "      <td>0</td>\n",
              "    </tr>\n",
              "  </tbody>\n",
              "</table>\n",
              "</div><br><label><b>dtype:</b> int64</label>"
            ]
          },
          "metadata": {},
          "execution_count": 263
        }
      ],
      "source": [
        "train_data.isnull().sum()"
      ]
    },
    {
      "cell_type": "code",
      "execution_count": 264,
      "id": "1ccd4767-a0e3-4002-a60c-e6718e2619c8",
      "metadata": {
        "colab": {
          "base_uri": "https://localhost:8080/",
          "height": 491
        },
        "id": "1ccd4767-a0e3-4002-a60c-e6718e2619c8",
        "outputId": "a3fdb631-11e4-4c6c-9123-5573a4d74e0a"
      },
      "outputs": [
        {
          "output_type": "execute_result",
          "data": {
            "text/plain": [
              "№ брони               0\n",
              "Номеров               0\n",
              "Стоимость             0\n",
              "Внесена предоплата    0\n",
              "Способ оплаты         0\n",
              "Дата бронирования     0\n",
              "Заезд                 0\n",
              "Ночей                 0\n",
              "Выезд                 0\n",
              "Источник              0\n",
              "Категория номера      0\n",
              "Гостей                0\n",
              "Гостиница             0\n",
              "dtype: int64"
            ],
            "text/html": [
              "<div>\n",
              "<style scoped>\n",
              "    .dataframe tbody tr th:only-of-type {\n",
              "        vertical-align: middle;\n",
              "    }\n",
              "\n",
              "    .dataframe tbody tr th {\n",
              "        vertical-align: top;\n",
              "    }\n",
              "\n",
              "    .dataframe thead th {\n",
              "        text-align: right;\n",
              "    }\n",
              "</style>\n",
              "<table border=\"1\" class=\"dataframe\">\n",
              "  <thead>\n",
              "    <tr style=\"text-align: right;\">\n",
              "      <th></th>\n",
              "      <th>0</th>\n",
              "    </tr>\n",
              "  </thead>\n",
              "  <tbody>\n",
              "    <tr>\n",
              "      <th>№ брони</th>\n",
              "      <td>0</td>\n",
              "    </tr>\n",
              "    <tr>\n",
              "      <th>Номеров</th>\n",
              "      <td>0</td>\n",
              "    </tr>\n",
              "    <tr>\n",
              "      <th>Стоимость</th>\n",
              "      <td>0</td>\n",
              "    </tr>\n",
              "    <tr>\n",
              "      <th>Внесена предоплата</th>\n",
              "      <td>0</td>\n",
              "    </tr>\n",
              "    <tr>\n",
              "      <th>Способ оплаты</th>\n",
              "      <td>0</td>\n",
              "    </tr>\n",
              "    <tr>\n",
              "      <th>Дата бронирования</th>\n",
              "      <td>0</td>\n",
              "    </tr>\n",
              "    <tr>\n",
              "      <th>Заезд</th>\n",
              "      <td>0</td>\n",
              "    </tr>\n",
              "    <tr>\n",
              "      <th>Ночей</th>\n",
              "      <td>0</td>\n",
              "    </tr>\n",
              "    <tr>\n",
              "      <th>Выезд</th>\n",
              "      <td>0</td>\n",
              "    </tr>\n",
              "    <tr>\n",
              "      <th>Источник</th>\n",
              "      <td>0</td>\n",
              "    </tr>\n",
              "    <tr>\n",
              "      <th>Категория номера</th>\n",
              "      <td>0</td>\n",
              "    </tr>\n",
              "    <tr>\n",
              "      <th>Гостей</th>\n",
              "      <td>0</td>\n",
              "    </tr>\n",
              "    <tr>\n",
              "      <th>Гостиница</th>\n",
              "      <td>0</td>\n",
              "    </tr>\n",
              "  </tbody>\n",
              "</table>\n",
              "</div><br><label><b>dtype:</b> int64</label>"
            ]
          },
          "metadata": {},
          "execution_count": 264
        }
      ],
      "source": [
        "test_data.isnull().sum()"
      ]
    },
    {
      "cell_type": "code",
      "execution_count": 264,
      "id": "4effbf8a-d2d9-45d4-b398-11749f95f4a5",
      "metadata": {
        "id": "4effbf8a-d2d9-45d4-b398-11749f95f4a5"
      },
      "outputs": [],
      "source": []
    },
    {
      "cell_type": "markdown",
      "id": "d04df636-08c7-4bdb-8f23-fa8a52596c7e",
      "metadata": {
        "id": "d04df636-08c7-4bdb-8f23-fa8a52596c7e"
      },
      "source": [
        "### Целевая переменная"
      ]
    },
    {
      "cell_type": "markdown",
      "id": "69cd3a40-3141-4b0e-84fe-b5b8e7c962ee",
      "metadata": {
        "id": "69cd3a40-3141-4b0e-84fe-b5b8e7c962ee"
      },
      "source": [
        "#### интересно могут ли понадобиться разные виды неотмены или просто бинарим это)"
      ]
    },
    {
      "cell_type": "code",
      "execution_count": 265,
      "id": "fbeec796-a638-4bc4-a00e-3243500f6a4a",
      "metadata": {
        "colab": {
          "base_uri": "https://localhost:8080/",
          "height": 272
        },
        "id": "fbeec796-a638-4bc4-a00e-3243500f6a4a",
        "outputId": "4d1edea0-222e-4711-9c61-afe4a5690141"
      },
      "outputs": [
        {
          "output_type": "execute_result",
          "data": {
            "text/plain": [
              "Статус брони\n",
              "Активный            20978\n",
              "Отмена               3403\n",
              "Неподтвержденные     1787\n",
              "Ожидается оплата        4\n",
              "Освоб. заранее          2\n",
              "Name: count, dtype: int64"
            ],
            "text/html": [
              "<div>\n",
              "<style scoped>\n",
              "    .dataframe tbody tr th:only-of-type {\n",
              "        vertical-align: middle;\n",
              "    }\n",
              "\n",
              "    .dataframe tbody tr th {\n",
              "        vertical-align: top;\n",
              "    }\n",
              "\n",
              "    .dataframe thead th {\n",
              "        text-align: right;\n",
              "    }\n",
              "</style>\n",
              "<table border=\"1\" class=\"dataframe\">\n",
              "  <thead>\n",
              "    <tr style=\"text-align: right;\">\n",
              "      <th></th>\n",
              "      <th>count</th>\n",
              "    </tr>\n",
              "    <tr>\n",
              "      <th>Статус брони</th>\n",
              "      <th></th>\n",
              "    </tr>\n",
              "  </thead>\n",
              "  <tbody>\n",
              "    <tr>\n",
              "      <th>Активный</th>\n",
              "      <td>20978</td>\n",
              "    </tr>\n",
              "    <tr>\n",
              "      <th>Отмена</th>\n",
              "      <td>3403</td>\n",
              "    </tr>\n",
              "    <tr>\n",
              "      <th>Неподтвержденные</th>\n",
              "      <td>1787</td>\n",
              "    </tr>\n",
              "    <tr>\n",
              "      <th>Ожидается оплата</th>\n",
              "      <td>4</td>\n",
              "    </tr>\n",
              "    <tr>\n",
              "      <th>Освоб. заранее</th>\n",
              "      <td>2</td>\n",
              "    </tr>\n",
              "  </tbody>\n",
              "</table>\n",
              "</div><br><label><b>dtype:</b> int64</label>"
            ]
          },
          "metadata": {},
          "execution_count": 265
        }
      ],
      "source": [
        "target = train_data[\"Статус брони\"]\n",
        "X_train = train_data.drop(['Статус брони', 'Дата отмены'], axis=1)\n",
        "X_test = test_data\n",
        "target.value_counts()"
      ]
    },
    {
      "cell_type": "code",
      "source": [
        "X_train = X_train[target!=\"Неподтвержденные\"]\n",
        "target = target[target!=\"Неподтвержденные\"]\n",
        "X_train.shape, target.shape, X_test.shape"
      ],
      "metadata": {
        "colab": {
          "base_uri": "https://localhost:8080/"
        },
        "id": "JD72c1RbNgwf",
        "outputId": "c0e7d822-dc3e-4cc2-b245-e1189abf51a8"
      },
      "id": "JD72c1RbNgwf",
      "execution_count": 266,
      "outputs": [
        {
          "output_type": "execute_result",
          "data": {
            "text/plain": [
              "((24387, 13), (24387,), (11218, 13))"
            ]
          },
          "metadata": {},
          "execution_count": 266
        }
      ]
    },
    {
      "cell_type": "code",
      "execution_count": 267,
      "id": "2e0e82f2-cd7e-46c4-998e-f07d5182e316",
      "metadata": {
        "colab": {
          "base_uri": "https://localhost:8080/",
          "height": 458
        },
        "id": "2e0e82f2-cd7e-46c4-998e-f07d5182e316",
        "outputId": "2970a4e9-1485-4105-ea6c-6139b873d036"
      },
      "outputs": [
        {
          "output_type": "execute_result",
          "data": {
            "text/plain": [
              "0        1\n",
              "1        0\n",
              "2        0\n",
              "3        0\n",
              "4        0\n",
              "        ..\n",
              "24382    0\n",
              "24383    0\n",
              "24384    0\n",
              "24385    1\n",
              "24386    0\n",
              "Length: 24387, dtype: int64"
            ],
            "text/html": [
              "<div>\n",
              "<style scoped>\n",
              "    .dataframe tbody tr th:only-of-type {\n",
              "        vertical-align: middle;\n",
              "    }\n",
              "\n",
              "    .dataframe tbody tr th {\n",
              "        vertical-align: top;\n",
              "    }\n",
              "\n",
              "    .dataframe thead th {\n",
              "        text-align: right;\n",
              "    }\n",
              "</style>\n",
              "<table border=\"1\" class=\"dataframe\">\n",
              "  <thead>\n",
              "    <tr style=\"text-align: right;\">\n",
              "      <th></th>\n",
              "      <th>0</th>\n",
              "    </tr>\n",
              "  </thead>\n",
              "  <tbody>\n",
              "    <tr>\n",
              "      <th>0</th>\n",
              "      <td>1</td>\n",
              "    </tr>\n",
              "    <tr>\n",
              "      <th>1</th>\n",
              "      <td>0</td>\n",
              "    </tr>\n",
              "    <tr>\n",
              "      <th>2</th>\n",
              "      <td>0</td>\n",
              "    </tr>\n",
              "    <tr>\n",
              "      <th>3</th>\n",
              "      <td>0</td>\n",
              "    </tr>\n",
              "    <tr>\n",
              "      <th>4</th>\n",
              "      <td>0</td>\n",
              "    </tr>\n",
              "    <tr>\n",
              "      <th>...</th>\n",
              "      <td>...</td>\n",
              "    </tr>\n",
              "    <tr>\n",
              "      <th>24382</th>\n",
              "      <td>0</td>\n",
              "    </tr>\n",
              "    <tr>\n",
              "      <th>24383</th>\n",
              "      <td>0</td>\n",
              "    </tr>\n",
              "    <tr>\n",
              "      <th>24384</th>\n",
              "      <td>0</td>\n",
              "    </tr>\n",
              "    <tr>\n",
              "      <th>24385</th>\n",
              "      <td>1</td>\n",
              "    </tr>\n",
              "    <tr>\n",
              "      <th>24386</th>\n",
              "      <td>0</td>\n",
              "    </tr>\n",
              "  </tbody>\n",
              "</table>\n",
              "<p>24387 rows × 1 columns</p>\n",
              "</div><br><label><b>dtype:</b> int64</label>"
            ]
          },
          "metadata": {},
          "execution_count": 267
        }
      ],
      "source": [
        "y_train = pd.Series(np.where(np.array(target) == \"Отмена\", 1, 0))\n",
        "y_train"
      ]
    },
    {
      "cell_type": "code",
      "execution_count": 268,
      "id": "99f23963-0ca1-412c-937c-ff3f7e295ed7",
      "metadata": {
        "id": "99f23963-0ca1-412c-937c-ff3f7e295ed7",
        "colab": {
          "base_uri": "https://localhost:8080/"
        },
        "outputId": "ce787934-66a0-4a3e-d2be-c3a8383d4112"
      },
      "outputs": [
        {
          "output_type": "execute_result",
          "data": {
            "text/plain": [
              "array([0.13954156])"
            ]
          },
          "metadata": {},
          "execution_count": 268
        }
      ],
      "source": [
        "y_train.sum() / y_train.shape"
      ]
    },
    {
      "cell_type": "code",
      "source": [
        "X_train.head()"
      ],
      "metadata": {
        "colab": {
          "base_uri": "https://localhost:8080/",
          "height": 486
        },
        "id": "IVaY5LmIEgeA",
        "outputId": "1e631e1d-ba40-4aa5-e397-a84ade4e675a"
      },
      "id": "IVaY5LmIEgeA",
      "execution_count": 269,
      "outputs": [
        {
          "output_type": "execute_result",
          "data": {
            "text/plain": [
              "                    № брони  Номеров  Стоимость  Внесена предоплата  \\\n",
              "0   20230428-6634-194809261        1    25700.0                   0   \n",
              "1   20220711-6634-144460018        1    24800.0               12400   \n",
              "2  20221204-16563-171020423        1    25800.0               12900   \n",
              "3   20230918-7491-223512699        1    10500.0                   0   \n",
              "4   20230529-6634-200121971        1    28690.0               28690   \n",
              "\n",
              "                                       Способ оплаты   Дата бронирования  \\\n",
              "0                             Внешняя система оплаты 2023-04-20 20:37:30   \n",
              "1  Отложенная электронная оплата: Банк Россия (ба... 2022-06-18 14:17:02   \n",
              "2             Банк. карта: Банк Россия (банк. карта) 2022-11-14 22:59:30   \n",
              "3             Внешняя система оплаты (С предоплатой) 2023-09-08 15:55:53   \n",
              "4  Система быстрых платежей: Эквайринг ComfortBoo... 2023-05-20 19:54:13   \n",
              "\n",
              "                Заезд  Ночей               Выезд            Источник  \\\n",
              "0 2023-04-28 15:00:00      3 2023-05-01 12:00:00  Яндекс.Путешествия   \n",
              "1 2022-07-11 15:00:00      2 2022-07-13 12:00:00    Официальный сайт   \n",
              "2 2022-12-04 15:00:00      2 2022-12-06 12:00:00    Официальный сайт   \n",
              "3 2023-09-18 15:00:00      1 2023-09-19 12:00:00   Bronevik.com(new)   \n",
              "4 2023-05-29 15:00:00      2 2023-05-31 12:00:00    Официальный сайт   \n",
              "\n",
              "   Категория номера  Гостей  Гостиница  \n",
              "0  Номер «Стандарт»       2          1  \n",
              "1  Номер «Стандарт»       2          1  \n",
              "2    Номер «Студия»       2          4  \n",
              "3  Номер «Стандарт»       1          3  \n",
              "4      Номер «Люкс»       4          1  "
            ],
            "text/html": [
              "\n",
              "  <div id=\"df-e489242c-7e9b-4c17-bb7f-5273aa78849b\" class=\"colab-df-container\">\n",
              "    <div>\n",
              "<style scoped>\n",
              "    .dataframe tbody tr th:only-of-type {\n",
              "        vertical-align: middle;\n",
              "    }\n",
              "\n",
              "    .dataframe tbody tr th {\n",
              "        vertical-align: top;\n",
              "    }\n",
              "\n",
              "    .dataframe thead th {\n",
              "        text-align: right;\n",
              "    }\n",
              "</style>\n",
              "<table border=\"1\" class=\"dataframe\">\n",
              "  <thead>\n",
              "    <tr style=\"text-align: right;\">\n",
              "      <th></th>\n",
              "      <th>№ брони</th>\n",
              "      <th>Номеров</th>\n",
              "      <th>Стоимость</th>\n",
              "      <th>Внесена предоплата</th>\n",
              "      <th>Способ оплаты</th>\n",
              "      <th>Дата бронирования</th>\n",
              "      <th>Заезд</th>\n",
              "      <th>Ночей</th>\n",
              "      <th>Выезд</th>\n",
              "      <th>Источник</th>\n",
              "      <th>Категория номера</th>\n",
              "      <th>Гостей</th>\n",
              "      <th>Гостиница</th>\n",
              "    </tr>\n",
              "  </thead>\n",
              "  <tbody>\n",
              "    <tr>\n",
              "      <th>0</th>\n",
              "      <td>20230428-6634-194809261</td>\n",
              "      <td>1</td>\n",
              "      <td>25700.0</td>\n",
              "      <td>0</td>\n",
              "      <td>Внешняя система оплаты</td>\n",
              "      <td>2023-04-20 20:37:30</td>\n",
              "      <td>2023-04-28 15:00:00</td>\n",
              "      <td>3</td>\n",
              "      <td>2023-05-01 12:00:00</td>\n",
              "      <td>Яндекс.Путешествия</td>\n",
              "      <td>Номер «Стандарт»</td>\n",
              "      <td>2</td>\n",
              "      <td>1</td>\n",
              "    </tr>\n",
              "    <tr>\n",
              "      <th>1</th>\n",
              "      <td>20220711-6634-144460018</td>\n",
              "      <td>1</td>\n",
              "      <td>24800.0</td>\n",
              "      <td>12400</td>\n",
              "      <td>Отложенная электронная оплата: Банк Россия (ба...</td>\n",
              "      <td>2022-06-18 14:17:02</td>\n",
              "      <td>2022-07-11 15:00:00</td>\n",
              "      <td>2</td>\n",
              "      <td>2022-07-13 12:00:00</td>\n",
              "      <td>Официальный сайт</td>\n",
              "      <td>Номер «Стандарт»</td>\n",
              "      <td>2</td>\n",
              "      <td>1</td>\n",
              "    </tr>\n",
              "    <tr>\n",
              "      <th>2</th>\n",
              "      <td>20221204-16563-171020423</td>\n",
              "      <td>1</td>\n",
              "      <td>25800.0</td>\n",
              "      <td>12900</td>\n",
              "      <td>Банк. карта: Банк Россия (банк. карта)</td>\n",
              "      <td>2022-11-14 22:59:30</td>\n",
              "      <td>2022-12-04 15:00:00</td>\n",
              "      <td>2</td>\n",
              "      <td>2022-12-06 12:00:00</td>\n",
              "      <td>Официальный сайт</td>\n",
              "      <td>Номер «Студия»</td>\n",
              "      <td>2</td>\n",
              "      <td>4</td>\n",
              "    </tr>\n",
              "    <tr>\n",
              "      <th>3</th>\n",
              "      <td>20230918-7491-223512699</td>\n",
              "      <td>1</td>\n",
              "      <td>10500.0</td>\n",
              "      <td>0</td>\n",
              "      <td>Внешняя система оплаты (С предоплатой)</td>\n",
              "      <td>2023-09-08 15:55:53</td>\n",
              "      <td>2023-09-18 15:00:00</td>\n",
              "      <td>1</td>\n",
              "      <td>2023-09-19 12:00:00</td>\n",
              "      <td>Bronevik.com(new)</td>\n",
              "      <td>Номер «Стандарт»</td>\n",
              "      <td>1</td>\n",
              "      <td>3</td>\n",
              "    </tr>\n",
              "    <tr>\n",
              "      <th>4</th>\n",
              "      <td>20230529-6634-200121971</td>\n",
              "      <td>1</td>\n",
              "      <td>28690.0</td>\n",
              "      <td>28690</td>\n",
              "      <td>Система быстрых платежей: Эквайринг ComfortBoo...</td>\n",
              "      <td>2023-05-20 19:54:13</td>\n",
              "      <td>2023-05-29 15:00:00</td>\n",
              "      <td>2</td>\n",
              "      <td>2023-05-31 12:00:00</td>\n",
              "      <td>Официальный сайт</td>\n",
              "      <td>Номер «Люкс»</td>\n",
              "      <td>4</td>\n",
              "      <td>1</td>\n",
              "    </tr>\n",
              "  </tbody>\n",
              "</table>\n",
              "</div>\n",
              "    <div class=\"colab-df-buttons\">\n",
              "\n",
              "  <div class=\"colab-df-container\">\n",
              "    <button class=\"colab-df-convert\" onclick=\"convertToInteractive('df-e489242c-7e9b-4c17-bb7f-5273aa78849b')\"\n",
              "            title=\"Convert this dataframe to an interactive table.\"\n",
              "            style=\"display:none;\">\n",
              "\n",
              "  <svg xmlns=\"http://www.w3.org/2000/svg\" height=\"24px\" viewBox=\"0 -960 960 960\">\n",
              "    <path d=\"M120-120v-720h720v720H120Zm60-500h600v-160H180v160Zm220 220h160v-160H400v160Zm0 220h160v-160H400v160ZM180-400h160v-160H180v160Zm440 0h160v-160H620v160ZM180-180h160v-160H180v160Zm440 0h160v-160H620v160Z\"/>\n",
              "  </svg>\n",
              "    </button>\n",
              "\n",
              "  <style>\n",
              "    .colab-df-container {\n",
              "      display:flex;\n",
              "      gap: 12px;\n",
              "    }\n",
              "\n",
              "    .colab-df-convert {\n",
              "      background-color: #E8F0FE;\n",
              "      border: none;\n",
              "      border-radius: 50%;\n",
              "      cursor: pointer;\n",
              "      display: none;\n",
              "      fill: #1967D2;\n",
              "      height: 32px;\n",
              "      padding: 0 0 0 0;\n",
              "      width: 32px;\n",
              "    }\n",
              "\n",
              "    .colab-df-convert:hover {\n",
              "      background-color: #E2EBFA;\n",
              "      box-shadow: 0px 1px 2px rgba(60, 64, 67, 0.3), 0px 1px 3px 1px rgba(60, 64, 67, 0.15);\n",
              "      fill: #174EA6;\n",
              "    }\n",
              "\n",
              "    .colab-df-buttons div {\n",
              "      margin-bottom: 4px;\n",
              "    }\n",
              "\n",
              "    [theme=dark] .colab-df-convert {\n",
              "      background-color: #3B4455;\n",
              "      fill: #D2E3FC;\n",
              "    }\n",
              "\n",
              "    [theme=dark] .colab-df-convert:hover {\n",
              "      background-color: #434B5C;\n",
              "      box-shadow: 0px 1px 3px 1px rgba(0, 0, 0, 0.15);\n",
              "      filter: drop-shadow(0px 1px 2px rgba(0, 0, 0, 0.3));\n",
              "      fill: #FFFFFF;\n",
              "    }\n",
              "  </style>\n",
              "\n",
              "    <script>\n",
              "      const buttonEl =\n",
              "        document.querySelector('#df-e489242c-7e9b-4c17-bb7f-5273aa78849b button.colab-df-convert');\n",
              "      buttonEl.style.display =\n",
              "        google.colab.kernel.accessAllowed ? 'block' : 'none';\n",
              "\n",
              "      async function convertToInteractive(key) {\n",
              "        const element = document.querySelector('#df-e489242c-7e9b-4c17-bb7f-5273aa78849b');\n",
              "        const dataTable =\n",
              "          await google.colab.kernel.invokeFunction('convertToInteractive',\n",
              "                                                    [key], {});\n",
              "        if (!dataTable) return;\n",
              "\n",
              "        const docLinkHtml = 'Like what you see? Visit the ' +\n",
              "          '<a target=\"_blank\" href=https://colab.research.google.com/notebooks/data_table.ipynb>data table notebook</a>'\n",
              "          + ' to learn more about interactive tables.';\n",
              "        element.innerHTML = '';\n",
              "        dataTable['output_type'] = 'display_data';\n",
              "        await google.colab.output.renderOutput(dataTable, element);\n",
              "        const docLink = document.createElement('div');\n",
              "        docLink.innerHTML = docLinkHtml;\n",
              "        element.appendChild(docLink);\n",
              "      }\n",
              "    </script>\n",
              "  </div>\n",
              "\n",
              "\n",
              "<div id=\"df-4ca45372-1983-40f3-92f7-1b8d5a95eb62\">\n",
              "  <button class=\"colab-df-quickchart\" onclick=\"quickchart('df-4ca45372-1983-40f3-92f7-1b8d5a95eb62')\"\n",
              "            title=\"Suggest charts\"\n",
              "            style=\"display:none;\">\n",
              "\n",
              "<svg xmlns=\"http://www.w3.org/2000/svg\" height=\"24px\"viewBox=\"0 0 24 24\"\n",
              "     width=\"24px\">\n",
              "    <g>\n",
              "        <path d=\"M19 3H5c-1.1 0-2 .9-2 2v14c0 1.1.9 2 2 2h14c1.1 0 2-.9 2-2V5c0-1.1-.9-2-2-2zM9 17H7v-7h2v7zm4 0h-2V7h2v10zm4 0h-2v-4h2v4z\"/>\n",
              "    </g>\n",
              "</svg>\n",
              "  </button>\n",
              "\n",
              "<style>\n",
              "  .colab-df-quickchart {\n",
              "      --bg-color: #E8F0FE;\n",
              "      --fill-color: #1967D2;\n",
              "      --hover-bg-color: #E2EBFA;\n",
              "      --hover-fill-color: #174EA6;\n",
              "      --disabled-fill-color: #AAA;\n",
              "      --disabled-bg-color: #DDD;\n",
              "  }\n",
              "\n",
              "  [theme=dark] .colab-df-quickchart {\n",
              "      --bg-color: #3B4455;\n",
              "      --fill-color: #D2E3FC;\n",
              "      --hover-bg-color: #434B5C;\n",
              "      --hover-fill-color: #FFFFFF;\n",
              "      --disabled-bg-color: #3B4455;\n",
              "      --disabled-fill-color: #666;\n",
              "  }\n",
              "\n",
              "  .colab-df-quickchart {\n",
              "    background-color: var(--bg-color);\n",
              "    border: none;\n",
              "    border-radius: 50%;\n",
              "    cursor: pointer;\n",
              "    display: none;\n",
              "    fill: var(--fill-color);\n",
              "    height: 32px;\n",
              "    padding: 0;\n",
              "    width: 32px;\n",
              "  }\n",
              "\n",
              "  .colab-df-quickchart:hover {\n",
              "    background-color: var(--hover-bg-color);\n",
              "    box-shadow: 0 1px 2px rgba(60, 64, 67, 0.3), 0 1px 3px 1px rgba(60, 64, 67, 0.15);\n",
              "    fill: var(--button-hover-fill-color);\n",
              "  }\n",
              "\n",
              "  .colab-df-quickchart-complete:disabled,\n",
              "  .colab-df-quickchart-complete:disabled:hover {\n",
              "    background-color: var(--disabled-bg-color);\n",
              "    fill: var(--disabled-fill-color);\n",
              "    box-shadow: none;\n",
              "  }\n",
              "\n",
              "  .colab-df-spinner {\n",
              "    border: 2px solid var(--fill-color);\n",
              "    border-color: transparent;\n",
              "    border-bottom-color: var(--fill-color);\n",
              "    animation:\n",
              "      spin 1s steps(1) infinite;\n",
              "  }\n",
              "\n",
              "  @keyframes spin {\n",
              "    0% {\n",
              "      border-color: transparent;\n",
              "      border-bottom-color: var(--fill-color);\n",
              "      border-left-color: var(--fill-color);\n",
              "    }\n",
              "    20% {\n",
              "      border-color: transparent;\n",
              "      border-left-color: var(--fill-color);\n",
              "      border-top-color: var(--fill-color);\n",
              "    }\n",
              "    30% {\n",
              "      border-color: transparent;\n",
              "      border-left-color: var(--fill-color);\n",
              "      border-top-color: var(--fill-color);\n",
              "      border-right-color: var(--fill-color);\n",
              "    }\n",
              "    40% {\n",
              "      border-color: transparent;\n",
              "      border-right-color: var(--fill-color);\n",
              "      border-top-color: var(--fill-color);\n",
              "    }\n",
              "    60% {\n",
              "      border-color: transparent;\n",
              "      border-right-color: var(--fill-color);\n",
              "    }\n",
              "    80% {\n",
              "      border-color: transparent;\n",
              "      border-right-color: var(--fill-color);\n",
              "      border-bottom-color: var(--fill-color);\n",
              "    }\n",
              "    90% {\n",
              "      border-color: transparent;\n",
              "      border-bottom-color: var(--fill-color);\n",
              "    }\n",
              "  }\n",
              "</style>\n",
              "\n",
              "  <script>\n",
              "    async function quickchart(key) {\n",
              "      const quickchartButtonEl =\n",
              "        document.querySelector('#' + key + ' button');\n",
              "      quickchartButtonEl.disabled = true;  // To prevent multiple clicks.\n",
              "      quickchartButtonEl.classList.add('colab-df-spinner');\n",
              "      try {\n",
              "        const charts = await google.colab.kernel.invokeFunction(\n",
              "            'suggestCharts', [key], {});\n",
              "      } catch (error) {\n",
              "        console.error('Error during call to suggestCharts:', error);\n",
              "      }\n",
              "      quickchartButtonEl.classList.remove('colab-df-spinner');\n",
              "      quickchartButtonEl.classList.add('colab-df-quickchart-complete');\n",
              "    }\n",
              "    (() => {\n",
              "      let quickchartButtonEl =\n",
              "        document.querySelector('#df-4ca45372-1983-40f3-92f7-1b8d5a95eb62 button');\n",
              "      quickchartButtonEl.style.display =\n",
              "        google.colab.kernel.accessAllowed ? 'block' : 'none';\n",
              "    })();\n",
              "  </script>\n",
              "</div>\n",
              "    </div>\n",
              "  </div>\n"
            ],
            "application/vnd.google.colaboratory.intrinsic+json": {
              "type": "dataframe",
              "variable_name": "X_train",
              "summary": "{\n  \"name\": \"X_train\",\n  \"rows\": 24387,\n  \"fields\": [\n    {\n      \"column\": \"\\u2116 \\u0431\\u0440\\u043e\\u043d\\u0438\",\n      \"properties\": {\n        \"dtype\": \"string\",\n        \"num_unique_values\": 24387,\n        \"samples\": [\n          \"20220719-6634-150379500\",\n          \"20231222-7492-235903637\",\n          \"20240131-6634-241257808\"\n        ],\n        \"semantic_type\": \"\",\n        \"description\": \"\"\n      }\n    },\n    {\n      \"column\": \"\\u041d\\u043e\\u043c\\u0435\\u0440\\u043e\\u0432\",\n      \"properties\": {\n        \"dtype\": \"number\",\n        \"std\": 0,\n        \"min\": 1,\n        \"max\": 6,\n        \"num_unique_values\": 6,\n        \"samples\": [\n          1,\n          2,\n          6\n        ],\n        \"semantic_type\": \"\",\n        \"description\": \"\"\n      }\n    },\n    {\n      \"column\": \"\\u0421\\u0442\\u043e\\u0438\\u043c\\u043e\\u0441\\u0442\\u044c\",\n      \"properties\": {\n        \"dtype\": \"number\",\n        \"std\": 38551.482519015,\n        \"min\": 1.0,\n        \"max\": 986400.0,\n        \"num_unique_values\": 3466,\n        \"samples\": [\n          100600.0,\n          166500.0,\n          46470.0\n        ],\n        \"semantic_type\": \"\",\n        \"description\": \"\"\n      }\n    },\n    {\n      \"column\": \"\\u0412\\u043d\\u0435\\u0441\\u0435\\u043d\\u0430 \\u043f\\u0440\\u0435\\u0434\\u043e\\u043f\\u043b\\u0430\\u0442\\u0430\",\n      \"properties\": {\n        \"dtype\": \"number\",\n        \"std\": 28249,\n        \"min\": 0,\n        \"max\": 584500,\n        \"num_unique_values\": 2633,\n        \"samples\": [\n          20615,\n          29460,\n          27260\n        ],\n        \"semantic_type\": \"\",\n        \"description\": \"\"\n      }\n    },\n    {\n      \"column\": \"\\u0421\\u043f\\u043e\\u0441\\u043e\\u0431 \\u043e\\u043f\\u043b\\u0430\\u0442\\u044b\",\n      \"properties\": {\n        \"dtype\": \"category\",\n        \"num_unique_values\": 14,\n        \"samples\": [\n          \"\\u0411\\u0430\\u043d\\u043a. \\u043a\\u0430\\u0440\\u0442\\u0430: \\u042d\\u043a\\u0432\\u0430\\u0439\\u0440\\u0438\\u043d\\u0433 ComfortBooking (\\u0411\\u0430\\u043d\\u043a. \\u043a\\u0430\\u0440\\u0442\\u0430)\",\n          \"\\u0411\\u0430\\u043d\\u043a. \\u043a\\u0430\\u0440\\u0442\\u0430 (SberPay): \\u042d\\u043a\\u0432\\u0430\\u0439\\u0440\\u0438\\u043d\\u0433 ComfortBooking (\\u0411\\u0430\\u043d\\u043a. \\u043a\\u0430\\u0440\\u0442\\u0430) (SberPay)\",\n          \"\\u0412\\u043d\\u0435\\u0448\\u043d\\u044f\\u044f \\u0441\\u0438\\u0441\\u0442\\u0435\\u043c\\u0430 \\u043e\\u043f\\u043b\\u0430\\u0442\\u044b\"\n        ],\n        \"semantic_type\": \"\",\n        \"description\": \"\"\n      }\n    },\n    {\n      \"column\": \"\\u0414\\u0430\\u0442\\u0430 \\u0431\\u0440\\u043e\\u043d\\u0438\\u0440\\u043e\\u0432\\u0430\\u043d\\u0438\\u044f\",\n      \"properties\": {\n        \"dtype\": \"date\",\n        \"min\": \"2022-01-01 03:42:03\",\n        \"max\": \"2023-12-31 20:53:36\",\n        \"num_unique_values\": 24373,\n        \"samples\": [\n          \"2022-04-13 21:52:01\",\n          \"2023-03-08 18:27:55\",\n          \"2023-02-25 11:13:08\"\n        ],\n        \"semantic_type\": \"\",\n        \"description\": \"\"\n      }\n    },\n    {\n      \"column\": \"\\u0417\\u0430\\u0435\\u0437\\u0434\",\n      \"properties\": {\n        \"dtype\": \"date\",\n        \"min\": \"2022-01-01 15:00:00\",\n        \"max\": \"2024-08-17 15:00:00\",\n        \"num_unique_values\": 833,\n        \"samples\": [\n          \"2023-02-03 15:00:00\",\n          \"2022-01-07 16:00:00\",\n          \"2022-06-01 15:00:00\"\n        ],\n        \"semantic_type\": \"\",\n        \"description\": \"\"\n      }\n    },\n    {\n      \"column\": \"\\u041d\\u043e\\u0447\\u0435\\u0439\",\n      \"properties\": {\n        \"dtype\": \"number\",\n        \"std\": 1,\n        \"min\": 1,\n        \"max\": 26,\n        \"num_unique_values\": 20,\n        \"samples\": [\n          3,\n          18,\n          15\n        ],\n        \"semantic_type\": \"\",\n        \"description\": \"\"\n      }\n    },\n    {\n      \"column\": \"\\u0412\\u044b\\u0435\\u0437\\u0434\",\n      \"properties\": {\n        \"dtype\": \"date\",\n        \"min\": \"2022-01-02 12:00:00\",\n        \"max\": \"2024-08-19 12:00:00\",\n        \"num_unique_values\": 826,\n        \"samples\": [\n          \"2022-11-24 12:00:00\",\n          \"2023-08-05 12:00:00\",\n          \"2022-09-12 12:00:00\"\n        ],\n        \"semantic_type\": \"\",\n        \"description\": \"\"\n      }\n    },\n    {\n      \"column\": \"\\u0418\\u0441\\u0442\\u043e\\u0447\\u043d\\u0438\\u043a\",\n      \"properties\": {\n        \"dtype\": \"category\",\n        \"num_unique_values\": 27,\n        \"samples\": [\n          \"\\u0411\\u0440\\u043e\\u043d\\u0438\\u0440\\u043e\\u0432\\u0430\\u043d\\u0438\\u0435 \\u0438\\u0437 \\u044d\\u043a\\u0441\\u0442\\u0440\\u0430\\u043d\\u0435\\u0442\\u0430\",\n          \"Alean.ru (13.10.2023-02.06.2025)\",\n          \"Cuva\"\n        ],\n        \"semantic_type\": \"\",\n        \"description\": \"\"\n      }\n    },\n    {\n      \"column\": \"\\u041a\\u0430\\u0442\\u0435\\u0433\\u043e\\u0440\\u0438\\u044f \\u043d\\u043e\\u043c\\u0435\\u0440\\u0430\",\n      \"properties\": {\n        \"dtype\": \"category\",\n        \"num_unique_values\": 26,\n        \"samples\": [\n          \"1. \\u041d\\u043e\\u043c\\u0435\\u0440 \\u00ab\\u0421\\u0442\\u0430\\u043d\\u0434\\u0430\\u0440\\u0442\\u00bb\\n2. \\u041d\\u043e\\u043c\\u0435\\u0440 \\u00ab\\u0421\\u0442\\u0430\\u043d\\u0434\\u0430\\u0440\\u0442\\u00bb\",\n          \"1. \\u041a\\u043e\\u0442\\u0442\\u0435\\u0434\\u0436 \\u0441 3 \\u0441\\u043f\\u0430\\u043b\\u044c\\u043d\\u044f\\u043c\\u0438\\n2. \\u041d\\u043e\\u043c\\u0435\\u0440 \\u00ab\\u0421\\u0442\\u0430\\u043d\\u0434\\u0430\\u0440\\u0442\\u00bb\\n3. \\u041a\\u043e\\u0442\\u0442\\u0435\\u0434\\u0436 \\u0441 3 \\u0441\\u043f\\u0430\\u043b\\u044c\\u043d\\u044f\\u043c\\u0438\",\n          \"\\u041d\\u043e\\u043c\\u0435\\u0440 \\u00ab\\u0421\\u0442\\u0430\\u043d\\u0434\\u0430\\u0440\\u0442\\u00bb\"\n        ],\n        \"semantic_type\": \"\",\n        \"description\": \"\"\n      }\n    },\n    {\n      \"column\": \"\\u0413\\u043e\\u0441\\u0442\\u0435\\u0439\",\n      \"properties\": {\n        \"dtype\": \"number\",\n        \"std\": 1,\n        \"min\": 1,\n        \"max\": 16,\n        \"num_unique_values\": 15,\n        \"samples\": [\n          9,\n          13,\n          2\n        ],\n        \"semantic_type\": \"\",\n        \"description\": \"\"\n      }\n    },\n    {\n      \"column\": \"\\u0413\\u043e\\u0441\\u0442\\u0438\\u043d\\u0438\\u0446\\u0430\",\n      \"properties\": {\n        \"dtype\": \"number\",\n        \"std\": 0,\n        \"min\": 1,\n        \"max\": 4,\n        \"num_unique_values\": 4,\n        \"samples\": [\n          4,\n          2,\n          1\n        ],\n        \"semantic_type\": \"\",\n        \"description\": \"\"\n      }\n    }\n  ]\n}"
            }
          },
          "metadata": {},
          "execution_count": 269
        }
      ]
    },
    {
      "cell_type": "code",
      "source": [
        "X_train = X_train.iloc[:,1:]\n",
        "X_test = X_test.iloc[:,1:]"
      ],
      "metadata": {
        "id": "KU-cu5mxEivL"
      },
      "id": "KU-cu5mxEivL",
      "execution_count": 270,
      "outputs": []
    },
    {
      "cell_type": "code",
      "source": [],
      "metadata": {
        "id": "z4tOJ1sxGr6s"
      },
      "id": "z4tOJ1sxGr6s",
      "execution_count": 270,
      "outputs": []
    },
    {
      "cell_type": "code",
      "source": [
        "\n",
        "\n",
        "\n",
        "\n",
        "\n",
        "\n"
      ],
      "metadata": {
        "id": "jSh_HUlmIP9Q"
      },
      "id": "jSh_HUlmIP9Q",
      "execution_count": 270,
      "outputs": []
    },
    {
      "cell_type": "markdown",
      "source": [
        "Разбираюсь с датами (пока так, не знаю что еще придумать)"
      ],
      "metadata": {
        "id": "M-LAIUG_JsTG"
      },
      "id": "M-LAIUG_JsTG"
    },
    {
      "cell_type": "code",
      "source": [
        "X_train['Дата бронирования'] = pd.to_datetime(X_train['Дата бронирования'])\n",
        "X_train['Заезд'] = pd.to_datetime(X_train['Заезд'])\n",
        "X_train['Выезд'] = pd.to_datetime(X_train['Выезд'])\n",
        "\n",
        "X_test['Дата бронирования'] = pd.to_datetime(X_test['Дата бронирования'])\n",
        "X_test['Заезд'] = pd.to_datetime(X_test['Заезд'])\n",
        "X_test['Выезд'] = pd.to_datetime(X_test['Выезд'])\n",
        "\n",
        "def time_of_day(dt):\n",
        "    if dt.hour < 6:\n",
        "        return 'Ночь'\n",
        "    elif dt.hour < 12:\n",
        "        return 'Утро'\n",
        "    elif dt.hour < 18:\n",
        "        return 'День'\n",
        "    else:\n",
        "        return 'Вечер'\n",
        "\n",
        "def month(dt):\n",
        "    return str(dt.month)\n",
        "\n",
        "X_train['Время дня (Бронирование)'] = X_train['Дата бронирования'].apply(time_of_day)\n",
        "X_train['День недели (Бронирование)'] = X_train['Дата бронирования'].dt.day_name()\n",
        "X_train['Время дня (Заезд)'] = X_train['Заезд'].apply(time_of_day)\n",
        "X_train['День недели (Заезд)'] = X_train['Заезд'].dt.day_name()\n",
        "X_train['Месяц (Заезд)'] = X_train['Заезд'].apply(month)\n",
        "X_train['Количество дней до заезда'] = (X_train['Заезд'] - X_train['Дата бронирования']).dt.days\n",
        "X_train.drop(columns=['Дата бронирования', 'Заезд', 'Выезд'], inplace=True)\n",
        "\n",
        "X_test['Время дня (Бронирование)'] = X_test['Дата бронирования'].apply(time_of_day)\n",
        "X_test['День недели (Бронирование)'] = X_test['Дата бронирования'].dt.day_name()\n",
        "X_test['Время дня (Заезд)'] = X_test['Заезд'].apply(time_of_day)\n",
        "X_test['День недели (Заезд)'] = X_test['Заезд'].dt.day_name()\n",
        "X_test['Месяц (Заезд)'] = X_test['Заезд'].apply(month)\n",
        "X_test['Количество дней до заезда'] = (X_test['Заезд'] - X_test['Дата бронирования']).dt.days\n",
        "X_test.drop(columns=['Дата бронирования', 'Заезд', 'Выезд'], inplace=True)"
      ],
      "metadata": {
        "id": "6Uipj4gFJ0WY"
      },
      "id": "6Uipj4gFJ0WY",
      "execution_count": 271,
      "outputs": []
    },
    {
      "cell_type": "code",
      "source": [
        "X_test.head()"
      ],
      "metadata": {
        "colab": {
          "base_uri": "https://localhost:8080/",
          "height": 521
        },
        "id": "tmofwRdCLQ6h",
        "outputId": "d7a49f74-b9b4-4b30-a77b-cf2b894062b5"
      },
      "id": "tmofwRdCLQ6h",
      "execution_count": 272,
      "outputs": [
        {
          "output_type": "execute_result",
          "data": {
            "text/plain": [
              "   Номеров  Стоимость  Внесена предоплата  \\\n",
              "0        1    23750.0               23750   \n",
              "1        1    15010.0                7505   \n",
              "2        1     8400.0                8400   \n",
              "3        1    42500.0               42500   \n",
              "4        1    62500.0               11900   \n",
              "\n",
              "                                       Способ оплаты  Ночей          Источник  \\\n",
              "0             Банк. карта: Банк Россия (банк. карта)      2  Официальный сайт   \n",
              "1             Банк. карта: Банк Россия (банк. карта)      2  Официальный сайт   \n",
              "2  Отложенная электронная оплата: Банк Россия (ба...      1  Официальный сайт   \n",
              "3             Банк. карта: Банк Россия (банк. карта)      3  Официальный сайт   \n",
              "4  Система быстрых платежей: Эквайринг ComfortBoo...      5  Официальный сайт   \n",
              "\n",
              "                               Категория номера  Гостей  Гостиница  \\\n",
              "0                                Номер «Студия»       3          4   \n",
              "1                              Номер «Стандарт»       2          3   \n",
              "2                              Номер «Стандарт»       2          1   \n",
              "3  Апартаменты с 2 спальнями с отдельным входом       4          1   \n",
              "4                              Номер «Стандарт»       1          1   \n",
              "\n",
              "  Время дня (Бронирование) День недели (Бронирование) Время дня (Заезд)  \\\n",
              "0                     Утро                    Tuesday              День   \n",
              "1                    Вечер                     Monday              День   \n",
              "2                    Вечер                     Friday              День   \n",
              "3                     День                    Tuesday              День   \n",
              "4                     Утро                   Thursday              День   \n",
              "\n",
              "  День недели (Заезд) Месяц (Заезд)  Количество дней до заезда  \n",
              "0           Wednesday            11                          1  \n",
              "1              Monday            12                          6  \n",
              "2              Sunday            12                         15  \n",
              "3              Monday             8                         33  \n",
              "4              Sunday             3                          3  "
            ],
            "text/html": [
              "\n",
              "  <div id=\"df-1cd199ac-44d4-4645-9daf-f71e3eb2819f\" class=\"colab-df-container\">\n",
              "    <div>\n",
              "<style scoped>\n",
              "    .dataframe tbody tr th:only-of-type {\n",
              "        vertical-align: middle;\n",
              "    }\n",
              "\n",
              "    .dataframe tbody tr th {\n",
              "        vertical-align: top;\n",
              "    }\n",
              "\n",
              "    .dataframe thead th {\n",
              "        text-align: right;\n",
              "    }\n",
              "</style>\n",
              "<table border=\"1\" class=\"dataframe\">\n",
              "  <thead>\n",
              "    <tr style=\"text-align: right;\">\n",
              "      <th></th>\n",
              "      <th>Номеров</th>\n",
              "      <th>Стоимость</th>\n",
              "      <th>Внесена предоплата</th>\n",
              "      <th>Способ оплаты</th>\n",
              "      <th>Ночей</th>\n",
              "      <th>Источник</th>\n",
              "      <th>Категория номера</th>\n",
              "      <th>Гостей</th>\n",
              "      <th>Гостиница</th>\n",
              "      <th>Время дня (Бронирование)</th>\n",
              "      <th>День недели (Бронирование)</th>\n",
              "      <th>Время дня (Заезд)</th>\n",
              "      <th>День недели (Заезд)</th>\n",
              "      <th>Месяц (Заезд)</th>\n",
              "      <th>Количество дней до заезда</th>\n",
              "    </tr>\n",
              "  </thead>\n",
              "  <tbody>\n",
              "    <tr>\n",
              "      <th>0</th>\n",
              "      <td>1</td>\n",
              "      <td>23750.0</td>\n",
              "      <td>23750</td>\n",
              "      <td>Банк. карта: Банк Россия (банк. карта)</td>\n",
              "      <td>2</td>\n",
              "      <td>Официальный сайт</td>\n",
              "      <td>Номер «Студия»</td>\n",
              "      <td>3</td>\n",
              "      <td>4</td>\n",
              "      <td>Утро</td>\n",
              "      <td>Tuesday</td>\n",
              "      <td>День</td>\n",
              "      <td>Wednesday</td>\n",
              "      <td>11</td>\n",
              "      <td>1</td>\n",
              "    </tr>\n",
              "    <tr>\n",
              "      <th>1</th>\n",
              "      <td>1</td>\n",
              "      <td>15010.0</td>\n",
              "      <td>7505</td>\n",
              "      <td>Банк. карта: Банк Россия (банк. карта)</td>\n",
              "      <td>2</td>\n",
              "      <td>Официальный сайт</td>\n",
              "      <td>Номер «Стандарт»</td>\n",
              "      <td>2</td>\n",
              "      <td>3</td>\n",
              "      <td>Вечер</td>\n",
              "      <td>Monday</td>\n",
              "      <td>День</td>\n",
              "      <td>Monday</td>\n",
              "      <td>12</td>\n",
              "      <td>6</td>\n",
              "    </tr>\n",
              "    <tr>\n",
              "      <th>2</th>\n",
              "      <td>1</td>\n",
              "      <td>8400.0</td>\n",
              "      <td>8400</td>\n",
              "      <td>Отложенная электронная оплата: Банк Россия (ба...</td>\n",
              "      <td>1</td>\n",
              "      <td>Официальный сайт</td>\n",
              "      <td>Номер «Стандарт»</td>\n",
              "      <td>2</td>\n",
              "      <td>1</td>\n",
              "      <td>Вечер</td>\n",
              "      <td>Friday</td>\n",
              "      <td>День</td>\n",
              "      <td>Sunday</td>\n",
              "      <td>12</td>\n",
              "      <td>15</td>\n",
              "    </tr>\n",
              "    <tr>\n",
              "      <th>3</th>\n",
              "      <td>1</td>\n",
              "      <td>42500.0</td>\n",
              "      <td>42500</td>\n",
              "      <td>Банк. карта: Банк Россия (банк. карта)</td>\n",
              "      <td>3</td>\n",
              "      <td>Официальный сайт</td>\n",
              "      <td>Апартаменты с 2 спальнями с отдельным входом</td>\n",
              "      <td>4</td>\n",
              "      <td>1</td>\n",
              "      <td>День</td>\n",
              "      <td>Tuesday</td>\n",
              "      <td>День</td>\n",
              "      <td>Monday</td>\n",
              "      <td>8</td>\n",
              "      <td>33</td>\n",
              "    </tr>\n",
              "    <tr>\n",
              "      <th>4</th>\n",
              "      <td>1</td>\n",
              "      <td>62500.0</td>\n",
              "      <td>11900</td>\n",
              "      <td>Система быстрых платежей: Эквайринг ComfortBoo...</td>\n",
              "      <td>5</td>\n",
              "      <td>Официальный сайт</td>\n",
              "      <td>Номер «Стандарт»</td>\n",
              "      <td>1</td>\n",
              "      <td>1</td>\n",
              "      <td>Утро</td>\n",
              "      <td>Thursday</td>\n",
              "      <td>День</td>\n",
              "      <td>Sunday</td>\n",
              "      <td>3</td>\n",
              "      <td>3</td>\n",
              "    </tr>\n",
              "  </tbody>\n",
              "</table>\n",
              "</div>\n",
              "    <div class=\"colab-df-buttons\">\n",
              "\n",
              "  <div class=\"colab-df-container\">\n",
              "    <button class=\"colab-df-convert\" onclick=\"convertToInteractive('df-1cd199ac-44d4-4645-9daf-f71e3eb2819f')\"\n",
              "            title=\"Convert this dataframe to an interactive table.\"\n",
              "            style=\"display:none;\">\n",
              "\n",
              "  <svg xmlns=\"http://www.w3.org/2000/svg\" height=\"24px\" viewBox=\"0 -960 960 960\">\n",
              "    <path d=\"M120-120v-720h720v720H120Zm60-500h600v-160H180v160Zm220 220h160v-160H400v160Zm0 220h160v-160H400v160ZM180-400h160v-160H180v160Zm440 0h160v-160H620v160ZM180-180h160v-160H180v160Zm440 0h160v-160H620v160Z\"/>\n",
              "  </svg>\n",
              "    </button>\n",
              "\n",
              "  <style>\n",
              "    .colab-df-container {\n",
              "      display:flex;\n",
              "      gap: 12px;\n",
              "    }\n",
              "\n",
              "    .colab-df-convert {\n",
              "      background-color: #E8F0FE;\n",
              "      border: none;\n",
              "      border-radius: 50%;\n",
              "      cursor: pointer;\n",
              "      display: none;\n",
              "      fill: #1967D2;\n",
              "      height: 32px;\n",
              "      padding: 0 0 0 0;\n",
              "      width: 32px;\n",
              "    }\n",
              "\n",
              "    .colab-df-convert:hover {\n",
              "      background-color: #E2EBFA;\n",
              "      box-shadow: 0px 1px 2px rgba(60, 64, 67, 0.3), 0px 1px 3px 1px rgba(60, 64, 67, 0.15);\n",
              "      fill: #174EA6;\n",
              "    }\n",
              "\n",
              "    .colab-df-buttons div {\n",
              "      margin-bottom: 4px;\n",
              "    }\n",
              "\n",
              "    [theme=dark] .colab-df-convert {\n",
              "      background-color: #3B4455;\n",
              "      fill: #D2E3FC;\n",
              "    }\n",
              "\n",
              "    [theme=dark] .colab-df-convert:hover {\n",
              "      background-color: #434B5C;\n",
              "      box-shadow: 0px 1px 3px 1px rgba(0, 0, 0, 0.15);\n",
              "      filter: drop-shadow(0px 1px 2px rgba(0, 0, 0, 0.3));\n",
              "      fill: #FFFFFF;\n",
              "    }\n",
              "  </style>\n",
              "\n",
              "    <script>\n",
              "      const buttonEl =\n",
              "        document.querySelector('#df-1cd199ac-44d4-4645-9daf-f71e3eb2819f button.colab-df-convert');\n",
              "      buttonEl.style.display =\n",
              "        google.colab.kernel.accessAllowed ? 'block' : 'none';\n",
              "\n",
              "      async function convertToInteractive(key) {\n",
              "        const element = document.querySelector('#df-1cd199ac-44d4-4645-9daf-f71e3eb2819f');\n",
              "        const dataTable =\n",
              "          await google.colab.kernel.invokeFunction('convertToInteractive',\n",
              "                                                    [key], {});\n",
              "        if (!dataTable) return;\n",
              "\n",
              "        const docLinkHtml = 'Like what you see? Visit the ' +\n",
              "          '<a target=\"_blank\" href=https://colab.research.google.com/notebooks/data_table.ipynb>data table notebook</a>'\n",
              "          + ' to learn more about interactive tables.';\n",
              "        element.innerHTML = '';\n",
              "        dataTable['output_type'] = 'display_data';\n",
              "        await google.colab.output.renderOutput(dataTable, element);\n",
              "        const docLink = document.createElement('div');\n",
              "        docLink.innerHTML = docLinkHtml;\n",
              "        element.appendChild(docLink);\n",
              "      }\n",
              "    </script>\n",
              "  </div>\n",
              "\n",
              "\n",
              "<div id=\"df-d86a666d-f27f-4933-9db6-115e9e361e7e\">\n",
              "  <button class=\"colab-df-quickchart\" onclick=\"quickchart('df-d86a666d-f27f-4933-9db6-115e9e361e7e')\"\n",
              "            title=\"Suggest charts\"\n",
              "            style=\"display:none;\">\n",
              "\n",
              "<svg xmlns=\"http://www.w3.org/2000/svg\" height=\"24px\"viewBox=\"0 0 24 24\"\n",
              "     width=\"24px\">\n",
              "    <g>\n",
              "        <path d=\"M19 3H5c-1.1 0-2 .9-2 2v14c0 1.1.9 2 2 2h14c1.1 0 2-.9 2-2V5c0-1.1-.9-2-2-2zM9 17H7v-7h2v7zm4 0h-2V7h2v10zm4 0h-2v-4h2v4z\"/>\n",
              "    </g>\n",
              "</svg>\n",
              "  </button>\n",
              "\n",
              "<style>\n",
              "  .colab-df-quickchart {\n",
              "      --bg-color: #E8F0FE;\n",
              "      --fill-color: #1967D2;\n",
              "      --hover-bg-color: #E2EBFA;\n",
              "      --hover-fill-color: #174EA6;\n",
              "      --disabled-fill-color: #AAA;\n",
              "      --disabled-bg-color: #DDD;\n",
              "  }\n",
              "\n",
              "  [theme=dark] .colab-df-quickchart {\n",
              "      --bg-color: #3B4455;\n",
              "      --fill-color: #D2E3FC;\n",
              "      --hover-bg-color: #434B5C;\n",
              "      --hover-fill-color: #FFFFFF;\n",
              "      --disabled-bg-color: #3B4455;\n",
              "      --disabled-fill-color: #666;\n",
              "  }\n",
              "\n",
              "  .colab-df-quickchart {\n",
              "    background-color: var(--bg-color);\n",
              "    border: none;\n",
              "    border-radius: 50%;\n",
              "    cursor: pointer;\n",
              "    display: none;\n",
              "    fill: var(--fill-color);\n",
              "    height: 32px;\n",
              "    padding: 0;\n",
              "    width: 32px;\n",
              "  }\n",
              "\n",
              "  .colab-df-quickchart:hover {\n",
              "    background-color: var(--hover-bg-color);\n",
              "    box-shadow: 0 1px 2px rgba(60, 64, 67, 0.3), 0 1px 3px 1px rgba(60, 64, 67, 0.15);\n",
              "    fill: var(--button-hover-fill-color);\n",
              "  }\n",
              "\n",
              "  .colab-df-quickchart-complete:disabled,\n",
              "  .colab-df-quickchart-complete:disabled:hover {\n",
              "    background-color: var(--disabled-bg-color);\n",
              "    fill: var(--disabled-fill-color);\n",
              "    box-shadow: none;\n",
              "  }\n",
              "\n",
              "  .colab-df-spinner {\n",
              "    border: 2px solid var(--fill-color);\n",
              "    border-color: transparent;\n",
              "    border-bottom-color: var(--fill-color);\n",
              "    animation:\n",
              "      spin 1s steps(1) infinite;\n",
              "  }\n",
              "\n",
              "  @keyframes spin {\n",
              "    0% {\n",
              "      border-color: transparent;\n",
              "      border-bottom-color: var(--fill-color);\n",
              "      border-left-color: var(--fill-color);\n",
              "    }\n",
              "    20% {\n",
              "      border-color: transparent;\n",
              "      border-left-color: var(--fill-color);\n",
              "      border-top-color: var(--fill-color);\n",
              "    }\n",
              "    30% {\n",
              "      border-color: transparent;\n",
              "      border-left-color: var(--fill-color);\n",
              "      border-top-color: var(--fill-color);\n",
              "      border-right-color: var(--fill-color);\n",
              "    }\n",
              "    40% {\n",
              "      border-color: transparent;\n",
              "      border-right-color: var(--fill-color);\n",
              "      border-top-color: var(--fill-color);\n",
              "    }\n",
              "    60% {\n",
              "      border-color: transparent;\n",
              "      border-right-color: var(--fill-color);\n",
              "    }\n",
              "    80% {\n",
              "      border-color: transparent;\n",
              "      border-right-color: var(--fill-color);\n",
              "      border-bottom-color: var(--fill-color);\n",
              "    }\n",
              "    90% {\n",
              "      border-color: transparent;\n",
              "      border-bottom-color: var(--fill-color);\n",
              "    }\n",
              "  }\n",
              "</style>\n",
              "\n",
              "  <script>\n",
              "    async function quickchart(key) {\n",
              "      const quickchartButtonEl =\n",
              "        document.querySelector('#' + key + ' button');\n",
              "      quickchartButtonEl.disabled = true;  // To prevent multiple clicks.\n",
              "      quickchartButtonEl.classList.add('colab-df-spinner');\n",
              "      try {\n",
              "        const charts = await google.colab.kernel.invokeFunction(\n",
              "            'suggestCharts', [key], {});\n",
              "      } catch (error) {\n",
              "        console.error('Error during call to suggestCharts:', error);\n",
              "      }\n",
              "      quickchartButtonEl.classList.remove('colab-df-spinner');\n",
              "      quickchartButtonEl.classList.add('colab-df-quickchart-complete');\n",
              "    }\n",
              "    (() => {\n",
              "      let quickchartButtonEl =\n",
              "        document.querySelector('#df-d86a666d-f27f-4933-9db6-115e9e361e7e button');\n",
              "      quickchartButtonEl.style.display =\n",
              "        google.colab.kernel.accessAllowed ? 'block' : 'none';\n",
              "    })();\n",
              "  </script>\n",
              "</div>\n",
              "    </div>\n",
              "  </div>\n"
            ],
            "application/vnd.google.colaboratory.intrinsic+json": {
              "type": "dataframe",
              "variable_name": "X_test",
              "summary": "{\n  \"name\": \"X_test\",\n  \"rows\": 11218,\n  \"fields\": [\n    {\n      \"column\": \"\\u041d\\u043e\\u043c\\u0435\\u0440\\u043e\\u0432\",\n      \"properties\": {\n        \"dtype\": \"number\",\n        \"std\": 0,\n        \"min\": 1,\n        \"max\": 9,\n        \"num_unique_values\": 6,\n        \"samples\": [\n          1,\n          2,\n          9\n        ],\n        \"semantic_type\": \"\",\n        \"description\": \"\"\n      }\n    },\n    {\n      \"column\": \"\\u0421\\u0442\\u043e\\u0438\\u043c\\u043e\\u0441\\u0442\\u044c\",\n      \"properties\": {\n        \"dtype\": \"number\",\n        \"std\": 36476.736156067214,\n        \"min\": 3500.0,\n        \"max\": 706230.0,\n        \"num_unique_values\": 2340,\n        \"samples\": [\n          106000.0,\n          17055.0,\n          132900.0\n        ],\n        \"semantic_type\": \"\",\n        \"description\": \"\"\n      }\n    },\n    {\n      \"column\": \"\\u0412\\u043d\\u0435\\u0441\\u0435\\u043d\\u0430 \\u043f\\u0440\\u0435\\u0434\\u043e\\u043f\\u043b\\u0430\\u0442\\u0430\",\n      \"properties\": {\n        \"dtype\": \"number\",\n        \"std\": 27084,\n        \"min\": 0,\n        \"max\": 567800,\n        \"num_unique_values\": 1742,\n        \"samples\": [\n          24150,\n          67760,\n          223000\n        ],\n        \"semantic_type\": \"\",\n        \"description\": \"\"\n      }\n    },\n    {\n      \"column\": \"\\u0421\\u043f\\u043e\\u0441\\u043e\\u0431 \\u043e\\u043f\\u043b\\u0430\\u0442\\u044b\",\n      \"properties\": {\n        \"dtype\": \"category\",\n        \"num_unique_values\": 14,\n        \"samples\": [\n          \"\\u0412\\u043d\\u0435\\u0448\\u043d\\u044f\\u044f \\u0441\\u0438\\u0441\\u0442\\u0435\\u043c\\u0430 \\u043e\\u043f\\u043b\\u0430\\u0442\\u044b (\\u041e\\u043f\\u043b\\u0430\\u0442\\u0430 \\u043d\\u0430\\u043b\\u0438\\u0447\\u043d\\u044b\\u043c\\u0438)\",\n          \"\\u0412\\u043d\\u0435\\u0448\\u043d\\u044f\\u044f \\u0441\\u0438\\u0441\\u0442\\u0435\\u043c\\u0430 \\u043e\\u043f\\u043b\\u0430\\u0442\\u044b (\\u0411\\u0430\\u043d\\u043a\\u043e\\u0432\\u0441\\u043a\\u0430\\u044f \\u043a\\u0430\\u0440\\u0442\\u0430)\",\n          \"\\u0411\\u0430\\u043d\\u043a. \\u043a\\u0430\\u0440\\u0442\\u0430: \\u0411\\u0430\\u043d\\u043a \\u0420\\u043e\\u0441\\u0441\\u0438\\u044f (\\u0431\\u0430\\u043d\\u043a. \\u043a\\u0430\\u0440\\u0442\\u0430)\"\n        ],\n        \"semantic_type\": \"\",\n        \"description\": \"\"\n      }\n    },\n    {\n      \"column\": \"\\u041d\\u043e\\u0447\\u0435\\u0439\",\n      \"properties\": {\n        \"dtype\": \"number\",\n        \"std\": 1,\n        \"min\": 1,\n        \"max\": 20,\n        \"num_unique_values\": 17,\n        \"samples\": [\n          2,\n          1,\n          8\n        ],\n        \"semantic_type\": \"\",\n        \"description\": \"\"\n      }\n    },\n    {\n      \"column\": \"\\u0418\\u0441\\u0442\\u043e\\u0447\\u043d\\u0438\\u043a\",\n      \"properties\": {\n        \"dtype\": \"category\",\n        \"num_unique_values\": 23,\n        \"samples\": [\n          \"Alean.ru (03.02.2022-31.01.2023)\",\n          \"Bronevik.com/Bro.Online\",\n          \"\\u041e\\u0444\\u0438\\u0446\\u0438\\u0430\\u043b\\u044c\\u043d\\u044b\\u0439 \\u0441\\u0430\\u0439\\u0442\"\n        ],\n        \"semantic_type\": \"\",\n        \"description\": \"\"\n      }\n    },\n    {\n      \"column\": \"\\u041a\\u0430\\u0442\\u0435\\u0433\\u043e\\u0440\\u0438\\u044f \\u043d\\u043e\\u043c\\u0435\\u0440\\u0430\",\n      \"properties\": {\n        \"dtype\": \"category\",\n        \"num_unique_values\": 26,\n        \"samples\": [\n          \"\\u041d\\u043e\\u043c\\u0435\\u0440 \\u00ab\\u0421\\u0442\\u0430\\u043d\\u0434\\u0430\\u0440\\u0442\\u00bb \\u0434\\u043b\\u044f \\u043c\\u0430\\u043b\\u043e\\u043c\\u043e\\u0431\\u0438\\u043b\\u044c\\u043d\\u044b\\u0445 \\u0433\\u0440\\u0443\\u043f\\u043f \\u043d\\u0430\\u0441\\u0435\\u043b\\u0435\\u043d\\u0438\\u044f\",\n          \"1. \\u041d\\u043e\\u043c\\u0435\\u0440 \\u00ab\\u041b\\u044e\\u043a\\u0441\\u00bb\\n2. \\u041d\\u043e\\u043c\\u0435\\u0440 \\u00ab\\u041b\\u044e\\u043a\\u0441\\u00bb\",\n          \"\\u041d\\u043e\\u043c\\u0435\\u0440 \\u00ab\\u0421\\u0442\\u0443\\u0434\\u0438\\u044f\\u00bb\"\n        ],\n        \"semantic_type\": \"\",\n        \"description\": \"\"\n      }\n    },\n    {\n      \"column\": \"\\u0413\\u043e\\u0441\\u0442\\u0435\\u0439\",\n      \"properties\": {\n        \"dtype\": \"number\",\n        \"std\": 1,\n        \"min\": 1,\n        \"max\": 18,\n        \"num_unique_values\": 16,\n        \"samples\": [\n          3,\n          2,\n          7\n        ],\n        \"semantic_type\": \"\",\n        \"description\": \"\"\n      }\n    },\n    {\n      \"column\": \"\\u0413\\u043e\\u0441\\u0442\\u0438\\u043d\\u0438\\u0446\\u0430\",\n      \"properties\": {\n        \"dtype\": \"number\",\n        \"std\": 0,\n        \"min\": 1,\n        \"max\": 4,\n        \"num_unique_values\": 4,\n        \"samples\": [\n          3,\n          2,\n          4\n        ],\n        \"semantic_type\": \"\",\n        \"description\": \"\"\n      }\n    },\n    {\n      \"column\": \"\\u0412\\u0440\\u0435\\u043c\\u044f \\u0434\\u043d\\u044f (\\u0411\\u0440\\u043e\\u043d\\u0438\\u0440\\u043e\\u0432\\u0430\\u043d\\u0438\\u0435)\",\n      \"properties\": {\n        \"dtype\": \"category\",\n        \"num_unique_values\": 4,\n        \"samples\": [\n          \"\\u0412\\u0435\\u0447\\u0435\\u0440\",\n          \"\\u041d\\u043e\\u0447\\u044c\",\n          \"\\u0423\\u0442\\u0440\\u043e\"\n        ],\n        \"semantic_type\": \"\",\n        \"description\": \"\"\n      }\n    },\n    {\n      \"column\": \"\\u0414\\u0435\\u043d\\u044c \\u043d\\u0435\\u0434\\u0435\\u043b\\u0438 (\\u0411\\u0440\\u043e\\u043d\\u0438\\u0440\\u043e\\u0432\\u0430\\u043d\\u0438\\u0435)\",\n      \"properties\": {\n        \"dtype\": \"category\",\n        \"num_unique_values\": 7,\n        \"samples\": [\n          \"Tuesday\",\n          \"Monday\",\n          \"Sunday\"\n        ],\n        \"semantic_type\": \"\",\n        \"description\": \"\"\n      }\n    },\n    {\n      \"column\": \"\\u0412\\u0440\\u0435\\u043c\\u044f \\u0434\\u043d\\u044f (\\u0417\\u0430\\u0435\\u0437\\u0434)\",\n      \"properties\": {\n        \"dtype\": \"category\",\n        \"num_unique_values\": 2,\n        \"samples\": [\n          \"\\u0423\\u0442\\u0440\\u043e\",\n          \"\\u0414\\u0435\\u043d\\u044c\"\n        ],\n        \"semantic_type\": \"\",\n        \"description\": \"\"\n      }\n    },\n    {\n      \"column\": \"\\u0414\\u0435\\u043d\\u044c \\u043d\\u0435\\u0434\\u0435\\u043b\\u0438 (\\u0417\\u0430\\u0435\\u0437\\u0434)\",\n      \"properties\": {\n        \"dtype\": \"category\",\n        \"num_unique_values\": 7,\n        \"samples\": [\n          \"Wednesday\",\n          \"Monday\"\n        ],\n        \"semantic_type\": \"\",\n        \"description\": \"\"\n      }\n    },\n    {\n      \"column\": \"\\u041c\\u0435\\u0441\\u044f\\u0446 (\\u0417\\u0430\\u0435\\u0437\\u0434)\",\n      \"properties\": {\n        \"dtype\": \"category\",\n        \"num_unique_values\": 12,\n        \"samples\": [\n          \"4\",\n          \"2\"\n        ],\n        \"semantic_type\": \"\",\n        \"description\": \"\"\n      }\n    },\n    {\n      \"column\": \"\\u041a\\u043e\\u043b\\u0438\\u0447\\u0435\\u0441\\u0442\\u0432\\u043e \\u0434\\u043d\\u0435\\u0439 \\u0434\\u043e \\u0437\\u0430\\u0435\\u0437\\u0434\\u0430\",\n      \"properties\": {\n        \"dtype\": \"number\",\n        \"std\": 32,\n        \"min\": -1,\n        \"max\": 307,\n        \"num_unique_values\": 193,\n        \"samples\": [\n          26,\n          103\n        ],\n        \"semantic_type\": \"\",\n        \"description\": \"\"\n      }\n    }\n  ]\n}"
            }
          },
          "metadata": {},
          "execution_count": 272
        }
      ]
    },
    {
      "cell_type": "code",
      "source": [
        "\n",
        "\n",
        "\n",
        "\n",
        "\n"
      ],
      "metadata": {
        "id": "bKobOsGqLdB6"
      },
      "id": "bKobOsGqLdB6",
      "execution_count": 272,
      "outputs": []
    },
    {
      "cell_type": "code",
      "source": [],
      "metadata": {
        "id": "Tg9SZqzULvEn"
      },
      "id": "Tg9SZqzULvEn",
      "execution_count": 272,
      "outputs": []
    },
    {
      "cell_type": "markdown",
      "source": [
        "# Baseline\n",
        "\n",
        "*   One Hot Encoding\n",
        "*   Logistic regression\n",
        "\n",
        "\n"
      ],
      "metadata": {
        "id": "O8KMrpEJLyCh"
      },
      "id": "O8KMrpEJLyCh"
    },
    {
      "cell_type": "code",
      "source": [
        "categorical_cols = X_train.select_dtypes(include=['object', 'category']).columns\n",
        "\n",
        "X_train_baseline = pd.get_dummies(X_train, columns=categorical_cols)"
      ],
      "metadata": {
        "id": "YFnzZITzL1Bi"
      },
      "id": "YFnzZITzL1Bi",
      "execution_count": 273,
      "outputs": []
    },
    {
      "cell_type": "code",
      "source": [
        "X_train_baseline.shape"
      ],
      "metadata": {
        "colab": {
          "base_uri": "https://localhost:8080/"
        },
        "id": "cejoMb3XMt5Z",
        "outputId": "2e9fdd55-c6d9-48da-ff35-39bc44c4b1bb"
      },
      "id": "cejoMb3XMt5Z",
      "execution_count": 274,
      "outputs": [
        {
          "output_type": "execute_result",
          "data": {
            "text/plain": [
              "(24387, 106)"
            ]
          },
          "metadata": {},
          "execution_count": 274
        }
      ]
    },
    {
      "cell_type": "code",
      "source": [
        "from sklearn.linear_model import LogisticRegression\n",
        "from sklearn.ensemble import RandomForestClassifier, GradientBoostingClassifier\n",
        "from sklearn.metrics import roc_auc_score, accuracy_score, balanced_accuracy_score"
      ],
      "metadata": {
        "id": "-JdPdYVBMwhs"
      },
      "id": "-JdPdYVBMwhs",
      "execution_count": 275,
      "outputs": []
    },
    {
      "cell_type": "code",
      "source": [
        "X_train_baseline, X_valid_baseline, y_train_baseline, y_valid_baseline = X_train_baseline[:19000], X_train_baseline[19000:], y_train[:19000], y_train[19000:]"
      ],
      "metadata": {
        "id": "GUaEWxBBO762"
      },
      "id": "GUaEWxBBO762",
      "execution_count": 276,
      "outputs": []
    },
    {
      "cell_type": "code",
      "source": [
        "lr0 = LogisticRegression().fit(X_train_baseline, y_train_baseline)\n",
        "print(\"Accuracy on Valid: \", accuracy_score(y_valid_baseline, lr0.predict(X_valid_baseline)))\n",
        "print(\"Balanced accuracy on Valid: \", balanced_accuracy_score(y_valid_baseline, lr0.predict(X_valid_baseline)))\n",
        "print(\"ROC-AUC on Valid: \", roc_auc_score(y_valid_baseline, lr0.predict(X_valid_baseline)), \"жесть\")"
      ],
      "metadata": {
        "colab": {
          "base_uri": "https://localhost:8080/"
        },
        "id": "jI4XN3nxM72h",
        "outputId": "40ff42fc-ea29-4df4-e5ca-b6039a4ad8a1"
      },
      "id": "jI4XN3nxM72h",
      "execution_count": 277,
      "outputs": [
        {
          "output_type": "stream",
          "name": "stdout",
          "text": [
            "Accuracy on Valid:  0.8600334137739001\n",
            "Balanced accuracy on Valid:  0.5161828455089272\n",
            "ROC-AUC on Valid:  0.5161828455089272 жесть\n"
          ]
        }
      ]
    },
    {
      "cell_type": "code",
      "source": [
        "rfc0 = RandomForestClassifier().fit(X_train_baseline, y_train_baseline)\n",
        "print(\"Accuracy on Valid: \", accuracy_score(y_valid_baseline, rfc0.predict(X_valid_baseline)))\n",
        "print(\"Balanced accuracy on Valid: \", balanced_accuracy_score(y_valid_baseline, rfc0.predict(X_valid_baseline)))\n",
        "print(\"ROC-AUC on Valid: \", roc_auc_score(y_valid_baseline, rfc0.predict(X_valid_baseline)))"
      ],
      "metadata": {
        "colab": {
          "base_uri": "https://localhost:8080/"
        },
        "id": "NQDa2H68Nehs",
        "outputId": "49379fd2-6546-4f73-f51d-c98a7e082170"
      },
      "id": "NQDa2H68Nehs",
      "execution_count": 278,
      "outputs": [
        {
          "output_type": "stream",
          "name": "stdout",
          "text": [
            "Accuracy on Valid:  0.8934471876740301\n",
            "Balanced accuracy on Valid:  0.6348338365988402\n",
            "ROC-AUC on Valid:  0.6348338365988402\n"
          ]
        }
      ]
    },
    {
      "cell_type": "code",
      "source": [
        "gbc0 = GradientBoostingClassifier().fit(X_train_baseline, y_train_baseline)\n",
        "print(\"Accuracy on Valid: \", accuracy_score(y_valid_baseline, gbc0.predict(X_valid_baseline)))\n",
        "print(\"Balanced accuracy on Valid: \", balanced_accuracy_score(y_valid_baseline, gbc0.predict(X_valid_baseline)))\n",
        "print(\"ROC-AUC on Valid: \", roc_auc_score(y_valid_baseline, gbc0.predict(X_valid_baseline)))"
      ],
      "metadata": {
        "colab": {
          "base_uri": "https://localhost:8080/"
        },
        "id": "q0XK_0nhOc_7",
        "outputId": "2c1c60b2-a1e9-42b4-e25d-a76694182e93"
      },
      "id": "q0XK_0nhOc_7",
      "execution_count": 279,
      "outputs": [
        {
          "output_type": "stream",
          "name": "stdout",
          "text": [
            "Accuracy on Valid:  0.8927046593651383\n",
            "Balanced accuracy on Valid:  0.6294132953596633\n",
            "ROC-AUC on Valid:  0.6294132953596633\n"
          ]
        }
      ]
    },
    {
      "cell_type": "code",
      "source": [
        "\n",
        "\n",
        "\n",
        "\n",
        "\n",
        "\n"
      ],
      "metadata": {
        "id": "OiMu9cBFQKUK"
      },
      "id": "OiMu9cBFQKUK",
      "execution_count": 279,
      "outputs": []
    },
    {
      "cell_type": "markdown",
      "source": [
        "### Идеи:\n",
        "  * что-то с датами сделать еще\n",
        "  * разобраться с Категорией номера (там бывают много номеров через \\n)\n",
        "  * подумать зачем в разделе Гостиница один и тот же регион называют двумя разными цифрами (посмотреть распределения целевой переменной)\n",
        "  * посмотреть не выкинул ли я чего-то лишнего"
      ],
      "metadata": {
        "id": "jeSi8o42QbGw"
      },
      "id": "jeSi8o42QbGw"
    },
    {
      "cell_type": "code",
      "source": [
        "\n",
        "\n",
        "\n"
      ],
      "metadata": {
        "id": "EbVQvOYVOLlA"
      },
      "id": "EbVQvOYVOLlA",
      "execution_count": 279,
      "outputs": []
    },
    {
      "cell_type": "code",
      "source": [],
      "metadata": {
        "id": "WBO-oBuWaHH5"
      },
      "id": "WBO-oBuWaHH5",
      "execution_count": 279,
      "outputs": []
    },
    {
      "cell_type": "markdown",
      "source": [
        "### Исправление проблемы с количеством дней до заезда"
      ],
      "metadata": {
        "id": "UgNJ7jTxaN77"
      },
      "id": "UgNJ7jTxaN77"
    },
    {
      "cell_type": "code",
      "source": [
        "X_train[\"Количество дней до заезда\"] = X_train[\"Количество дней до заезда\"].apply(lambda x: 0 if x < 0 else x)\n",
        "X_train[\"Количество дней до заезда\"].min()"
      ],
      "metadata": {
        "colab": {
          "base_uri": "https://localhost:8080/"
        },
        "id": "IJEEVYlsaG4R",
        "outputId": "20fa3eba-999d-4c73-b345-94a91aabe90b"
      },
      "id": "IJEEVYlsaG4R",
      "execution_count": 280,
      "outputs": [
        {
          "output_type": "execute_result",
          "data": {
            "text/plain": [
              "0"
            ]
          },
          "metadata": {},
          "execution_count": 280
        }
      ]
    },
    {
      "cell_type": "code",
      "source": [
        "X_test[\"Количество дней до заезда\"] = X_test[\"Количество дней до заезда\"].apply(lambda x: 0 if x < 0 else x)\n",
        "X_test[\"Количество дней до заезда\"].min()"
      ],
      "metadata": {
        "colab": {
          "base_uri": "https://localhost:8080/"
        },
        "id": "iRIIb68gn3zH",
        "outputId": "9040b8a6-32a1-4058-c2f4-510916001539"
      },
      "id": "iRIIb68gn3zH",
      "execution_count": 281,
      "outputs": [
        {
          "output_type": "execute_result",
          "data": {
            "text/plain": [
              "0"
            ]
          },
          "metadata": {},
          "execution_count": 281
        }
      ]
    },
    {
      "cell_type": "code",
      "source": [
        "X_train.head()"
      ],
      "metadata": {
        "colab": {
          "base_uri": "https://localhost:8080/",
          "height": 504
        },
        "id": "spW25HKfOMKb",
        "outputId": "5c7990e5-f7b1-4f2d-d8a4-f9af0adc4e64"
      },
      "id": "spW25HKfOMKb",
      "execution_count": 282,
      "outputs": [
        {
          "output_type": "execute_result",
          "data": {
            "text/plain": [
              "   Номеров  Стоимость  Внесена предоплата  \\\n",
              "0        1    25700.0                   0   \n",
              "1        1    24800.0               12400   \n",
              "2        1    25800.0               12900   \n",
              "3        1    10500.0                   0   \n",
              "4        1    28690.0               28690   \n",
              "\n",
              "                                       Способ оплаты  Ночей  \\\n",
              "0                             Внешняя система оплаты      3   \n",
              "1  Отложенная электронная оплата: Банк Россия (ба...      2   \n",
              "2             Банк. карта: Банк Россия (банк. карта)      2   \n",
              "3             Внешняя система оплаты (С предоплатой)      1   \n",
              "4  Система быстрых платежей: Эквайринг ComfortBoo...      2   \n",
              "\n",
              "             Источник  Категория номера  Гостей  Гостиница  \\\n",
              "0  Яндекс.Путешествия  Номер «Стандарт»       2          1   \n",
              "1    Официальный сайт  Номер «Стандарт»       2          1   \n",
              "2    Официальный сайт    Номер «Студия»       2          4   \n",
              "3   Bronevik.com(new)  Номер «Стандарт»       1          3   \n",
              "4    Официальный сайт      Номер «Люкс»       4          1   \n",
              "\n",
              "  Время дня (Бронирование) День недели (Бронирование) Время дня (Заезд)  \\\n",
              "0                    Вечер                   Thursday              День   \n",
              "1                     День                   Saturday              День   \n",
              "2                    Вечер                     Monday              День   \n",
              "3                     День                     Friday              День   \n",
              "4                    Вечер                   Saturday              День   \n",
              "\n",
              "  День недели (Заезд) Месяц (Заезд)  Количество дней до заезда  \n",
              "0              Friday             4                          7  \n",
              "1              Monday             7                         23  \n",
              "2              Sunday            12                         19  \n",
              "3              Monday             9                          9  \n",
              "4              Monday             5                          8  "
            ],
            "text/html": [
              "\n",
              "  <div id=\"df-846dc83d-bb7c-4550-9aea-d840d1edca20\" class=\"colab-df-container\">\n",
              "    <div>\n",
              "<style scoped>\n",
              "    .dataframe tbody tr th:only-of-type {\n",
              "        vertical-align: middle;\n",
              "    }\n",
              "\n",
              "    .dataframe tbody tr th {\n",
              "        vertical-align: top;\n",
              "    }\n",
              "\n",
              "    .dataframe thead th {\n",
              "        text-align: right;\n",
              "    }\n",
              "</style>\n",
              "<table border=\"1\" class=\"dataframe\">\n",
              "  <thead>\n",
              "    <tr style=\"text-align: right;\">\n",
              "      <th></th>\n",
              "      <th>Номеров</th>\n",
              "      <th>Стоимость</th>\n",
              "      <th>Внесена предоплата</th>\n",
              "      <th>Способ оплаты</th>\n",
              "      <th>Ночей</th>\n",
              "      <th>Источник</th>\n",
              "      <th>Категория номера</th>\n",
              "      <th>Гостей</th>\n",
              "      <th>Гостиница</th>\n",
              "      <th>Время дня (Бронирование)</th>\n",
              "      <th>День недели (Бронирование)</th>\n",
              "      <th>Время дня (Заезд)</th>\n",
              "      <th>День недели (Заезд)</th>\n",
              "      <th>Месяц (Заезд)</th>\n",
              "      <th>Количество дней до заезда</th>\n",
              "    </tr>\n",
              "  </thead>\n",
              "  <tbody>\n",
              "    <tr>\n",
              "      <th>0</th>\n",
              "      <td>1</td>\n",
              "      <td>25700.0</td>\n",
              "      <td>0</td>\n",
              "      <td>Внешняя система оплаты</td>\n",
              "      <td>3</td>\n",
              "      <td>Яндекс.Путешествия</td>\n",
              "      <td>Номер «Стандарт»</td>\n",
              "      <td>2</td>\n",
              "      <td>1</td>\n",
              "      <td>Вечер</td>\n",
              "      <td>Thursday</td>\n",
              "      <td>День</td>\n",
              "      <td>Friday</td>\n",
              "      <td>4</td>\n",
              "      <td>7</td>\n",
              "    </tr>\n",
              "    <tr>\n",
              "      <th>1</th>\n",
              "      <td>1</td>\n",
              "      <td>24800.0</td>\n",
              "      <td>12400</td>\n",
              "      <td>Отложенная электронная оплата: Банк Россия (ба...</td>\n",
              "      <td>2</td>\n",
              "      <td>Официальный сайт</td>\n",
              "      <td>Номер «Стандарт»</td>\n",
              "      <td>2</td>\n",
              "      <td>1</td>\n",
              "      <td>День</td>\n",
              "      <td>Saturday</td>\n",
              "      <td>День</td>\n",
              "      <td>Monday</td>\n",
              "      <td>7</td>\n",
              "      <td>23</td>\n",
              "    </tr>\n",
              "    <tr>\n",
              "      <th>2</th>\n",
              "      <td>1</td>\n",
              "      <td>25800.0</td>\n",
              "      <td>12900</td>\n",
              "      <td>Банк. карта: Банк Россия (банк. карта)</td>\n",
              "      <td>2</td>\n",
              "      <td>Официальный сайт</td>\n",
              "      <td>Номер «Студия»</td>\n",
              "      <td>2</td>\n",
              "      <td>4</td>\n",
              "      <td>Вечер</td>\n",
              "      <td>Monday</td>\n",
              "      <td>День</td>\n",
              "      <td>Sunday</td>\n",
              "      <td>12</td>\n",
              "      <td>19</td>\n",
              "    </tr>\n",
              "    <tr>\n",
              "      <th>3</th>\n",
              "      <td>1</td>\n",
              "      <td>10500.0</td>\n",
              "      <td>0</td>\n",
              "      <td>Внешняя система оплаты (С предоплатой)</td>\n",
              "      <td>1</td>\n",
              "      <td>Bronevik.com(new)</td>\n",
              "      <td>Номер «Стандарт»</td>\n",
              "      <td>1</td>\n",
              "      <td>3</td>\n",
              "      <td>День</td>\n",
              "      <td>Friday</td>\n",
              "      <td>День</td>\n",
              "      <td>Monday</td>\n",
              "      <td>9</td>\n",
              "      <td>9</td>\n",
              "    </tr>\n",
              "    <tr>\n",
              "      <th>4</th>\n",
              "      <td>1</td>\n",
              "      <td>28690.0</td>\n",
              "      <td>28690</td>\n",
              "      <td>Система быстрых платежей: Эквайринг ComfortBoo...</td>\n",
              "      <td>2</td>\n",
              "      <td>Официальный сайт</td>\n",
              "      <td>Номер «Люкс»</td>\n",
              "      <td>4</td>\n",
              "      <td>1</td>\n",
              "      <td>Вечер</td>\n",
              "      <td>Saturday</td>\n",
              "      <td>День</td>\n",
              "      <td>Monday</td>\n",
              "      <td>5</td>\n",
              "      <td>8</td>\n",
              "    </tr>\n",
              "  </tbody>\n",
              "</table>\n",
              "</div>\n",
              "    <div class=\"colab-df-buttons\">\n",
              "\n",
              "  <div class=\"colab-df-container\">\n",
              "    <button class=\"colab-df-convert\" onclick=\"convertToInteractive('df-846dc83d-bb7c-4550-9aea-d840d1edca20')\"\n",
              "            title=\"Convert this dataframe to an interactive table.\"\n",
              "            style=\"display:none;\">\n",
              "\n",
              "  <svg xmlns=\"http://www.w3.org/2000/svg\" height=\"24px\" viewBox=\"0 -960 960 960\">\n",
              "    <path d=\"M120-120v-720h720v720H120Zm60-500h600v-160H180v160Zm220 220h160v-160H400v160Zm0 220h160v-160H400v160ZM180-400h160v-160H180v160Zm440 0h160v-160H620v160ZM180-180h160v-160H180v160Zm440 0h160v-160H620v160Z\"/>\n",
              "  </svg>\n",
              "    </button>\n",
              "\n",
              "  <style>\n",
              "    .colab-df-container {\n",
              "      display:flex;\n",
              "      gap: 12px;\n",
              "    }\n",
              "\n",
              "    .colab-df-convert {\n",
              "      background-color: #E8F0FE;\n",
              "      border: none;\n",
              "      border-radius: 50%;\n",
              "      cursor: pointer;\n",
              "      display: none;\n",
              "      fill: #1967D2;\n",
              "      height: 32px;\n",
              "      padding: 0 0 0 0;\n",
              "      width: 32px;\n",
              "    }\n",
              "\n",
              "    .colab-df-convert:hover {\n",
              "      background-color: #E2EBFA;\n",
              "      box-shadow: 0px 1px 2px rgba(60, 64, 67, 0.3), 0px 1px 3px 1px rgba(60, 64, 67, 0.15);\n",
              "      fill: #174EA6;\n",
              "    }\n",
              "\n",
              "    .colab-df-buttons div {\n",
              "      margin-bottom: 4px;\n",
              "    }\n",
              "\n",
              "    [theme=dark] .colab-df-convert {\n",
              "      background-color: #3B4455;\n",
              "      fill: #D2E3FC;\n",
              "    }\n",
              "\n",
              "    [theme=dark] .colab-df-convert:hover {\n",
              "      background-color: #434B5C;\n",
              "      box-shadow: 0px 1px 3px 1px rgba(0, 0, 0, 0.15);\n",
              "      filter: drop-shadow(0px 1px 2px rgba(0, 0, 0, 0.3));\n",
              "      fill: #FFFFFF;\n",
              "    }\n",
              "  </style>\n",
              "\n",
              "    <script>\n",
              "      const buttonEl =\n",
              "        document.querySelector('#df-846dc83d-bb7c-4550-9aea-d840d1edca20 button.colab-df-convert');\n",
              "      buttonEl.style.display =\n",
              "        google.colab.kernel.accessAllowed ? 'block' : 'none';\n",
              "\n",
              "      async function convertToInteractive(key) {\n",
              "        const element = document.querySelector('#df-846dc83d-bb7c-4550-9aea-d840d1edca20');\n",
              "        const dataTable =\n",
              "          await google.colab.kernel.invokeFunction('convertToInteractive',\n",
              "                                                    [key], {});\n",
              "        if (!dataTable) return;\n",
              "\n",
              "        const docLinkHtml = 'Like what you see? Visit the ' +\n",
              "          '<a target=\"_blank\" href=https://colab.research.google.com/notebooks/data_table.ipynb>data table notebook</a>'\n",
              "          + ' to learn more about interactive tables.';\n",
              "        element.innerHTML = '';\n",
              "        dataTable['output_type'] = 'display_data';\n",
              "        await google.colab.output.renderOutput(dataTable, element);\n",
              "        const docLink = document.createElement('div');\n",
              "        docLink.innerHTML = docLinkHtml;\n",
              "        element.appendChild(docLink);\n",
              "      }\n",
              "    </script>\n",
              "  </div>\n",
              "\n",
              "\n",
              "<div id=\"df-0484aafd-cead-440f-bc8c-4beee4553cf1\">\n",
              "  <button class=\"colab-df-quickchart\" onclick=\"quickchart('df-0484aafd-cead-440f-bc8c-4beee4553cf1')\"\n",
              "            title=\"Suggest charts\"\n",
              "            style=\"display:none;\">\n",
              "\n",
              "<svg xmlns=\"http://www.w3.org/2000/svg\" height=\"24px\"viewBox=\"0 0 24 24\"\n",
              "     width=\"24px\">\n",
              "    <g>\n",
              "        <path d=\"M19 3H5c-1.1 0-2 .9-2 2v14c0 1.1.9 2 2 2h14c1.1 0 2-.9 2-2V5c0-1.1-.9-2-2-2zM9 17H7v-7h2v7zm4 0h-2V7h2v10zm4 0h-2v-4h2v4z\"/>\n",
              "    </g>\n",
              "</svg>\n",
              "  </button>\n",
              "\n",
              "<style>\n",
              "  .colab-df-quickchart {\n",
              "      --bg-color: #E8F0FE;\n",
              "      --fill-color: #1967D2;\n",
              "      --hover-bg-color: #E2EBFA;\n",
              "      --hover-fill-color: #174EA6;\n",
              "      --disabled-fill-color: #AAA;\n",
              "      --disabled-bg-color: #DDD;\n",
              "  }\n",
              "\n",
              "  [theme=dark] .colab-df-quickchart {\n",
              "      --bg-color: #3B4455;\n",
              "      --fill-color: #D2E3FC;\n",
              "      --hover-bg-color: #434B5C;\n",
              "      --hover-fill-color: #FFFFFF;\n",
              "      --disabled-bg-color: #3B4455;\n",
              "      --disabled-fill-color: #666;\n",
              "  }\n",
              "\n",
              "  .colab-df-quickchart {\n",
              "    background-color: var(--bg-color);\n",
              "    border: none;\n",
              "    border-radius: 50%;\n",
              "    cursor: pointer;\n",
              "    display: none;\n",
              "    fill: var(--fill-color);\n",
              "    height: 32px;\n",
              "    padding: 0;\n",
              "    width: 32px;\n",
              "  }\n",
              "\n",
              "  .colab-df-quickchart:hover {\n",
              "    background-color: var(--hover-bg-color);\n",
              "    box-shadow: 0 1px 2px rgba(60, 64, 67, 0.3), 0 1px 3px 1px rgba(60, 64, 67, 0.15);\n",
              "    fill: var(--button-hover-fill-color);\n",
              "  }\n",
              "\n",
              "  .colab-df-quickchart-complete:disabled,\n",
              "  .colab-df-quickchart-complete:disabled:hover {\n",
              "    background-color: var(--disabled-bg-color);\n",
              "    fill: var(--disabled-fill-color);\n",
              "    box-shadow: none;\n",
              "  }\n",
              "\n",
              "  .colab-df-spinner {\n",
              "    border: 2px solid var(--fill-color);\n",
              "    border-color: transparent;\n",
              "    border-bottom-color: var(--fill-color);\n",
              "    animation:\n",
              "      spin 1s steps(1) infinite;\n",
              "  }\n",
              "\n",
              "  @keyframes spin {\n",
              "    0% {\n",
              "      border-color: transparent;\n",
              "      border-bottom-color: var(--fill-color);\n",
              "      border-left-color: var(--fill-color);\n",
              "    }\n",
              "    20% {\n",
              "      border-color: transparent;\n",
              "      border-left-color: var(--fill-color);\n",
              "      border-top-color: var(--fill-color);\n",
              "    }\n",
              "    30% {\n",
              "      border-color: transparent;\n",
              "      border-left-color: var(--fill-color);\n",
              "      border-top-color: var(--fill-color);\n",
              "      border-right-color: var(--fill-color);\n",
              "    }\n",
              "    40% {\n",
              "      border-color: transparent;\n",
              "      border-right-color: var(--fill-color);\n",
              "      border-top-color: var(--fill-color);\n",
              "    }\n",
              "    60% {\n",
              "      border-color: transparent;\n",
              "      border-right-color: var(--fill-color);\n",
              "    }\n",
              "    80% {\n",
              "      border-color: transparent;\n",
              "      border-right-color: var(--fill-color);\n",
              "      border-bottom-color: var(--fill-color);\n",
              "    }\n",
              "    90% {\n",
              "      border-color: transparent;\n",
              "      border-bottom-color: var(--fill-color);\n",
              "    }\n",
              "  }\n",
              "</style>\n",
              "\n",
              "  <script>\n",
              "    async function quickchart(key) {\n",
              "      const quickchartButtonEl =\n",
              "        document.querySelector('#' + key + ' button');\n",
              "      quickchartButtonEl.disabled = true;  // To prevent multiple clicks.\n",
              "      quickchartButtonEl.classList.add('colab-df-spinner');\n",
              "      try {\n",
              "        const charts = await google.colab.kernel.invokeFunction(\n",
              "            'suggestCharts', [key], {});\n",
              "      } catch (error) {\n",
              "        console.error('Error during call to suggestCharts:', error);\n",
              "      }\n",
              "      quickchartButtonEl.classList.remove('colab-df-spinner');\n",
              "      quickchartButtonEl.classList.add('colab-df-quickchart-complete');\n",
              "    }\n",
              "    (() => {\n",
              "      let quickchartButtonEl =\n",
              "        document.querySelector('#df-0484aafd-cead-440f-bc8c-4beee4553cf1 button');\n",
              "      quickchartButtonEl.style.display =\n",
              "        google.colab.kernel.accessAllowed ? 'block' : 'none';\n",
              "    })();\n",
              "  </script>\n",
              "</div>\n",
              "    </div>\n",
              "  </div>\n"
            ],
            "application/vnd.google.colaboratory.intrinsic+json": {
              "type": "dataframe",
              "variable_name": "X_train",
              "summary": "{\n  \"name\": \"X_train\",\n  \"rows\": 24387,\n  \"fields\": [\n    {\n      \"column\": \"\\u041d\\u043e\\u043c\\u0435\\u0440\\u043e\\u0432\",\n      \"properties\": {\n        \"dtype\": \"number\",\n        \"std\": 0,\n        \"min\": 1,\n        \"max\": 6,\n        \"num_unique_values\": 6,\n        \"samples\": [\n          1,\n          2,\n          6\n        ],\n        \"semantic_type\": \"\",\n        \"description\": \"\"\n      }\n    },\n    {\n      \"column\": \"\\u0421\\u0442\\u043e\\u0438\\u043c\\u043e\\u0441\\u0442\\u044c\",\n      \"properties\": {\n        \"dtype\": \"number\",\n        \"std\": 38551.482519015,\n        \"min\": 1.0,\n        \"max\": 986400.0,\n        \"num_unique_values\": 3466,\n        \"samples\": [\n          100600.0,\n          166500.0,\n          46470.0\n        ],\n        \"semantic_type\": \"\",\n        \"description\": \"\"\n      }\n    },\n    {\n      \"column\": \"\\u0412\\u043d\\u0435\\u0441\\u0435\\u043d\\u0430 \\u043f\\u0440\\u0435\\u0434\\u043e\\u043f\\u043b\\u0430\\u0442\\u0430\",\n      \"properties\": {\n        \"dtype\": \"number\",\n        \"std\": 28249,\n        \"min\": 0,\n        \"max\": 584500,\n        \"num_unique_values\": 2633,\n        \"samples\": [\n          20615,\n          29460,\n          27260\n        ],\n        \"semantic_type\": \"\",\n        \"description\": \"\"\n      }\n    },\n    {\n      \"column\": \"\\u0421\\u043f\\u043e\\u0441\\u043e\\u0431 \\u043e\\u043f\\u043b\\u0430\\u0442\\u044b\",\n      \"properties\": {\n        \"dtype\": \"category\",\n        \"num_unique_values\": 14,\n        \"samples\": [\n          \"\\u0411\\u0430\\u043d\\u043a. \\u043a\\u0430\\u0440\\u0442\\u0430: \\u042d\\u043a\\u0432\\u0430\\u0439\\u0440\\u0438\\u043d\\u0433 ComfortBooking (\\u0411\\u0430\\u043d\\u043a. \\u043a\\u0430\\u0440\\u0442\\u0430)\",\n          \"\\u0411\\u0430\\u043d\\u043a. \\u043a\\u0430\\u0440\\u0442\\u0430 (SberPay): \\u042d\\u043a\\u0432\\u0430\\u0439\\u0440\\u0438\\u043d\\u0433 ComfortBooking (\\u0411\\u0430\\u043d\\u043a. \\u043a\\u0430\\u0440\\u0442\\u0430) (SberPay)\",\n          \"\\u0412\\u043d\\u0435\\u0448\\u043d\\u044f\\u044f \\u0441\\u0438\\u0441\\u0442\\u0435\\u043c\\u0430 \\u043e\\u043f\\u043b\\u0430\\u0442\\u044b\"\n        ],\n        \"semantic_type\": \"\",\n        \"description\": \"\"\n      }\n    },\n    {\n      \"column\": \"\\u041d\\u043e\\u0447\\u0435\\u0439\",\n      \"properties\": {\n        \"dtype\": \"number\",\n        \"std\": 1,\n        \"min\": 1,\n        \"max\": 26,\n        \"num_unique_values\": 20,\n        \"samples\": [\n          3,\n          18,\n          15\n        ],\n        \"semantic_type\": \"\",\n        \"description\": \"\"\n      }\n    },\n    {\n      \"column\": \"\\u0418\\u0441\\u0442\\u043e\\u0447\\u043d\\u0438\\u043a\",\n      \"properties\": {\n        \"dtype\": \"category\",\n        \"num_unique_values\": 27,\n        \"samples\": [\n          \"\\u0411\\u0440\\u043e\\u043d\\u0438\\u0440\\u043e\\u0432\\u0430\\u043d\\u0438\\u0435 \\u0438\\u0437 \\u044d\\u043a\\u0441\\u0442\\u0440\\u0430\\u043d\\u0435\\u0442\\u0430\",\n          \"Alean.ru (13.10.2023-02.06.2025)\",\n          \"Cuva\"\n        ],\n        \"semantic_type\": \"\",\n        \"description\": \"\"\n      }\n    },\n    {\n      \"column\": \"\\u041a\\u0430\\u0442\\u0435\\u0433\\u043e\\u0440\\u0438\\u044f \\u043d\\u043e\\u043c\\u0435\\u0440\\u0430\",\n      \"properties\": {\n        \"dtype\": \"category\",\n        \"num_unique_values\": 26,\n        \"samples\": [\n          \"1. \\u041d\\u043e\\u043c\\u0435\\u0440 \\u00ab\\u0421\\u0442\\u0430\\u043d\\u0434\\u0430\\u0440\\u0442\\u00bb\\n2. \\u041d\\u043e\\u043c\\u0435\\u0440 \\u00ab\\u0421\\u0442\\u0430\\u043d\\u0434\\u0430\\u0440\\u0442\\u00bb\",\n          \"1. \\u041a\\u043e\\u0442\\u0442\\u0435\\u0434\\u0436 \\u0441 3 \\u0441\\u043f\\u0430\\u043b\\u044c\\u043d\\u044f\\u043c\\u0438\\n2. \\u041d\\u043e\\u043c\\u0435\\u0440 \\u00ab\\u0421\\u0442\\u0430\\u043d\\u0434\\u0430\\u0440\\u0442\\u00bb\\n3. \\u041a\\u043e\\u0442\\u0442\\u0435\\u0434\\u0436 \\u0441 3 \\u0441\\u043f\\u0430\\u043b\\u044c\\u043d\\u044f\\u043c\\u0438\",\n          \"\\u041d\\u043e\\u043c\\u0435\\u0440 \\u00ab\\u0421\\u0442\\u0430\\u043d\\u0434\\u0430\\u0440\\u0442\\u00bb\"\n        ],\n        \"semantic_type\": \"\",\n        \"description\": \"\"\n      }\n    },\n    {\n      \"column\": \"\\u0413\\u043e\\u0441\\u0442\\u0435\\u0439\",\n      \"properties\": {\n        \"dtype\": \"number\",\n        \"std\": 1,\n        \"min\": 1,\n        \"max\": 16,\n        \"num_unique_values\": 15,\n        \"samples\": [\n          9,\n          13,\n          2\n        ],\n        \"semantic_type\": \"\",\n        \"description\": \"\"\n      }\n    },\n    {\n      \"column\": \"\\u0413\\u043e\\u0441\\u0442\\u0438\\u043d\\u0438\\u0446\\u0430\",\n      \"properties\": {\n        \"dtype\": \"number\",\n        \"std\": 0,\n        \"min\": 1,\n        \"max\": 4,\n        \"num_unique_values\": 4,\n        \"samples\": [\n          4,\n          2,\n          1\n        ],\n        \"semantic_type\": \"\",\n        \"description\": \"\"\n      }\n    },\n    {\n      \"column\": \"\\u0412\\u0440\\u0435\\u043c\\u044f \\u0434\\u043d\\u044f (\\u0411\\u0440\\u043e\\u043d\\u0438\\u0440\\u043e\\u0432\\u0430\\u043d\\u0438\\u0435)\",\n      \"properties\": {\n        \"dtype\": \"category\",\n        \"num_unique_values\": 4,\n        \"samples\": [\n          \"\\u0414\\u0435\\u043d\\u044c\",\n          \"\\u041d\\u043e\\u0447\\u044c\",\n          \"\\u0412\\u0435\\u0447\\u0435\\u0440\"\n        ],\n        \"semantic_type\": \"\",\n        \"description\": \"\"\n      }\n    },\n    {\n      \"column\": \"\\u0414\\u0435\\u043d\\u044c \\u043d\\u0435\\u0434\\u0435\\u043b\\u0438 (\\u0411\\u0440\\u043e\\u043d\\u0438\\u0440\\u043e\\u0432\\u0430\\u043d\\u0438\\u0435)\",\n      \"properties\": {\n        \"dtype\": \"category\",\n        \"num_unique_values\": 7,\n        \"samples\": [\n          \"Thursday\",\n          \"Saturday\",\n          \"Wednesday\"\n        ],\n        \"semantic_type\": \"\",\n        \"description\": \"\"\n      }\n    },\n    {\n      \"column\": \"\\u0412\\u0440\\u0435\\u043c\\u044f \\u0434\\u043d\\u044f (\\u0417\\u0430\\u0435\\u0437\\u0434)\",\n      \"properties\": {\n        \"dtype\": \"category\",\n        \"num_unique_values\": 2,\n        \"samples\": [\n          \"\\u0423\\u0442\\u0440\\u043e\",\n          \"\\u0414\\u0435\\u043d\\u044c\"\n        ],\n        \"semantic_type\": \"\",\n        \"description\": \"\"\n      }\n    },\n    {\n      \"column\": \"\\u0414\\u0435\\u043d\\u044c \\u043d\\u0435\\u0434\\u0435\\u043b\\u0438 (\\u0417\\u0430\\u0435\\u0437\\u0434)\",\n      \"properties\": {\n        \"dtype\": \"category\",\n        \"num_unique_values\": 7,\n        \"samples\": [\n          \"Friday\",\n          \"Monday\"\n        ],\n        \"semantic_type\": \"\",\n        \"description\": \"\"\n      }\n    },\n    {\n      \"column\": \"\\u041c\\u0435\\u0441\\u044f\\u0446 (\\u0417\\u0430\\u0435\\u0437\\u0434)\",\n      \"properties\": {\n        \"dtype\": \"category\",\n        \"num_unique_values\": 12,\n        \"samples\": [\n          \"8\",\n          \"3\"\n        ],\n        \"semantic_type\": \"\",\n        \"description\": \"\"\n      }\n    },\n    {\n      \"column\": \"\\u041a\\u043e\\u043b\\u0438\\u0447\\u0435\\u0441\\u0442\\u0432\\u043e \\u0434\\u043d\\u0435\\u0439 \\u0434\\u043e \\u0437\\u0430\\u0435\\u0437\\u0434\\u0430\",\n      \"properties\": {\n        \"dtype\": \"number\",\n        \"std\": 32,\n        \"min\": 0,\n        \"max\": 284,\n        \"num_unique_values\": 212,\n        \"samples\": [\n          106,\n          165\n        ],\n        \"semantic_type\": \"\",\n        \"description\": \"\"\n      }\n    }\n  ]\n}"
            }
          },
          "metadata": {},
          "execution_count": 282
        }
      ]
    },
    {
      "cell_type": "markdown",
      "source": [
        "### Регион гостиницы\n"
      ],
      "metadata": {
        "id": "9-98SPB5Oha1"
      },
      "id": "9-98SPB5Oha1"
    },
    {
      "cell_type": "code",
      "source": [
        "import seaborn as sns\n",
        "import matplotlib.pyplot as plt\n"
      ],
      "metadata": {
        "id": "F6bmKpYbQTgt"
      },
      "id": "F6bmKpYbQTgt",
      "execution_count": 283,
      "outputs": []
    },
    {
      "cell_type": "code",
      "source": [
        "data = pd.DataFrame({'Гостиница': X_train['Гостиница'], 'y': y_train})\n",
        "\n",
        "counts = data.groupby('Гостиница')['y'].value_counts().unstack(fill_value=0)\n",
        "\n",
        "counts.plot(kind='bar', color=['blue', 'orange'])\n",
        "plt.title('Количество 1 и 0 по гостиницам')\n",
        "plt.xlabel('Гостиница')\n",
        "plt.ylabel('Количество')\n",
        "plt.xticks(rotation=0)\n",
        "plt.legend(title='y', labels=['0', '1'])\n",
        "plt.show()"
      ],
      "metadata": {
        "colab": {
          "base_uri": "https://localhost:8080/",
          "height": 472
        },
        "id": "oOEbzSi2Ofce",
        "outputId": "c4fb46fe-283b-47bf-cef8-5a774d204f1c"
      },
      "id": "oOEbzSi2Ofce",
      "execution_count": 284,
      "outputs": [
        {
          "output_type": "display_data",
          "data": {
            "text/plain": [
              "<Figure size 640x480 with 1 Axes>"
            ],
            "image/png": "[encoded data removed]"
          },
          "metadata": {}
        }
      ]
    },
    {
      "cell_type": "code",
      "source": [
        "counts[1] / counts[0] #отношение высоты столбиков для каждого региона"
      ],
      "metadata": {
        "id": "O-HRGfLrPit4",
        "colab": {
          "base_uri": "https://localhost:8080/",
          "height": 241
        },
        "outputId": "1555e1fb-9cc2-471d-cb91-e03b9be2f291"
      },
      "id": "O-HRGfLrPit4",
      "execution_count": 285,
      "outputs": [
        {
          "output_type": "execute_result",
          "data": {
            "text/plain": [
              "Гостиница\n",
              "1.0    0.167087\n",
              "2.0    0.165301\n",
              "3.0    0.152926\n",
              "4.0    0.156725\n",
              "dtype: float64"
            ],
            "text/html": [
              "<div>\n",
              "<style scoped>\n",
              "    .dataframe tbody tr th:only-of-type {\n",
              "        vertical-align: middle;\n",
              "    }\n",
              "\n",
              "    .dataframe tbody tr th {\n",
              "        vertical-align: top;\n",
              "    }\n",
              "\n",
              "    .dataframe thead th {\n",
              "        text-align: right;\n",
              "    }\n",
              "</style>\n",
              "<table border=\"1\" class=\"dataframe\">\n",
              "  <thead>\n",
              "    <tr style=\"text-align: right;\">\n",
              "      <th></th>\n",
              "      <th>0</th>\n",
              "    </tr>\n",
              "    <tr>\n",
              "      <th>Гостиница</th>\n",
              "      <th></th>\n",
              "    </tr>\n",
              "  </thead>\n",
              "  <tbody>\n",
              "    <tr>\n",
              "      <th>1.0</th>\n",
              "      <td>0.167087</td>\n",
              "    </tr>\n",
              "    <tr>\n",
              "      <th>2.0</th>\n",
              "      <td>0.165301</td>\n",
              "    </tr>\n",
              "    <tr>\n",
              "      <th>3.0</th>\n",
              "      <td>0.152926</td>\n",
              "    </tr>\n",
              "    <tr>\n",
              "      <th>4.0</th>\n",
              "      <td>0.156725</td>\n",
              "    </tr>\n",
              "  </tbody>\n",
              "</table>\n",
              "</div><br><label><b>dtype:</b> float64</label>"
            ]
          },
          "metadata": {},
          "execution_count": 285
        }
      ]
    },
    {
      "cell_type": "code",
      "source": [
        "\n",
        "\n",
        "\n",
        "\n",
        "\n"
      ],
      "metadata": {
        "id": "PVnaWb9aWB3u"
      },
      "id": "PVnaWb9aWB3u",
      "execution_count": 285,
      "outputs": []
    },
    {
      "cell_type": "markdown",
      "source": [
        "### Добавим столбец для Регионов"
      ],
      "metadata": {
        "id": "u0ScvsjjW9Ak"
      },
      "id": "u0ScvsjjW9Ak"
    },
    {
      "cell_type": "code",
      "source": [
        "X_train['Регион'] = X_train['Гостиница'].apply(lambda x: 0 if x in [1, 2] else (1 if x in [3, 4] else None))\n",
        "X_train = X_train.drop(columns='Гостиница')\n",
        "\n",
        "X_test['Регион'] = X_test['Гостиница'].apply(lambda x: 0 if x in [1, 2] else (1 if x in [3, 4] else None))\n",
        "X_test = X_test.drop(columns='Гостиница')\n",
        "\n",
        "X_train.head()"
      ],
      "metadata": {
        "colab": {
          "base_uri": "https://localhost:8080/",
          "height": 504
        },
        "id": "9HMrpN0kW1YB",
        "outputId": "ef917258-ea45-4422-b4e7-a4d9eed50b6f"
      },
      "id": "9HMrpN0kW1YB",
      "execution_count": 286,
      "outputs": [
        {
          "output_type": "execute_result",
          "data": {
            "text/plain": [
              "   Номеров  Стоимость  Внесена предоплата  \\\n",
              "0        1    25700.0                   0   \n",
              "1        1    24800.0               12400   \n",
              "2        1    25800.0               12900   \n",
              "3        1    10500.0                   0   \n",
              "4        1    28690.0               28690   \n",
              "\n",
              "                                       Способ оплаты  Ночей  \\\n",
              "0                             Внешняя система оплаты      3   \n",
              "1  Отложенная электронная оплата: Банк Россия (ба...      2   \n",
              "2             Банк. карта: Банк Россия (банк. карта)      2   \n",
              "3             Внешняя система оплаты (С предоплатой)      1   \n",
              "4  Система быстрых платежей: Эквайринг ComfortBoo...      2   \n",
              "\n",
              "             Источник  Категория номера  Гостей Время дня (Бронирование)  \\\n",
              "0  Яндекс.Путешествия  Номер «Стандарт»       2                    Вечер   \n",
              "1    Официальный сайт  Номер «Стандарт»       2                     День   \n",
              "2    Официальный сайт    Номер «Студия»       2                    Вечер   \n",
              "3   Bronevik.com(new)  Номер «Стандарт»       1                     День   \n",
              "4    Официальный сайт      Номер «Люкс»       4                    Вечер   \n",
              "\n",
              "  День недели (Бронирование) Время дня (Заезд) День недели (Заезд)  \\\n",
              "0                   Thursday              День              Friday   \n",
              "1                   Saturday              День              Monday   \n",
              "2                     Monday              День              Sunday   \n",
              "3                     Friday              День              Monday   \n",
              "4                   Saturday              День              Monday   \n",
              "\n",
              "  Месяц (Заезд)  Количество дней до заезда  Регион  \n",
              "0             4                          7       0  \n",
              "1             7                         23       0  \n",
              "2            12                         19       1  \n",
              "3             9                          9       1  \n",
              "4             5                          8       0  "
            ],
            "text/html": [
              "\n",
              "  <div id=\"df-231e70ed-8f31-4e7f-a050-34e7915296b7\" class=\"colab-df-container\">\n",
              "    <div>\n",
              "<style scoped>\n",
              "    .dataframe tbody tr th:only-of-type {\n",
              "        vertical-align: middle;\n",
              "    }\n",
              "\n",
              "    .dataframe tbody tr th {\n",
              "        vertical-align: top;\n",
              "    }\n",
              "\n",
              "    .dataframe thead th {\n",
              "        text-align: right;\n",
              "    }\n",
              "</style>\n",
              "<table border=\"1\" class=\"dataframe\">\n",
              "  <thead>\n",
              "    <tr style=\"text-align: right;\">\n",
              "      <th></th>\n",
              "      <th>Номеров</th>\n",
              "      <th>Стоимость</th>\n",
              "      <th>Внесена предоплата</th>\n",
              "      <th>Способ оплаты</th>\n",
              "      <th>Ночей</th>\n",
              "      <th>Источник</th>\n",
              "      <th>Категория номера</th>\n",
              "      <th>Гостей</th>\n",
              "      <th>Время дня (Бронирование)</th>\n",
              "      <th>День недели (Бронирование)</th>\n",
              "      <th>Время дня (Заезд)</th>\n",
              "      <th>День недели (Заезд)</th>\n",
              "      <th>Месяц (Заезд)</th>\n",
              "      <th>Количество дней до заезда</th>\n",
              "      <th>Регион</th>\n",
              "    </tr>\n",
              "  </thead>\n",
              "  <tbody>\n",
              "    <tr>\n",
              "      <th>0</th>\n",
              "      <td>1</td>\n",
              "      <td>25700.0</td>\n",
              "      <td>0</td>\n",
              "      <td>Внешняя система оплаты</td>\n",
              "      <td>3</td>\n",
              "      <td>Яндекс.Путешествия</td>\n",
              "      <td>Номер «Стандарт»</td>\n",
              "      <td>2</td>\n",
              "      <td>Вечер</td>\n",
              "      <td>Thursday</td>\n",
              "      <td>День</td>\n",
              "      <td>Friday</td>\n",
              "      <td>4</td>\n",
              "      <td>7</td>\n",
              "      <td>0</td>\n",
              "    </tr>\n",
              "    <tr>\n",
              "      <th>1</th>\n",
              "      <td>1</td>\n",
              "      <td>24800.0</td>\n",
              "      <td>12400</td>\n",
              "      <td>Отложенная электронная оплата: Банк Россия (ба...</td>\n",
              "      <td>2</td>\n",
              "      <td>Официальный сайт</td>\n",
              "      <td>Номер «Стандарт»</td>\n",
              "      <td>2</td>\n",
              "      <td>День</td>\n",
              "      <td>Saturday</td>\n",
              "      <td>День</td>\n",
              "      <td>Monday</td>\n",
              "      <td>7</td>\n",
              "      <td>23</td>\n",
              "      <td>0</td>\n",
              "    </tr>\n",
              "    <tr>\n",
              "      <th>2</th>\n",
              "      <td>1</td>\n",
              "      <td>25800.0</td>\n",
              "      <td>12900</td>\n",
              "      <td>Банк. карта: Банк Россия (банк. карта)</td>\n",
              "      <td>2</td>\n",
              "      <td>Официальный сайт</td>\n",
              "      <td>Номер «Студия»</td>\n",
              "      <td>2</td>\n",
              "      <td>Вечер</td>\n",
              "      <td>Monday</td>\n",
              "      <td>День</td>\n",
              "      <td>Sunday</td>\n",
              "      <td>12</td>\n",
              "      <td>19</td>\n",
              "      <td>1</td>\n",
              "    </tr>\n",
              "    <tr>\n",
              "      <th>3</th>\n",
              "      <td>1</td>\n",
              "      <td>10500.0</td>\n",
              "      <td>0</td>\n",
              "      <td>Внешняя система оплаты (С предоплатой)</td>\n",
              "      <td>1</td>\n",
              "      <td>Bronevik.com(new)</td>\n",
              "      <td>Номер «Стандарт»</td>\n",
              "      <td>1</td>\n",
              "      <td>День</td>\n",
              "      <td>Friday</td>\n",
              "      <td>День</td>\n",
              "      <td>Monday</td>\n",
              "      <td>9</td>\n",
              "      <td>9</td>\n",
              "      <td>1</td>\n",
              "    </tr>\n",
              "    <tr>\n",
              "      <th>4</th>\n",
              "      <td>1</td>\n",
              "      <td>28690.0</td>\n",
              "      <td>28690</td>\n",
              "      <td>Система быстрых платежей: Эквайринг ComfortBoo...</td>\n",
              "      <td>2</td>\n",
              "      <td>Официальный сайт</td>\n",
              "      <td>Номер «Люкс»</td>\n",
              "      <td>4</td>\n",
              "      <td>Вечер</td>\n",
              "      <td>Saturday</td>\n",
              "      <td>День</td>\n",
              "      <td>Monday</td>\n",
              "      <td>5</td>\n",
              "      <td>8</td>\n",
              "      <td>0</td>\n",
              "    </tr>\n",
              "  </tbody>\n",
              "</table>\n",
              "</div>\n",
              "    <div class=\"colab-df-buttons\">\n",
              "\n",
              "  <div class=\"colab-df-container\">\n",
              "    <button class=\"colab-df-convert\" onclick=\"convertToInteractive('df-231e70ed-8f31-4e7f-a050-34e7915296b7')\"\n",
              "            title=\"Convert this dataframe to an interactive table.\"\n",
              "            style=\"display:none;\">\n",
              "\n",
              "  <svg xmlns=\"http://www.w3.org/2000/svg\" height=\"24px\" viewBox=\"0 -960 960 960\">\n",
              "    <path d=\"M120-120v-720h720v720H120Zm60-500h600v-160H180v160Zm220 220h160v-160H400v160Zm0 220h160v-160H400v160ZM180-400h160v-160H180v160Zm440 0h160v-160H620v160ZM180-180h160v-160H180v160Zm440 0h160v-160H620v160Z\"/>\n",
              "  </svg>\n",
              "    </button>\n",
              "\n",
              "  <style>\n",
              "    .colab-df-container {\n",
              "      display:flex;\n",
              "      gap: 12px;\n",
              "    }\n",
              "\n",
              "    .colab-df-convert {\n",
              "      background-color: #E8F0FE;\n",
              "      border: none;\n",
              "      border-radius: 50%;\n",
              "      cursor: pointer;\n",
              "      display: none;\n",
              "      fill: #1967D2;\n",
              "      height: 32px;\n",
              "      padding: 0 0 0 0;\n",
              "      width: 32px;\n",
              "    }\n",
              "\n",
              "    .colab-df-convert:hover {\n",
              "      background-color: #E2EBFA;\n",
              "      box-shadow: 0px 1px 2px rgba(60, 64, 67, 0.3), 0px 1px 3px 1px rgba(60, 64, 67, 0.15);\n",
              "      fill: #174EA6;\n",
              "    }\n",
              "\n",
              "    .colab-df-buttons div {\n",
              "      margin-bottom: 4px;\n",
              "    }\n",
              "\n",
              "    [theme=dark] .colab-df-convert {\n",
              "      background-color: #3B4455;\n",
              "      fill: #D2E3FC;\n",
              "    }\n",
              "\n",
              "    [theme=dark] .colab-df-convert:hover {\n",
              "      background-color: #434B5C;\n",
              "      box-shadow: 0px 1px 3px 1px rgba(0, 0, 0, 0.15);\n",
              "      filter: drop-shadow(0px 1px 2px rgba(0, 0, 0, 0.3));\n",
              "      fill: #FFFFFF;\n",
              "    }\n",
              "  </style>\n",
              "\n",
              "    <script>\n",
              "      const buttonEl =\n",
              "        document.querySelector('#df-231e70ed-8f31-4e7f-a050-34e7915296b7 button.colab-df-convert');\n",
              "      buttonEl.style.display =\n",
              "        google.colab.kernel.accessAllowed ? 'block' : 'none';\n",
              "\n",
              "      async function convertToInteractive(key) {\n",
              "        const element = document.querySelector('#df-231e70ed-8f31-4e7f-a050-34e7915296b7');\n",
              "        const dataTable =\n",
              "          await google.colab.kernel.invokeFunction('convertToInteractive',\n",
              "                                                    [key], {});\n",
              "        if (!dataTable) return;\n",
              "\n",
              "        const docLinkHtml = 'Like what you see? Visit the ' +\n",
              "          '<a target=\"_blank\" href=https://colab.research.google.com/notebooks/data_table.ipynb>data table notebook</a>'\n",
              "          + ' to learn more about interactive tables.';\n",
              "        element.innerHTML = '';\n",
              "        dataTable['output_type'] = 'display_data';\n",
              "        await google.colab.output.renderOutput(dataTable, element);\n",
              "        const docLink = document.createElement('div');\n",
              "        docLink.innerHTML = docLinkHtml;\n",
              "        element.appendChild(docLink);\n",
              "      }\n",
              "    </script>\n",
              "  </div>\n",
              "\n",
              "\n",
              "<div id=\"df-a82ed5bb-2b66-493b-8f7f-2e2768a1004f\">\n",
              "  <button class=\"colab-df-quickchart\" onclick=\"quickchart('df-a82ed5bb-2b66-493b-8f7f-2e2768a1004f')\"\n",
              "            title=\"Suggest charts\"\n",
              "            style=\"display:none;\">\n",
              "\n",
              "<svg xmlns=\"http://www.w3.org/2000/svg\" height=\"24px\"viewBox=\"0 0 24 24\"\n",
              "     width=\"24px\">\n",
              "    <g>\n",
              "        <path d=\"M19 3H5c-1.1 0-2 .9-2 2v14c0 1.1.9 2 2 2h14c1.1 0 2-.9 2-2V5c0-1.1-.9-2-2-2zM9 17H7v-7h2v7zm4 0h-2V7h2v10zm4 0h-2v-4h2v4z\"/>\n",
              "    </g>\n",
              "</svg>\n",
              "  </button>\n",
              "\n",
              "<style>\n",
              "  .colab-df-quickchart {\n",
              "      --bg-color: #E8F0FE;\n",
              "      --fill-color: #1967D2;\n",
              "      --hover-bg-color: #E2EBFA;\n",
              "      --hover-fill-color: #174EA6;\n",
              "      --disabled-fill-color: #AAA;\n",
              "      --disabled-bg-color: #DDD;\n",
              "  }\n",
              "\n",
              "  [theme=dark] .colab-df-quickchart {\n",
              "      --bg-color: #3B4455;\n",
              "      --fill-color: #D2E3FC;\n",
              "      --hover-bg-color: #434B5C;\n",
              "      --hover-fill-color: #FFFFFF;\n",
              "      --disabled-bg-color: #3B4455;\n",
              "      --disabled-fill-color: #666;\n",
              "  }\n",
              "\n",
              "  .colab-df-quickchart {\n",
              "    background-color: var(--bg-color);\n",
              "    border: none;\n",
              "    border-radius: 50%;\n",
              "    cursor: pointer;\n",
              "    display: none;\n",
              "    fill: var(--fill-color);\n",
              "    height: 32px;\n",
              "    padding: 0;\n",
              "    width: 32px;\n",
              "  }\n",
              "\n",
              "  .colab-df-quickchart:hover {\n",
              "    background-color: var(--hover-bg-color);\n",
              "    box-shadow: 0 1px 2px rgba(60, 64, 67, 0.3), 0 1px 3px 1px rgba(60, 64, 67, 0.15);\n",
              "    fill: var(--button-hover-fill-color);\n",
              "  }\n",
              "\n",
              "  .colab-df-quickchart-complete:disabled,\n",
              "  .colab-df-quickchart-complete:disabled:hover {\n",
              "    background-color: var(--disabled-bg-color);\n",
              "    fill: var(--disabled-fill-color);\n",
              "    box-shadow: none;\n",
              "  }\n",
              "\n",
              "  .colab-df-spinner {\n",
              "    border: 2px solid var(--fill-color);\n",
              "    border-color: transparent;\n",
              "    border-bottom-color: var(--fill-color);\n",
              "    animation:\n",
              "      spin 1s steps(1) infinite;\n",
              "  }\n",
              "\n",
              "  @keyframes spin {\n",
              "    0% {\n",
              "      border-color: transparent;\n",
              "      border-bottom-color: var(--fill-color);\n",
              "      border-left-color: var(--fill-color);\n",
              "    }\n",
              "    20% {\n",
              "      border-color: transparent;\n",
              "      border-left-color: var(--fill-color);\n",
              "      border-top-color: var(--fill-color);\n",
              "    }\n",
              "    30% {\n",
              "      border-color: transparent;\n",
              "      border-left-color: var(--fill-color);\n",
              "      border-top-color: var(--fill-color);\n",
              "      border-right-color: var(--fill-color);\n",
              "    }\n",
              "    40% {\n",
              "      border-color: transparent;\n",
              "      border-right-color: var(--fill-color);\n",
              "      border-top-color: var(--fill-color);\n",
              "    }\n",
              "    60% {\n",
              "      border-color: transparent;\n",
              "      border-right-color: var(--fill-color);\n",
              "    }\n",
              "    80% {\n",
              "      border-color: transparent;\n",
              "      border-right-color: var(--fill-color);\n",
              "      border-bottom-color: var(--fill-color);\n",
              "    }\n",
              "    90% {\n",
              "      border-color: transparent;\n",
              "      border-bottom-color: var(--fill-color);\n",
              "    }\n",
              "  }\n",
              "</style>\n",
              "\n",
              "  <script>\n",
              "    async function quickchart(key) {\n",
              "      const quickchartButtonEl =\n",
              "        document.querySelector('#' + key + ' button');\n",
              "      quickchartButtonEl.disabled = true;  // To prevent multiple clicks.\n",
              "      quickchartButtonEl.classList.add('colab-df-spinner');\n",
              "      try {\n",
              "        const charts = await google.colab.kernel.invokeFunction(\n",
              "            'suggestCharts', [key], {});\n",
              "      } catch (error) {\n",
              "        console.error('Error during call to suggestCharts:', error);\n",
              "      }\n",
              "      quickchartButtonEl.classList.remove('colab-df-spinner');\n",
              "      quickchartButtonEl.classList.add('colab-df-quickchart-complete');\n",
              "    }\n",
              "    (() => {\n",
              "      let quickchartButtonEl =\n",
              "        document.querySelector('#df-a82ed5bb-2b66-493b-8f7f-2e2768a1004f button');\n",
              "      quickchartButtonEl.style.display =\n",
              "        google.colab.kernel.accessAllowed ? 'block' : 'none';\n",
              "    })();\n",
              "  </script>\n",
              "</div>\n",
              "    </div>\n",
              "  </div>\n"
            ],
            "application/vnd.google.colaboratory.intrinsic+json": {
              "type": "dataframe",
              "variable_name": "X_train",
              "summary": "{\n  \"name\": \"X_train\",\n  \"rows\": 24387,\n  \"fields\": [\n    {\n      \"column\": \"\\u041d\\u043e\\u043c\\u0435\\u0440\\u043e\\u0432\",\n      \"properties\": {\n        \"dtype\": \"number\",\n        \"std\": 0,\n        \"min\": 1,\n        \"max\": 6,\n        \"num_unique_values\": 6,\n        \"samples\": [\n          1,\n          2,\n          6\n        ],\n        \"semantic_type\": \"\",\n        \"description\": \"\"\n      }\n    },\n    {\n      \"column\": \"\\u0421\\u0442\\u043e\\u0438\\u043c\\u043e\\u0441\\u0442\\u044c\",\n      \"properties\": {\n        \"dtype\": \"number\",\n        \"std\": 38551.482519015,\n        \"min\": 1.0,\n        \"max\": 986400.0,\n        \"num_unique_values\": 3466,\n        \"samples\": [\n          100600.0,\n          166500.0,\n          46470.0\n        ],\n        \"semantic_type\": \"\",\n        \"description\": \"\"\n      }\n    },\n    {\n      \"column\": \"\\u0412\\u043d\\u0435\\u0441\\u0435\\u043d\\u0430 \\u043f\\u0440\\u0435\\u0434\\u043e\\u043f\\u043b\\u0430\\u0442\\u0430\",\n      \"properties\": {\n        \"dtype\": \"number\",\n        \"std\": 28249,\n        \"min\": 0,\n        \"max\": 584500,\n        \"num_unique_values\": 2633,\n        \"samples\": [\n          20615,\n          29460,\n          27260\n        ],\n        \"semantic_type\": \"\",\n        \"description\": \"\"\n      }\n    },\n    {\n      \"column\": \"\\u0421\\u043f\\u043e\\u0441\\u043e\\u0431 \\u043e\\u043f\\u043b\\u0430\\u0442\\u044b\",\n      \"properties\": {\n        \"dtype\": \"category\",\n        \"num_unique_values\": 14,\n        \"samples\": [\n          \"\\u0411\\u0430\\u043d\\u043a. \\u043a\\u0430\\u0440\\u0442\\u0430: \\u042d\\u043a\\u0432\\u0430\\u0439\\u0440\\u0438\\u043d\\u0433 ComfortBooking (\\u0411\\u0430\\u043d\\u043a. \\u043a\\u0430\\u0440\\u0442\\u0430)\",\n          \"\\u0411\\u0430\\u043d\\u043a. \\u043a\\u0430\\u0440\\u0442\\u0430 (SberPay): \\u042d\\u043a\\u0432\\u0430\\u0439\\u0440\\u0438\\u043d\\u0433 ComfortBooking (\\u0411\\u0430\\u043d\\u043a. \\u043a\\u0430\\u0440\\u0442\\u0430) (SberPay)\",\n          \"\\u0412\\u043d\\u0435\\u0448\\u043d\\u044f\\u044f \\u0441\\u0438\\u0441\\u0442\\u0435\\u043c\\u0430 \\u043e\\u043f\\u043b\\u0430\\u0442\\u044b\"\n        ],\n        \"semantic_type\": \"\",\n        \"description\": \"\"\n      }\n    },\n    {\n      \"column\": \"\\u041d\\u043e\\u0447\\u0435\\u0439\",\n      \"properties\": {\n        \"dtype\": \"number\",\n        \"std\": 1,\n        \"min\": 1,\n        \"max\": 26,\n        \"num_unique_values\": 20,\n        \"samples\": [\n          3,\n          18,\n          15\n        ],\n        \"semantic_type\": \"\",\n        \"description\": \"\"\n      }\n    },\n    {\n      \"column\": \"\\u0418\\u0441\\u0442\\u043e\\u0447\\u043d\\u0438\\u043a\",\n      \"properties\": {\n        \"dtype\": \"category\",\n        \"num_unique_values\": 27,\n        \"samples\": [\n          \"\\u0411\\u0440\\u043e\\u043d\\u0438\\u0440\\u043e\\u0432\\u0430\\u043d\\u0438\\u0435 \\u0438\\u0437 \\u044d\\u043a\\u0441\\u0442\\u0440\\u0430\\u043d\\u0435\\u0442\\u0430\",\n          \"Alean.ru (13.10.2023-02.06.2025)\",\n          \"Cuva\"\n        ],\n        \"semantic_type\": \"\",\n        \"description\": \"\"\n      }\n    },\n    {\n      \"column\": \"\\u041a\\u0430\\u0442\\u0435\\u0433\\u043e\\u0440\\u0438\\u044f \\u043d\\u043e\\u043c\\u0435\\u0440\\u0430\",\n      \"properties\": {\n        \"dtype\": \"category\",\n        \"num_unique_values\": 26,\n        \"samples\": [\n          \"1. \\u041d\\u043e\\u043c\\u0435\\u0440 \\u00ab\\u0421\\u0442\\u0430\\u043d\\u0434\\u0430\\u0440\\u0442\\u00bb\\n2. \\u041d\\u043e\\u043c\\u0435\\u0440 \\u00ab\\u0421\\u0442\\u0430\\u043d\\u0434\\u0430\\u0440\\u0442\\u00bb\",\n          \"1. \\u041a\\u043e\\u0442\\u0442\\u0435\\u0434\\u0436 \\u0441 3 \\u0441\\u043f\\u0430\\u043b\\u044c\\u043d\\u044f\\u043c\\u0438\\n2. \\u041d\\u043e\\u043c\\u0435\\u0440 \\u00ab\\u0421\\u0442\\u0430\\u043d\\u0434\\u0430\\u0440\\u0442\\u00bb\\n3. \\u041a\\u043e\\u0442\\u0442\\u0435\\u0434\\u0436 \\u0441 3 \\u0441\\u043f\\u0430\\u043b\\u044c\\u043d\\u044f\\u043c\\u0438\",\n          \"\\u041d\\u043e\\u043c\\u0435\\u0440 \\u00ab\\u0421\\u0442\\u0430\\u043d\\u0434\\u0430\\u0440\\u0442\\u00bb\"\n        ],\n        \"semantic_type\": \"\",\n        \"description\": \"\"\n      }\n    },\n    {\n      \"column\": \"\\u0413\\u043e\\u0441\\u0442\\u0435\\u0439\",\n      \"properties\": {\n        \"dtype\": \"number\",\n        \"std\": 1,\n        \"min\": 1,\n        \"max\": 16,\n        \"num_unique_values\": 15,\n        \"samples\": [\n          9,\n          13,\n          2\n        ],\n        \"semantic_type\": \"\",\n        \"description\": \"\"\n      }\n    },\n    {\n      \"column\": \"\\u0412\\u0440\\u0435\\u043c\\u044f \\u0434\\u043d\\u044f (\\u0411\\u0440\\u043e\\u043d\\u0438\\u0440\\u043e\\u0432\\u0430\\u043d\\u0438\\u0435)\",\n      \"properties\": {\n        \"dtype\": \"category\",\n        \"num_unique_values\": 4,\n        \"samples\": [\n          \"\\u0414\\u0435\\u043d\\u044c\",\n          \"\\u041d\\u043e\\u0447\\u044c\",\n          \"\\u0412\\u0435\\u0447\\u0435\\u0440\"\n        ],\n        \"semantic_type\": \"\",\n        \"description\": \"\"\n      }\n    },\n    {\n      \"column\": \"\\u0414\\u0435\\u043d\\u044c \\u043d\\u0435\\u0434\\u0435\\u043b\\u0438 (\\u0411\\u0440\\u043e\\u043d\\u0438\\u0440\\u043e\\u0432\\u0430\\u043d\\u0438\\u0435)\",\n      \"properties\": {\n        \"dtype\": \"category\",\n        \"num_unique_values\": 7,\n        \"samples\": [\n          \"Thursday\",\n          \"Saturday\",\n          \"Wednesday\"\n        ],\n        \"semantic_type\": \"\",\n        \"description\": \"\"\n      }\n    },\n    {\n      \"column\": \"\\u0412\\u0440\\u0435\\u043c\\u044f \\u0434\\u043d\\u044f (\\u0417\\u0430\\u0435\\u0437\\u0434)\",\n      \"properties\": {\n        \"dtype\": \"category\",\n        \"num_unique_values\": 2,\n        \"samples\": [\n          \"\\u0423\\u0442\\u0440\\u043e\",\n          \"\\u0414\\u0435\\u043d\\u044c\"\n        ],\n        \"semantic_type\": \"\",\n        \"description\": \"\"\n      }\n    },\n    {\n      \"column\": \"\\u0414\\u0435\\u043d\\u044c \\u043d\\u0435\\u0434\\u0435\\u043b\\u0438 (\\u0417\\u0430\\u0435\\u0437\\u0434)\",\n      \"properties\": {\n        \"dtype\": \"category\",\n        \"num_unique_values\": 7,\n        \"samples\": [\n          \"Friday\",\n          \"Monday\"\n        ],\n        \"semantic_type\": \"\",\n        \"description\": \"\"\n      }\n    },\n    {\n      \"column\": \"\\u041c\\u0435\\u0441\\u044f\\u0446 (\\u0417\\u0430\\u0435\\u0437\\u0434)\",\n      \"properties\": {\n        \"dtype\": \"category\",\n        \"num_unique_values\": 12,\n        \"samples\": [\n          \"8\",\n          \"3\"\n        ],\n        \"semantic_type\": \"\",\n        \"description\": \"\"\n      }\n    },\n    {\n      \"column\": \"\\u041a\\u043e\\u043b\\u0438\\u0447\\u0435\\u0441\\u0442\\u0432\\u043e \\u0434\\u043d\\u0435\\u0439 \\u0434\\u043e \\u0437\\u0430\\u0435\\u0437\\u0434\\u0430\",\n      \"properties\": {\n        \"dtype\": \"number\",\n        \"std\": 32,\n        \"min\": 0,\n        \"max\": 284,\n        \"num_unique_values\": 212,\n        \"samples\": [\n          106,\n          165\n        ],\n        \"semantic_type\": \"\",\n        \"description\": \"\"\n      }\n    },\n    {\n      \"column\": \"\\u0420\\u0435\\u0433\\u0438\\u043e\\u043d\",\n      \"properties\": {\n        \"dtype\": \"number\",\n        \"std\": 0,\n        \"min\": 0,\n        \"max\": 1,\n        \"num_unique_values\": 2,\n        \"samples\": [\n          1,\n          0\n        ],\n        \"semantic_type\": \"\",\n        \"description\": \"\"\n      }\n    }\n  ]\n}"
            }
          },
          "metadata": {},
          "execution_count": 286
        }
      ]
    },
    {
      "cell_type": "code",
      "source": [
        "\n",
        "\n",
        "\n",
        "\n"
      ],
      "metadata": {
        "id": "hOGpzY1wXhzz"
      },
      "id": "hOGpzY1wXhzz",
      "execution_count": 286,
      "outputs": []
    },
    {
      "cell_type": "markdown",
      "source": [
        "### Категория номера"
      ],
      "metadata": {
        "id": "Tyktqu3jYLWq"
      },
      "id": "Tyktqu3jYLWq"
    },
    {
      "cell_type": "code",
      "source": [
        "\n",
        "import re\n",
        "\n",
        "def extract_categories(series):\n",
        "    unique_categories = set()\n",
        "    # Разделяем по символам новой строки и по любым номерам с пробелами\n",
        "    series.str.split(r'\\n| \\d+\\.\\s+').apply(unique_categories.update)\n",
        "    return unique_categories\n",
        "\n",
        "# Обработка X_train\n",
        "unique_categories = extract_categories(X_train['Категория номера'])\n",
        "for category in unique_categories:\n",
        "    # Убираем номер и лишние пробелы из строки\n",
        "    cleaned_category = re.sub(r'^\\d+\\.\\s*', '', category).strip()\n",
        "    X_train[cleaned_category] = X_train['Категория номера'].apply(lambda x: 1 if cleaned_category in x else 0)\n",
        "X_train = X_train.drop(columns='Категория номера')\n",
        "\n",
        "# Обработка X_test\n",
        "unique_categories = extract_categories(X_test['Категория номера'])\n",
        "for category in unique_categories:\n",
        "    cleaned_category = re.sub(r'^\\d+\\.\\s*', '', category).strip()\n",
        "    X_test[cleaned_category] = X_test['Категория номера'].apply(lambda x: 1 if cleaned_category in x else 0)\n",
        "X_test = X_test.drop(columns='Категория номера')\n",
        "\n",
        "X_train.head()"
      ],
      "metadata": {
        "colab": {
          "base_uri": "https://localhost:8080/",
          "height": 585
        },
        "id": "vGSsIpmuYKRa",
        "outputId": "331e6659-347b-4b4f-87b3-e251fa86535c"
      },
      "id": "vGSsIpmuYKRa",
      "execution_count": 287,
      "outputs": [
        {
          "output_type": "execute_result",
          "data": {
            "text/plain": [
              "   Номеров  Стоимость  Внесена предоплата  \\\n",
              "0        1    25700.0                   0   \n",
              "1        1    24800.0               12400   \n",
              "2        1    25800.0               12900   \n",
              "3        1    10500.0                   0   \n",
              "4        1    28690.0               28690   \n",
              "\n",
              "                                       Способ оплаты  Ночей  \\\n",
              "0                             Внешняя система оплаты      3   \n",
              "1  Отложенная электронная оплата: Банк Россия (ба...      2   \n",
              "2             Банк. карта: Банк Россия (банк. карта)      2   \n",
              "3             Внешняя система оплаты (С предоплатой)      1   \n",
              "4  Система быстрых платежей: Эквайринг ComfortBoo...      2   \n",
              "\n",
              "             Источник  Гостей Время дня (Бронирование)  \\\n",
              "0  Яндекс.Путешествия       2                    Вечер   \n",
              "1    Официальный сайт       2                     День   \n",
              "2    Официальный сайт       2                    Вечер   \n",
              "3   Bronevik.com(new)       1                     День   \n",
              "4    Официальный сайт       4                    Вечер   \n",
              "\n",
              "  День недели (Бронирование) Время дня (Заезд)  ... Месяц (Заезд)  \\\n",
              "0                   Thursday              День  ...             4   \n",
              "1                   Saturday              День  ...             7   \n",
              "2                     Monday              День  ...            12   \n",
              "3                     Friday              День  ...             9   \n",
              "4                   Saturday              День  ...             5   \n",
              "\n",
              "  Количество дней до заезда  Регион  Номер «Стандарт»  Коттедж с 2 спальнями  \\\n",
              "0                         7       0                 1                      0   \n",
              "1                        23       0                 1                      0   \n",
              "2                        19       1                 0                      0   \n",
              "3                         9       1                 1                      0   \n",
              "4                         8       0                 0                      0   \n",
              "\n",
              "   Номер «Люкс»  Апартаменты с 2 спальнями с отдельным входом  Номер «Студия»  \\\n",
              "0             0                                             0               0   \n",
              "1             0                                             0               0   \n",
              "2             0                                             0               1   \n",
              "3             0                                             0               0   \n",
              "4             1                                             0               0   \n",
              "\n",
              "   Коттедж с 3 спальнями  Номер «Стандарт» для маломобильных групп населения  \n",
              "0                      0                                                  0   \n",
              "1                      0                                                  0   \n",
              "2                      0                                                  0   \n",
              "3                      0                                                  0   \n",
              "4                      0                                                  0   \n",
              "\n",
              "[5 rows x 21 columns]"
            ],
            "text/html": [
              "\n",
              "  <div id=\"df-93393ee1-4f8a-4604-a7c3-4a8df553c870\" class=\"colab-df-container\">\n",
              "    <div>\n",
              "<style scoped>\n",
              "    .dataframe tbody tr th:only-of-type {\n",
              "        vertical-align: middle;\n",
              "    }\n",
              "\n",
              "    .dataframe tbody tr th {\n",
              "        vertical-align: top;\n",
              "    }\n",
              "\n",
              "    .dataframe thead th {\n",
              "        text-align: right;\n",
              "    }\n",
              "</style>\n",
              "<table border=\"1\" class=\"dataframe\">\n",
              "  <thead>\n",
              "    <tr style=\"text-align: right;\">\n",
              "      <th></th>\n",
              "      <th>Номеров</th>\n",
              "      <th>Стоимость</th>\n",
              "      <th>Внесена предоплата</th>\n",
              "      <th>Способ оплаты</th>\n",
              "      <th>Ночей</th>\n",
              "      <th>Источник</th>\n",
              "      <th>Гостей</th>\n",
              "      <th>Время дня (Бронирование)</th>\n",
              "      <th>День недели (Бронирование)</th>\n",
              "      <th>Время дня (Заезд)</th>\n",
              "      <th>...</th>\n",
              "      <th>Месяц (Заезд)</th>\n",
              "      <th>Количество дней до заезда</th>\n",
              "      <th>Регион</th>\n",
              "      <th>Номер «Стандарт»</th>\n",
              "      <th>Коттедж с 2 спальнями</th>\n",
              "      <th>Номер «Люкс»</th>\n",
              "      <th>Апартаменты с 2 спальнями с отдельным входом</th>\n",
              "      <th>Номер «Студия»</th>\n",
              "      <th>Коттедж с 3 спальнями</th>\n",
              "      <th>Номер «Стандарт» для маломобильных групп населения</th>\n",
              "    </tr>\n",
              "  </thead>\n",
              "  <tbody>\n",
              "    <tr>\n",
              "      <th>0</th>\n",
              "      <td>1</td>\n",
              "      <td>25700.0</td>\n",
              "      <td>0</td>\n",
              "      <td>Внешняя система оплаты</td>\n",
              "      <td>3</td>\n",
              "      <td>Яндекс.Путешествия</td>\n",
              "      <td>2</td>\n",
              "      <td>Вечер</td>\n",
              "      <td>Thursday</td>\n",
              "      <td>День</td>\n",
              "      <td>...</td>\n",
              "      <td>4</td>\n",
              "      <td>7</td>\n",
              "      <td>0</td>\n",
              "      <td>1</td>\n",
              "      <td>0</td>\n",
              "      <td>0</td>\n",
              "      <td>0</td>\n",
              "      <td>0</td>\n",
              "      <td>0</td>\n",
              "      <td>0</td>\n",
              "    </tr>\n",
              "    <tr>\n",
              "      <th>1</th>\n",
              "      <td>1</td>\n",
              "      <td>24800.0</td>\n",
              "      <td>12400</td>\n",
              "      <td>Отложенная электронная оплата: Банк Россия (ба...</td>\n",
              "      <td>2</td>\n",
              "      <td>Официальный сайт</td>\n",
              "      <td>2</td>\n",
              "      <td>День</td>\n",
              "      <td>Saturday</td>\n",
              "      <td>День</td>\n",
              "      <td>...</td>\n",
              "      <td>7</td>\n",
              "      <td>23</td>\n",
              "      <td>0</td>\n",
              "      <td>1</td>\n",
              "      <td>0</td>\n",
              "      <td>0</td>\n",
              "      <td>0</td>\n",
              "      <td>0</td>\n",
              "      <td>0</td>\n",
              "      <td>0</td>\n",
              "    </tr>\n",
              "    <tr>\n",
              "      <th>2</th>\n",
              "      <td>1</td>\n",
              "      <td>25800.0</td>\n",
              "      <td>12900</td>\n",
              "      <td>Банк. карта: Банк Россия (банк. карта)</td>\n",
              "      <td>2</td>\n",
              "      <td>Официальный сайт</td>\n",
              "      <td>2</td>\n",
              "      <td>Вечер</td>\n",
              "      <td>Monday</td>\n",
              "      <td>День</td>\n",
              "      <td>...</td>\n",
              "      <td>12</td>\n",
              "      <td>19</td>\n",
              "      <td>1</td>\n",
              "      <td>0</td>\n",
              "      <td>0</td>\n",
              "      <td>0</td>\n",
              "      <td>0</td>\n",
              "      <td>1</td>\n",
              "      <td>0</td>\n",
              "      <td>0</td>\n",
              "    </tr>\n",
              "    <tr>\n",
              "      <th>3</th>\n",
              "      <td>1</td>\n",
              "      <td>10500.0</td>\n",
              "      <td>0</td>\n",
              "      <td>Внешняя система оплаты (С предоплатой)</td>\n",
              "      <td>1</td>\n",
              "      <td>Bronevik.com(new)</td>\n",
              "      <td>1</td>\n",
              "      <td>День</td>\n",
              "      <td>Friday</td>\n",
              "      <td>День</td>\n",
              "      <td>...</td>\n",
              "      <td>9</td>\n",
              "      <td>9</td>\n",
              "      <td>1</td>\n",
              "      <td>1</td>\n",
              "      <td>0</td>\n",
              "      <td>0</td>\n",
              "      <td>0</td>\n",
              "      <td>0</td>\n",
              "      <td>0</td>\n",
              "      <td>0</td>\n",
              "    </tr>\n",
              "    <tr>\n",
              "      <th>4</th>\n",
              "      <td>1</td>\n",
              "      <td>28690.0</td>\n",
              "      <td>28690</td>\n",
              "      <td>Система быстрых платежей: Эквайринг ComfortBoo...</td>\n",
              "      <td>2</td>\n",
              "      <td>Официальный сайт</td>\n",
              "      <td>4</td>\n",
              "      <td>Вечер</td>\n",
              "      <td>Saturday</td>\n",
              "      <td>День</td>\n",
              "      <td>...</td>\n",
              "      <td>5</td>\n",
              "      <td>8</td>\n",
              "      <td>0</td>\n",
              "      <td>0</td>\n",
              "      <td>0</td>\n",
              "      <td>1</td>\n",
              "      <td>0</td>\n",
              "      <td>0</td>\n",
              "      <td>0</td>\n",
              "      <td>0</td>\n",
              "    </tr>\n",
              "  </tbody>\n",
              "</table>\n",
              "<p>5 rows × 21 columns</p>\n",
              "</div>\n",
              "    <div class=\"colab-df-buttons\">\n",
              "\n",
              "  <div class=\"colab-df-container\">\n",
              "    <button class=\"colab-df-convert\" onclick=\"convertToInteractive('df-93393ee1-4f8a-4604-a7c3-4a8df553c870')\"\n",
              "            title=\"Convert this dataframe to an interactive table.\"\n",
              "            style=\"display:none;\">\n",
              "\n",
              "  <svg xmlns=\"http://www.w3.org/2000/svg\" height=\"24px\" viewBox=\"0 -960 960 960\">\n",
              "    <path d=\"M120-120v-720h720v720H120Zm60-500h600v-160H180v160Zm220 220h160v-160H400v160Zm0 220h160v-160H400v160ZM180-400h160v-160H180v160Zm440 0h160v-160H620v160ZM180-180h160v-160H180v160Zm440 0h160v-160H620v160Z\"/>\n",
              "  </svg>\n",
              "    </button>\n",
              "\n",
              "  <style>\n",
              "    .colab-df-container {\n",
              "      display:flex;\n",
              "      gap: 12px;\n",
              "    }\n",
              "\n",
              "    .colab-df-convert {\n",
              "      background-color: #E8F0FE;\n",
              "      border: none;\n",
              "      border-radius: 50%;\n",
              "      cursor: pointer;\n",
              "      display: none;\n",
              "      fill: #1967D2;\n",
              "      height: 32px;\n",
              "      padding: 0 0 0 0;\n",
              "      width: 32px;\n",
              "    }\n",
              "\n",
              "    .colab-df-convert:hover {\n",
              "      background-color: #E2EBFA;\n",
              "      box-shadow: 0px 1px 2px rgba(60, 64, 67, 0.3), 0px 1px 3px 1px rgba(60, 64, 67, 0.15);\n",
              "      fill: #174EA6;\n",
              "    }\n",
              "\n",
              "    .colab-df-buttons div {\n",
              "      margin-bottom: 4px;\n",
              "    }\n",
              "\n",
              "    [theme=dark] .colab-df-convert {\n",
              "      background-color: #3B4455;\n",
              "      fill: #D2E3FC;\n",
              "    }\n",
              "\n",
              "    [theme=dark] .colab-df-convert:hover {\n",
              "      background-color: #434B5C;\n",
              "      box-shadow: 0px 1px 3px 1px rgba(0, 0, 0, 0.15);\n",
              "      filter: drop-shadow(0px 1px 2px rgba(0, 0, 0, 0.3));\n",
              "      fill: #FFFFFF;\n",
              "    }\n",
              "  </style>\n",
              "\n",
              "    <script>\n",
              "      const buttonEl =\n",
              "        document.querySelector('#df-93393ee1-4f8a-4604-a7c3-4a8df553c870 button.colab-df-convert');\n",
              "      buttonEl.style.display =\n",
              "        google.colab.kernel.accessAllowed ? 'block' : 'none';\n",
              "\n",
              "      async function convertToInteractive(key) {\n",
              "        const element = document.querySelector('#df-93393ee1-4f8a-4604-a7c3-4a8df553c870');\n",
              "        const dataTable =\n",
              "          await google.colab.kernel.invokeFunction('convertToInteractive',\n",
              "                                                    [key], {});\n",
              "        if (!dataTable) return;\n",
              "\n",
              "        const docLinkHtml = 'Like what you see? Visit the ' +\n",
              "          '<a target=\"_blank\" href=https://colab.research.google.com/notebooks/data_table.ipynb>data table notebook</a>'\n",
              "          + ' to learn more about interactive tables.';\n",
              "        element.innerHTML = '';\n",
              "        dataTable['output_type'] = 'display_data';\n",
              "        await google.colab.output.renderOutput(dataTable, element);\n",
              "        const docLink = document.createElement('div');\n",
              "        docLink.innerHTML = docLinkHtml;\n",
              "        element.appendChild(docLink);\n",
              "      }\n",
              "    </script>\n",
              "  </div>\n",
              "\n",
              "\n",
              "<div id=\"df-9616e294-6ee4-41ee-8527-e1bef3c38a6e\">\n",
              "  <button class=\"colab-df-quickchart\" onclick=\"quickchart('df-9616e294-6ee4-41ee-8527-e1bef3c38a6e')\"\n",
              "            title=\"Suggest charts\"\n",
              "            style=\"display:none;\">\n",
              "\n",
              "<svg xmlns=\"http://www.w3.org/2000/svg\" height=\"24px\"viewBox=\"0 0 24 24\"\n",
              "     width=\"24px\">\n",
              "    <g>\n",
              "        <path d=\"M19 3H5c-1.1 0-2 .9-2 2v14c0 1.1.9 2 2 2h14c1.1 0 2-.9 2-2V5c0-1.1-.9-2-2-2zM9 17H7v-7h2v7zm4 0h-2V7h2v10zm4 0h-2v-4h2v4z\"/>\n",
              "    </g>\n",
              "</svg>\n",
              "  </button>\n",
              "\n",
              "<style>\n",
              "  .colab-df-quickchart {\n",
              "      --bg-color: #E8F0FE;\n",
              "      --fill-color: #1967D2;\n",
              "      --hover-bg-color: #E2EBFA;\n",
              "      --hover-fill-color: #174EA6;\n",
              "      --disabled-fill-color: #AAA;\n",
              "      --disabled-bg-color: #DDD;\n",
              "  }\n",
              "\n",
              "  [theme=dark] .colab-df-quickchart {\n",
              "      --bg-color: #3B4455;\n",
              "      --fill-color: #D2E3FC;\n",
              "      --hover-bg-color: #434B5C;\n",
              "      --hover-fill-color: #FFFFFF;\n",
              "      --disabled-bg-color: #3B4455;\n",
              "      --disabled-fill-color: #666;\n",
              "  }\n",
              "\n",
              "  .colab-df-quickchart {\n",
              "    background-color: var(--bg-color);\n",
              "    border: none;\n",
              "    border-radius: 50%;\n",
              "    cursor: pointer;\n",
              "    display: none;\n",
              "    fill: var(--fill-color);\n",
              "    height: 32px;\n",
              "    padding: 0;\n",
              "    width: 32px;\n",
              "  }\n",
              "\n",
              "  .colab-df-quickchart:hover {\n",
              "    background-color: var(--hover-bg-color);\n",
              "    box-shadow: 0 1px 2px rgba(60, 64, 67, 0.3), 0 1px 3px 1px rgba(60, 64, 67, 0.15);\n",
              "    fill: var(--button-hover-fill-color);\n",
              "  }\n",
              "\n",
              "  .colab-df-quickchart-complete:disabled,\n",
              "  .colab-df-quickchart-complete:disabled:hover {\n",
              "    background-color: var(--disabled-bg-color);\n",
              "    fill: var(--disabled-fill-color);\n",
              "    box-shadow: none;\n",
              "  }\n",
              "\n",
              "  .colab-df-spinner {\n",
              "    border: 2px solid var(--fill-color);\n",
              "    border-color: transparent;\n",
              "    border-bottom-color: var(--fill-color);\n",
              "    animation:\n",
              "      spin 1s steps(1) infinite;\n",
              "  }\n",
              "\n",
              "  @keyframes spin {\n",
              "    0% {\n",
              "      border-color: transparent;\n",
              "      border-bottom-color: var(--fill-color);\n",
              "      border-left-color: var(--fill-color);\n",
              "    }\n",
              "    20% {\n",
              "      border-color: transparent;\n",
              "      border-left-color: var(--fill-color);\n",
              "      border-top-color: var(--fill-color);\n",
              "    }\n",
              "    30% {\n",
              "      border-color: transparent;\n",
              "      border-left-color: var(--fill-color);\n",
              "      border-top-color: var(--fill-color);\n",
              "      border-right-color: var(--fill-color);\n",
              "    }\n",
              "    40% {\n",
              "      border-color: transparent;\n",
              "      border-right-color: var(--fill-color);\n",
              "      border-top-color: var(--fill-color);\n",
              "    }\n",
              "    60% {\n",
              "      border-color: transparent;\n",
              "      border-right-color: var(--fill-color);\n",
              "    }\n",
              "    80% {\n",
              "      border-color: transparent;\n",
              "      border-right-color: var(--fill-color);\n",
              "      border-bottom-color: var(--fill-color);\n",
              "    }\n",
              "    90% {\n",
              "      border-color: transparent;\n",
              "      border-bottom-color: var(--fill-color);\n",
              "    }\n",
              "  }\n",
              "</style>\n",
              "\n",
              "  <script>\n",
              "    async function quickchart(key) {\n",
              "      const quickchartButtonEl =\n",
              "        document.querySelector('#' + key + ' button');\n",
              "      quickchartButtonEl.disabled = true;  // To prevent multiple clicks.\n",
              "      quickchartButtonEl.classList.add('colab-df-spinner');\n",
              "      try {\n",
              "        const charts = await google.colab.kernel.invokeFunction(\n",
              "            'suggestCharts', [key], {});\n",
              "      } catch (error) {\n",
              "        console.error('Error during call to suggestCharts:', error);\n",
              "      }\n",
              "      quickchartButtonEl.classList.remove('colab-df-spinner');\n",
              "      quickchartButtonEl.classList.add('colab-df-quickchart-complete');\n",
              "    }\n",
              "    (() => {\n",
              "      let quickchartButtonEl =\n",
              "        document.querySelector('#df-9616e294-6ee4-41ee-8527-e1bef3c38a6e button');\n",
              "      quickchartButtonEl.style.display =\n",
              "        google.colab.kernel.accessAllowed ? 'block' : 'none';\n",
              "    })();\n",
              "  </script>\n",
              "</div>\n",
              "    </div>\n",
              "  </div>\n"
            ],
            "application/vnd.google.colaboratory.intrinsic+json": {
              "type": "dataframe",
              "variable_name": "X_train"
            }
          },
          "metadata": {},
          "execution_count": 287
        }
      ]
    },
    {
      "cell_type": "code",
      "source": [
        "print(X_train.shape)\n",
        "X_train.columns"
      ],
      "metadata": {
        "colab": {
          "base_uri": "https://localhost:8080/"
        },
        "id": "EPZ4Wd94Y_aB",
        "outputId": "8d7bbc49-a3ab-46ba-c042-6d035eb883d5"
      },
      "id": "EPZ4Wd94Y_aB",
      "execution_count": 288,
      "outputs": [
        {
          "output_type": "stream",
          "name": "stdout",
          "text": [
            "(24387, 21)\n"
          ]
        },
        {
          "output_type": "execute_result",
          "data": {
            "text/plain": [
              "Index(['Номеров', 'Стоимость', 'Внесена предоплата', 'Способ оплаты', 'Ночей',\n",
              "       'Источник', 'Гостей', 'Время дня (Бронирование)',\n",
              "       'День недели (Бронирование)', 'Время дня (Заезд)',\n",
              "       'День недели (Заезд)', 'Месяц (Заезд)', 'Количество дней до заезда',\n",
              "       'Регион', 'Номер «Стандарт»', 'Коттедж с 2 спальнями', 'Номер «Люкс»',\n",
              "       'Апартаменты с 2 спальнями с отдельным входом', 'Номер «Студия»',\n",
              "       'Коттедж с 3 спальнями',\n",
              "       'Номер «Стандарт» для маломобильных групп населения'],\n",
              "      dtype='object')"
            ]
          },
          "metadata": {},
          "execution_count": 288
        }
      ]
    },
    {
      "cell_type": "code",
      "source": [
        "\n",
        "\n",
        "\n",
        "\n"
      ],
      "metadata": {
        "id": "1LfNXyfpZeNu"
      },
      "id": "1LfNXyfpZeNu",
      "execution_count": 288,
      "outputs": []
    },
    {
      "cell_type": "markdown",
      "source": [
        "### Источник"
      ],
      "metadata": {
        "id": "4zyU2DE_aObY"
      },
      "id": "4zyU2DE_aObY"
    },
    {
      "cell_type": "code",
      "source": [
        "source_category_counts = X_train['Источник'].value_counts()\n",
        "to_merge = source_category_counts[source_category_counts < np.sqrt(np.max(source_category_counts))].index\n",
        "X_train['Источник'] = X_train['Источник'].apply(lambda x: 'Другое' if x in to_merge else x)\n",
        "\n",
        "source_category_counts = X_test['Источник'].value_counts()\n",
        "to_merge = source_category_counts[source_category_counts < np.sqrt(np.max(source_category_counts))].index\n",
        "X_test['Источник'] = X_test['Источник'].apply(lambda x: 'Другое' if x in to_merge else x)"
      ],
      "metadata": {
        "id": "AZJfbeOyaMEs"
      },
      "id": "AZJfbeOyaMEs",
      "execution_count": 289,
      "outputs": []
    },
    {
      "cell_type": "markdown",
      "source": [
        "### Способ оплаты"
      ],
      "metadata": {
        "id": "B49FkBFib7Zq"
      },
      "id": "B49FkBFib7Zq"
    },
    {
      "cell_type": "code",
      "source": [
        "pay_category_counts = X_train['Способ оплаты'].value_counts()\n",
        "to_merge = pay_category_counts[pay_category_counts < np.sqrt(np.max(pay_category_counts))].index\n",
        "X_train['Способ оплаты'] = X_train['Способ оплаты'].apply(lambda x: 'Другое' if x in to_merge else x)\n",
        "\n",
        "pay_category_counts = X_test['Способ оплаты'].value_counts()\n",
        "to_merge = pay_category_counts[pay_category_counts < np.sqrt(np.max(pay_category_counts))].index\n",
        "X_test['Способ оплаты'] = X_test['Способ оплаты'].apply(lambda x: 'Другое' if x in to_merge else x)"
      ],
      "metadata": {
        "id": "EwPLEOJTbwul"
      },
      "id": "EwPLEOJTbwul",
      "execution_count": 290,
      "outputs": []
    },
    {
      "cell_type": "code",
      "source": [
        "X_train.shape, X_test.shape"
      ],
      "metadata": {
        "colab": {
          "base_uri": "https://localhost:8080/"
        },
        "id": "acp_0Ri3cJxS",
        "outputId": "f2b718c0-78d5-4973-8bb0-6479d5b92c7f"
      },
      "id": "acp_0Ri3cJxS",
      "execution_count": 291,
      "outputs": [
        {
          "output_type": "execute_result",
          "data": {
            "text/plain": [
              "((24387, 21), (11218, 21))"
            ]
          },
          "metadata": {},
          "execution_count": 291
        }
      ]
    },
    {
      "cell_type": "code",
      "source": [
        "common_columns = X_train.columns.intersection(X_test.columns)\n",
        "\n",
        "X_train = X_train[common_columns]\n",
        "X_test = X_test[common_columns]\n",
        "\n",
        "print(X_train.shape, X_test.shape)"
      ],
      "metadata": {
        "colab": {
          "base_uri": "https://localhost:8080/"
        },
        "id": "lTDdh9hVp60k",
        "outputId": "e3e2debb-8246-4e0b-bbca-b38220e19946"
      },
      "id": "lTDdh9hVp60k",
      "execution_count": 292,
      "outputs": [
        {
          "output_type": "stream",
          "name": "stdout",
          "text": [
            "(24387, 21) (11218, 21)\n"
          ]
        }
      ]
    },
    {
      "cell_type": "code",
      "source": [
        "X_train.head()"
      ],
      "metadata": {
        "colab": {
          "base_uri": "https://localhost:8080/",
          "height": 585
        },
        "id": "ZCwsnBJzcUVO",
        "outputId": "d0536f9e-590e-40bc-8d03-36bcf4d70aeb"
      },
      "id": "ZCwsnBJzcUVO",
      "execution_count": 293,
      "outputs": [
        {
          "output_type": "execute_result",
          "data": {
            "text/plain": [
              "   Номеров  Стоимость  Внесена предоплата  \\\n",
              "0        1    25700.0                   0   \n",
              "1        1    24800.0               12400   \n",
              "2        1    25800.0               12900   \n",
              "3        1    10500.0                   0   \n",
              "4        1    28690.0               28690   \n",
              "\n",
              "                                       Способ оплаты  Ночей  \\\n",
              "0                             Внешняя система оплаты      3   \n",
              "1  Отложенная электронная оплата: Банк Россия (ба...      2   \n",
              "2             Банк. карта: Банк Россия (банк. карта)      2   \n",
              "3             Внешняя система оплаты (С предоплатой)      1   \n",
              "4  Система быстрых платежей: Эквайринг ComfortBoo...      2   \n",
              "\n",
              "             Источник  Гостей Время дня (Бронирование)  \\\n",
              "0  Яндекс.Путешествия       2                    Вечер   \n",
              "1    Официальный сайт       2                     День   \n",
              "2    Официальный сайт       2                    Вечер   \n",
              "3   Bronevik.com(new)       1                     День   \n",
              "4    Официальный сайт       4                    Вечер   \n",
              "\n",
              "  День недели (Бронирование) Время дня (Заезд)  ... Месяц (Заезд)  \\\n",
              "0                   Thursday              День  ...             4   \n",
              "1                   Saturday              День  ...             7   \n",
              "2                     Monday              День  ...            12   \n",
              "3                     Friday              День  ...             9   \n",
              "4                   Saturday              День  ...             5   \n",
              "\n",
              "  Количество дней до заезда  Регион  Номер «Стандарт»  Коттедж с 2 спальнями  \\\n",
              "0                         7       0                 1                      0   \n",
              "1                        23       0                 1                      0   \n",
              "2                        19       1                 0                      0   \n",
              "3                         9       1                 1                      0   \n",
              "4                         8       0                 0                      0   \n",
              "\n",
              "   Номер «Люкс»  Апартаменты с 2 спальнями с отдельным входом  Номер «Студия»  \\\n",
              "0             0                                             0               0   \n",
              "1             0                                             0               0   \n",
              "2             0                                             0               1   \n",
              "3             0                                             0               0   \n",
              "4             1                                             0               0   \n",
              "\n",
              "   Коттедж с 3 спальнями  Номер «Стандарт» для маломобильных групп населения  \n",
              "0                      0                                                  0   \n",
              "1                      0                                                  0   \n",
              "2                      0                                                  0   \n",
              "3                      0                                                  0   \n",
              "4                      0                                                  0   \n",
              "\n",
              "[5 rows x 21 columns]"
            ],
            "text/html": [
              "\n",
              "  <div id=\"df-24206487-f28a-4ef9-86e7-ac9bce450806\" class=\"colab-df-container\">\n",
              "    <div>\n",
              "<style scoped>\n",
              "    .dataframe tbody tr th:only-of-type {\n",
              "        vertical-align: middle;\n",
              "    }\n",
              "\n",
              "    .dataframe tbody tr th {\n",
              "        vertical-align: top;\n",
              "    }\n",
              "\n",
              "    .dataframe thead th {\n",
              "        text-align: right;\n",
              "    }\n",
              "</style>\n",
              "<table border=\"1\" class=\"dataframe\">\n",
              "  <thead>\n",
              "    <tr style=\"text-align: right;\">\n",
              "      <th></th>\n",
              "      <th>Номеров</th>\n",
              "      <th>Стоимость</th>\n",
              "      <th>Внесена предоплата</th>\n",
              "      <th>Способ оплаты</th>\n",
              "      <th>Ночей</th>\n",
              "      <th>Источник</th>\n",
              "      <th>Гостей</th>\n",
              "      <th>Время дня (Бронирование)</th>\n",
              "      <th>День недели (Бронирование)</th>\n",
              "      <th>Время дня (Заезд)</th>\n",
              "      <th>...</th>\n",
              "      <th>Месяц (Заезд)</th>\n",
              "      <th>Количество дней до заезда</th>\n",
              "      <th>Регион</th>\n",
              "      <th>Номер «Стандарт»</th>\n",
              "      <th>Коттедж с 2 спальнями</th>\n",
              "      <th>Номер «Люкс»</th>\n",
              "      <th>Апартаменты с 2 спальнями с отдельным входом</th>\n",
              "      <th>Номер «Студия»</th>\n",
              "      <th>Коттедж с 3 спальнями</th>\n",
              "      <th>Номер «Стандарт» для маломобильных групп населения</th>\n",
              "    </tr>\n",
              "  </thead>\n",
              "  <tbody>\n",
              "    <tr>\n",
              "      <th>0</th>\n",
              "      <td>1</td>\n",
              "      <td>25700.0</td>\n",
              "      <td>0</td>\n",
              "      <td>Внешняя система оплаты</td>\n",
              "      <td>3</td>\n",
              "      <td>Яндекс.Путешествия</td>\n",
              "      <td>2</td>\n",
              "      <td>Вечер</td>\n",
              "      <td>Thursday</td>\n",
              "      <td>День</td>\n",
              "      <td>...</td>\n",
              "      <td>4</td>\n",
              "      <td>7</td>\n",
              "      <td>0</td>\n",
              "      <td>1</td>\n",
              "      <td>0</td>\n",
              "      <td>0</td>\n",
              "      <td>0</td>\n",
              "      <td>0</td>\n",
              "      <td>0</td>\n",
              "      <td>0</td>\n",
              "    </tr>\n",
              "    <tr>\n",
              "      <th>1</th>\n",
              "      <td>1</td>\n",
              "      <td>24800.0</td>\n",
              "      <td>12400</td>\n",
              "      <td>Отложенная электронная оплата: Банк Россия (ба...</td>\n",
              "      <td>2</td>\n",
              "      <td>Официальный сайт</td>\n",
              "      <td>2</td>\n",
              "      <td>День</td>\n",
              "      <td>Saturday</td>\n",
              "      <td>День</td>\n",
              "      <td>...</td>\n",
              "      <td>7</td>\n",
              "      <td>23</td>\n",
              "      <td>0</td>\n",
              "      <td>1</td>\n",
              "      <td>0</td>\n",
              "      <td>0</td>\n",
              "      <td>0</td>\n",
              "      <td>0</td>\n",
              "      <td>0</td>\n",
              "      <td>0</td>\n",
              "    </tr>\n",
              "    <tr>\n",
              "      <th>2</th>\n",
              "      <td>1</td>\n",
              "      <td>25800.0</td>\n",
              "      <td>12900</td>\n",
              "      <td>Банк. карта: Банк Россия (банк. карта)</td>\n",
              "      <td>2</td>\n",
              "      <td>Официальный сайт</td>\n",
              "      <td>2</td>\n",
              "      <td>Вечер</td>\n",
              "      <td>Monday</td>\n",
              "      <td>День</td>\n",
              "      <td>...</td>\n",
              "      <td>12</td>\n",
              "      <td>19</td>\n",
              "      <td>1</td>\n",
              "      <td>0</td>\n",
              "      <td>0</td>\n",
              "      <td>0</td>\n",
              "      <td>0</td>\n",
              "      <td>1</td>\n",
              "      <td>0</td>\n",
              "      <td>0</td>\n",
              "    </tr>\n",
              "    <tr>\n",
              "      <th>3</th>\n",
              "      <td>1</td>\n",
              "      <td>10500.0</td>\n",
              "      <td>0</td>\n",
              "      <td>Внешняя система оплаты (С предоплатой)</td>\n",
              "      <td>1</td>\n",
              "      <td>Bronevik.com(new)</td>\n",
              "      <td>1</td>\n",
              "      <td>День</td>\n",
              "      <td>Friday</td>\n",
              "      <td>День</td>\n",
              "      <td>...</td>\n",
              "      <td>9</td>\n",
              "      <td>9</td>\n",
              "      <td>1</td>\n",
              "      <td>1</td>\n",
              "      <td>0</td>\n",
              "      <td>0</td>\n",
              "      <td>0</td>\n",
              "      <td>0</td>\n",
              "      <td>0</td>\n",
              "      <td>0</td>\n",
              "    </tr>\n",
              "    <tr>\n",
              "      <th>4</th>\n",
              "      <td>1</td>\n",
              "      <td>28690.0</td>\n",
              "      <td>28690</td>\n",
              "      <td>Система быстрых платежей: Эквайринг ComfortBoo...</td>\n",
              "      <td>2</td>\n",
              "      <td>Официальный сайт</td>\n",
              "      <td>4</td>\n",
              "      <td>Вечер</td>\n",
              "      <td>Saturday</td>\n",
              "      <td>День</td>\n",
              "      <td>...</td>\n",
              "      <td>5</td>\n",
              "      <td>8</td>\n",
              "      <td>0</td>\n",
              "      <td>0</td>\n",
              "      <td>0</td>\n",
              "      <td>1</td>\n",
              "      <td>0</td>\n",
              "      <td>0</td>\n",
              "      <td>0</td>\n",
              "      <td>0</td>\n",
              "    </tr>\n",
              "  </tbody>\n",
              "</table>\n",
              "<p>5 rows × 21 columns</p>\n",
              "</div>\n",
              "    <div class=\"colab-df-buttons\">\n",
              "\n",
              "  <div class=\"colab-df-container\">\n",
              "    <button class=\"colab-df-convert\" onclick=\"convertToInteractive('df-24206487-f28a-4ef9-86e7-ac9bce450806')\"\n",
              "            title=\"Convert this dataframe to an interactive table.\"\n",
              "            style=\"display:none;\">\n",
              "\n",
              "  <svg xmlns=\"http://www.w3.org/2000/svg\" height=\"24px\" viewBox=\"0 -960 960 960\">\n",
              "    <path d=\"M120-120v-720h720v720H120Zm60-500h600v-160H180v160Zm220 220h160v-160H400v160Zm0 220h160v-160H400v160ZM180-400h160v-160H180v160Zm440 0h160v-160H620v160ZM180-180h160v-160H180v160Zm440 0h160v-160H620v160Z\"/>\n",
              "  </svg>\n",
              "    </button>\n",
              "\n",
              "  <style>\n",
              "    .colab-df-container {\n",
              "      display:flex;\n",
              "      gap: 12px;\n",
              "    }\n",
              "\n",
              "    .colab-df-convert {\n",
              "      background-color: #E8F0FE;\n",
              "      border: none;\n",
              "      border-radius: 50%;\n",
              "      cursor: pointer;\n",
              "      display: none;\n",
              "      fill: #1967D2;\n",
              "      height: 32px;\n",
              "      padding: 0 0 0 0;\n",
              "      width: 32px;\n",
              "    }\n",
              "\n",
              "    .colab-df-convert:hover {\n",
              "      background-color: #E2EBFA;\n",
              "      box-shadow: 0px 1px 2px rgba(60, 64, 67, 0.3), 0px 1px 3px 1px rgba(60, 64, 67, 0.15);\n",
              "      fill: #174EA6;\n",
              "    }\n",
              "\n",
              "    .colab-df-buttons div {\n",
              "      margin-bottom: 4px;\n",
              "    }\n",
              "\n",
              "    [theme=dark] .colab-df-convert {\n",
              "      background-color: #3B4455;\n",
              "      fill: #D2E3FC;\n",
              "    }\n",
              "\n",
              "    [theme=dark] .colab-df-convert:hover {\n",
              "      background-color: #434B5C;\n",
              "      box-shadow: 0px 1px 3px 1px rgba(0, 0, 0, 0.15);\n",
              "      filter: drop-shadow(0px 1px 2px rgba(0, 0, 0, 0.3));\n",
              "      fill: #FFFFFF;\n",
              "    }\n",
              "  </style>\n",
              "\n",
              "    <script>\n",
              "      const buttonEl =\n",
              "        document.querySelector('#df-24206487-f28a-4ef9-86e7-ac9bce450806 button.colab-df-convert');\n",
              "      buttonEl.style.display =\n",
              "        google.colab.kernel.accessAllowed ? 'block' : 'none';\n",
              "\n",
              "      async function convertToInteractive(key) {\n",
              "        const element = document.querySelector('#df-24206487-f28a-4ef9-86e7-ac9bce450806');\n",
              "        const dataTable =\n",
              "          await google.colab.kernel.invokeFunction('convertToInteractive',\n",
              "                                                    [key], {});\n",
              "        if (!dataTable) return;\n",
              "\n",
              "        const docLinkHtml = 'Like what you see? Visit the ' +\n",
              "          '<a target=\"_blank\" href=https://colab.research.google.com/notebooks/data_table.ipynb>data table notebook</a>'\n",
              "          + ' to learn more about interactive tables.';\n",
              "        element.innerHTML = '';\n",
              "        dataTable['output_type'] = 'display_data';\n",
              "        await google.colab.output.renderOutput(dataTable, element);\n",
              "        const docLink = document.createElement('div');\n",
              "        docLink.innerHTML = docLinkHtml;\n",
              "        element.appendChild(docLink);\n",
              "      }\n",
              "    </script>\n",
              "  </div>\n",
              "\n",
              "\n",
              "<div id=\"df-3ad806b0-b324-4ed7-a3da-2767c6fcb5a4\">\n",
              "  <button class=\"colab-df-quickchart\" onclick=\"quickchart('df-3ad806b0-b324-4ed7-a3da-2767c6fcb5a4')\"\n",
              "            title=\"Suggest charts\"\n",
              "            style=\"display:none;\">\n",
              "\n",
              "<svg xmlns=\"http://www.w3.org/2000/svg\" height=\"24px\"viewBox=\"0 0 24 24\"\n",
              "     width=\"24px\">\n",
              "    <g>\n",
              "        <path d=\"M19 3H5c-1.1 0-2 .9-2 2v14c0 1.1.9 2 2 2h14c1.1 0 2-.9 2-2V5c0-1.1-.9-2-2-2zM9 17H7v-7h2v7zm4 0h-2V7h2v10zm4 0h-2v-4h2v4z\"/>\n",
              "    </g>\n",
              "</svg>\n",
              "  </button>\n",
              "\n",
              "<style>\n",
              "  .colab-df-quickchart {\n",
              "      --bg-color: #E8F0FE;\n",
              "      --fill-color: #1967D2;\n",
              "      --hover-bg-color: #E2EBFA;\n",
              "      --hover-fill-color: #174EA6;\n",
              "      --disabled-fill-color: #AAA;\n",
              "      --disabled-bg-color: #DDD;\n",
              "  }\n",
              "\n",
              "  [theme=dark] .colab-df-quickchart {\n",
              "      --bg-color: #3B4455;\n",
              "      --fill-color: #D2E3FC;\n",
              "      --hover-bg-color: #434B5C;\n",
              "      --hover-fill-color: #FFFFFF;\n",
              "      --disabled-bg-color: #3B4455;\n",
              "      --disabled-fill-color: #666;\n",
              "  }\n",
              "\n",
              "  .colab-df-quickchart {\n",
              "    background-color: var(--bg-color);\n",
              "    border: none;\n",
              "    border-radius: 50%;\n",
              "    cursor: pointer;\n",
              "    display: none;\n",
              "    fill: var(--fill-color);\n",
              "    height: 32px;\n",
              "    padding: 0;\n",
              "    width: 32px;\n",
              "  }\n",
              "\n",
              "  .colab-df-quickchart:hover {\n",
              "    background-color: var(--hover-bg-color);\n",
              "    box-shadow: 0 1px 2px rgba(60, 64, 67, 0.3), 0 1px 3px 1px rgba(60, 64, 67, 0.15);\n",
              "    fill: var(--button-hover-fill-color);\n",
              "  }\n",
              "\n",
              "  .colab-df-quickchart-complete:disabled,\n",
              "  .colab-df-quickchart-complete:disabled:hover {\n",
              "    background-color: var(--disabled-bg-color);\n",
              "    fill: var(--disabled-fill-color);\n",
              "    box-shadow: none;\n",
              "  }\n",
              "\n",
              "  .colab-df-spinner {\n",
              "    border: 2px solid var(--fill-color);\n",
              "    border-color: transparent;\n",
              "    border-bottom-color: var(--fill-color);\n",
              "    animation:\n",
              "      spin 1s steps(1) infinite;\n",
              "  }\n",
              "\n",
              "  @keyframes spin {\n",
              "    0% {\n",
              "      border-color: transparent;\n",
              "      border-bottom-color: var(--fill-color);\n",
              "      border-left-color: var(--fill-color);\n",
              "    }\n",
              "    20% {\n",
              "      border-color: transparent;\n",
              "      border-left-color: var(--fill-color);\n",
              "      border-top-color: var(--fill-color);\n",
              "    }\n",
              "    30% {\n",
              "      border-color: transparent;\n",
              "      border-left-color: var(--fill-color);\n",
              "      border-top-color: var(--fill-color);\n",
              "      border-right-color: var(--fill-color);\n",
              "    }\n",
              "    40% {\n",
              "      border-color: transparent;\n",
              "      border-right-color: var(--fill-color);\n",
              "      border-top-color: var(--fill-color);\n",
              "    }\n",
              "    60% {\n",
              "      border-color: transparent;\n",
              "      border-right-color: var(--fill-color);\n",
              "    }\n",
              "    80% {\n",
              "      border-color: transparent;\n",
              "      border-right-color: var(--fill-color);\n",
              "      border-bottom-color: var(--fill-color);\n",
              "    }\n",
              "    90% {\n",
              "      border-color: transparent;\n",
              "      border-bottom-color: var(--fill-color);\n",
              "    }\n",
              "  }\n",
              "</style>\n",
              "\n",
              "  <script>\n",
              "    async function quickchart(key) {\n",
              "      const quickchartButtonEl =\n",
              "        document.querySelector('#' + key + ' button');\n",
              "      quickchartButtonEl.disabled = true;  // To prevent multiple clicks.\n",
              "      quickchartButtonEl.classList.add('colab-df-spinner');\n",
              "      try {\n",
              "        const charts = await google.colab.kernel.invokeFunction(\n",
              "            'suggestCharts', [key], {});\n",
              "      } catch (error) {\n",
              "        console.error('Error during call to suggestCharts:', error);\n",
              "      }\n",
              "      quickchartButtonEl.classList.remove('colab-df-spinner');\n",
              "      quickchartButtonEl.classList.add('colab-df-quickchart-complete');\n",
              "    }\n",
              "    (() => {\n",
              "      let quickchartButtonEl =\n",
              "        document.querySelector('#df-3ad806b0-b324-4ed7-a3da-2767c6fcb5a4 button');\n",
              "      quickchartButtonEl.style.display =\n",
              "        google.colab.kernel.accessAllowed ? 'block' : 'none';\n",
              "    })();\n",
              "  </script>\n",
              "</div>\n",
              "    </div>\n",
              "  </div>\n"
            ],
            "application/vnd.google.colaboratory.intrinsic+json": {
              "type": "dataframe",
              "variable_name": "X_train"
            }
          },
          "metadata": {},
          "execution_count": 293
        }
      ]
    },
    {
      "cell_type": "code",
      "source": [
        "\n",
        "\n",
        "\n",
        "\n",
        "\n"
      ],
      "metadata": {
        "id": "hGXIzhlncXyY"
      },
      "id": "hGXIzhlncXyY",
      "execution_count": 293,
      "outputs": []
    },
    {
      "cell_type": "markdown",
      "source": [
        "### Добавим долю предоплаты"
      ],
      "metadata": {
        "id": "AkW4OsEKYXdA"
      },
      "id": "AkW4OsEKYXdA"
    },
    {
      "cell_type": "code",
      "source": [
        "X_train[\"Доля предоплаты\"] = X_train[\"Внесена предоплата\"] / X_train[\"Стоимость\"]\n",
        "X_test[\"Доля предоплаты\"] = X_test[\"Внесена предоплата\"] / X_test[\"Стоимость\"]"
      ],
      "metadata": {
        "id": "tgkIMTzHYUoJ"
      },
      "id": "tgkIMTzHYUoJ",
      "execution_count": 294,
      "outputs": []
    },
    {
      "cell_type": "code",
      "source": [],
      "metadata": {
        "id": "LP2udmnKYUXK"
      },
      "id": "LP2udmnKYUXK",
      "execution_count": 294,
      "outputs": []
    },
    {
      "cell_type": "markdown",
      "source": [
        "### One Hot Encoding категориальных столбцов"
      ],
      "metadata": {
        "id": "fmW2by1Ac4Fs"
      },
      "id": "fmW2by1Ac4Fs"
    },
    {
      "cell_type": "code",
      "source": [
        "columns_to_encode = [\n",
        "    'Способ оплаты',\n",
        "    'Источник',\n",
        "    'Время дня (Бронирование)',\n",
        "    'День недели (Бронирование)',\n",
        "    'Время дня (Заезд)',\n",
        "    'День недели (Заезд)',\n",
        "    'Месяц (Заезд)'\n",
        "]\n",
        "\n",
        "X_train_encoded = pd.get_dummies(X_train, columns=columns_to_encode, drop_first=True)\n",
        "X_test_encoded = pd.get_dummies(X_test, columns=columns_to_encode, drop_first=True)\n",
        "X_train_encoded.shape, X_test_encoded.shape"
      ],
      "metadata": {
        "colab": {
          "base_uri": "https://localhost:8080/"
        },
        "id": "ynnz8FrvcyLW",
        "outputId": "6e359018-13c1-4c45-e597-fa99a2ddfff3"
      },
      "id": "ynnz8FrvcyLW",
      "execution_count": 295,
      "outputs": [
        {
          "output_type": "execute_result",
          "data": {
            "text/plain": [
              "((24387, 60), (11218, 56))"
            ]
          },
          "metadata": {},
          "execution_count": 295
        }
      ]
    },
    {
      "cell_type": "code",
      "source": [
        "common_columns = X_train_encoded.columns.intersection(X_test_encoded.columns)\n",
        "X_train_encoded = X_train_encoded[common_columns]\n",
        "X_test_encoded = X_test_encoded[common_columns]\n",
        "print(X_train_encoded.shape, X_test_encoded.shape)"
      ],
      "metadata": {
        "colab": {
          "base_uri": "https://localhost:8080/"
        },
        "id": "jd3qfVHrrL3U",
        "outputId": "b36a01c6-593a-4bdd-daa7-f51d01e04600"
      },
      "id": "jd3qfVHrrL3U",
      "execution_count": 296,
      "outputs": [
        {
          "output_type": "stream",
          "name": "stdout",
          "text": [
            "(24387, 56) (11218, 56)\n"
          ]
        }
      ]
    },
    {
      "cell_type": "code",
      "source": [
        "\n",
        "\n",
        "\n",
        "\n"
      ],
      "metadata": {
        "id": "SvCsJAQ6n-i1"
      },
      "id": "SvCsJAQ6n-i1",
      "execution_count": 296,
      "outputs": []
    },
    {
      "cell_type": "markdown",
      "source": [
        "### Нормализация данных"
      ],
      "metadata": {
        "id": "WbIONevZn__s"
      },
      "id": "WbIONevZn__s"
    },
    {
      "cell_type": "code",
      "source": [
        "from sklearn.preprocessing import StandardScaler"
      ],
      "metadata": {
        "id": "RB5k4oIYn-CY"
      },
      "id": "RB5k4oIYn-CY",
      "execution_count": 297,
      "outputs": []
    },
    {
      "cell_type": "code",
      "source": [
        "standard_scaler = StandardScaler()\n",
        "X_train_encoded = pd.DataFrame(standard_scaler.fit_transform(X_train_encoded), columns=X_train_encoded.columns)\n",
        "X_test_encoded = pd.DataFrame(standard_scaler.fit_transform(X_test_encoded), columns=X_test_encoded.columns)"
      ],
      "metadata": {
        "id": "5sCoCjRsoKYX"
      },
      "id": "5sCoCjRsoKYX",
      "execution_count": 298,
      "outputs": []
    },
    {
      "cell_type": "markdown",
      "source": [
        "### Пробуем снова обучить что-то"
      ],
      "metadata": {
        "id": "64n9qiZWd5NC"
      },
      "id": "64n9qiZWd5NC"
    },
    {
      "cell_type": "code",
      "source": [
        "X_train_encoded.shape, X_test_encoded.shape"
      ],
      "metadata": {
        "colab": {
          "base_uri": "https://localhost:8080/"
        },
        "id": "sXzgvKlHtiLo",
        "outputId": "e3e5db6a-6513-4b05-9c45-d2ffe2763dba"
      },
      "id": "sXzgvKlHtiLo",
      "execution_count": 299,
      "outputs": [
        {
          "output_type": "execute_result",
          "data": {
            "text/plain": [
              "((24387, 56), (11218, 56))"
            ]
          },
          "metadata": {},
          "execution_count": 299
        }
      ]
    },
    {
      "cell_type": "code",
      "source": [
        "X_train_attempt2, X_valid_attempt2, y_train_attempt2, y_valid_attempt2 = X_train_encoded[:19000], X_train_encoded[19000:], y_train[:19000], y_train[19000:]"
      ],
      "metadata": {
        "id": "buecJudLd43L"
      },
      "id": "buecJudLd43L",
      "execution_count": 300,
      "outputs": []
    },
    {
      "cell_type": "code",
      "source": [
        "lr1 = LogisticRegression(max_iter=1000).fit(X_train_attempt2, y_train_attempt2)\n",
        "print(\"Accuracy on Valid: \", accuracy_score(y_valid_attempt2, lr1.predict(X_valid_attempt2)))\n",
        "print(\"ROC-AUC on Valid: \", roc_auc_score(y_valid_attempt2, lr1.predict(X_valid_attempt2)))"
      ],
      "metadata": {
        "id": "u4P56j0CdR_J"
      },
      "id": "u4P56j0CdR_J",
      "execution_count": null,
      "outputs": []
    },
    {
      "cell_type": "code",
      "source": [
        "rfc1 = RandomForestClassifier().fit(X_train_attempt2, y_train_attempt2)\n",
        "print(\"Accuracy on Valid: \", accuracy_score(y_valid_attempt2, rfc1.predict(X_valid_attempt2)))\n",
        "print(\"ROC-AUC on Valid: \", roc_auc_score(y_valid_attempt2, rfc1.predict(X_valid_attempt2)))"
      ],
      "metadata": {
        "id": "pPyeWzP0dwdI"
      },
      "id": "pPyeWzP0dwdI",
      "execution_count": null,
      "outputs": []
    },
    {
      "cell_type": "code",
      "source": [
        "gbc1 = GradientBoostingClassifier().fit(X_train_attempt2, y_train_attempt2)\n",
        "print(\"Accuracy on Valid: \", accuracy_score(y_valid_attempt2, gbc1.predict(X_valid_attempt2)))\n",
        "print(\"ROC-AUC on Valid: \", roc_auc_score(y_valid_attempt2, gbc1.predict(X_valid_attempt2)))"
      ],
      "metadata": {
        "id": "-NUSp_tge_M9"
      },
      "id": "-NUSp_tge_M9",
      "execution_count": null,
      "outputs": []
    },
    {
      "cell_type": "code",
      "source": [
        "np.sort(rfc1.feature_importances_)[-20:]"
      ],
      "metadata": {
        "id": "Gu61BpJ_gKzQ"
      },
      "id": "Gu61BpJ_gKzQ",
      "execution_count": null,
      "outputs": []
    },
    {
      "cell_type": "code",
      "source": [
        "X_train_encoded.columns[np.argsort(rfc1.feature_importances_)[-20:]].values"
      ],
      "metadata": {
        "id": "4GIPJgUgfLsY"
      },
      "id": "4GIPJgUgfLsY",
      "execution_count": null,
      "outputs": []
    },
    {
      "cell_type": "markdown",
      "source": [
        "#### Интересно что факт оформления через Яндекс.Путешествия ощутимо влияет на отменy"
      ],
      "metadata": {
        "id": "_Dxn6B_xhGuB"
      },
      "id": "_Dxn6B_xhGuB"
    },
    {
      "cell_type": "code",
      "source": [
        "important_indices = np.argsort(rfc1.feature_importances_)[-20:]\n",
        "important_features = X_train_encoded.columns[important_indices]\n",
        "\n",
        "important_data = X_train_encoded[important_features]\n",
        "correlation_with_target = important_data.corrwith(pd.Series(y_train))\n",
        "\n",
        "sorted_correlation = correlation_with_target.reindex(correlation_with_target.abs().sort_values(ascending=False).index)\n",
        "sorted_correlation_percent = sorted_correlation * 100\n",
        "print(sorted_correlation_percent)"
      ],
      "metadata": {
        "id": "83Z_WBvUfgKp"
      },
      "id": "83Z_WBvUfgKp",
      "execution_count": null,
      "outputs": []
    },
    {
      "cell_type": "code",
      "source": [
        "\n",
        "\n",
        "\n",
        "\n"
      ],
      "metadata": {
        "id": "h0vzAMFOkG7G"
      },
      "id": "h0vzAMFOkG7G",
      "execution_count": null,
      "outputs": []
    },
    {
      "cell_type": "markdown",
      "source": [
        "### В датасете сильный дисбаланс классов"
      ],
      "metadata": {
        "id": "ZiTv2TynpF64"
      },
      "id": "ZiTv2TynpF64"
    },
    {
      "cell_type": "code",
      "source": [
        "class_weights = {0: 1, 1: 6.67}\n",
        "lr2 = LogisticRegression(class_weight=class_weights, max_iter=1000).fit(X_train_attempt2, y_train_attempt2)\n",
        "print(\"Accuracy on Valid: \", accuracy_score(y_valid_attempt2, lr2.predict(X_valid_attempt2)))\n",
        "print(\"ROC-AUC on Valid: \", roc_auc_score(y_valid_attempt2, lr2.predict(X_valid_attempt2)))"
      ],
      "metadata": {
        "id": "-2iHP7z7pFVX"
      },
      "id": "-2iHP7z7pFVX",
      "execution_count": null,
      "outputs": []
    },
    {
      "cell_type": "code",
      "source": [
        "lr3 = LogisticRegression(class_weight='balanced', max_iter=1000).fit(X_train_attempt2, y_train_attempt2)\n",
        "print(\"Accuracy on Valid: \", accuracy_score(y_valid_attempt2, lr3.predict(X_valid_attempt2)))\n",
        "print(\"ROC-AUC on Valid: \", roc_auc_score(y_valid_attempt2, lr3.predict(X_valid_attempt2)))"
      ],
      "metadata": {
        "id": "CNLaKQEopkgm"
      },
      "id": "CNLaKQEopkgm",
      "execution_count": null,
      "outputs": []
    },
    {
      "cell_type": "code",
      "source": [
        "rfc2 = RandomForestClassifier(class_weight='balanced').fit(X_train_attempt2, y_train_attempt2)\n",
        "print(\"Accuracy on Valid: \", accuracy_score(y_valid_attempt2, rfc2.predict(X_valid_attempt2)))\n",
        "print(\"ROC-AUC on Valid: \", roc_auc_score(y_valid_attempt2, rfc2.predict(X_valid_attempt2)))"
      ],
      "metadata": {
        "id": "UMUchg5upznx"
      },
      "id": "UMUchg5upznx",
      "execution_count": null,
      "outputs": []
    },
    {
      "cell_type": "code",
      "source": [],
      "metadata": {
        "id": "LEYL1YyoqC5c"
      },
      "id": "LEYL1YyoqC5c",
      "execution_count": null,
      "outputs": []
    },
    {
      "cell_type": "code",
      "source": [],
      "metadata": {
        "id": "vfk2k9Q0saUi"
      },
      "id": "vfk2k9Q0saUi",
      "execution_count": null,
      "outputs": []
    },
    {
      "cell_type": "markdown",
      "source": [
        "### Добавим квадрат и куб дней до заезда чтобы приблизить истинную зависимость"
      ],
      "metadata": {
        "id": "4pM8CM26Vkog"
      },
      "id": "4pM8CM26Vkog"
    },
    {
      "cell_type": "code",
      "source": [
        "X_train_attempt2 = X_train_attempt2.copy()\n",
        "X_train_attempt2.loc[:, \"Количество дней до заезда_^2\"] = X_train_attempt2[\"Количество дней до заезда\"]**2\n",
        "X_train_attempt2.loc[:, \"Количество дней до заезда_^3\"] = X_train_attempt2[\"Количество дней до заезда\"]**3\n",
        "\n",
        "X_valid_attempt2 = X_valid_attempt2.copy()\n",
        "X_valid_attempt2.loc[:, \"Количество дней до заезда_^2\"] = X_valid_attempt2[\"Количество дней до заезда\"]**2\n",
        "X_valid_attempt2.loc[:, \"Количество дней до заезда_^3\"] = X_valid_attempt2[\"Количество дней до заезда\"]**3\n",
        "\n",
        "X_test_attempt2 = X_test_encoded.copy()\n",
        "X_test_attempt2.loc[:, \"Количество дней до заезда_^2\"] = X_test_attempt2[\"Количество дней до заезда\"]**2\n",
        "X_test_attempt2.loc[:, \"Количество дней до заезда_^3\"] = X_test_attempt2[\"Количество дней до заезда\"]**3"
      ],
      "metadata": {
        "id": "Xt_P3-_pVlYq"
      },
      "id": "Xt_P3-_pVlYq",
      "execution_count": 359,
      "outputs": []
    },
    {
      "cell_type": "code",
      "source": [
        "X_train_attempt2.shape, X_valid_attempt2.shape, X_test_attempt2.shape"
      ],
      "metadata": {
        "colab": {
          "base_uri": "https://localhost:8080/"
        },
        "id": "6zggpMg_YDfc",
        "outputId": "cec980c0-3475-4f88-a1f4-069694625e76"
      },
      "id": "6zggpMg_YDfc",
      "execution_count": 360,
      "outputs": [
        {
          "output_type": "execute_result",
          "data": {
            "text/plain": [
              "((19000, 58), (5387, 58), (11218, 58))"
            ]
          },
          "metadata": {},
          "execution_count": 360
        }
      ]
    },
    {
      "cell_type": "code",
      "source": [],
      "metadata": {
        "id": "mbB7cN4xYCyO"
      },
      "id": "mbB7cN4xYCyO",
      "execution_count": null,
      "outputs": []
    },
    {
      "cell_type": "code",
      "source": [],
      "metadata": {
        "id": "1-hQi9euYCcO"
      },
      "id": "1-hQi9euYCcO",
      "execution_count": null,
      "outputs": []
    },
    {
      "cell_type": "code",
      "source": [
        "X_train_attempt2.head()"
      ],
      "metadata": {
        "id": "qzmZm8n9WFe_"
      },
      "id": "qzmZm8n9WFe_",
      "execution_count": null,
      "outputs": []
    },
    {
      "cell_type": "code",
      "source": [
        "lr4 = LogisticRegression(class_weight='balanced', max_iter=1000).fit(X_train_attempt2, y_train_attempt2)\n",
        "print(\"Accuracy on Valid: \", accuracy_score(y_valid_attempt2, lr4.predict(X_valid_attempt2)))\n",
        "print(\"ROC-AUC on Valid: \", roc_auc_score(y_valid_attempt2, lr4.predict(X_valid_attempt2)))"
      ],
      "metadata": {
        "id": "ILShBTPDWNT8"
      },
      "id": "ILShBTPDWNT8",
      "execution_count": null,
      "outputs": []
    },
    {
      "cell_type": "code",
      "source": [],
      "metadata": {
        "id": "vdGJXepZXFtj"
      },
      "id": "vdGJXepZXFtj",
      "execution_count": null,
      "outputs": []
    },
    {
      "cell_type": "markdown",
      "source": [
        "### Balanced Random Forest"
      ],
      "metadata": {
        "id": "ewrUR6MmckVW"
      },
      "id": "ewrUR6MmckVW"
    },
    {
      "cell_type": "code",
      "source": [
        "from imblearn.ensemble import BalancedRandomForestClassifier"
      ],
      "metadata": {
        "id": "7kFQns3TcpdE"
      },
      "id": "7kFQns3TcpdE",
      "execution_count": null,
      "outputs": []
    },
    {
      "cell_type": "code",
      "source": [
        "brf1 = BalancedRandomForestClassifier(n_estimators=500).fit(X_train_attempt2, y_train_attempt2)\n",
        "print(\"Accuracy on Valid: \", accuracy_score(y_valid_attempt2, brf1.predict(X_valid_attempt2)))\n",
        "print(\"ROC-AUC on Valid: \", roc_auc_score(y_valid_attempt2, brf1.predict(X_valid_attempt2)))"
      ],
      "metadata": {
        "id": "OX7DECxFcv73"
      },
      "id": "OX7DECxFcv73",
      "execution_count": null,
      "outputs": []
    },
    {
      "cell_type": "code",
      "source": [],
      "metadata": {
        "id": "6zXGzBOydWzP"
      },
      "id": "6zXGzBOydWzP",
      "execution_count": null,
      "outputs": []
    },
    {
      "cell_type": "markdown",
      "source": [
        "# Промежуточное сохранение"
      ],
      "metadata": {
        "id": "DffIjhrKs8m5"
      },
      "id": "DffIjhrKs8m5"
    },
    {
      "cell_type": "code",
      "source": [
        "test_pred1 = brf1.predict(X_test_attempt2)\n",
        "test_pred1"
      ],
      "metadata": {
        "id": "Jgx3gby8s110"
      },
      "id": "Jgx3gby8s110",
      "execution_count": null,
      "outputs": []
    },
    {
      "cell_type": "code",
      "source": [
        "test_pred1.shape"
      ],
      "metadata": {
        "id": "DuCuy4-Ps1g-"
      },
      "id": "DuCuy4-Ps1g-",
      "execution_count": null,
      "outputs": []
    },
    {
      "cell_type": "code",
      "source": [
        "from google.colab import files"
      ],
      "metadata": {
        "id": "VhLvt9pDvqQT"
      },
      "id": "VhLvt9pDvqQT",
      "execution_count": null,
      "outputs": []
    },
    {
      "cell_type": "code",
      "source": [
        "result_01 = pd.Series(test_pred1)\n",
        "result_01.to_csv('result_02.csv', index=False, header=False)\n",
        "files.download('result_02.csv')"
      ],
      "metadata": {
        "id": "Yp3iuKktu8KM"
      },
      "id": "Yp3iuKktu8KM",
      "execution_count": null,
      "outputs": []
    },
    {
      "cell_type": "code",
      "source": [
        "result_01.shape, test_data.shape"
      ],
      "metadata": {
        "id": "8Q_hPeqcwAvp"
      },
      "id": "8Q_hPeqcwAvp",
      "execution_count": null,
      "outputs": []
    },
    {
      "cell_type": "code",
      "source": [],
      "metadata": {
        "id": "MmhBcrQ7d4Zv"
      },
      "id": "MmhBcrQ7d4Zv",
      "execution_count": null,
      "outputs": []
    },
    {
      "cell_type": "markdown",
      "source": [
        "### OverSampling"
      ],
      "metadata": {
        "id": "9LvYnrq_d5CB"
      },
      "id": "9LvYnrq_d5CB"
    },
    {
      "cell_type": "code",
      "source": [
        "from imblearn.over_sampling import SMOTE\n",
        "\n",
        "smote = SMOTE()\n",
        "X_resampled, y_resampled = smote.fit_resample(X_train_attempt2, y_train_attempt2)"
      ],
      "metadata": {
        "id": "zwWc5Hgcd4wS"
      },
      "id": "zwWc5Hgcd4wS",
      "execution_count": null,
      "outputs": []
    },
    {
      "cell_type": "code",
      "source": [
        "lr5 = LogisticRegression(max_iter=5000).fit(X_resampled, y_resampled)\n",
        "print(\"Accuracy on Valid: \", accuracy_score(y_valid_attempt2, lr5.predict(X_valid_attempt2)))\n",
        "print(\"ROC-AUC on Valid: \", roc_auc_score(y_valid_attempt2, lr5.predict(X_valid_attempt2)))"
      ],
      "metadata": {
        "id": "15sHGFTaeC_Q"
      },
      "id": "15sHGFTaeC_Q",
      "execution_count": null,
      "outputs": []
    },
    {
      "cell_type": "code",
      "source": [
        "rf3 = RandomForestClassifier().fit(X_resampled, y_resampled)\n",
        "print(\"Accuracy on Valid: \", accuracy_score(y_valid_attempt2, rf3.predict(X_valid_attempt2)))\n",
        "print(\"ROC-AUC on Valid: \", roc_auc_score(y_valid_attempt2, rf3.predict(X_valid_attempt2)))"
      ],
      "metadata": {
        "id": "RY-r_YBCePuf"
      },
      "id": "RY-r_YBCePuf",
      "execution_count": null,
      "outputs": []
    },
    {
      "cell_type": "code",
      "source": [
        "\n",
        "\n",
        "\n",
        "\n",
        "\n"
      ],
      "metadata": {
        "id": "E4bcPTNsedkS"
      },
      "id": "E4bcPTNsedkS",
      "execution_count": null,
      "outputs": []
    },
    {
      "cell_type": "code",
      "source": [
        "X_train_attempt2.shape, X_valid_attempt2.shape, X_test_attempt2.shape"
      ],
      "metadata": {
        "id": "PleS4E1RnXhO"
      },
      "id": "PleS4E1RnXhO",
      "execution_count": null,
      "outputs": []
    },
    {
      "cell_type": "code",
      "source": [
        "\n",
        "\n",
        "\n",
        "\n",
        "\n"
      ],
      "metadata": {
        "id": "vrqL_nLABSua"
      },
      "id": "vrqL_nLABSua",
      "execution_count": null,
      "outputs": []
    },
    {
      "cell_type": "markdown",
      "source": [
        "## Дефолтный катбуст"
      ],
      "metadata": {
        "id": "CLDK9rMlEi-f"
      },
      "id": "CLDK9rMlEi-f"
    },
    {
      "cell_type": "code",
      "source": [
        "!pip install catboost"
      ],
      "metadata": {
        "id": "KKwaj8ibEv1l"
      },
      "id": "KKwaj8ibEv1l",
      "execution_count": null,
      "outputs": []
    },
    {
      "cell_type": "code",
      "source": [
        "from catboost import CatBoostClassifier"
      ],
      "metadata": {
        "id": "mRDIImiFEhpl"
      },
      "id": "mRDIImiFEhpl",
      "execution_count": null,
      "outputs": []
    },
    {
      "cell_type": "markdown",
      "source": [
        "#### на сырых данных"
      ],
      "metadata": {
        "id": "SJZ4Q8o0GBre"
      },
      "id": "SJZ4Q8o0GBre"
    },
    {
      "cell_type": "code",
      "source": [
        "X_train_catboost, X_valid_catboost, y_train_catboost, y_valid_catboost = X_train[:19000], X_train[19000:], y_train[:19000], y_train[19000:]"
      ],
      "metadata": {
        "id": "ppvI_dhkGF7a"
      },
      "id": "ppvI_dhkGF7a",
      "execution_count": null,
      "outputs": []
    },
    {
      "cell_type": "code",
      "source": [
        "X_train_catboost.shape, X_valid_catboost.shape, y_train_catboost.shape, y_valid_catboost.shape"
      ],
      "metadata": {
        "id": "tjdb0L4oHeZy"
      },
      "id": "tjdb0L4oHeZy",
      "execution_count": null,
      "outputs": []
    },
    {
      "cell_type": "code",
      "source": [
        "cats = X_train.select_dtypes(include=\"object\").columns.tolist()\n",
        "cb0 = CatBoostClassifier(cat_features=cats, auto_class_weights='Balanced').fit(X_train_catboost, y_train_catboost, verbose=0)\n",
        "\n",
        "print(\"Accuracy on Valid: \", accuracy_score(y_valid_catboost, cb0.predict(X_valid_catboost)))\n",
        "print(\"ROC-AUC on Valid: \", roc_auc_score(y_valid_catboost, cb0.predict(X_valid_catboost)))"
      ],
      "metadata": {
        "id": "cyIpOChSGBZY"
      },
      "id": "cyIpOChSGBZY",
      "execution_count": null,
      "outputs": []
    },
    {
      "cell_type": "markdown",
      "source": [
        "#### на закодированных данных"
      ],
      "metadata": {
        "id": "kN_ZkNKNF9JJ"
      },
      "id": "kN_ZkNKNF9JJ"
    },
    {
      "cell_type": "code",
      "source": [
        "cb1 = CatBoostClassifier(auto_class_weights='Balanced').fit(X_train_attempt2, y_train_attempt2, verbose=0)\n",
        "\n",
        "print(\"Accuracy on Valid: \", accuracy_score(y_valid_attempt2, cb1.predict(X_valid_attempt2)))\n",
        "print(\"ROC-AUC on Valid: \", roc_auc_score(y_valid_attempt2, cb1.predict(X_valid_attempt2)))"
      ],
      "metadata": {
        "id": "ReqAcesGEuzb"
      },
      "id": "ReqAcesGEuzb",
      "execution_count": null,
      "outputs": []
    },
    {
      "cell_type": "code",
      "source": [
        "\n",
        "\n",
        "\n",
        "\n",
        "\n",
        "\n",
        "\n",
        "\n",
        "\n",
        "\n"
      ],
      "metadata": {
        "id": "DFsPlX-DFUlX"
      },
      "id": "DFsPlX-DFUlX",
      "execution_count": null,
      "outputs": []
    },
    {
      "cell_type": "code",
      "source": [],
      "metadata": {
        "id": "rVQI15qGRGkq"
      },
      "id": "rVQI15qGRGkq",
      "execution_count": null,
      "outputs": []
    },
    {
      "cell_type": "code",
      "source": [
        "\n",
        "\n",
        "\n",
        "\n",
        "\n",
        "\n",
        "\n",
        "\n",
        "\n"
      ],
      "metadata": {
        "id": "R4GqjjNJRGVo"
      },
      "id": "R4GqjjNJRGVo",
      "execution_count": null,
      "outputs": []
    },
    {
      "cell_type": "markdown",
      "source": [
        "## Голосование"
      ],
      "metadata": {
        "id": "PqkOqv0oIQ-y"
      },
      "id": "PqkOqv0oIQ-y"
    },
    {
      "cell_type": "code",
      "source": [
        "X_train_merged = pd.concat([X_train_attempt2, X_valid_attempt2], axis=0).reset_index(drop=True)\n",
        "X_train_catboost_merged = pd.concat([X_train_catboost, X_valid_catboost], axis=0).reset_index(drop=True)\n",
        "y_train_merged = pd.concat([y_train_attempt2, y_valid_attempt2], axis=0).reset_index(drop=True)"
      ],
      "metadata": {
        "id": "EkMg02aYJwAj"
      },
      "id": "EkMg02aYJwAj",
      "execution_count": null,
      "outputs": []
    },
    {
      "cell_type": "code",
      "source": [
        "models = [lr4, lr5, brf1, cb0, cb1]"
      ],
      "metadata": {
        "id": "FI_zhL2CIOvY"
      },
      "id": "FI_zhL2CIOvY",
      "execution_count": null,
      "outputs": []
    },
    {
      "cell_type": "code",
      "source": [
        "all_preds_train = []\n",
        "\n",
        "for model in models:\n",
        "    if model is cb0:\n",
        "        preds = model.predict(X_train_catboost_merged)\n",
        "    else:\n",
        "        preds = model.predict(X_train_merged)\n",
        "    all_preds_train.append(preds)\n",
        "\n",
        "all_preds_train_df = pd.DataFrame(all_preds_train).T\n",
        "\n",
        "print(all_preds_train_df.shape)"
      ],
      "metadata": {
        "id": "l7q05_MfK-ca"
      },
      "id": "l7q05_MfK-ca",
      "execution_count": null,
      "outputs": []
    },
    {
      "cell_type": "code",
      "source": [
        "def majority_vote(row):\n",
        "    return 1 if row.mean() >= 0.5 else 0\n",
        "\n",
        "final_predictions_train = all_preds_train_df.apply(majority_vote, axis=1)\n",
        "\n",
        "print(final_predictions_train.shape)"
      ],
      "metadata": {
        "id": "D7PskIf1MS47"
      },
      "id": "D7PskIf1MS47",
      "execution_count": null,
      "outputs": []
    },
    {
      "cell_type": "code",
      "source": [
        "print(\"Accuracy on whole train: \", accuracy_score(y_train_merged, final_predictions_train))\n",
        "print(\"ROC-AUC on whole train: \", roc_auc_score(y_train_merged, final_predictions_train))"
      ],
      "metadata": {
        "id": "NiFLf9AxPSG_"
      },
      "id": "NiFLf9AxPSG_",
      "execution_count": null,
      "outputs": []
    },
    {
      "cell_type": "code",
      "source": [
        "\n",
        "\n",
        "\n"
      ],
      "metadata": {
        "id": "LxwFxLPjPnD7"
      },
      "id": "LxwFxLPjPnD7",
      "execution_count": null,
      "outputs": []
    },
    {
      "cell_type": "code",
      "source": [
        "all_preds_valid = []\n",
        "\n",
        "for model in models:\n",
        "    if model is cb0:\n",
        "        preds = model.predict(X_valid_catboost)\n",
        "    else:\n",
        "        preds = model.predict(X_valid_attempt2)\n",
        "    all_preds_valid.append(preds)\n",
        "\n",
        "all_preds_valid_df = pd.DataFrame(all_preds_valid).T\n",
        "\n",
        "print(all_preds_valid_df.shape)"
      ],
      "metadata": {
        "id": "atnIkLmlVOtu"
      },
      "id": "atnIkLmlVOtu",
      "execution_count": null,
      "outputs": []
    },
    {
      "cell_type": "code",
      "source": [
        "final_predictions_valid = all_preds_valid_df.apply(majority_vote, axis=1)\n",
        "\n",
        "print(final_predictions_valid.shape)"
      ],
      "metadata": {
        "id": "I8ebxG-DVqfk"
      },
      "id": "I8ebxG-DVqfk",
      "execution_count": null,
      "outputs": []
    },
    {
      "cell_type": "code",
      "source": [
        "print(\"Accuracy on valid train: \", accuracy_score(y_valid_attempt2, final_predictions_valid))\n",
        "print(\"ROC-AUC on valid train: \", roc_auc_score(y_valid_attempt2, final_predictions_valid))"
      ],
      "metadata": {
        "id": "uu_mCrvKVx1L"
      },
      "id": "uu_mCrvKVx1L",
      "execution_count": null,
      "outputs": []
    },
    {
      "cell_type": "code",
      "source": [
        "\n",
        "\n",
        "\n",
        "\n"
      ],
      "metadata": {
        "id": "8MdN0snLP47b"
      },
      "id": "8MdN0snLP47b",
      "execution_count": null,
      "outputs": []
    },
    {
      "cell_type": "markdown",
      "source": [
        "# Голосование на тесте и сохранение"
      ],
      "metadata": {
        "id": "CiPKRhfBQh8Q"
      },
      "id": "CiPKRhfBQh8Q"
    },
    {
      "cell_type": "code",
      "source": [
        "X_test.shape, X_test_attempt2.shape"
      ],
      "metadata": {
        "id": "RQ4QLymFQQGR"
      },
      "id": "RQ4QLymFQQGR",
      "execution_count": null,
      "outputs": []
    },
    {
      "cell_type": "code",
      "source": [
        "all_preds_test = []\n",
        "\n",
        "for model in models:\n",
        "    if model is cb0:\n",
        "        preds = model.predict(X_test)\n",
        "    else:\n",
        "        preds = model.predict(X_test_attempt2)\n",
        "    all_preds_test.append(preds)\n",
        "\n",
        "all_preds_test_df = pd.DataFrame(all_preds_test).T\n",
        "\n",
        "print(all_preds_test_df.shape)"
      ],
      "metadata": {
        "id": "D7cO-L3ZP5V-"
      },
      "id": "D7cO-L3ZP5V-",
      "execution_count": null,
      "outputs": []
    },
    {
      "cell_type": "code",
      "source": [
        "final_predictions_test = all_preds_test_df.apply(majority_vote, axis=1)"
      ],
      "metadata": {
        "id": "HAdJ-ZgTQdp_"
      },
      "id": "HAdJ-ZgTQdp_",
      "execution_count": null,
      "outputs": []
    },
    {
      "cell_type": "code",
      "source": [
        "result_02 = pd.Series(final_predictions_test)\n",
        "result_02.to_csv('result_03.csv', index=False, header=False)\n",
        "files.download('result_03.csv')"
      ],
      "metadata": {
        "id": "rjsZAbcTQgBW"
      },
      "id": "rjsZAbcTQgBW",
      "execution_count": null,
      "outputs": []
    },
    {
      "cell_type": "code",
      "source": [
        "(result_01==result_02).mean()"
      ],
      "metadata": {
        "id": "a0l_cuaeQxmI"
      },
      "id": "a0l_cuaeQxmI",
      "execution_count": null,
      "outputs": []
    },
    {
      "cell_type": "code",
      "source": [
        "\n",
        "\n",
        "\n",
        "\n",
        "\n",
        "\n",
        "\n",
        "\n"
      ],
      "metadata": {
        "id": "3zxkXR93Wnvp"
      },
      "id": "3zxkXR93Wnvp",
      "execution_count": null,
      "outputs": []
    },
    {
      "cell_type": "code",
      "source": [
        "from xgboost import XGBClassifier"
      ],
      "metadata": {
        "id": "ib1D1vQXWxLD"
      },
      "id": "ib1D1vQXWxLD",
      "execution_count": null,
      "outputs": []
    },
    {
      "cell_type": "code",
      "source": [
        "xgb1 = XGBClassifier(objective='binary:logistic', eval_metric='logloss')\n",
        "xgb1.fit(X_train_attempt2, y_train_attempt2)\n",
        "\n",
        "print(\"Accuracy on Valid: \", accuracy_score(y_valid_attempt2, xgb1.predict(X_valid_attempt2)))\n",
        "print(\"ROC-AUC on Valid: \", roc_auc_score(y_valid_attempt2, xgb1.predict(X_valid_attempt2)))\n",
        "\n"
      ],
      "metadata": {
        "id": "Qr91vdbnXBfT"
      },
      "id": "Qr91vdbnXBfT",
      "execution_count": null,
      "outputs": []
    },
    {
      "cell_type": "code",
      "source": [
        "from xgboost import XGBClassifier\n",
        "from sklearn.metrics import accuracy_score, roc_auc_score, f1_score, log_loss\n",
        "from sklearn.utils import class_weight\n",
        "import numpy as np\n",
        "\n",
        "# Вычисление весов классов\n",
        "weights = class_weight.compute_class_weight('balanced', classes=np.unique(y_train_attempt2), y=y_train_attempt2)\n",
        "class_weights = {0: weights[0], 1: weights[1]}\n",
        "\n",
        "# Список различных параметров и весов классов\n",
        "params_list = [\n",
        "    {'objective': 'binary:logistic', 'eval_metric': 'logloss', 'max_depth': 4, 'learning_rate': 0.1, 'n_estimators': 100, 'scale_pos_weight': class_weights[1]},\n",
        "    {'objective': 'binary:logistic', 'eval_metric': 'logloss', 'max_depth': 6, 'learning_rate': 0.1, 'n_estimators': 100, 'scale_pos_weight': class_weights[1]},\n",
        "    {'objective': 'binary:logistic', 'eval_metric': 'logloss', 'max_depth': 8, 'learning_rate': 0.1, 'n_estimators': 100, 'scale_pos_weight': class_weights[1]},\n",
        "    {'objective': 'binary:logistic', 'eval_metric': 'logloss', 'max_depth': 4, 'learning_rate': 0.01, 'n_estimators': 300, 'scale_pos_weight': class_weights[1]},\n",
        "    {'objective': 'binary:logistic', 'eval_metric': 'logloss', 'max_depth': 5, 'learning_rate': 0.2, 'n_estimators': 50, 'scale_pos_weight': class_weights[1]},\n",
        "    {'objective': 'binary:logistic', 'eval_metric': 'auc', 'max_depth': 7, 'learning_rate': 0.2, 'n_estimators': 50, 'scale_pos_weight': class_weights[1]},\n",
        "    {'objective': 'binary:logistic', 'eval_metric': 'auc', 'max_depth': 5, 'learning_rate': 0.3, 'n_estimators': 150, 'scale_pos_weight': class_weights[1]},\n",
        "    {'objective': 'binary:logistic', 'eval_metric': 'auc', 'max_depth': 2, 'learning_rate': 0.1, 'n_estimators': 100, 'scale_pos_weight': class_weights[1]},\n",
        "    {'objective': 'binary:logistic', 'eval_metric': 'auc', 'max_depth': 6, 'learning_rate': 0.3, 'n_estimators': 200, 'scale_pos_weight': class_weights[1]}\n",
        "]\n",
        "\n",
        "predictions_train = []\n",
        "predictions_valid = []\n",
        "predictions_test = []\n",
        "\n",
        "for params in params_list:\n",
        "    model = XGBClassifier(**params)\n",
        "    model.fit(X_train_attempt2, y_train_attempt2)\n",
        "    train_preds = model.predict(X_train_attempt2)\n",
        "    valid_preds = model.predict(X_valid_attempt2)\n",
        "    test_preds = model.predict(X_test_attempt2)\n",
        "    predictions_train.append(train_preds)\n",
        "    predictions_test.append(test_preds)\n",
        "    predictions_valid.append(valid_preds)\n",
        "\n",
        "# Итоговые предсказания, усреднённые по всем моделям\n",
        "ensemble_preds_train = (sum(predictions_train) / len(predictions_train)).round()\n",
        "ensemble_preds_valid = (sum(predictions_valid) / len(predictions_valid)).round()\n",
        "ensemble_preds_test = (sum(predictions_test) / len(predictions_test)).round()\n"
      ],
      "metadata": {
        "id": "6zSTYtuLZnzY"
      },
      "id": "6zSTYtuLZnzY",
      "execution_count": null,
      "outputs": []
    },
    {
      "cell_type": "code",
      "source": [
        "\n",
        "\n",
        "\n",
        "\n"
      ],
      "metadata": {
        "id": "YCgpWYHSb3ak"
      },
      "id": "YCgpWYHSb3ak",
      "execution_count": null,
      "outputs": []
    },
    {
      "cell_type": "code",
      "source": [],
      "metadata": {
        "id": "XJAalt24b4hi"
      },
      "id": "XJAalt24b4hi",
      "execution_count": null,
      "outputs": []
    },
    {
      "cell_type": "code",
      "source": [],
      "metadata": {
        "id": "9w-FY95rcID9"
      },
      "id": "9w-FY95rcID9",
      "execution_count": null,
      "outputs": []
    },
    {
      "cell_type": "code",
      "source": [
        "result_01.shape, result_02.shape, X_test.shape, ensemble_preds_test.shape"
      ],
      "metadata": {
        "id": "PEWwOO8pc2qq"
      },
      "id": "PEWwOO8pc2qq",
      "execution_count": null,
      "outputs": []
    },
    {
      "cell_type": "code",
      "source": [
        "predictions_test = pd.DataFrame([ensemble_preds_test, result_01.values, result_02.values]).T\n",
        "predictions_test.shape"
      ],
      "metadata": {
        "id": "NzmrEI2zafU0"
      },
      "id": "NzmrEI2zafU0",
      "execution_count": null,
      "outputs": []
    },
    {
      "cell_type": "code",
      "source": [
        "final_predictions_test = predictions_test.apply(majority_vote, axis=1)"
      ],
      "metadata": {
        "id": "HlY1EMWcauzb"
      },
      "id": "HlY1EMWcauzb",
      "execution_count": null,
      "outputs": []
    },
    {
      "cell_type": "code",
      "source": [
        "(final_predictions_test.values==result_01.values).mean()"
      ],
      "metadata": {
        "id": "HCWbpgo-b70T"
      },
      "id": "HCWbpgo-b70T",
      "execution_count": null,
      "outputs": []
    },
    {
      "cell_type": "code",
      "source": [
        "(final_predictions_test.values==result_02.values).mean()"
      ],
      "metadata": {
        "id": "00KP9yWnb_tp"
      },
      "id": "00KP9yWnb_tp",
      "execution_count": null,
      "outputs": []
    },
    {
      "cell_type": "code",
      "source": [
        "final_predictions_test.shape"
      ],
      "metadata": {
        "id": "SebjUQS-mPMi"
      },
      "id": "SebjUQS-mPMi",
      "execution_count": null,
      "outputs": []
    },
    {
      "cell_type": "code",
      "source": [
        "final_predictions_test.to_csv(\"result_04.csv\", index=False, header=False)\n",
        "files.download(\"result_04.csv\")"
      ],
      "metadata": {
        "id": "2TXbKhNzfGs_"
      },
      "id": "2TXbKhNzfGs_",
      "execution_count": null,
      "outputs": []
    },
    {
      "cell_type": "code",
      "source": [
        "\n",
        "\n",
        "\n",
        "\n",
        "\n",
        "\n"
      ],
      "metadata": {
        "id": "c8n4hNfPfMsy"
      },
      "id": "c8n4hNfPfMsy",
      "execution_count": null,
      "outputs": []
    },
    {
      "cell_type": "code",
      "source": [
        "ensemble_preds_train.shape"
      ],
      "metadata": {
        "id": "5MRglYe3jJW9"
      },
      "id": "5MRglYe3jJW9",
      "execution_count": null,
      "outputs": []
    },
    {
      "cell_type": "code",
      "source": [
        "ensemble_preds_train_df = pd.DataFrame(ensemble_preds_train)\n",
        "ensemble_preds_valid_df = pd.DataFrame(ensemble_preds_valid)\n",
        "ensemble_preds_test_df = pd.DataFrame(ensemble_preds_test)\n",
        "ensemble_preds_train_df.shape"
      ],
      "metadata": {
        "id": "Nzm4s0TXi-R5"
      },
      "id": "Nzm4s0TXi-R5",
      "execution_count": null,
      "outputs": []
    },
    {
      "cell_type": "code",
      "source": [
        "all_preds_train_df.shape"
      ],
      "metadata": {
        "id": "34g_mfx5ovi6"
      },
      "id": "34g_mfx5ovi6",
      "execution_count": null,
      "outputs": []
    },
    {
      "cell_type": "code",
      "source": [
        "all_preds_train_df[19000:]"
      ],
      "metadata": {
        "id": "cEbMJfPKo1Ko"
      },
      "id": "cEbMJfPKo1Ko",
      "execution_count": null,
      "outputs": []
    },
    {
      "cell_type": "code",
      "source": [
        "ensemble_preds_valid_df"
      ],
      "metadata": {
        "id": "YFwb9QFnpAh1"
      },
      "id": "YFwb9QFnpAh1",
      "execution_count": null,
      "outputs": []
    },
    {
      "cell_type": "code",
      "source": [
        "print(\"Размер all_preds_train_df[:19000]:\", all_preds_train_df[:19000].shape)\n",
        "print(\"Размер ensemble_preds_train_df:\", ensemble_preds_train_df.shape)\n",
        "print(\"Размер all_preds_train_df[19000:]:\", all_preds_train_df[19000:].shape)\n",
        "print(\"Размер ensemble_preds_valid_df:\", ensemble_preds_valid_df.shape)\n",
        "\n",
        "train_df = pd.concat([all_preds_train_df[:19000], ensemble_preds_train_df], axis=1, ignore_index=True).reset_index(drop=True)\n",
        "valid_df = pd.concat([all_preds_train_df[19000:].reset_index(drop=True), ensemble_preds_valid_df], axis=1, ignore_index=True).reset_index(drop=True)\n",
        "\n",
        "print(\"Форма train_df:\", train_df.shape)\n",
        "print(\"Форма valid_df:\", valid_df.shape)"
      ],
      "metadata": {
        "id": "hg7pEctjg5kr"
      },
      "id": "hg7pEctjg5kr",
      "execution_count": null,
      "outputs": []
    },
    {
      "cell_type": "code",
      "source": [
        "train_df.columns = range(len(train_df.columns))\n",
        "valid_df.columns = range(len(valid_df.columns))"
      ],
      "metadata": {
        "id": "IImxqrDtnVMK"
      },
      "id": "IImxqrDtnVMK",
      "execution_count": null,
      "outputs": []
    },
    {
      "cell_type": "code",
      "source": [
        "train_df.head()"
      ],
      "metadata": {
        "id": "1fYNL1OymZvJ"
      },
      "id": "1fYNL1OymZvJ",
      "execution_count": null,
      "outputs": []
    },
    {
      "cell_type": "code",
      "source": [
        "train_df.values.shape"
      ],
      "metadata": {
        "id": "OaXH8F93nGVk"
      },
      "id": "OaXH8F93nGVk",
      "execution_count": null,
      "outputs": []
    },
    {
      "cell_type": "code",
      "source": [
        "train_df.isnull().sum()"
      ],
      "metadata": {
        "id": "UO_0-OJnnuum"
      },
      "id": "UO_0-OJnnuum",
      "execution_count": null,
      "outputs": []
    },
    {
      "cell_type": "code",
      "source": [
        "valid_df.isnull().sum()"
      ],
      "metadata": {
        "id": "N0zx1a9DoGfl"
      },
      "id": "N0zx1a9DoGfl",
      "execution_count": null,
      "outputs": []
    },
    {
      "cell_type": "code",
      "source": [
        "lr6 = LogisticRegression(class_weight='balanced', max_iter=10000).fit(train_df, y_train_attempt2)\n",
        "print(\"Accuracy on Valid: \", accuracy_score(y_valid_attempt2, lr6.predict(valid_df)))\n",
        "print(\"ROC-AUC on Valid: \", roc_auc_score(y_valid_attempt2, lr6.predict(valid_df)))\n"
      ],
      "metadata": {
        "id": "MLNS01sbhbKe"
      },
      "id": "MLNS01sbhbKe",
      "execution_count": null,
      "outputs": []
    },
    {
      "cell_type": "code",
      "source": [
        "test_df = pd.concat([all_preds_test_df, ensemble_preds_test_df], axis=1, ignore_index=True).reset_index(drop=True)\n",
        "test_df.shape"
      ],
      "metadata": {
        "id": "-Ds-TfmUm3MP"
      },
      "id": "-Ds-TfmUm3MP",
      "execution_count": null,
      "outputs": []
    },
    {
      "cell_type": "code",
      "source": [
        "test_df.head(20)"
      ],
      "metadata": {
        "id": "6UlBTXu0vf_j"
      },
      "id": "6UlBTXu0vf_j",
      "execution_count": null,
      "outputs": []
    },
    {
      "cell_type": "code",
      "source": [
        "result_02.head(20)"
      ],
      "metadata": {
        "id": "gKvEhoXCwmM2"
      },
      "id": "gKvEhoXCwmM2",
      "execution_count": null,
      "outputs": []
    },
    {
      "cell_type": "code",
      "source": [
        "result_05 = pd.Series(lr6.predict(test_df))\n",
        "result_05.shape"
      ],
      "metadata": {
        "id": "VlR_bKiCraT4"
      },
      "id": "VlR_bKiCraT4",
      "execution_count": null,
      "outputs": []
    },
    {
      "cell_type": "code",
      "source": [
        "result_05.head()"
      ],
      "metadata": {
        "id": "RGEB8aZrsxZa"
      },
      "id": "RGEB8aZrsxZa",
      "execution_count": null,
      "outputs": []
    },
    {
      "cell_type": "code",
      "source": [
        "result_05.unique()"
      ],
      "metadata": {
        "id": "yy6SfZ0xs0iW"
      },
      "id": "yy6SfZ0xs0iW",
      "execution_count": null,
      "outputs": []
    },
    {
      "cell_type": "code",
      "source": [
        "result_05.to_csv(\"result_05.csv\", index=False, header=False)\n",
        "files.download(\"result_05.csv\")"
      ],
      "metadata": {
        "id": "_OphLQOjsDSZ"
      },
      "id": "_OphLQOjsDSZ",
      "execution_count": null,
      "outputs": []
    },
    {
      "cell_type": "code",
      "source": [
        "result_05_check = pd.read_csv(\"result_05.csv\", header=None)[0]\n",
        "result_05_check.head()"
      ],
      "metadata": {
        "id": "6HQigluKsP_I"
      },
      "id": "6HQigluKsP_I",
      "execution_count": null,
      "outputs": []
    },
    {
      "cell_type": "code",
      "source": [
        "result_05_check.shape"
      ],
      "metadata": {
        "id": "CMy7yJIpseE9"
      },
      "id": "CMy7yJIpseE9",
      "execution_count": null,
      "outputs": []
    },
    {
      "cell_type": "code",
      "source": [
        "(result_05==result_01).mean()"
      ],
      "metadata": {
        "id": "t4NH2CFvuACd"
      },
      "id": "t4NH2CFvuACd",
      "execution_count": null,
      "outputs": []
    },
    {
      "cell_type": "code",
      "source": [
        "lr6.coef_"
      ],
      "metadata": {
        "id": "Gt-Bkd_DtYmW"
      },
      "id": "Gt-Bkd_DtYmW",
      "execution_count": null,
      "outputs": []
    },
    {
      "cell_type": "code",
      "source": [
        "\n",
        "\n",
        "\n",
        "\n"
      ],
      "metadata": {
        "id": "bbzuvsxFxFiw"
      },
      "id": "bbzuvsxFxFiw",
      "execution_count": null,
      "outputs": []
    },
    {
      "cell_type": "code",
      "source": [
        "brf2 = BalancedRandomForestClassifier().fit(train_df, y_train_attempt2)\n",
        "print(\"Accuracy on Valid: \", accuracy_score(y_valid_attempt2, brf2.predict(valid_df)))\n",
        "print(\"ROC-AUC on Valid: \", roc_auc_score(y_valid_attempt2, brf2.predict(valid_df)))\n"
      ],
      "metadata": {
        "id": "f5EoUbvGyz1H"
      },
      "id": "f5EoUbvGyz1H",
      "execution_count": null,
      "outputs": []
    },
    {
      "cell_type": "code",
      "source": [
        "brf2.feature_importances_"
      ],
      "metadata": {
        "id": "pJitIs3bzR13"
      },
      "id": "pJitIs3bzR13",
      "execution_count": null,
      "outputs": []
    },
    {
      "cell_type": "markdown",
      "source": [
        "## Взвешенная \"по важности\" сумма предсказаний моделек"
      ],
      "metadata": {
        "id": "Qg1ar3FY1ntA"
      },
      "id": "Qg1ar3FY1ntA"
    },
    {
      "cell_type": "code",
      "source": [
        "weights = np.array(brf2.feature_importances_)\n",
        "\n",
        "weighted_votes = test_df.values * weights\n",
        "final_scores = np.sum(weighted_votes, axis=1)\n",
        "\n",
        "threshold = 0.5\n",
        "final_predictions = (final_scores > (np.sum(weights) / 2)).astype(int)\n",
        "\n",
        "result_06 = pd.Series(final_predictions)\n",
        "print(preds)"
      ],
      "metadata": {
        "id": "MEgyWcZhzVXW"
      },
      "id": "MEgyWcZhzVXW",
      "execution_count": null,
      "outputs": []
    },
    {
      "cell_type": "code",
      "source": [
        "print((result_06 == result_01).mean())\n",
        "print((result_06 == result_02).mean())"
      ],
      "metadata": {
        "id": "mjWNtx1bzuw0"
      },
      "id": "mjWNtx1bzuw0",
      "execution_count": null,
      "outputs": []
    },
    {
      "cell_type": "code",
      "source": [
        "result_06.shape"
      ],
      "metadata": {
        "id": "ruOHuo661U9z"
      },
      "id": "ruOHuo661U9z",
      "execution_count": null,
      "outputs": []
    },
    {
      "cell_type": "code",
      "source": [
        "result_06.to_csv(\"result_06.csv\", index=False, header=False)\n",
        "files.download(\"result_06.csv\")"
      ],
      "metadata": {
        "id": "EIlBWasI06LG"
      },
      "id": "EIlBWasI06LG",
      "execution_count": null,
      "outputs": []
    },
    {
      "cell_type": "code",
      "source": [],
      "metadata": {
        "id": "eQNWqB0d1kvm"
      },
      "id": "eQNWqB0d1kvm",
      "execution_count": null,
      "outputs": []
    },
    {
      "cell_type": "code",
      "source": [
        "\n",
        "\n",
        "\n",
        "\n",
        "\n",
        "\n",
        "\n",
        "\n",
        "\n",
        "\n"
      ],
      "metadata": {
        "id": "Qa1tCgSB1XuB"
      },
      "id": "Qa1tCgSB1XuB",
      "execution_count": null,
      "outputs": []
    },
    {
      "cell_type": "code",
      "source": [
        "type(X_train_attempt2)"
      ],
      "metadata": {
        "id": "H-tlm-_f3KDk"
      },
      "id": "H-tlm-_f3KDk",
      "execution_count": null,
      "outputs": []
    },
    {
      "cell_type": "code",
      "source": [
        "X_resampled.shape, y_resampled.shape"
      ],
      "metadata": {
        "id": "P0ix99cb3ueT"
      },
      "id": "P0ix99cb3ueT",
      "execution_count": null,
      "outputs": []
    },
    {
      "cell_type": "code",
      "source": [
        "X_train_array = X_resampled.values\n",
        "X_valid_array = X_valid_attempt2.values\n",
        "X_test_array = X_test_attempt2.values\n",
        "y_train_array = y_resampled.values\n",
        "y_valid_array = y_valid_attempt2.values"
      ],
      "metadata": {
        "id": "c1b1ld9E3OHT"
      },
      "id": "c1b1ld9E3OHT",
      "execution_count": null,
      "outputs": []
    },
    {
      "cell_type": "code",
      "source": [
        "import torch\n",
        "import torch.nn as nn\n",
        "import torch.optim as optim\n",
        "from torch.utils.data import DataLoader, TensorDataset"
      ],
      "metadata": {
        "id": "h9360qoE4Mlq"
      },
      "id": "h9360qoE4Mlq",
      "execution_count": null,
      "outputs": []
    },
    {
      "cell_type": "code",
      "source": [
        "X_train_tensor = torch.tensor(X_train_array, dtype=torch.float32).to(\"cuda\")\n",
        "y_train_tensor = torch.tensor(y_train_array, dtype=torch.float32).view(-1, 1).to(\"cuda\")\n",
        "X_valid_tensor = torch.tensor(X_valid_array, dtype=torch.float32).to(\"cuda\")\n",
        "y_valid_tensor = torch.tensor(y_valid_array, dtype=torch.float32).view(-1, 1).to(\"cuda\")\n",
        "\n",
        "\n",
        "train_dataset = TensorDataset(X_train_tensor, y_train_tensor)\n",
        "valid_dataset = TensorDataset(X_valid_tensor, y_valid_tensor)\n",
        "\n",
        "train_loader = DataLoader(train_dataset, batch_size=32, shuffle=True)\n",
        "valid_loader = DataLoader(valid_dataset, batch_size=32, shuffle=False)\n",
        "\n",
        "class FullyConnectedNN(nn.Module):\n",
        "    def __init__(self, input_size):\n",
        "        super(FullyConnectedNN, self).__init__()\n",
        "        self.fc1 = nn.Linear(input_size, 256)\n",
        "        self.fc2 = nn.Linear(256, 128)\n",
        "        self.fc3 = nn.Linear(128, 64)\n",
        "        self.fc4 = nn.Linear(64, 32)\n",
        "        self.fc6 = nn.Linear(32, 1)\n",
        "        self.activation = nn.ReLU()\n",
        "\n",
        "    def forward(self, x):\n",
        "        x = self.activation(self.fc1(x))\n",
        "        x = self.activation(self.fc2(x))\n",
        "        x = self.activation(self.fc3(x))\n",
        "        x = self.activation(self.fc4(x))\n",
        "        x = torch.sigmoid(self.fc6(x))\n",
        "        return x\n"
      ],
      "metadata": {
        "id": "1qtiVkpX2vP8"
      },
      "id": "1qtiVkpX2vP8",
      "execution_count": null,
      "outputs": []
    },
    {
      "cell_type": "code",
      "source": [
        "input_size = X_train_tensor.shape[1]\n",
        "model = FullyConnectedNN(input_size).to(\"cuda\")\n",
        "pos_weight = torch.tensor(np.sum(y_resampled == 0)/ np.sum(y_resampled == 1), dtype=torch.float32)\n",
        "\n",
        "criterion = nn.BCEWithLogitsLoss(pos_weight=pos_weight).to(\"cuda\")\n",
        "criterion = nn.BCELoss().to(\"cuda\")\n",
        "optimizer = optim.SGD(model.parameters(), lr=0.0001)"
      ],
      "metadata": {
        "id": "7ssbDwR24qTO"
      },
      "id": "7ssbDwR24qTO",
      "execution_count": 222,
      "outputs": []
    },
    {
      "cell_type": "code",
      "source": [
        "#optimizer.lr = 0.000005"
      ],
      "metadata": {
        "id": "ZIkFNwNt_MKM"
      },
      "id": "ZIkFNwNt_MKM",
      "execution_count": 223,
      "outputs": []
    },
    {
      "cell_type": "code",
      "source": [
        "# Обучение модели\n",
        "num_epochs = 100\n",
        "for epoch in range(num_epochs):\n",
        "    model.train()\n",
        "    for inputs, labels in train_loader:\n",
        "        optimizer.zero_grad()          # Обнуляем градиенты\n",
        "        outputs = model(inputs)        # Прямой проход\n",
        "        loss = criterion(outputs, labels)  # Вычисляем потерю\n",
        "        loss.backward()                # Обратный проход\n",
        "        optimizer.step()               # Обновляем параметры сети\n",
        "\n",
        "    model.eval()\n",
        "    with torch.no_grad():\n",
        "        valid_loss = 0\n",
        "        for inputs, labels in valid_loader:\n",
        "            outputs = model(inputs)\n",
        "            valid_loss += criterion(outputs, labels).item()\n",
        "\n",
        "    valid_loss /= len(valid_loader)\n",
        "    if epoch%10==0:\n",
        "      print(f'Epoch [{epoch+1}/{num_epochs}], Validation Loss: {valid_loss:.4f}')\n"
      ],
      "metadata": {
        "colab": {
          "base_uri": "https://localhost:8080/"
        },
        "id": "442ECNyM3DxV",
        "outputId": "da2749b0-3a73-43c8-b0d1-6b8a6df5f27a"
      },
      "id": "442ECNyM3DxV",
      "execution_count": 237,
      "outputs": [
        {
          "output_type": "stream",
          "name": "stdout",
          "text": [
            "Epoch [1/100], Validation Loss: 0.4992\n",
            "Epoch [11/100], Validation Loss: 0.4993\n",
            "Epoch [21/100], Validation Loss: 0.5022\n",
            "Epoch [31/100], Validation Loss: 0.4962\n",
            "Epoch [41/100], Validation Loss: 0.4965\n",
            "Epoch [51/100], Validation Loss: 0.5031\n",
            "Epoch [61/100], Validation Loss: 0.4979\n",
            "Epoch [71/100], Validation Loss: 0.4931\n",
            "Epoch [81/100], Validation Loss: 0.5079\n",
            "Epoch [91/100], Validation Loss: 0.5081\n"
          ]
        }
      ]
    },
    {
      "cell_type": "code",
      "source": [
        "model.eval()\n",
        "with torch.no_grad():\n",
        "    predictions = model(X_valid_tensor).cpu()\n",
        "\n",
        "predicted_classes = (predictions > 0.5).int().numpy()"
      ],
      "metadata": {
        "id": "aVP0ZGah5iba"
      },
      "id": "aVP0ZGah5iba",
      "execution_count": 238,
      "outputs": []
    },
    {
      "cell_type": "code",
      "source": [
        "print(\"Accuracy on Valid: \", accuracy_score(y_valid_attempt2, predicted_classes))\n",
        "print(\"ROC-AUC on Valid: \", roc_auc_score(y_valid_attempt2, predicted_classes))\n"
      ],
      "metadata": {
        "colab": {
          "base_uri": "https://localhost:8080/"
        },
        "id": "WtOnRF7A6L9v",
        "outputId": "b9aa14de-6849-41d2-9938-f89e5a87b0c9"
      },
      "id": "WtOnRF7A6L9v",
      "execution_count": 239,
      "outputs": [
        {
          "output_type": "stream",
          "name": "stdout",
          "text": [
            "Accuracy on Valid:  0.7623909411546316\n",
            "ROC-AUC on Valid:  0.6622802502602111\n"
          ]
        }
      ]
    },
    {
      "cell_type": "code",
      "source": [
        "X_test_tensor = torch.tensor(X_test_array, dtype=torch.float32).to(\"cuda\")\n",
        "model.eval()\n",
        "with torch.no_grad():\n",
        "    predictions = model(X_test_tensor).cpu()\n",
        "\n",
        "preds = (predictions > 0.5).int().numpy()\n"
      ],
      "metadata": {
        "id": "1sLFciko6ReI"
      },
      "id": "1sLFciko6ReI",
      "execution_count": 242,
      "outputs": []
    },
    {
      "cell_type": "code",
      "source": [
        "preds = preds.ravel()\n",
        "result_09 = pd.Series(preds)\n",
        "result_09.to_csv(\"result_09.csv\", index=False, header=False)\n",
        "files.download(\"result_09.csv\")"
      ],
      "metadata": {
        "colab": {
          "base_uri": "https://localhost:8080/",
          "height": 17
        },
        "id": "I5jJ8myWM7y5",
        "outputId": "ef48885f-0ca0-48e8-fd8a-6a7f88f169d3"
      },
      "id": "I5jJ8myWM7y5",
      "execution_count": 247,
      "outputs": [
        {
          "output_type": "display_data",
          "data": {
            "text/plain": [
              "<IPython.core.display.Javascript object>"
            ],
            "application/javascript": [
              "\n",
              "    async function download(id, filename, size) {\n",
              "      if (!google.colab.kernel.accessAllowed) {\n",
              "        return;\n",
              "      }\n",
              "      const div = document.createElement('div');\n",
              "      const label = document.createElement('label');\n",
              "      label.textContent = `Downloading \"${filename}\": `;\n",
              "      div.appendChild(label);\n",
              "      const progress = document.createElement('progress');\n",
              "      progress.max = size;\n",
              "      div.appendChild(progress);\n",
              "      document.body.appendChild(div);\n",
              "\n",
              "      const buffers = [];\n",
              "      let downloaded = 0;\n",
              "\n",
              "      const channel = await google.colab.kernel.comms.open(id);\n",
              "      // Send a message to notify the kernel that we're ready.\n",
              "      channel.send({})\n",
              "\n",
              "      for await (const message of channel.messages) {\n",
              "        // Send a message to notify the kernel that we're ready.\n",
              "        channel.send({})\n",
              "        if (message.buffers) {\n",
              "          for (const buffer of message.buffers) {\n",
              "            buffers.push(buffer);\n",
              "            downloaded += buffer.byteLength;\n",
              "            progress.value = downloaded;\n",
              "          }\n",
              "        }\n",
              "      }\n",
              "      const blob = new Blob(buffers, {type: 'application/binary'});\n",
              "      const a = document.createElement('a');\n",
              "      a.href = window.URL.createObjectURL(blob);\n",
              "      a.download = filename;\n",
              "      div.appendChild(a);\n",
              "      a.click();\n",
              "      div.remove();\n",
              "    }\n",
              "  "
            ]
          },
          "metadata": {}
        },
        {
          "output_type": "display_data",
          "data": {
            "text/plain": [
              "<IPython.core.display.Javascript object>"
            ],
            "application/javascript": [
              "download(\"download_d15109be-e6d0-43fc-9c1c-cfa298180d32\", \"result_09.csv\", 22436)"
            ]
          },
          "metadata": {}
        }
      ]
    },
    {
      "cell_type": "code",
      "source": [],
      "metadata": {
        "id": "PMHR7PRVSb2q"
      },
      "id": "PMHR7PRVSb2q",
      "execution_count": null,
      "outputs": []
    },
    {
      "cell_type": "code",
      "source": [
        "(result_09==result_08"
      ],
      "metadata": {
        "id": "eiuCKCaZ6RYa"
      },
      "id": "eiuCKCaZ6RYa",
      "execution_count": null,
      "outputs": []
    },
    {
      "cell_type": "code",
      "source": [
        "X_test_array = X_test_attempt2.values\n",
        "X_test_tensor = torch.tensor(X_test_array, dtype=torch.float32)"
      ],
      "metadata": {
        "id": "izBw6WU942ID"
      },
      "id": "izBw6WU942ID",
      "execution_count": 209,
      "outputs": []
    },
    {
      "cell_type": "code",
      "source": [
        "model.eval()\n",
        "with torch.no_grad():\n",
        "    predictions = model(X_test_tensor)\n",
        "\n",
        "predicted_classes_test = (predictions > 0.5).int().numpy()"
      ],
      "metadata": {
        "id": "7BLrQvW8H2xV"
      },
      "id": "7BLrQvW8H2xV",
      "execution_count": 210,
      "outputs": []
    },
    {
      "cell_type": "code",
      "source": [
        "test_df[\"6\"] = predicted_classes_test\n",
        "test_df.head(30)"
      ],
      "metadata": {
        "colab": {
          "base_uri": "https://localhost:8080/",
          "height": 990
        },
        "id": "hB9mv0NtH8LG",
        "outputId": "008c84ef-7ade-4abc-c556-73c8a492ed1f"
      },
      "id": "hB9mv0NtH8LG",
      "execution_count": 222,
      "outputs": [
        {
          "output_type": "execute_result",
          "data": {
            "text/plain": [
              "    0  1  2  3  4    5  6\n",
              "0   0  0  0  0  0  0.0  0\n",
              "1   0  0  0  0  0  0.0  0\n",
              "2   1  1  1  0  0  0.0  0\n",
              "3   0  0  1  1  0  0.0  0\n",
              "4   0  0  0  0  0  0.0  0\n",
              "5   0  1  1  0  0  0.0  0\n",
              "6   1  1  1  1  1  1.0  1\n",
              "7   0  0  1  0  0  0.0  0\n",
              "8   0  0  0  0  0  0.0  0\n",
              "9   1  1  1  1  0  0.0  0\n",
              "10  1  1  1  1  1  1.0  1\n",
              "11  0  0  0  0  0  0.0  0\n",
              "12  1  1  1  1  1  1.0  1\n",
              "13  0  0  0  0  0  0.0  0\n",
              "14  1  1  0  0  0  0.0  0\n",
              "15  1  1  1  1  1  1.0  1\n",
              "16  1  1  1  1  1  1.0  1\n",
              "17  1  1  1  0  0  0.0  0\n",
              "18  0  0  0  0  0  0.0  0\n",
              "19  0  0  0  0  0  0.0  0\n",
              "20  0  0  0  0  0  0.0  0\n",
              "21  0  0  0  0  0  0.0  0\n",
              "22  0  0  0  0  0  0.0  0\n",
              "23  1  1  1  0  0  0.0  0\n",
              "24  1  1  1  1  0  0.0  0\n",
              "25  0  0  0  1  0  0.0  0\n",
              "26  0  0  0  0  0  0.0  0\n",
              "27  1  1  0  0  0  0.0  0\n",
              "28  0  0  0  0  0  0.0  0\n",
              "29  1  1  0  0  0  0.0  0"
            ],
            "text/html": [
              "\n",
              "  <div id=\"df-4f539935-1171-447a-98e2-9d3897e01e53\" class=\"colab-df-container\">\n",
              "    <div>\n",
              "<style scoped>\n",
              "    .dataframe tbody tr th:only-of-type {\n",
              "        vertical-align: middle;\n",
              "    }\n",
              "\n",
              "    .dataframe tbody tr th {\n",
              "        vertical-align: top;\n",
              "    }\n",
              "\n",
              "    .dataframe thead th {\n",
              "        text-align: right;\n",
              "    }\n",
              "</style>\n",
              "<table border=\"1\" class=\"dataframe\">\n",
              "  <thead>\n",
              "    <tr style=\"text-align: right;\">\n",
              "      <th></th>\n",
              "      <th>0</th>\n",
              "      <th>1</th>\n",
              "      <th>2</th>\n",
              "      <th>3</th>\n",
              "      <th>4</th>\n",
              "      <th>5</th>\n",
              "      <th>6</th>\n",
              "    </tr>\n",
              "  </thead>\n",
              "  <tbody>\n",
              "    <tr>\n",
              "      <th>0</th>\n",
              "      <td>0</td>\n",
              "      <td>0</td>\n",
              "      <td>0</td>\n",
              "      <td>0</td>\n",
              "      <td>0</td>\n",
              "      <td>0.0</td>\n",
              "      <td>0</td>\n",
              "    </tr>\n",
              "    <tr>\n",
              "      <th>1</th>\n",
              "      <td>0</td>\n",
              "      <td>0</td>\n",
              "      <td>0</td>\n",
              "      <td>0</td>\n",
              "      <td>0</td>\n",
              "      <td>0.0</td>\n",
              "      <td>0</td>\n",
              "    </tr>\n",
              "    <tr>\n",
              "      <th>2</th>\n",
              "      <td>1</td>\n",
              "      <td>1</td>\n",
              "      <td>1</td>\n",
              "      <td>0</td>\n",
              "      <td>0</td>\n",
              "      <td>0.0</td>\n",
              "      <td>0</td>\n",
              "    </tr>\n",
              "    <tr>\n",
              "      <th>3</th>\n",
              "      <td>0</td>\n",
              "      <td>0</td>\n",
              "      <td>1</td>\n",
              "      <td>1</td>\n",
              "      <td>0</td>\n",
              "      <td>0.0</td>\n",
              "      <td>0</td>\n",
              "    </tr>\n",
              "    <tr>\n",
              "      <th>4</th>\n",
              "      <td>0</td>\n",
              "      <td>0</td>\n",
              "      <td>0</td>\n",
              "      <td>0</td>\n",
              "      <td>0</td>\n",
              "      <td>0.0</td>\n",
              "      <td>0</td>\n",
              "    </tr>\n",
              "    <tr>\n",
              "      <th>5</th>\n",
              "      <td>0</td>\n",
              "      <td>1</td>\n",
              "      <td>1</td>\n",
              "      <td>0</td>\n",
              "      <td>0</td>\n",
              "      <td>0.0</td>\n",
              "      <td>0</td>\n",
              "    </tr>\n",
              "    <tr>\n",
              "      <th>6</th>\n",
              "      <td>1</td>\n",
              "      <td>1</td>\n",
              "      <td>1</td>\n",
              "      <td>1</td>\n",
              "      <td>1</td>\n",
              "      <td>1.0</td>\n",
              "      <td>1</td>\n",
              "    </tr>\n",
              "    <tr>\n",
              "      <th>7</th>\n",
              "      <td>0</td>\n",
              "      <td>0</td>\n",
              "      <td>1</td>\n",
              "      <td>0</td>\n",
              "      <td>0</td>\n",
              "      <td>0.0</td>\n",
              "      <td>0</td>\n",
              "    </tr>\n",
              "    <tr>\n",
              "      <th>8</th>\n",
              "      <td>0</td>\n",
              "      <td>0</td>\n",
              "      <td>0</td>\n",
              "      <td>0</td>\n",
              "      <td>0</td>\n",
              "      <td>0.0</td>\n",
              "      <td>0</td>\n",
              "    </tr>\n",
              "    <tr>\n",
              "      <th>9</th>\n",
              "      <td>1</td>\n",
              "      <td>1</td>\n",
              "      <td>1</td>\n",
              "      <td>1</td>\n",
              "      <td>0</td>\n",
              "      <td>0.0</td>\n",
              "      <td>0</td>\n",
              "    </tr>\n",
              "    <tr>\n",
              "      <th>10</th>\n",
              "      <td>1</td>\n",
              "      <td>1</td>\n",
              "      <td>1</td>\n",
              "      <td>1</td>\n",
              "      <td>1</td>\n",
              "      <td>1.0</td>\n",
              "      <td>1</td>\n",
              "    </tr>\n",
              "    <tr>\n",
              "      <th>11</th>\n",
              "      <td>0</td>\n",
              "      <td>0</td>\n",
              "      <td>0</td>\n",
              "      <td>0</td>\n",
              "      <td>0</td>\n",
              "      <td>0.0</td>\n",
              "      <td>0</td>\n",
              "    </tr>\n",
              "    <tr>\n",
              "      <th>12</th>\n",
              "      <td>1</td>\n",
              "      <td>1</td>\n",
              "      <td>1</td>\n",
              "      <td>1</td>\n",
              "      <td>1</td>\n",
              "      <td>1.0</td>\n",
              "      <td>1</td>\n",
              "    </tr>\n",
              "    <tr>\n",
              "      <th>13</th>\n",
              "      <td>0</td>\n",
              "      <td>0</td>\n",
              "      <td>0</td>\n",
              "      <td>0</td>\n",
              "      <td>0</td>\n",
              "      <td>0.0</td>\n",
              "      <td>0</td>\n",
              "    </tr>\n",
              "    <tr>\n",
              "      <th>14</th>\n",
              "      <td>1</td>\n",
              "      <td>1</td>\n",
              "      <td>0</td>\n",
              "      <td>0</td>\n",
              "      <td>0</td>\n",
              "      <td>0.0</td>\n",
              "      <td>0</td>\n",
              "    </tr>\n",
              "    <tr>\n",
              "      <th>15</th>\n",
              "      <td>1</td>\n",
              "      <td>1</td>\n",
              "      <td>1</td>\n",
              "      <td>1</td>\n",
              "      <td>1</td>\n",
              "      <td>1.0</td>\n",
              "      <td>1</td>\n",
              "    </tr>\n",
              "    <tr>\n",
              "      <th>16</th>\n",
              "      <td>1</td>\n",
              "      <td>1</td>\n",
              "      <td>1</td>\n",
              "      <td>1</td>\n",
              "      <td>1</td>\n",
              "      <td>1.0</td>\n",
              "      <td>1</td>\n",
              "    </tr>\n",
              "    <tr>\n",
              "      <th>17</th>\n",
              "      <td>1</td>\n",
              "      <td>1</td>\n",
              "      <td>1</td>\n",
              "      <td>0</td>\n",
              "      <td>0</td>\n",
              "      <td>0.0</td>\n",
              "      <td>0</td>\n",
              "    </tr>\n",
              "    <tr>\n",
              "      <th>18</th>\n",
              "      <td>0</td>\n",
              "      <td>0</td>\n",
              "      <td>0</td>\n",
              "      <td>0</td>\n",
              "      <td>0</td>\n",
              "      <td>0.0</td>\n",
              "      <td>0</td>\n",
              "    </tr>\n",
              "    <tr>\n",
              "      <th>19</th>\n",
              "      <td>0</td>\n",
              "      <td>0</td>\n",
              "      <td>0</td>\n",
              "      <td>0</td>\n",
              "      <td>0</td>\n",
              "      <td>0.0</td>\n",
              "      <td>0</td>\n",
              "    </tr>\n",
              "    <tr>\n",
              "      <th>20</th>\n",
              "      <td>0</td>\n",
              "      <td>0</td>\n",
              "      <td>0</td>\n",
              "      <td>0</td>\n",
              "      <td>0</td>\n",
              "      <td>0.0</td>\n",
              "      <td>0</td>\n",
              "    </tr>\n",
              "    <tr>\n",
              "      <th>21</th>\n",
              "      <td>0</td>\n",
              "      <td>0</td>\n",
              "      <td>0</td>\n",
              "      <td>0</td>\n",
              "      <td>0</td>\n",
              "      <td>0.0</td>\n",
              "      <td>0</td>\n",
              "    </tr>\n",
              "    <tr>\n",
              "      <th>22</th>\n",
              "      <td>0</td>\n",
              "      <td>0</td>\n",
              "      <td>0</td>\n",
              "      <td>0</td>\n",
              "      <td>0</td>\n",
              "      <td>0.0</td>\n",
              "      <td>0</td>\n",
              "    </tr>\n",
              "    <tr>\n",
              "      <th>23</th>\n",
              "      <td>1</td>\n",
              "      <td>1</td>\n",
              "      <td>1</td>\n",
              "      <td>0</td>\n",
              "      <td>0</td>\n",
              "      <td>0.0</td>\n",
              "      <td>0</td>\n",
              "    </tr>\n",
              "    <tr>\n",
              "      <th>24</th>\n",
              "      <td>1</td>\n",
              "      <td>1</td>\n",
              "      <td>1</td>\n",
              "      <td>1</td>\n",
              "      <td>0</td>\n",
              "      <td>0.0</td>\n",
              "      <td>0</td>\n",
              "    </tr>\n",
              "    <tr>\n",
              "      <th>25</th>\n",
              "      <td>0</td>\n",
              "      <td>0</td>\n",
              "      <td>0</td>\n",
              "      <td>1</td>\n",
              "      <td>0</td>\n",
              "      <td>0.0</td>\n",
              "      <td>0</td>\n",
              "    </tr>\n",
              "    <tr>\n",
              "      <th>26</th>\n",
              "      <td>0</td>\n",
              "      <td>0</td>\n",
              "      <td>0</td>\n",
              "      <td>0</td>\n",
              "      <td>0</td>\n",
              "      <td>0.0</td>\n",
              "      <td>0</td>\n",
              "    </tr>\n",
              "    <tr>\n",
              "      <th>27</th>\n",
              "      <td>1</td>\n",
              "      <td>1</td>\n",
              "      <td>0</td>\n",
              "      <td>0</td>\n",
              "      <td>0</td>\n",
              "      <td>0.0</td>\n",
              "      <td>0</td>\n",
              "    </tr>\n",
              "    <tr>\n",
              "      <th>28</th>\n",
              "      <td>0</td>\n",
              "      <td>0</td>\n",
              "      <td>0</td>\n",
              "      <td>0</td>\n",
              "      <td>0</td>\n",
              "      <td>0.0</td>\n",
              "      <td>0</td>\n",
              "    </tr>\n",
              "    <tr>\n",
              "      <th>29</th>\n",
              "      <td>1</td>\n",
              "      <td>1</td>\n",
              "      <td>0</td>\n",
              "      <td>0</td>\n",
              "      <td>0</td>\n",
              "      <td>0.0</td>\n",
              "      <td>0</td>\n",
              "    </tr>\n",
              "  </tbody>\n",
              "</table>\n",
              "</div>\n",
              "    <div class=\"colab-df-buttons\">\n",
              "\n",
              "  <div class=\"colab-df-container\">\n",
              "    <button class=\"colab-df-convert\" onclick=\"convertToInteractive('df-4f539935-1171-447a-98e2-9d3897e01e53')\"\n",
              "            title=\"Convert this dataframe to an interactive table.\"\n",
              "            style=\"display:none;\">\n",
              "\n",
              "  <svg xmlns=\"http://www.w3.org/2000/svg\" height=\"24px\" viewBox=\"0 -960 960 960\">\n",
              "    <path d=\"M120-120v-720h720v720H120Zm60-500h600v-160H180v160Zm220 220h160v-160H400v160Zm0 220h160v-160H400v160ZM180-400h160v-160H180v160Zm440 0h160v-160H620v160ZM180-180h160v-160H180v160Zm440 0h160v-160H620v160Z\"/>\n",
              "  </svg>\n",
              "    </button>\n",
              "\n",
              "  <style>\n",
              "    .colab-df-container {\n",
              "      display:flex;\n",
              "      gap: 12px;\n",
              "    }\n",
              "\n",
              "    .colab-df-convert {\n",
              "      background-color: #E8F0FE;\n",
              "      border: none;\n",
              "      border-radius: 50%;\n",
              "      cursor: pointer;\n",
              "      display: none;\n",
              "      fill: #1967D2;\n",
              "      height: 32px;\n",
              "      padding: 0 0 0 0;\n",
              "      width: 32px;\n",
              "    }\n",
              "\n",
              "    .colab-df-convert:hover {\n",
              "      background-color: #E2EBFA;\n",
              "      box-shadow: 0px 1px 2px rgba(60, 64, 67, 0.3), 0px 1px 3px 1px rgba(60, 64, 67, 0.15);\n",
              "      fill: #174EA6;\n",
              "    }\n",
              "\n",
              "    .colab-df-buttons div {\n",
              "      margin-bottom: 4px;\n",
              "    }\n",
              "\n",
              "    [theme=dark] .colab-df-convert {\n",
              "      background-color: #3B4455;\n",
              "      fill: #D2E3FC;\n",
              "    }\n",
              "\n",
              "    [theme=dark] .colab-df-convert:hover {\n",
              "      background-color: #434B5C;\n",
              "      box-shadow: 0px 1px 3px 1px rgba(0, 0, 0, 0.15);\n",
              "      filter: drop-shadow(0px 1px 2px rgba(0, 0, 0, 0.3));\n",
              "      fill: #FFFFFF;\n",
              "    }\n",
              "  </style>\n",
              "\n",
              "    <script>\n",
              "      const buttonEl =\n",
              "        document.querySelector('#df-4f539935-1171-447a-98e2-9d3897e01e53 button.colab-df-convert');\n",
              "      buttonEl.style.display =\n",
              "        google.colab.kernel.accessAllowed ? 'block' : 'none';\n",
              "\n",
              "      async function convertToInteractive(key) {\n",
              "        const element = document.querySelector('#df-4f539935-1171-447a-98e2-9d3897e01e53');\n",
              "        const dataTable =\n",
              "          await google.colab.kernel.invokeFunction('convertToInteractive',\n",
              "                                                    [key], {});\n",
              "        if (!dataTable) return;\n",
              "\n",
              "        const docLinkHtml = 'Like what you see? Visit the ' +\n",
              "          '<a target=\"_blank\" href=https://colab.research.google.com/notebooks/data_table.ipynb>data table notebook</a>'\n",
              "          + ' to learn more about interactive tables.';\n",
              "        element.innerHTML = '';\n",
              "        dataTable['output_type'] = 'display_data';\n",
              "        await google.colab.output.renderOutput(dataTable, element);\n",
              "        const docLink = document.createElement('div');\n",
              "        docLink.innerHTML = docLinkHtml;\n",
              "        element.appendChild(docLink);\n",
              "      }\n",
              "    </script>\n",
              "  </div>\n",
              "\n",
              "\n",
              "<div id=\"df-5b8668e9-805c-4aa4-8d4b-dbeab090ca6c\">\n",
              "  <button class=\"colab-df-quickchart\" onclick=\"quickchart('df-5b8668e9-805c-4aa4-8d4b-dbeab090ca6c')\"\n",
              "            title=\"Suggest charts\"\n",
              "            style=\"display:none;\">\n",
              "\n",
              "<svg xmlns=\"http://www.w3.org/2000/svg\" height=\"24px\"viewBox=\"0 0 24 24\"\n",
              "     width=\"24px\">\n",
              "    <g>\n",
              "        <path d=\"M19 3H5c-1.1 0-2 .9-2 2v14c0 1.1.9 2 2 2h14c1.1 0 2-.9 2-2V5c0-1.1-.9-2-2-2zM9 17H7v-7h2v7zm4 0h-2V7h2v10zm4 0h-2v-4h2v4z\"/>\n",
              "    </g>\n",
              "</svg>\n",
              "  </button>\n",
              "\n",
              "<style>\n",
              "  .colab-df-quickchart {\n",
              "      --bg-color: #E8F0FE;\n",
              "      --fill-color: #1967D2;\n",
              "      --hover-bg-color: #E2EBFA;\n",
              "      --hover-fill-color: #174EA6;\n",
              "      --disabled-fill-color: #AAA;\n",
              "      --disabled-bg-color: #DDD;\n",
              "  }\n",
              "\n",
              "  [theme=dark] .colab-df-quickchart {\n",
              "      --bg-color: #3B4455;\n",
              "      --fill-color: #D2E3FC;\n",
              "      --hover-bg-color: #434B5C;\n",
              "      --hover-fill-color: #FFFFFF;\n",
              "      --disabled-bg-color: #3B4455;\n",
              "      --disabled-fill-color: #666;\n",
              "  }\n",
              "\n",
              "  .colab-df-quickchart {\n",
              "    background-color: var(--bg-color);\n",
              "    border: none;\n",
              "    border-radius: 50%;\n",
              "    cursor: pointer;\n",
              "    display: none;\n",
              "    fill: var(--fill-color);\n",
              "    height: 32px;\n",
              "    padding: 0;\n",
              "    width: 32px;\n",
              "  }\n",
              "\n",
              "  .colab-df-quickchart:hover {\n",
              "    background-color: var(--hover-bg-color);\n",
              "    box-shadow: 0 1px 2px rgba(60, 64, 67, 0.3), 0 1px 3px 1px rgba(60, 64, 67, 0.15);\n",
              "    fill: var(--button-hover-fill-color);\n",
              "  }\n",
              "\n",
              "  .colab-df-quickchart-complete:disabled,\n",
              "  .colab-df-quickchart-complete:disabled:hover {\n",
              "    background-color: var(--disabled-bg-color);\n",
              "    fill: var(--disabled-fill-color);\n",
              "    box-shadow: none;\n",
              "  }\n",
              "\n",
              "  .colab-df-spinner {\n",
              "    border: 2px solid var(--fill-color);\n",
              "    border-color: transparent;\n",
              "    border-bottom-color: var(--fill-color);\n",
              "    animation:\n",
              "      spin 1s steps(1) infinite;\n",
              "  }\n",
              "\n",
              "  @keyframes spin {\n",
              "    0% {\n",
              "      border-color: transparent;\n",
              "      border-bottom-color: var(--fill-color);\n",
              "      border-left-color: var(--fill-color);\n",
              "    }\n",
              "    20% {\n",
              "      border-color: transparent;\n",
              "      border-left-color: var(--fill-color);\n",
              "      border-top-color: var(--fill-color);\n",
              "    }\n",
              "    30% {\n",
              "      border-color: transparent;\n",
              "      border-left-color: var(--fill-color);\n",
              "      border-top-color: var(--fill-color);\n",
              "      border-right-color: var(--fill-color);\n",
              "    }\n",
              "    40% {\n",
              "      border-color: transparent;\n",
              "      border-right-color: var(--fill-color);\n",
              "      border-top-color: var(--fill-color);\n",
              "    }\n",
              "    60% {\n",
              "      border-color: transparent;\n",
              "      border-right-color: var(--fill-color);\n",
              "    }\n",
              "    80% {\n",
              "      border-color: transparent;\n",
              "      border-right-color: var(--fill-color);\n",
              "      border-bottom-color: var(--fill-color);\n",
              "    }\n",
              "    90% {\n",
              "      border-color: transparent;\n",
              "      border-bottom-color: var(--fill-color);\n",
              "    }\n",
              "  }\n",
              "</style>\n",
              "\n",
              "  <script>\n",
              "    async function quickchart(key) {\n",
              "      const quickchartButtonEl =\n",
              "        document.querySelector('#' + key + ' button');\n",
              "      quickchartButtonEl.disabled = true;  // To prevent multiple clicks.\n",
              "      quickchartButtonEl.classList.add('colab-df-spinner');\n",
              "      try {\n",
              "        const charts = await google.colab.kernel.invokeFunction(\n",
              "            'suggestCharts', [key], {});\n",
              "      } catch (error) {\n",
              "        console.error('Error during call to suggestCharts:', error);\n",
              "      }\n",
              "      quickchartButtonEl.classList.remove('colab-df-spinner');\n",
              "      quickchartButtonEl.classList.add('colab-df-quickchart-complete');\n",
              "    }\n",
              "    (() => {\n",
              "      let quickchartButtonEl =\n",
              "        document.querySelector('#df-5b8668e9-805c-4aa4-8d4b-dbeab090ca6c button');\n",
              "      quickchartButtonEl.style.display =\n",
              "        google.colab.kernel.accessAllowed ? 'block' : 'none';\n",
              "    })();\n",
              "  </script>\n",
              "</div>\n",
              "    </div>\n",
              "  </div>\n"
            ],
            "application/vnd.google.colaboratory.intrinsic+json": {
              "type": "dataframe",
              "variable_name": "test_df",
              "summary": "{\n  \"name\": \"test_df\",\n  \"rows\": 11218,\n  \"fields\": [\n    {\n      \"column\": 0,\n      \"properties\": {\n        \"dtype\": \"number\",\n        \"std\": 0,\n        \"min\": 0,\n        \"max\": 1,\n        \"num_unique_values\": 2,\n        \"samples\": [\n          1,\n          0\n        ],\n        \"semantic_type\": \"\",\n        \"description\": \"\"\n      }\n    },\n    {\n      \"column\": 1,\n      \"properties\": {\n        \"dtype\": \"number\",\n        \"std\": 0,\n        \"min\": 0,\n        \"max\": 1,\n        \"num_unique_values\": 2,\n        \"samples\": [\n          1,\n          0\n        ],\n        \"semantic_type\": \"\",\n        \"description\": \"\"\n      }\n    },\n    {\n      \"column\": 2,\n      \"properties\": {\n        \"dtype\": \"number\",\n        \"std\": 0,\n        \"min\": 0,\n        \"max\": 1,\n        \"num_unique_values\": 2,\n        \"samples\": [\n          1,\n          0\n        ],\n        \"semantic_type\": \"\",\n        \"description\": \"\"\n      }\n    },\n    {\n      \"column\": 3,\n      \"properties\": {\n        \"dtype\": \"number\",\n        \"std\": 0,\n        \"min\": 0,\n        \"max\": 1,\n        \"num_unique_values\": 2,\n        \"samples\": [\n          1,\n          0\n        ],\n        \"semantic_type\": \"\",\n        \"description\": \"\"\n      }\n    },\n    {\n      \"column\": 4,\n      \"properties\": {\n        \"dtype\": \"number\",\n        \"std\": 0,\n        \"min\": 0,\n        \"max\": 1,\n        \"num_unique_values\": 2,\n        \"samples\": [\n          1,\n          0\n        ],\n        \"semantic_type\": \"\",\n        \"description\": \"\"\n      }\n    },\n    {\n      \"column\": 5,\n      \"properties\": {\n        \"dtype\": \"number\",\n        \"std\": 0.34778510447103816,\n        \"min\": 0.0,\n        \"max\": 1.0,\n        \"num_unique_values\": 2,\n        \"samples\": [\n          1.0,\n          0.0\n        ],\n        \"semantic_type\": \"\",\n        \"description\": \"\"\n      }\n    },\n    {\n      \"column\": \"6\",\n      \"properties\": {\n        \"dtype\": \"int32\",\n        \"num_unique_values\": 2,\n        \"samples\": [\n          1,\n          0\n        ],\n        \"semantic_type\": \"\",\n        \"description\": \"\"\n      }\n    }\n  ]\n}"
            }
          },
          "metadata": {},
          "execution_count": 222
        }
      ]
    },
    {
      "cell_type": "code",
      "source": [
        "result_07 = test_df.apply(majority_vote, axis=1)"
      ],
      "metadata": {
        "id": "tLdFs_bgH-3_"
      },
      "id": "tLdFs_bgH-3_",
      "execution_count": 216,
      "outputs": []
    },
    {
      "cell_type": "code",
      "source": [
        "result_07.to_csv(\"result_07.csv\", index=False, header=False)\n",
        "files.download(\"result_07.csv\")"
      ],
      "metadata": {
        "colab": {
          "base_uri": "https://localhost:8080/",
          "height": 17
        },
        "id": "ohbO7zaaIcfp",
        "outputId": "5cecb098-ac89-4532-e717-e11da336f42c"
      },
      "id": "ohbO7zaaIcfp",
      "execution_count": 217,
      "outputs": [
        {
          "output_type": "display_data",
          "data": {
            "text/plain": [
              "<IPython.core.display.Javascript object>"
            ],
            "application/javascript": [
              "\n",
              "    async function download(id, filename, size) {\n",
              "      if (!google.colab.kernel.accessAllowed) {\n",
              "        return;\n",
              "      }\n",
              "      const div = document.createElement('div');\n",
              "      const label = document.createElement('label');\n",
              "      label.textContent = `Downloading \"${filename}\": `;\n",
              "      div.appendChild(label);\n",
              "      const progress = document.createElement('progress');\n",
              "      progress.max = size;\n",
              "      div.appendChild(progress);\n",
              "      document.body.appendChild(div);\n",
              "\n",
              "      const buffers = [];\n",
              "      let downloaded = 0;\n",
              "\n",
              "      const channel = await google.colab.kernel.comms.open(id);\n",
              "      // Send a message to notify the kernel that we're ready.\n",
              "      channel.send({})\n",
              "\n",
              "      for await (const message of channel.messages) {\n",
              "        // Send a message to notify the kernel that we're ready.\n",
              "        channel.send({})\n",
              "        if (message.buffers) {\n",
              "          for (const buffer of message.buffers) {\n",
              "            buffers.push(buffer);\n",
              "            downloaded += buffer.byteLength;\n",
              "            progress.value = downloaded;\n",
              "          }\n",
              "        }\n",
              "      }\n",
              "      const blob = new Blob(buffers, {type: 'application/binary'});\n",
              "      const a = document.createElement('a');\n",
              "      a.href = window.URL.createObjectURL(blob);\n",
              "      a.download = filename;\n",
              "      div.appendChild(a);\n",
              "      a.click();\n",
              "      div.remove();\n",
              "    }\n",
              "  "
            ]
          },
          "metadata": {}
        },
        {
          "output_type": "display_data",
          "data": {
            "text/plain": [
              "<IPython.core.display.Javascript object>"
            ],
            "application/javascript": [
              "download(\"download_db003eec-d31c-4896-a1d1-70b80c65a807\", \"result_07.csv\", 22436)"
            ]
          },
          "metadata": {}
        }
      ]
    },
    {
      "cell_type": "code",
      "source": [
        "print((result_07==result_06).mean())\n",
        "print((result_07==result_05).mean())\n",
        "print((result_07==result_02).mean())\n",
        "print((result_07==result_01).mean())"
      ],
      "metadata": {
        "colab": {
          "base_uri": "https://localhost:8080/"
        },
        "id": "YEXsz74uIoQd",
        "outputId": "590e39d1-4707-42f0-d948-e14d47ad87a3"
      },
      "id": "YEXsz74uIoQd",
      "execution_count": 220,
      "outputs": [
        {
          "output_type": "stream",
          "name": "stdout",
          "text": [
            "0.9324300231770369\n",
            "0.8708325904795864\n",
            "0.938848279550722\n",
            "0.8835799607773221\n"
          ]
        }
      ]
    },
    {
      "cell_type": "code",
      "source": [
        "\n",
        "\n",
        "\n"
      ],
      "metadata": {
        "id": "Ldz2AigdJBZ_"
      },
      "id": "Ldz2AigdJBZ_",
      "execution_count": 227,
      "outputs": []
    },
    {
      "cell_type": "code",
      "source": [
        "with torch.no_grad():\n",
        "    predictions_valid = model(X_valid_tensor)\n",
        "    predictions_train = model(X_train_tensor)\n",
        "\n",
        "predicted_classes_valid = (predictions_valid > 0.5).int().numpy()\n",
        "predicted_classes_train = (predictions_train > 0.5).int().numpy()"
      ],
      "metadata": {
        "id": "aUdIPWWKMFiP"
      },
      "id": "aUdIPWWKMFiP",
      "execution_count": 231,
      "outputs": []
    },
    {
      "cell_type": "code",
      "source": [
        "valid_df[\"6\"] = predicted_classes_valid\n",
        "train_df[\"6\"] = predicted_classes_train"
      ],
      "metadata": {
        "id": "9amDACuwMZcD"
      },
      "id": "9amDACuwMZcD",
      "execution_count": 232,
      "outputs": []
    },
    {
      "cell_type": "code",
      "source": [
        "train_df.head()"
      ],
      "metadata": {
        "colab": {
          "base_uri": "https://localhost:8080/",
          "height": 206
        },
        "id": "Ev3xR17fNPHK",
        "outputId": "d379d321-3690-42e1-a15d-7af9fb9630f6"
      },
      "id": "Ev3xR17fNPHK",
      "execution_count": 234,
      "outputs": [
        {
          "output_type": "execute_result",
          "data": {
            "text/plain": [
              "   0  1  2  3  4    5  6\n",
              "0  1  1  1  1  1  1.0  1\n",
              "1  1  1  0  0  0  0.0  0\n",
              "2  1  1  0  1  1  0.0  0\n",
              "3  0  0  0  0  0  0.0  0\n",
              "4  0  0  0  0  0  0.0  0"
            ],
            "text/html": [
              "\n",
              "  <div id=\"df-8b57f922-da7f-4633-af6b-bbe82957d409\" class=\"colab-df-container\">\n",
              "    <div>\n",
              "<style scoped>\n",
              "    .dataframe tbody tr th:only-of-type {\n",
              "        vertical-align: middle;\n",
              "    }\n",
              "\n",
              "    .dataframe tbody tr th {\n",
              "        vertical-align: top;\n",
              "    }\n",
              "\n",
              "    .dataframe thead th {\n",
              "        text-align: right;\n",
              "    }\n",
              "</style>\n",
              "<table border=\"1\" class=\"dataframe\">\n",
              "  <thead>\n",
              "    <tr style=\"text-align: right;\">\n",
              "      <th></th>\n",
              "      <th>0</th>\n",
              "      <th>1</th>\n",
              "      <th>2</th>\n",
              "      <th>3</th>\n",
              "      <th>4</th>\n",
              "      <th>5</th>\n",
              "      <th>6</th>\n",
              "    </tr>\n",
              "  </thead>\n",
              "  <tbody>\n",
              "    <tr>\n",
              "      <th>0</th>\n",
              "      <td>1</td>\n",
              "      <td>1</td>\n",
              "      <td>1</td>\n",
              "      <td>1</td>\n",
              "      <td>1</td>\n",
              "      <td>1.0</td>\n",
              "      <td>1</td>\n",
              "    </tr>\n",
              "    <tr>\n",
              "      <th>1</th>\n",
              "      <td>1</td>\n",
              "      <td>1</td>\n",
              "      <td>0</td>\n",
              "      <td>0</td>\n",
              "      <td>0</td>\n",
              "      <td>0.0</td>\n",
              "      <td>0</td>\n",
              "    </tr>\n",
              "    <tr>\n",
              "      <th>2</th>\n",
              "      <td>1</td>\n",
              "      <td>1</td>\n",
              "      <td>0</td>\n",
              "      <td>1</td>\n",
              "      <td>1</td>\n",
              "      <td>0.0</td>\n",
              "      <td>0</td>\n",
              "    </tr>\n",
              "    <tr>\n",
              "      <th>3</th>\n",
              "      <td>0</td>\n",
              "      <td>0</td>\n",
              "      <td>0</td>\n",
              "      <td>0</td>\n",
              "      <td>0</td>\n",
              "      <td>0.0</td>\n",
              "      <td>0</td>\n",
              "    </tr>\n",
              "    <tr>\n",
              "      <th>4</th>\n",
              "      <td>0</td>\n",
              "      <td>0</td>\n",
              "      <td>0</td>\n",
              "      <td>0</td>\n",
              "      <td>0</td>\n",
              "      <td>0.0</td>\n",
              "      <td>0</td>\n",
              "    </tr>\n",
              "  </tbody>\n",
              "</table>\n",
              "</div>\n",
              "    <div class=\"colab-df-buttons\">\n",
              "\n",
              "  <div class=\"colab-df-container\">\n",
              "    <button class=\"colab-df-convert\" onclick=\"convertToInteractive('df-8b57f922-da7f-4633-af6b-bbe82957d409')\"\n",
              "            title=\"Convert this dataframe to an interactive table.\"\n",
              "            style=\"display:none;\">\n",
              "\n",
              "  <svg xmlns=\"http://www.w3.org/2000/svg\" height=\"24px\" viewBox=\"0 -960 960 960\">\n",
              "    <path d=\"M120-120v-720h720v720H120Zm60-500h600v-160H180v160Zm220 220h160v-160H400v160Zm0 220h160v-160H400v160ZM180-400h160v-160H180v160Zm440 0h160v-160H620v160ZM180-180h160v-160H180v160Zm440 0h160v-160H620v160Z\"/>\n",
              "  </svg>\n",
              "    </button>\n",
              "\n",
              "  <style>\n",
              "    .colab-df-container {\n",
              "      display:flex;\n",
              "      gap: 12px;\n",
              "    }\n",
              "\n",
              "    .colab-df-convert {\n",
              "      background-color: #E8F0FE;\n",
              "      border: none;\n",
              "      border-radius: 50%;\n",
              "      cursor: pointer;\n",
              "      display: none;\n",
              "      fill: #1967D2;\n",
              "      height: 32px;\n",
              "      padding: 0 0 0 0;\n",
              "      width: 32px;\n",
              "    }\n",
              "\n",
              "    .colab-df-convert:hover {\n",
              "      background-color: #E2EBFA;\n",
              "      box-shadow: 0px 1px 2px rgba(60, 64, 67, 0.3), 0px 1px 3px 1px rgba(60, 64, 67, 0.15);\n",
              "      fill: #174EA6;\n",
              "    }\n",
              "\n",
              "    .colab-df-buttons div {\n",
              "      margin-bottom: 4px;\n",
              "    }\n",
              "\n",
              "    [theme=dark] .colab-df-convert {\n",
              "      background-color: #3B4455;\n",
              "      fill: #D2E3FC;\n",
              "    }\n",
              "\n",
              "    [theme=dark] .colab-df-convert:hover {\n",
              "      background-color: #434B5C;\n",
              "      box-shadow: 0px 1px 3px 1px rgba(0, 0, 0, 0.15);\n",
              "      filter: drop-shadow(0px 1px 2px rgba(0, 0, 0, 0.3));\n",
              "      fill: #FFFFFF;\n",
              "    }\n",
              "  </style>\n",
              "\n",
              "    <script>\n",
              "      const buttonEl =\n",
              "        document.querySelector('#df-8b57f922-da7f-4633-af6b-bbe82957d409 button.colab-df-convert');\n",
              "      buttonEl.style.display =\n",
              "        google.colab.kernel.accessAllowed ? 'block' : 'none';\n",
              "\n",
              "      async function convertToInteractive(key) {\n",
              "        const element = document.querySelector('#df-8b57f922-da7f-4633-af6b-bbe82957d409');\n",
              "        const dataTable =\n",
              "          await google.colab.kernel.invokeFunction('convertToInteractive',\n",
              "                                                    [key], {});\n",
              "        if (!dataTable) return;\n",
              "\n",
              "        const docLinkHtml = 'Like what you see? Visit the ' +\n",
              "          '<a target=\"_blank\" href=https://colab.research.google.com/notebooks/data_table.ipynb>data table notebook</a>'\n",
              "          + ' to learn more about interactive tables.';\n",
              "        element.innerHTML = '';\n",
              "        dataTable['output_type'] = 'display_data';\n",
              "        await google.colab.output.renderOutput(dataTable, element);\n",
              "        const docLink = document.createElement('div');\n",
              "        docLink.innerHTML = docLinkHtml;\n",
              "        element.appendChild(docLink);\n",
              "      }\n",
              "    </script>\n",
              "  </div>\n",
              "\n",
              "\n",
              "<div id=\"df-77cd9e72-3649-4d25-8a0b-292e514ef415\">\n",
              "  <button class=\"colab-df-quickchart\" onclick=\"quickchart('df-77cd9e72-3649-4d25-8a0b-292e514ef415')\"\n",
              "            title=\"Suggest charts\"\n",
              "            style=\"display:none;\">\n",
              "\n",
              "<svg xmlns=\"http://www.w3.org/2000/svg\" height=\"24px\"viewBox=\"0 0 24 24\"\n",
              "     width=\"24px\">\n",
              "    <g>\n",
              "        <path d=\"M19 3H5c-1.1 0-2 .9-2 2v14c0 1.1.9 2 2 2h14c1.1 0 2-.9 2-2V5c0-1.1-.9-2-2-2zM9 17H7v-7h2v7zm4 0h-2V7h2v10zm4 0h-2v-4h2v4z\"/>\n",
              "    </g>\n",
              "</svg>\n",
              "  </button>\n",
              "\n",
              "<style>\n",
              "  .colab-df-quickchart {\n",
              "      --bg-color: #E8F0FE;\n",
              "      --fill-color: #1967D2;\n",
              "      --hover-bg-color: #E2EBFA;\n",
              "      --hover-fill-color: #174EA6;\n",
              "      --disabled-fill-color: #AAA;\n",
              "      --disabled-bg-color: #DDD;\n",
              "  }\n",
              "\n",
              "  [theme=dark] .colab-df-quickchart {\n",
              "      --bg-color: #3B4455;\n",
              "      --fill-color: #D2E3FC;\n",
              "      --hover-bg-color: #434B5C;\n",
              "      --hover-fill-color: #FFFFFF;\n",
              "      --disabled-bg-color: #3B4455;\n",
              "      --disabled-fill-color: #666;\n",
              "  }\n",
              "\n",
              "  .colab-df-quickchart {\n",
              "    background-color: var(--bg-color);\n",
              "    border: none;\n",
              "    border-radius: 50%;\n",
              "    cursor: pointer;\n",
              "    display: none;\n",
              "    fill: var(--fill-color);\n",
              "    height: 32px;\n",
              "    padding: 0;\n",
              "    width: 32px;\n",
              "  }\n",
              "\n",
              "  .colab-df-quickchart:hover {\n",
              "    background-color: var(--hover-bg-color);\n",
              "    box-shadow: 0 1px 2px rgba(60, 64, 67, 0.3), 0 1px 3px 1px rgba(60, 64, 67, 0.15);\n",
              "    fill: var(--button-hover-fill-color);\n",
              "  }\n",
              "\n",
              "  .colab-df-quickchart-complete:disabled,\n",
              "  .colab-df-quickchart-complete:disabled:hover {\n",
              "    background-color: var(--disabled-bg-color);\n",
              "    fill: var(--disabled-fill-color);\n",
              "    box-shadow: none;\n",
              "  }\n",
              "\n",
              "  .colab-df-spinner {\n",
              "    border: 2px solid var(--fill-color);\n",
              "    border-color: transparent;\n",
              "    border-bottom-color: var(--fill-color);\n",
              "    animation:\n",
              "      spin 1s steps(1) infinite;\n",
              "  }\n",
              "\n",
              "  @keyframes spin {\n",
              "    0% {\n",
              "      border-color: transparent;\n",
              "      border-bottom-color: var(--fill-color);\n",
              "      border-left-color: var(--fill-color);\n",
              "    }\n",
              "    20% {\n",
              "      border-color: transparent;\n",
              "      border-left-color: var(--fill-color);\n",
              "      border-top-color: var(--fill-color);\n",
              "    }\n",
              "    30% {\n",
              "      border-color: transparent;\n",
              "      border-left-color: var(--fill-color);\n",
              "      border-top-color: var(--fill-color);\n",
              "      border-right-color: var(--fill-color);\n",
              "    }\n",
              "    40% {\n",
              "      border-color: transparent;\n",
              "      border-right-color: var(--fill-color);\n",
              "      border-top-color: var(--fill-color);\n",
              "    }\n",
              "    60% {\n",
              "      border-color: transparent;\n",
              "      border-right-color: var(--fill-color);\n",
              "    }\n",
              "    80% {\n",
              "      border-color: transparent;\n",
              "      border-right-color: var(--fill-color);\n",
              "      border-bottom-color: var(--fill-color);\n",
              "    }\n",
              "    90% {\n",
              "      border-color: transparent;\n",
              "      border-bottom-color: var(--fill-color);\n",
              "    }\n",
              "  }\n",
              "</style>\n",
              "\n",
              "  <script>\n",
              "    async function quickchart(key) {\n",
              "      const quickchartButtonEl =\n",
              "        document.querySelector('#' + key + ' button');\n",
              "      quickchartButtonEl.disabled = true;  // To prevent multiple clicks.\n",
              "      quickchartButtonEl.classList.add('colab-df-spinner');\n",
              "      try {\n",
              "        const charts = await google.colab.kernel.invokeFunction(\n",
              "            'suggestCharts', [key], {});\n",
              "      } catch (error) {\n",
              "        console.error('Error during call to suggestCharts:', error);\n",
              "      }\n",
              "      quickchartButtonEl.classList.remove('colab-df-spinner');\n",
              "      quickchartButtonEl.classList.add('colab-df-quickchart-complete');\n",
              "    }\n",
              "    (() => {\n",
              "      let quickchartButtonEl =\n",
              "        document.querySelector('#df-77cd9e72-3649-4d25-8a0b-292e514ef415 button');\n",
              "      quickchartButtonEl.style.display =\n",
              "        google.colab.kernel.accessAllowed ? 'block' : 'none';\n",
              "    })();\n",
              "  </script>\n",
              "</div>\n",
              "    </div>\n",
              "  </div>\n"
            ],
            "application/vnd.google.colaboratory.intrinsic+json": {
              "type": "dataframe",
              "variable_name": "train_df",
              "summary": "{\n  \"name\": \"train_df\",\n  \"rows\": 19000,\n  \"fields\": [\n    {\n      \"column\": 0,\n      \"properties\": {\n        \"dtype\": \"number\",\n        \"std\": 0,\n        \"min\": 0,\n        \"max\": 1,\n        \"num_unique_values\": 2,\n        \"samples\": [\n          0,\n          1\n        ],\n        \"semantic_type\": \"\",\n        \"description\": \"\"\n      }\n    },\n    {\n      \"column\": 1,\n      \"properties\": {\n        \"dtype\": \"number\",\n        \"std\": 0,\n        \"min\": 0,\n        \"max\": 1,\n        \"num_unique_values\": 2,\n        \"samples\": [\n          0,\n          1\n        ],\n        \"semantic_type\": \"\",\n        \"description\": \"\"\n      }\n    },\n    {\n      \"column\": 2,\n      \"properties\": {\n        \"dtype\": \"number\",\n        \"std\": 0,\n        \"min\": 0,\n        \"max\": 1,\n        \"num_unique_values\": 2,\n        \"samples\": [\n          0,\n          1\n        ],\n        \"semantic_type\": \"\",\n        \"description\": \"\"\n      }\n    },\n    {\n      \"column\": 3,\n      \"properties\": {\n        \"dtype\": \"number\",\n        \"std\": 0,\n        \"min\": 0,\n        \"max\": 1,\n        \"num_unique_values\": 2,\n        \"samples\": [\n          0,\n          1\n        ],\n        \"semantic_type\": \"\",\n        \"description\": \"\"\n      }\n    },\n    {\n      \"column\": 4,\n      \"properties\": {\n        \"dtype\": \"number\",\n        \"std\": 0,\n        \"min\": 0,\n        \"max\": 1,\n        \"num_unique_values\": 2,\n        \"samples\": [\n          0,\n          1\n        ],\n        \"semantic_type\": \"\",\n        \"description\": \"\"\n      }\n    },\n    {\n      \"column\": 5,\n      \"properties\": {\n        \"dtype\": \"number\",\n        \"std\": 0.31420557069914057,\n        \"min\": 0.0,\n        \"max\": 1.0,\n        \"num_unique_values\": 2,\n        \"samples\": [\n          0.0,\n          1.0\n        ],\n        \"semantic_type\": \"\",\n        \"description\": \"\"\n      }\n    },\n    {\n      \"column\": \"6\",\n      \"properties\": {\n        \"dtype\": \"int32\",\n        \"num_unique_values\": 2,\n        \"samples\": [\n          0,\n          1\n        ],\n        \"semantic_type\": \"\",\n        \"description\": \"\"\n      }\n    }\n  ]\n}"
            }
          },
          "metadata": {},
          "execution_count": 234
        }
      ]
    },
    {
      "cell_type": "code",
      "source": [
        "train_df.columns = train_df.columns.astype(str)\n",
        "valid_df.columns = valid_df.columns.astype(str)\n",
        "test_df.columns = test_df.columns.astype(str)"
      ],
      "metadata": {
        "id": "_EyVodTNNfJj"
      },
      "id": "_EyVodTNNfJj",
      "execution_count": 235,
      "outputs": []
    },
    {
      "cell_type": "code",
      "source": [
        "brf3 = BalancedRandomForestClassifier().fit(train_df, y_train_attempt2)\n",
        "print(\"Accuracy on Valid: \", accuracy_score(y_valid_attempt2, brf3.predict(valid_df)))\n",
        "print(\"ROC-AUC on Valid: \", roc_auc_score(y_valid_attempt2, brf3.predict(valid_df)))\n"
      ],
      "metadata": {
        "colab": {
          "base_uri": "https://localhost:8080/"
        },
        "id": "bUWc0wlYM7Nk",
        "outputId": "289614ed-de71-49ea-a8a9-efbbabf82a58"
      },
      "id": "bUWc0wlYM7Nk",
      "execution_count": 236,
      "outputs": [
        {
          "output_type": "stream",
          "name": "stderr",
          "text": [
            "/usr/local/lib/python3.10/dist-packages/imblearn/ensemble/_forest.py:577: FutureWarning: The default of `sampling_strategy` will change from `'auto'` to `'all'` in version 0.13. This change will follow the implementation proposed in the original paper. Set to `'all'` to silence this warning and adopt the future behaviour.\n",
            "  warn(\n",
            "/usr/local/lib/python3.10/dist-packages/imblearn/ensemble/_forest.py:589: FutureWarning: The default of `replacement` will change from `False` to `True` in version 0.13. This change will follow the implementation proposed in the original paper. Set to `True` to silence this warning and adopt the future behaviour.\n",
            "  warn(\n",
            "/usr/local/lib/python3.10/dist-packages/imblearn/ensemble/_forest.py:601: FutureWarning: The default of `bootstrap` will change from `True` to `False` in version 0.13. This change will follow the implementation proposed in the original paper. Set to `False` to silence this warning and adopt the future behaviour.\n",
            "  warn(\n"
          ]
        },
        {
          "output_type": "stream",
          "name": "stdout",
          "text": [
            "Accuracy on Valid:  0.7768702431780211\n",
            "ROC-AUC on Valid:  0.6923179093893331\n"
          ]
        }
      ]
    },
    {
      "cell_type": "code",
      "source": [
        "brf3.feature_importances_"
      ],
      "metadata": {
        "colab": {
          "base_uri": "https://localhost:8080/"
        },
        "id": "JiQm1KMZNw1R",
        "outputId": "bfff2dda-752d-4811-b148-d0fb35c51932"
      },
      "id": "JiQm1KMZNw1R",
      "execution_count": 237,
      "outputs": [
        {
          "output_type": "execute_result",
          "data": {
            "text/plain": [
              "array([0.01660267, 0.01029867, 0.48840129, 0.07900126, 0.25085145,\n",
              "       0.121389  , 0.03345565])"
            ]
          },
          "metadata": {},
          "execution_count": 237
        }
      ]
    },
    {
      "cell_type": "code",
      "source": [
        "weights = np.array(brf3.feature_importances_)\n",
        "\n",
        "weighted_votes = test_df.values * weights\n",
        "final_scores = np.sum(weighted_votes, axis=1)\n",
        "\n",
        "threshold = 0.5\n",
        "final_predictions = (final_scores > (np.sum(weights) / 2)).astype(int)\n",
        "\n",
        "result_08 = pd.Series(final_predictions)\n",
        "print(result_08)"
      ],
      "metadata": {
        "colab": {
          "base_uri": "https://localhost:8080/"
        },
        "id": "CfFnNqFaNLD6",
        "outputId": "f52278ef-fadc-40d9-85e8-e7a849585849"
      },
      "id": "CfFnNqFaNLD6",
      "execution_count": 239,
      "outputs": [
        {
          "output_type": "stream",
          "name": "stdout",
          "text": [
            "0        0\n",
            "1        0\n",
            "2        1\n",
            "3        1\n",
            "4        0\n",
            "        ..\n",
            "11213    0\n",
            "11214    1\n",
            "11215    0\n",
            "11216    0\n",
            "11217    1\n",
            "Length: 11218, dtype: int64\n"
          ]
        }
      ]
    },
    {
      "cell_type": "code",
      "source": [
        "print((result_08==result_07).mean())\n",
        "print((result_08==result_05).mean())\n",
        "print((result_08==result_02).mean())\n",
        "print((result_08==result_01).mean())"
      ],
      "metadata": {
        "colab": {
          "base_uri": "https://localhost:8080/"
        },
        "id": "5vaZmNRgN9QZ",
        "outputId": "ec667c92-57f9-4536-d85c-78acef0f7c73"
      },
      "id": "5vaZmNRgN9QZ",
      "execution_count": 240,
      "outputs": [
        {
          "output_type": "stream",
          "name": "stdout",
          "text": [
            "0.9253877696559102\n",
            "0.8780531288999822\n",
            "0.9530219290426101\n",
            "0.958192191121412\n"
          ]
        }
      ]
    },
    {
      "cell_type": "code",
      "source": [
        "result_08.shape"
      ],
      "metadata": {
        "colab": {
          "base_uri": "https://localhost:8080/"
        },
        "id": "kJAW_z29OUJN",
        "outputId": "a69ecd88-91af-4a3e-a682-c6d029270048"
      },
      "id": "kJAW_z29OUJN",
      "execution_count": 242,
      "outputs": [
        {
          "output_type": "execute_result",
          "data": {
            "text/plain": [
              "(11218,)"
            ]
          },
          "metadata": {},
          "execution_count": 242
        }
      ]
    },
    {
      "cell_type": "code",
      "source": [
        "result_08.to_csv(\"result_08.csv\", index=False, header=False)\n",
        "files.download(\"result_08.csv\")"
      ],
      "metadata": {
        "colab": {
          "base_uri": "https://localhost:8080/",
          "height": 17
        },
        "id": "jQ_klhX1OJUd",
        "outputId": "69b11996-fcea-4b2b-900a-e34c9867040f"
      },
      "id": "jQ_klhX1OJUd",
      "execution_count": 241,
      "outputs": [
        {
          "output_type": "display_data",
          "data": {
            "text/plain": [
              "<IPython.core.display.Javascript object>"
            ],
            "application/javascript": [
              "\n",
              "    async function download(id, filename, size) {\n",
              "      if (!google.colab.kernel.accessAllowed) {\n",
              "        return;\n",
              "      }\n",
              "      const div = document.createElement('div');\n",
              "      const label = document.createElement('label');\n",
              "      label.textContent = `Downloading \"${filename}\": `;\n",
              "      div.appendChild(label);\n",
              "      const progress = document.createElement('progress');\n",
              "      progress.max = size;\n",
              "      div.appendChild(progress);\n",
              "      document.body.appendChild(div);\n",
              "\n",
              "      const buffers = [];\n",
              "      let downloaded = 0;\n",
              "\n",
              "      const channel = await google.colab.kernel.comms.open(id);\n",
              "      // Send a message to notify the kernel that we're ready.\n",
              "      channel.send({})\n",
              "\n",
              "      for await (const message of channel.messages) {\n",
              "        // Send a message to notify the kernel that we're ready.\n",
              "        channel.send({})\n",
              "        if (message.buffers) {\n",
              "          for (const buffer of message.buffers) {\n",
              "            buffers.push(buffer);\n",
              "            downloaded += buffer.byteLength;\n",
              "            progress.value = downloaded;\n",
              "          }\n",
              "        }\n",
              "      }\n",
              "      const blob = new Blob(buffers, {type: 'application/binary'});\n",
              "      const a = document.createElement('a');\n",
              "      a.href = window.URL.createObjectURL(blob);\n",
              "      a.download = filename;\n",
              "      div.appendChild(a);\n",
              "      a.click();\n",
              "      div.remove();\n",
              "    }\n",
              "  "
            ]
          },
          "metadata": {}
        },
        {
          "output_type": "display_data",
          "data": {
            "text/plain": [
              "<IPython.core.display.Javascript object>"
            ],
            "application/javascript": [
              "download(\"download_7e44cb40-f985-49f2-a6ba-9e2d422e8f3d\", \"result_08.csv\", 22436)"
            ]
          },
          "metadata": {}
        }
      ]
    },
    {
      "cell_type": "code",
      "source": [
        "result_06_check = pd.read_csv(\"result_06.csv\", header=None)[0]\n",
        "result_06_check.shape"
      ],
      "metadata": {
        "colab": {
          "base_uri": "https://localhost:8080/"
        },
        "id": "_0lTCf0KOSV-",
        "outputId": "daa0ab4b-f421-45a6-9863-cae84f9ee93a"
      },
      "id": "_0lTCf0KOSV-",
      "execution_count": 244,
      "outputs": [
        {
          "output_type": "execute_result",
          "data": {
            "text/plain": [
              "(11218,)"
            ]
          },
          "metadata": {},
          "execution_count": 244
        }
      ]
    },
    {
      "cell_type": "code",
      "source": [
        "(result_06_check==result_08).mean()"
      ],
      "metadata": {
        "colab": {
          "base_uri": "https://localhost:8080/"
        },
        "id": "vzB0ooT9PHIU",
        "outputId": "3d121ad1-8ee8-4e75-b2b0-74a9d011e05e"
      },
      "id": "vzB0ooT9PHIU",
      "execution_count": 245,
      "outputs": [
        {
          "output_type": "execute_result",
          "data": {
            "text/plain": [
              "0.9929577464788732"
            ]
          },
          "metadata": {},
          "execution_count": 245
        }
      ]
    },
    {
      "cell_type": "code",
      "source": [
        "\n",
        "\n",
        "\n",
        "\n",
        "\n",
        "\n",
        "\n"
      ],
      "metadata": {
        "id": "LBpvXfizPRcd"
      },
      "id": "LBpvXfizPRcd",
      "execution_count": 179,
      "outputs": []
    },
    {
      "cell_type": "code",
      "source": [
        "X_resampled.shape, y_resampled.shape"
      ],
      "metadata": {
        "colab": {
          "base_uri": "https://localhost:8080/"
        },
        "id": "qc_WGLP76PUg",
        "outputId": "0d1ef2db-a5f9-47bd-c705-2bfbcd7d05fe"
      },
      "id": "qc_WGLP76PUg",
      "execution_count": 180,
      "outputs": [
        {
          "output_type": "execute_result",
          "data": {
            "text/plain": [
              "((32704, 58), (32704,))"
            ]
          },
          "metadata": {},
          "execution_count": 180
        }
      ]
    },
    {
      "cell_type": "code",
      "source": [
        "lr10 = LogisticRegression(max_iter=1000).fit(X_resampled, y_resampled)\n",
        "rf10 = BalancedRandomForestClassifier().fit(X_resampled, y_resampled)\n",
        "cb10 = CatBoostClassifier(auto_class_weights='Balanced', cat_features=cats).fit(X_train_catboost, y_train_attempt2, verbose=False)"
      ],
      "metadata": {
        "colab": {
          "base_uri": "https://localhost:8080/"
        },
        "id": "M2nDZsDp6S6c",
        "outputId": "7a94ef64-857e-4198-9b8b-5952ed0d18f7"
      },
      "id": "M2nDZsDp6S6c",
      "execution_count": 188,
      "outputs": [
        {
          "output_type": "stream",
          "name": "stderr",
          "text": [
            "/usr/local/lib/python3.10/dist-packages/imblearn/ensemble/_forest.py:577: FutureWarning: The default of `sampling_strategy` will change from `'auto'` to `'all'` in version 0.13. This change will follow the implementation proposed in the original paper. Set to `'all'` to silence this warning and adopt the future behaviour.\n",
            "  warn(\n",
            "/usr/local/lib/python3.10/dist-packages/imblearn/ensemble/_forest.py:589: FutureWarning: The default of `replacement` will change from `False` to `True` in version 0.13. This change will follow the implementation proposed in the original paper. Set to `True` to silence this warning and adopt the future behaviour.\n",
            "  warn(\n",
            "/usr/local/lib/python3.10/dist-packages/imblearn/ensemble/_forest.py:601: FutureWarning: The default of `bootstrap` will change from `True` to `False` in version 0.13. This change will follow the implementation proposed in the original paper. Set to `False` to silence this warning and adopt the future behaviour.\n",
            "  warn(\n"
          ]
        }
      ]
    },
    {
      "cell_type": "code",
      "source": [
        "params_list = [\n",
        "    {'objective': 'binary:logistic', 'eval_metric': 'logloss', 'max_depth': 4, 'learning_rate': 0.1, 'n_estimators': 100, 'scale_pos_weight': class_weights[1]},\n",
        "    {'objective': 'binary:logistic', 'eval_metric': 'logloss', 'max_depth': 6, 'learning_rate': 0.1, 'n_estimators': 100, 'scale_pos_weight': class_weights[1]},\n",
        "    {'objective': 'binary:logistic', 'eval_metric': 'logloss', 'max_depth': 8, 'learning_rate': 0.1, 'n_estimators': 100, 'scale_pos_weight': class_weights[1]},\n",
        "    {'objective': 'binary:logistic', 'eval_metric': 'logloss', 'max_depth': 4, 'learning_rate': 0.01, 'n_estimators': 300, 'scale_pos_weight': class_weights[1]},\n",
        "    {'objective': 'binary:logistic', 'eval_metric': 'logloss', 'max_depth': 5, 'learning_rate': 0.2, 'n_estimators': 50, 'scale_pos_weight': class_weights[1]},\n",
        "    {'objective': 'binary:logistic', 'eval_metric': 'auc', 'max_depth': 7, 'learning_rate': 0.2, 'n_estimators': 50, 'scale_pos_weight': class_weights[1]},\n",
        "    {'objective': 'binary:logistic', 'eval_metric': 'auc', 'max_depth': 5, 'learning_rate': 0.3, 'n_estimators': 150, 'scale_pos_weight': class_weights[1]},\n",
        "    {'objective': 'binary:logistic', 'eval_metric': 'auc', 'max_depth': 2, 'learning_rate': 0.1, 'n_estimators': 100, 'scale_pos_weight': class_weights[1]},\n",
        "    {'objective': 'binary:logistic', 'eval_metric': 'auc', 'max_depth': 6, 'learning_rate': 0.3, 'n_estimators': 200, 'scale_pos_weight': class_weights[1]}\n",
        "]\n",
        "\n",
        "predictions_train = []\n",
        "predictions_valid = []\n",
        "predictions_test = []\n",
        "\n",
        "for params in params_list:\n",
        "    model1 = XGBClassifier(**params)\n",
        "    model1.fit(X_resampled, y_resampled)\n",
        "    train_preds = model.predict(X_resampled)\n",
        "    valid_preds = model.predict(X_valid_attempt2)\n",
        "    test_preds = model.predict(X_test_attempt2)\n",
        "    predictions_train.append(train_preds)\n",
        "    predictions_test.append(test_preds)\n",
        "    predictions_valid.append(valid_preds)\n",
        "\n",
        "# Итоговые предсказания, усреднённые по всем моделям\n",
        "ensemble_preds_train = (sum(predictions_train) / len(predictions_train)).round()\n",
        "ensemble_preds_valid = (sum(predictions_valid) / len(predictions_valid)).round()\n",
        "ensemble_preds_test = (sum(predictions_test) / len(predictions_test)).round()\n"
      ],
      "metadata": {
        "id": "8VkGWr2y7JGB"
      },
      "id": "8VkGWr2y7JGB",
      "execution_count": 189,
      "outputs": []
    },
    {
      "cell_type": "code",
      "source": [
        "lr10_preds = lr10.predict(X_valid_attempt2)\n",
        "rf10_preds = rf10.predict(X_valid_attempt2)\n",
        "cb10_preds = cb10.predict(X_valid_catboost)"
      ],
      "metadata": {
        "id": "IehnbS2i8fw0"
      },
      "id": "IehnbS2i8fw0",
      "execution_count": 191,
      "outputs": []
    },
    {
      "cell_type": "code",
      "source": [
        "lr10_preds.shape, rf10_preds.shape, cb10_preds.shape, ensemble_preds_valid.shape"
      ],
      "metadata": {
        "colab": {
          "base_uri": "https://localhost:8080/"
        },
        "id": "3SZUT0vn8zAQ",
        "outputId": "e4b52b16-90bf-4fdc-ef91-4107af611ce5"
      },
      "id": "3SZUT0vn8zAQ",
      "execution_count": 192,
      "outputs": [
        {
          "output_type": "execute_result",
          "data": {
            "text/plain": [
              "((5387,), (5387,), (5387,), (5387,))"
            ]
          },
          "metadata": {},
          "execution_count": 192
        }
      ]
    },
    {
      "cell_type": "code",
      "source": [
        "print(\"Accuracy on Valid: \", accuracy_score(y_valid_attempt2, lr10_preds))\n",
        "print(\"ROC-AUC on Valid: \", roc_auc_score(y_valid_attempt2, lr10_preds))\n",
        "\n",
        "print(\"Accuracy on Valid: \", accuracy_score(y_valid_attempt2, rf10_preds))\n",
        "print(\"ROC-AUC on Valid: \", roc_auc_score(y_valid_attempt2, rf10_preds))\n",
        "\n",
        "print(\"Accuracy on Valid: \", accuracy_score(y_valid_attempt2, cb10_preds))\n",
        "print(\"ROC-AUC on Valid: \", roc_auc_score(y_valid_attempt2, cb10_preds))\n",
        "\n",
        "print(\"Accuracy on Valid: \", accuracy_score(y_valid_attempt2, ensemble_preds_valid))\n",
        "print(\"ROC-AUC on Valid: \", roc_auc_score(y_valid_attempt2, ensemble_preds_valid))\n"
      ],
      "metadata": {
        "colab": {
          "base_uri": "https://localhost:8080/"
        },
        "id": "khUNrCeH9JL5",
        "outputId": "4391237b-b83a-45dc-e070-d6113528d91a"
      },
      "id": "khUNrCeH9JL5",
      "execution_count": 193,
      "outputs": [
        {
          "output_type": "stream",
          "name": "stdout",
          "text": [
            "Accuracy on Valid:  0.6916651197326898\n",
            "ROC-AUC on Valid:  0.6821270688215582\n",
            "Accuracy on Valid:  0.8867644328940041\n",
            "ROC-AUC on Valid:  0.6564459447094214\n",
            "Accuracy on Valid:  0.7757564507146835\n",
            "ROC-AUC on Valid:  0.6944417756122111\n",
            "Accuracy on Valid:  0.8045294226842399\n",
            "ROC-AUC on Valid:  0.6934353875716296\n"
          ]
        }
      ]
    },
    {
      "cell_type": "code",
      "source": [
        "params_list = [\n",
        "    {'iterations': 100, 'learning_rate': 0.1, 'depth': 6},\n",
        "    {'iterations': 150, 'learning_rate': 0.05, 'depth': 7},\n",
        "    {'iterations': 200, 'learning_rate': 0.01, 'depth': 8},\n",
        "    {'iterations': 250, 'learning_rate': 0.001, 'depth': 10},\n",
        "    {'iterations': 200, 'learning_rate': 0.01, 'depth': 3}\n",
        "]\n",
        "\n",
        "# Список для хранения предсказаний\n",
        "predictions = []\n",
        "\n",
        "for params in params_list:\n",
        "    model2 = CatBoostClassifier(**params, silent=True)\n",
        "    model2.fit(X_resampled, y_resampled)\n",
        "\n",
        "    preds = model2.predict_proba(X_valid_attempt2)[:, 1]  # Вероятности для класса 1\n",
        "    predictions.append(preds)\n",
        "\n",
        "# Среднее значение предсказаний\n",
        "average_preds = np.mean(predictions, axis=0)\n",
        "\n",
        "# Округление предсказаний, чтобы получить бинарные значения\n",
        "final_predictions = np.round(average_preds)"
      ],
      "metadata": {
        "id": "j2PKoTqw9miA"
      },
      "id": "j2PKoTqw9miA",
      "execution_count": 219,
      "outputs": []
    },
    {
      "cell_type": "code",
      "source": [
        "print(\"Accuracy on Valid: \", accuracy_score(y_valid_attempt2, final_predictions))\n",
        "print(\"ROC-AUC on Valid: \", roc_auc_score(y_valid_attempt2, final_predictions))"
      ],
      "metadata": {
        "colab": {
          "base_uri": "https://localhost:8080/"
        },
        "id": "azBGvnrqDh9B",
        "outputId": "90093f05-1fec-4359-a7c5-95b0ef00b5e1"
      },
      "id": "azBGvnrqDh9B",
      "execution_count": 220,
      "outputs": [
        {
          "output_type": "stream",
          "name": "stdout",
          "text": [
            "Accuracy on Valid:  0.8850937441989976\n",
            "ROC-AUC on Valid:  0.6549201351954158\n"
          ]
        }
      ]
    },
    {
      "cell_type": "code",
      "source": [
        "from sklearn.ensemble import StackingClassifier\n",
        "import xgboost as xgb"
      ],
      "metadata": {
        "id": "n3zMrNleI0tZ"
      },
      "id": "n3zMrNleI0tZ",
      "execution_count": 228,
      "outputs": []
    },
    {
      "cell_type": "code",
      "source": [
        "base_estimators = [\n",
        "    ('rf', RandomForestClassifier(n_estimators=100, random_state=42)),\n",
        "    ('lr', LogisticRegression())\n",
        "]\n",
        "\n",
        "# Определение мета-классификатора\n",
        "meta_classifier = xgb.XGBClassifier(\n",
        "    n_estimators=200,\n",
        "    max_depth=4,\n",
        "    learning_rate=0.1,\n",
        "    objective='binary:logistic',\n",
        "    nthread=-1,\n",
        "    scale_pos_weight=1\n",
        ")\n",
        "\n",
        "# Создание стэкинг классификатора\n",
        "stacking_classifier = StackingClassifier(\n",
        "    estimators=base_estimators,\n",
        "    final_estimator=meta_classifier,\n",
        "    cv=5\n",
        ")\n",
        "\n",
        "# Обучение стэкинг классификатора\n",
        "stacking_classifier.fit(X_resampled, y_resampled)\n",
        "\n",
        "# Прогнозирование\n",
        "predictions = stacking_classifier.predict(X_valid_attempt2)\n"
      ],
      "metadata": {
        "colab": {
          "base_uri": "https://localhost:8080/"
        },
        "id": "wuC3i9PLEIlr",
        "outputId": "009e2339-14f3-4c99-9600-73edc4e469ec"
      },
      "id": "wuC3i9PLEIlr",
      "execution_count": 229,
      "outputs": [
        {
          "output_type": "stream",
          "name": "stderr",
          "text": [
            "/usr/local/lib/python3.10/dist-packages/sklearn/linear_model/_logistic.py:460: ConvergenceWarning: lbfgs failed to converge (status=1):\n",
            "STOP: TOTAL NO. of ITERATIONS REACHED LIMIT.\n",
            "\n",
            "Increase the number of iterations (max_iter) or scale the data as shown in:\n",
            "    https://scikit-learn.org/stable/modules/preprocessing.html\n",
            "Please also refer to the documentation for alternative solver options:\n",
            "    https://scikit-learn.org/stable/modules/linear_model.html#logistic-regression\n",
            "  n_iter_i = _check_optimize_result(\n",
            "/usr/local/lib/python3.10/dist-packages/sklearn/linear_model/_logistic.py:460: ConvergenceWarning: lbfgs failed to converge (status=1):\n",
            "STOP: TOTAL NO. of ITERATIONS REACHED LIMIT.\n",
            "\n",
            "Increase the number of iterations (max_iter) or scale the data as shown in:\n",
            "    https://scikit-learn.org/stable/modules/preprocessing.html\n",
            "Please also refer to the documentation for alternative solver options:\n",
            "    https://scikit-learn.org/stable/modules/linear_model.html#logistic-regression\n",
            "  n_iter_i = _check_optimize_result(\n",
            "/usr/local/lib/python3.10/dist-packages/sklearn/linear_model/_logistic.py:460: ConvergenceWarning: lbfgs failed to converge (status=1):\n",
            "STOP: TOTAL NO. of ITERATIONS REACHED LIMIT.\n",
            "\n",
            "Increase the number of iterations (max_iter) or scale the data as shown in:\n",
            "    https://scikit-learn.org/stable/modules/preprocessing.html\n",
            "Please also refer to the documentation for alternative solver options:\n",
            "    https://scikit-learn.org/stable/modules/linear_model.html#logistic-regression\n",
            "  n_iter_i = _check_optimize_result(\n",
            "/usr/local/lib/python3.10/dist-packages/sklearn/linear_model/_logistic.py:460: ConvergenceWarning: lbfgs failed to converge (status=1):\n",
            "STOP: TOTAL NO. of ITERATIONS REACHED LIMIT.\n",
            "\n",
            "Increase the number of iterations (max_iter) or scale the data as shown in:\n",
            "    https://scikit-learn.org/stable/modules/preprocessing.html\n",
            "Please also refer to the documentation for alternative solver options:\n",
            "    https://scikit-learn.org/stable/modules/linear_model.html#logistic-regression\n",
            "  n_iter_i = _check_optimize_result(\n",
            "/usr/local/lib/python3.10/dist-packages/sklearn/linear_model/_logistic.py:460: ConvergenceWarning: lbfgs failed to converge (status=1):\n",
            "STOP: TOTAL NO. of ITERATIONS REACHED LIMIT.\n",
            "\n",
            "Increase the number of iterations (max_iter) or scale the data as shown in:\n",
            "    https://scikit-learn.org/stable/modules/preprocessing.html\n",
            "Please also refer to the documentation for alternative solver options:\n",
            "    https://scikit-learn.org/stable/modules/linear_model.html#logistic-regression\n",
            "  n_iter_i = _check_optimize_result(\n",
            "/usr/local/lib/python3.10/dist-packages/sklearn/linear_model/_logistic.py:460: ConvergenceWarning: lbfgs failed to converge (status=1):\n",
            "STOP: TOTAL NO. of ITERATIONS REACHED LIMIT.\n",
            "\n",
            "Increase the number of iterations (max_iter) or scale the data as shown in:\n",
            "    https://scikit-learn.org/stable/modules/preprocessing.html\n",
            "Please also refer to the documentation for alternative solver options:\n",
            "    https://scikit-learn.org/stable/modules/linear_model.html#logistic-regression\n",
            "  n_iter_i = _check_optimize_result(\n"
          ]
        }
      ]
    },
    {
      "cell_type": "code",
      "source": [
        "print(\"Accuracy on Valid: \", accuracy_score(y_valid_attempt2, predictions))\n",
        "print(\"ROC-AUC on Valid: \", roc_auc_score(y_valid_attempt2, predictions))"
      ],
      "metadata": {
        "colab": {
          "base_uri": "https://localhost:8080/"
        },
        "id": "FGVcZ4uLJCwP",
        "outputId": "60cbcfd0-aa2c-45b5-a77e-1f7e3e9f0799"
      },
      "id": "FGVcZ4uLJCwP",
      "execution_count": 230,
      "outputs": [
        {
          "output_type": "stream",
          "name": "stdout",
          "text": [
            "Accuracy on Valid:  0.8878782253573417\n",
            "ROC-AUC on Valid:  0.6432359400199018\n"
          ]
        }
      ]
    },
    {
      "cell_type": "code",
      "source": [
        "result_08==result_09"
      ],
      "metadata": {
        "colab": {
          "base_uri": "https://localhost:8080/",
          "height": 146
        },
        "id": "Jb1zReIKJJCN",
        "outputId": "dba27f41-5522-4b88-acff-90c28fb93532"
      },
      "id": "Jb1zReIKJJCN",
      "execution_count": 250,
      "outputs": [
        {
          "output_type": "error",
          "ename": "NameError",
          "evalue": "name 'result_08' is not defined",
          "traceback": [
            "\u001b[0;31m---------------------------------------------------------------------------\u001b[0m",
            "\u001b[0;31mNameError\u001b[0m                                 Traceback (most recent call last)",
            "\u001b[0;32m<ipython-input-250-4d6cfcc8ffe3>\u001b[0m in \u001b[0;36m<cell line: 1>\u001b[0;34m()\u001b[0m\n\u001b[0;32m----> 1\u001b[0;31m \u001b[0mresult_08\u001b[0m\u001b[0;34m==\u001b[0m\u001b[0mresult_09\u001b[0m\u001b[0;34m\u001b[0m\u001b[0;34m\u001b[0m\u001b[0m\n\u001b[0m",
            "\u001b[0;31mNameError\u001b[0m: name 'result_08' is not defined"
          ]
        }
      ]
    },
    {
      "cell_type": "code",
      "source": [
        "from imblearn.ensemble import BalancedRandomForestClassifier"
      ],
      "metadata": {
        "id": "-ihc2makUeXh"
      },
      "id": "-ihc2makUeXh",
      "execution_count": 336,
      "outputs": []
    },
    {
      "cell_type": "code",
      "source": [
        "brf4 = BalancedRandomForestClassifier(class_weight='balanced', n_estimators=1000, max_features=0.3, sampling_strategy='majority')"
      ],
      "metadata": {
        "id": "X--bB_2aVsB8"
      },
      "id": "X--bB_2aVsB8",
      "execution_count": 354,
      "outputs": []
    },
    {
      "cell_type": "code",
      "source": [
        "brf4 = brf4.fit(X_train_attempt2, y_train_attempt2)"
      ],
      "metadata": {
        "colab": {
          "base_uri": "https://localhost:8080/"
        },
        "id": "hWf2z70oVuRC",
        "outputId": "c3534567-e261-4531-88ee-fcd3d2216e80"
      },
      "id": "hWf2z70oVuRC",
      "execution_count": 367,
      "outputs": [
        {
          "output_type": "stream",
          "name": "stderr",
          "text": [
            "/usr/local/lib/python3.10/dist-packages/imblearn/ensemble/_forest.py:589: FutureWarning: The default of `replacement` will change from `False` to `True` in version 0.13. This change will follow the implementation proposed in the original paper. Set to `True` to silence this warning and adopt the future behaviour.\n",
            "  warn(\n",
            "/usr/local/lib/python3.10/dist-packages/imblearn/ensemble/_forest.py:601: FutureWarning: The default of `bootstrap` will change from `True` to `False` in version 0.13. This change will follow the implementation proposed in the original paper. Set to `False` to silence this warning and adopt the future behaviour.\n",
            "  warn(\n"
          ]
        }
      ]
    },
    {
      "cell_type": "code",
      "source": [
        "X_resampled.shape, X_valid_attempt2.shape"
      ],
      "metadata": {
        "colab": {
          "base_uri": "https://localhost:8080/"
        },
        "id": "7_yXwuA7cOqZ",
        "outputId": "1200d5db-e09f-4915-f943-3519ff76639e"
      },
      "id": "7_yXwuA7cOqZ",
      "execution_count": 368,
      "outputs": [
        {
          "output_type": "execute_result",
          "data": {
            "text/plain": [
              "((32704, 58), (5387, 58))"
            ]
          },
          "metadata": {},
          "execution_count": 368
        }
      ]
    },
    {
      "cell_type": "code",
      "source": [
        "print(\"Accuracy on Valid: \", accuracy_score(y_valid_attempt2, brf4.predict(X_valid_attempt2)))\n",
        "print(\"ROC-AUC on Valid: \", roc_auc_score(y_valid_attempt2, brf4.predict(X_valid_attempt2)))"
      ],
      "metadata": {
        "colab": {
          "base_uri": "https://localhost:8080/"
        },
        "id": "pU6RVrbGV0Ei",
        "outputId": "b1a300c8-5072-4bbb-8a82-4d25a89a5336"
      },
      "id": "pU6RVrbGV0Ei",
      "execution_count": 369,
      "outputs": [
        {
          "output_type": "stream",
          "name": "stdout",
          "text": [
            "Accuracy on Valid:  0.7358455541117505\n",
            "ROC-AUC on Valid:  0.6961774697182856\n"
          ]
        }
      ]
    },
    {
      "cell_type": "code",
      "source": [
        "result_06 = pd.read_csv(\"result_06.csv\", header=None)[0]\n",
        "result_08 = pd.read_csv(\"result_08.csv\", header=None)[0]\n",
        "result_09 = pd.read_csv(\"result_09.csv\", header=None)[0]\n",
        "result_06.shape, result_08.shape, result_09.shape"
      ],
      "metadata": {
        "colab": {
          "base_uri": "https://localhost:8080/"
        },
        "id": "H-OvFmHIWGyo",
        "outputId": "d7470931-ac45-45ed-d9c8-f17186699a3d"
      },
      "id": "H-OvFmHIWGyo",
      "execution_count": 321,
      "outputs": [
        {
          "output_type": "execute_result",
          "data": {
            "text/plain": [
              "((11218,), (11218,), (11218,))"
            ]
          },
          "metadata": {},
          "execution_count": 321
        }
      ]
    },
    {
      "cell_type": "code",
      "source": [
        "brf4_result = pd.Series(brf4.predict(X_test_attempt2))\n",
        "brf4_result.shape, type(brf4_result)"
      ],
      "metadata": {
        "colab": {
          "base_uri": "https://localhost:8080/"
        },
        "id": "8tyv3cKydtCk",
        "outputId": "e305a0ca-2b6e-41ff-c4fe-595397b5a17f"
      },
      "id": "8tyv3cKydtCk",
      "execution_count": 373,
      "outputs": [
        {
          "output_type": "execute_result",
          "data": {
            "text/plain": [
              "((11218,), pandas.core.series.Series)"
            ]
          },
          "metadata": {},
          "execution_count": 373
        }
      ]
    },
    {
      "cell_type": "code",
      "source": [
        "print((brf4_result==result_06).mean())"
      ],
      "metadata": {
        "colab": {
          "base_uri": "https://localhost:8080/"
        },
        "id": "EJSbCDQ-eEPv",
        "outputId": "01301901-05a0-49a2-97f4-45facd7dba11"
      },
      "id": "EJSbCDQ-eEPv",
      "execution_count": 378,
      "outputs": [
        {
          "output_type": "stream",
          "name": "stdout",
          "text": [
            "0.922089499019433\n"
          ]
        }
      ]
    },
    {
      "cell_type": "code",
      "source": [
        "(result_06==result_08).mean()"
      ],
      "metadata": {
        "colab": {
          "base_uri": "https://localhost:8080/"
        },
        "id": "kCOMXOw7dHXU",
        "outputId": "9e03b497-01c1-411f-b43c-347be16f4692"
      },
      "id": "kCOMXOw7dHXU",
      "execution_count": 379,
      "outputs": [
        {
          "output_type": "execute_result",
          "data": {
            "text/plain": [
              "0.9929577464788732"
            ]
          },
          "metadata": {},
          "execution_count": 379
        }
      ]
    },
    {
      "cell_type": "code",
      "source": [
        "old_results = pd.DataFrame([result_06, result_08, result_09]).T\n",
        "old_results.columns = [\"0\", \"1\", \"2\"]\n",
        "print(old_results.shape)\n",
        "print(type(old_results))"
      ],
      "metadata": {
        "colab": {
          "base_uri": "https://localhost:8080/"
        },
        "id": "DjoydmS3WpJJ",
        "outputId": "7d0d310b-082b-4c65-d57e-a1bf454ede7e"
      },
      "id": "DjoydmS3WpJJ",
      "execution_count": 328,
      "outputs": [
        {
          "output_type": "stream",
          "name": "stdout",
          "text": [
            "(11218, 3)\n",
            "<class 'pandas.core.frame.DataFrame'>\n"
          ]
        }
      ]
    },
    {
      "cell_type": "code",
      "source": [
        "old_results[\"1\"]=brf4_result"
      ],
      "metadata": {
        "id": "NTB1GsxYeXlT"
      },
      "id": "NTB1GsxYeXlT",
      "execution_count": 380,
      "outputs": []
    },
    {
      "cell_type": "code",
      "source": [
        "old_results.head()"
      ],
      "metadata": {
        "colab": {
          "base_uri": "https://localhost:8080/",
          "height": 206
        },
        "id": "oEyiTztMW92D",
        "outputId": "9322d104-5e21-4725-94df-8ed16b7cf4a8"
      },
      "id": "oEyiTztMW92D",
      "execution_count": 381,
      "outputs": [
        {
          "output_type": "execute_result",
          "data": {
            "text/plain": [
              "   0  1  2\n",
              "0  0  0  0\n",
              "1  0  0  0\n",
              "2  1  0  1\n",
              "3  1  1  0\n",
              "4  0  0  0"
            ],
            "text/html": [
              "\n",
              "  <div id=\"df-decc36e4-3373-4dcd-8221-03a35e466653\" class=\"colab-df-container\">\n",
              "    <div>\n",
              "<style scoped>\n",
              "    .dataframe tbody tr th:only-of-type {\n",
              "        vertical-align: middle;\n",
              "    }\n",
              "\n",
              "    .dataframe tbody tr th {\n",
              "        vertical-align: top;\n",
              "    }\n",
              "\n",
              "    .dataframe thead th {\n",
              "        text-align: right;\n",
              "    }\n",
              "</style>\n",
              "<table border=\"1\" class=\"dataframe\">\n",
              "  <thead>\n",
              "    <tr style=\"text-align: right;\">\n",
              "      <th></th>\n",
              "      <th>0</th>\n",
              "      <th>1</th>\n",
              "      <th>2</th>\n",
              "    </tr>\n",
              "  </thead>\n",
              "  <tbody>\n",
              "    <tr>\n",
              "      <th>0</th>\n",
              "      <td>0</td>\n",
              "      <td>0</td>\n",
              "      <td>0</td>\n",
              "    </tr>\n",
              "    <tr>\n",
              "      <th>1</th>\n",
              "      <td>0</td>\n",
              "      <td>0</td>\n",
              "      <td>0</td>\n",
              "    </tr>\n",
              "    <tr>\n",
              "      <th>2</th>\n",
              "      <td>1</td>\n",
              "      <td>0</td>\n",
              "      <td>1</td>\n",
              "    </tr>\n",
              "    <tr>\n",
              "      <th>3</th>\n",
              "      <td>1</td>\n",
              "      <td>1</td>\n",
              "      <td>0</td>\n",
              "    </tr>\n",
              "    <tr>\n",
              "      <th>4</th>\n",
              "      <td>0</td>\n",
              "      <td>0</td>\n",
              "      <td>0</td>\n",
              "    </tr>\n",
              "  </tbody>\n",
              "</table>\n",
              "</div>\n",
              "    <div class=\"colab-df-buttons\">\n",
              "\n",
              "  <div class=\"colab-df-container\">\n",
              "    <button class=\"colab-df-convert\" onclick=\"convertToInteractive('df-decc36e4-3373-4dcd-8221-03a35e466653')\"\n",
              "            title=\"Convert this dataframe to an interactive table.\"\n",
              "            style=\"display:none;\">\n",
              "\n",
              "  <svg xmlns=\"http://www.w3.org/2000/svg\" height=\"24px\" viewBox=\"0 -960 960 960\">\n",
              "    <path d=\"M120-120v-720h720v720H120Zm60-500h600v-160H180v160Zm220 220h160v-160H400v160Zm0 220h160v-160H400v160ZM180-400h160v-160H180v160Zm440 0h160v-160H620v160ZM180-180h160v-160H180v160Zm440 0h160v-160H620v160Z\"/>\n",
              "  </svg>\n",
              "    </button>\n",
              "\n",
              "  <style>\n",
              "    .colab-df-container {\n",
              "      display:flex;\n",
              "      gap: 12px;\n",
              "    }\n",
              "\n",
              "    .colab-df-convert {\n",
              "      background-color: #E8F0FE;\n",
              "      border: none;\n",
              "      border-radius: 50%;\n",
              "      cursor: pointer;\n",
              "      display: none;\n",
              "      fill: #1967D2;\n",
              "      height: 32px;\n",
              "      padding: 0 0 0 0;\n",
              "      width: 32px;\n",
              "    }\n",
              "\n",
              "    .colab-df-convert:hover {\n",
              "      background-color: #E2EBFA;\n",
              "      box-shadow: 0px 1px 2px rgba(60, 64, 67, 0.3), 0px 1px 3px 1px rgba(60, 64, 67, 0.15);\n",
              "      fill: #174EA6;\n",
              "    }\n",
              "\n",
              "    .colab-df-buttons div {\n",
              "      margin-bottom: 4px;\n",
              "    }\n",
              "\n",
              "    [theme=dark] .colab-df-convert {\n",
              "      background-color: #3B4455;\n",
              "      fill: #D2E3FC;\n",
              "    }\n",
              "\n",
              "    [theme=dark] .colab-df-convert:hover {\n",
              "      background-color: #434B5C;\n",
              "      box-shadow: 0px 1px 3px 1px rgba(0, 0, 0, 0.15);\n",
              "      filter: drop-shadow(0px 1px 2px rgba(0, 0, 0, 0.3));\n",
              "      fill: #FFFFFF;\n",
              "    }\n",
              "  </style>\n",
              "\n",
              "    <script>\n",
              "      const buttonEl =\n",
              "        document.querySelector('#df-decc36e4-3373-4dcd-8221-03a35e466653 button.colab-df-convert');\n",
              "      buttonEl.style.display =\n",
              "        google.colab.kernel.accessAllowed ? 'block' : 'none';\n",
              "\n",
              "      async function convertToInteractive(key) {\n",
              "        const element = document.querySelector('#df-decc36e4-3373-4dcd-8221-03a35e466653');\n",
              "        const dataTable =\n",
              "          await google.colab.kernel.invokeFunction('convertToInteractive',\n",
              "                                                    [key], {});\n",
              "        if (!dataTable) return;\n",
              "\n",
              "        const docLinkHtml = 'Like what you see? Visit the ' +\n",
              "          '<a target=\"_blank\" href=https://colab.research.google.com/notebooks/data_table.ipynb>data table notebook</a>'\n",
              "          + ' to learn more about interactive tables.';\n",
              "        element.innerHTML = '';\n",
              "        dataTable['output_type'] = 'display_data';\n",
              "        await google.colab.output.renderOutput(dataTable, element);\n",
              "        const docLink = document.createElement('div');\n",
              "        docLink.innerHTML = docLinkHtml;\n",
              "        element.appendChild(docLink);\n",
              "      }\n",
              "    </script>\n",
              "  </div>\n",
              "\n",
              "\n",
              "<div id=\"df-22618b0c-6d53-428f-a3ea-e59c32db9e32\">\n",
              "  <button class=\"colab-df-quickchart\" onclick=\"quickchart('df-22618b0c-6d53-428f-a3ea-e59c32db9e32')\"\n",
              "            title=\"Suggest charts\"\n",
              "            style=\"display:none;\">\n",
              "\n",
              "<svg xmlns=\"http://www.w3.org/2000/svg\" height=\"24px\"viewBox=\"0 0 24 24\"\n",
              "     width=\"24px\">\n",
              "    <g>\n",
              "        <path d=\"M19 3H5c-1.1 0-2 .9-2 2v14c0 1.1.9 2 2 2h14c1.1 0 2-.9 2-2V5c0-1.1-.9-2-2-2zM9 17H7v-7h2v7zm4 0h-2V7h2v10zm4 0h-2v-4h2v4z\"/>\n",
              "    </g>\n",
              "</svg>\n",
              "  </button>\n",
              "\n",
              "<style>\n",
              "  .colab-df-quickchart {\n",
              "      --bg-color: #E8F0FE;\n",
              "      --fill-color: #1967D2;\n",
              "      --hover-bg-color: #E2EBFA;\n",
              "      --hover-fill-color: #174EA6;\n",
              "      --disabled-fill-color: #AAA;\n",
              "      --disabled-bg-color: #DDD;\n",
              "  }\n",
              "\n",
              "  [theme=dark] .colab-df-quickchart {\n",
              "      --bg-color: #3B4455;\n",
              "      --fill-color: #D2E3FC;\n",
              "      --hover-bg-color: #434B5C;\n",
              "      --hover-fill-color: #FFFFFF;\n",
              "      --disabled-bg-color: #3B4455;\n",
              "      --disabled-fill-color: #666;\n",
              "  }\n",
              "\n",
              "  .colab-df-quickchart {\n",
              "    background-color: var(--bg-color);\n",
              "    border: none;\n",
              "    border-radius: 50%;\n",
              "    cursor: pointer;\n",
              "    display: none;\n",
              "    fill: var(--fill-color);\n",
              "    height: 32px;\n",
              "    padding: 0;\n",
              "    width: 32px;\n",
              "  }\n",
              "\n",
              "  .colab-df-quickchart:hover {\n",
              "    background-color: var(--hover-bg-color);\n",
              "    box-shadow: 0 1px 2px rgba(60, 64, 67, 0.3), 0 1px 3px 1px rgba(60, 64, 67, 0.15);\n",
              "    fill: var(--button-hover-fill-color);\n",
              "  }\n",
              "\n",
              "  .colab-df-quickchart-complete:disabled,\n",
              "  .colab-df-quickchart-complete:disabled:hover {\n",
              "    background-color: var(--disabled-bg-color);\n",
              "    fill: var(--disabled-fill-color);\n",
              "    box-shadow: none;\n",
              "  }\n",
              "\n",
              "  .colab-df-spinner {\n",
              "    border: 2px solid var(--fill-color);\n",
              "    border-color: transparent;\n",
              "    border-bottom-color: var(--fill-color);\n",
              "    animation:\n",
              "      spin 1s steps(1) infinite;\n",
              "  }\n",
              "\n",
              "  @keyframes spin {\n",
              "    0% {\n",
              "      border-color: transparent;\n",
              "      border-bottom-color: var(--fill-color);\n",
              "      border-left-color: var(--fill-color);\n",
              "    }\n",
              "    20% {\n",
              "      border-color: transparent;\n",
              "      border-left-color: var(--fill-color);\n",
              "      border-top-color: var(--fill-color);\n",
              "    }\n",
              "    30% {\n",
              "      border-color: transparent;\n",
              "      border-left-color: var(--fill-color);\n",
              "      border-top-color: var(--fill-color);\n",
              "      border-right-color: var(--fill-color);\n",
              "    }\n",
              "    40% {\n",
              "      border-color: transparent;\n",
              "      border-right-color: var(--fill-color);\n",
              "      border-top-color: var(--fill-color);\n",
              "    }\n",
              "    60% {\n",
              "      border-color: transparent;\n",
              "      border-right-color: var(--fill-color);\n",
              "    }\n",
              "    80% {\n",
              "      border-color: transparent;\n",
              "      border-right-color: var(--fill-color);\n",
              "      border-bottom-color: var(--fill-color);\n",
              "    }\n",
              "    90% {\n",
              "      border-color: transparent;\n",
              "      border-bottom-color: var(--fill-color);\n",
              "    }\n",
              "  }\n",
              "</style>\n",
              "\n",
              "  <script>\n",
              "    async function quickchart(key) {\n",
              "      const quickchartButtonEl =\n",
              "        document.querySelector('#' + key + ' button');\n",
              "      quickchartButtonEl.disabled = true;  // To prevent multiple clicks.\n",
              "      quickchartButtonEl.classList.add('colab-df-spinner');\n",
              "      try {\n",
              "        const charts = await google.colab.kernel.invokeFunction(\n",
              "            'suggestCharts', [key], {});\n",
              "      } catch (error) {\n",
              "        console.error('Error during call to suggestCharts:', error);\n",
              "      }\n",
              "      quickchartButtonEl.classList.remove('colab-df-spinner');\n",
              "      quickchartButtonEl.classList.add('colab-df-quickchart-complete');\n",
              "    }\n",
              "    (() => {\n",
              "      let quickchartButtonEl =\n",
              "        document.querySelector('#df-22618b0c-6d53-428f-a3ea-e59c32db9e32 button');\n",
              "      quickchartButtonEl.style.display =\n",
              "        google.colab.kernel.accessAllowed ? 'block' : 'none';\n",
              "    })();\n",
              "  </script>\n",
              "</div>\n",
              "    </div>\n",
              "  </div>\n"
            ],
            "application/vnd.google.colaboratory.intrinsic+json": {
              "type": "dataframe",
              "variable_name": "old_results",
              "summary": "{\n  \"name\": \"old_results\",\n  \"rows\": 11218,\n  \"fields\": [\n    {\n      \"column\": \"0\",\n      \"properties\": {\n        \"dtype\": \"number\",\n        \"std\": 0,\n        \"min\": 0,\n        \"max\": 1,\n        \"num_unique_values\": 2,\n        \"samples\": [\n          1,\n          0\n        ],\n        \"semantic_type\": \"\",\n        \"description\": \"\"\n      }\n    },\n    {\n      \"column\": \"1\",\n      \"properties\": {\n        \"dtype\": \"number\",\n        \"std\": 0,\n        \"min\": 0,\n        \"max\": 1,\n        \"num_unique_values\": 2,\n        \"samples\": [\n          1,\n          0\n        ],\n        \"semantic_type\": \"\",\n        \"description\": \"\"\n      }\n    },\n    {\n      \"column\": \"2\",\n      \"properties\": {\n        \"dtype\": \"number\",\n        \"std\": 0,\n        \"min\": 0,\n        \"max\": 1,\n        \"num_unique_values\": 2,\n        \"samples\": [\n          1,\n          0\n        ],\n        \"semantic_type\": \"\",\n        \"description\": \"\"\n      }\n    }\n  ]\n}"
            }
          },
          "metadata": {},
          "execution_count": 381
        }
      ]
    },
    {
      "cell_type": "markdown",
      "source": [],
      "metadata": {
        "id": "k1fQaQPNeeku"
      },
      "id": "k1fQaQPNeeku"
    },
    {
      "cell_type": "code",
      "source": [
        "brf4_preds = brf4.predict(X_test_attempt2)"
      ],
      "metadata": {
        "id": "ZLwmZh71ZY07"
      },
      "id": "ZLwmZh71ZY07",
      "execution_count": null,
      "outputs": []
    },
    {
      "cell_type": "code",
      "source": [
        "voting_top3 = pd.Series(old_results.apply(majority_vote, axis=1))"
      ],
      "metadata": {
        "id": "Oe39_j0QX-RY"
      },
      "id": "Oe39_j0QX-RY",
      "execution_count": 382,
      "outputs": []
    },
    {
      "cell_type": "code",
      "source": [
        "(voting_top3==result_08).mean()"
      ],
      "metadata": {
        "colab": {
          "base_uri": "https://localhost:8080/"
        },
        "id": "_rEj-GOVek5U",
        "outputId": "a9fc1e58-3dea-48a6-9a36-68838e64dde0"
      },
      "id": "_rEj-GOVek5U",
      "execution_count": 385,
      "outputs": [
        {
          "output_type": "execute_result",
          "data": {
            "text/plain": [
              "0.9558744874309146"
            ]
          },
          "metadata": {},
          "execution_count": 385
        }
      ]
    },
    {
      "cell_type": "code",
      "source": [
        "result_10 = voting_top3\n",
        "result_10.to_csv(\"result_10.csv\", index=False, header=False)\n",
        "files.download(\"result_10.csv\")"
      ],
      "metadata": {
        "colab": {
          "base_uri": "https://localhost:8080/",
          "height": 17
        },
        "id": "Mz4AkEE6epTL",
        "outputId": "dd809315-961a-4820-af36-1297a8e45be0"
      },
      "id": "Mz4AkEE6epTL",
      "execution_count": 386,
      "outputs": [
        {
          "output_type": "display_data",
          "data": {
            "text/plain": [
              "<IPython.core.display.Javascript object>"
            ],
            "application/javascript": [
              "\n",
              "    async function download(id, filename, size) {\n",
              "      if (!google.colab.kernel.accessAllowed) {\n",
              "        return;\n",
              "      }\n",
              "      const div = document.createElement('div');\n",
              "      const label = document.createElement('label');\n",
              "      label.textContent = `Downloading \"${filename}\": `;\n",
              "      div.appendChild(label);\n",
              "      const progress = document.createElement('progress');\n",
              "      progress.max = size;\n",
              "      div.appendChild(progress);\n",
              "      document.body.appendChild(div);\n",
              "\n",
              "      const buffers = [];\n",
              "      let downloaded = 0;\n",
              "\n",
              "      const channel = await google.colab.kernel.comms.open(id);\n",
              "      // Send a message to notify the kernel that we're ready.\n",
              "      channel.send({})\n",
              "\n",
              "      for await (const message of channel.messages) {\n",
              "        // Send a message to notify the kernel that we're ready.\n",
              "        channel.send({})\n",
              "        if (message.buffers) {\n",
              "          for (const buffer of message.buffers) {\n",
              "            buffers.push(buffer);\n",
              "            downloaded += buffer.byteLength;\n",
              "            progress.value = downloaded;\n",
              "          }\n",
              "        }\n",
              "      }\n",
              "      const blob = new Blob(buffers, {type: 'application/binary'});\n",
              "      const a = document.createElement('a');\n",
              "      a.href = window.URL.createObjectURL(blob);\n",
              "      a.download = filename;\n",
              "      div.appendChild(a);\n",
              "      a.click();\n",
              "      div.remove();\n",
              "    }\n",
              "  "
            ]
          },
          "metadata": {}
        },
        {
          "output_type": "display_data",
          "data": {
            "text/plain": [
              "<IPython.core.display.Javascript object>"
            ],
            "application/javascript": [
              "download(\"download_e8a928cb-f2d8-482a-9abd-d1066174f841\", \"result_10.csv\", 22436)"
            ]
          },
          "metadata": {}
        }
      ]
    },
    {
      "cell_type": "code",
      "source": [],
      "metadata": {
        "id": "50ZN6bt-fC8p"
      },
      "id": "50ZN6bt-fC8p",
      "execution_count": null,
      "outputs": []
    }
  ],
  "metadata": {
    "kernelspec": {
      "display_name": "Python 3",
      "name": "python3"
    },
    "language_info": {
      "codemirror_mode": {
        "name": "ipython",
        "version": 3
      },
      "file_extension": ".py",
      "mimetype": "text/x-python",
      "name": "python",
      "nbconvert_exporter": "python",
      "pygments_lexer": "ipython3",
      "version": "3.9.7"
    },
    "colab": {
      "provenance": [],
      "gpuType": "T4"
    },
    "accelerator": "GPU"
  },
  "nbformat": 4,
  "nbformat_minor": 5
}